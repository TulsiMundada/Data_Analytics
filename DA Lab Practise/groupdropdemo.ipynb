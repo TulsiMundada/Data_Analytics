{
 "cells": [
  {
   "cell_type": "code",
   "execution_count": 52,
   "id": "463a2cc8-ccad-45af-bb46-87ab34716f14",
   "metadata": {},
   "outputs": [
    {
     "name": "stdout",
     "output_type": "stream",
     "text": [
      "  first_name last_name   age gender  pre_movie_score  post_movie_score\n",
      "0        Tom     Hanks  63.0      m              8.0              10.0\n",
      "1        NaN       NaN   NaN    NaN              NaN               NaN\n",
      "2       Hugh   Jackman  51.0      m              NaN               NaN\n",
      "3      Oprah   Winfrey  66.0      f              6.0               8.0\n",
      "4       Emma     Stone  31.0      f              7.0               9.0\n"
     ]
    }
   ],
   "source": [
    "import numpy as np\n",
    "import pandas as pd\n",
    "\n",
    "df= pd.read_csv(\"movie_scores.csv\")\n",
    "print(df)"
   ]
  },
  {
   "cell_type": "code",
   "execution_count": 53,
   "id": "cd6ce32a-f869-42ff-ba1b-4fa12f009362",
   "metadata": {},
   "outputs": [
    {
     "name": "stdout",
     "output_type": "stream",
     "text": [
      "   first_name  last_name    age  gender  pre_movie_score  post_movie_score\n",
      "0       False      False  False   False            False             False\n",
      "1        True       True   True    True             True              True\n",
      "2       False      False  False   False             True              True\n",
      "3       False      False  False   False            False             False\n",
      "4       False      False  False   False            False             False\n",
      "   first_name  last_name    age  gender  pre_movie_score  post_movie_score\n",
      "0        True       True   True    True             True              True\n",
      "1       False      False  False   False            False             False\n",
      "2        True       True   True    True            False             False\n",
      "3        True       True   True    True             True              True\n",
      "4        True       True   True    True             True              True\n"
     ]
    }
   ],
   "source": [
    "print(df.isnull())\n",
    "print(df.notnull())"
   ]
  },
  {
   "cell_type": "code",
   "execution_count": 54,
   "id": "903cb62b-0c8d-4154-8e48-a1f4c412a0d9",
   "metadata": {},
   "outputs": [
    {
     "name": "stdout",
     "output_type": "stream",
     "text": [
      "0      Tom\n",
      "1      NaN\n",
      "2     Hugh\n",
      "3    Oprah\n",
      "4     Emma\n",
      "Name: first_name, dtype: object\n",
      "  first_name last_name   age gender  pre_movie_score  post_movie_score\n",
      "0        Tom     Hanks  63.0      m              8.0              10.0\n",
      "2       Hugh   Jackman  51.0      m              NaN               NaN\n",
      "3      Oprah   Winfrey  66.0      f              6.0               8.0\n",
      "4       Emma     Stone  31.0      f              7.0               9.0\n"
     ]
    }
   ],
   "source": [
    "print(df[\"first_name\"])\n",
    "print(df[df['first_name'].notnull()])"
   ]
  },
  {
   "cell_type": "code",
   "execution_count": 55,
   "id": "19e7c862-9916-4bd4-b72a-5952d5a5c918",
   "metadata": {},
   "outputs": [
    {
     "name": "stdout",
     "output_type": "stream",
     "text": [
      "  first_name last_name   age gender  pre_movie_score  post_movie_score\n",
      "2       Hugh   Jackman  51.0      m              NaN               NaN\n"
     ]
    }
   ],
   "source": [
    "print(df[(df['pre_movie_score'].isnull()) & df[\"gender\"].notnull()])"
   ]
  },
  {
   "cell_type": "code",
   "execution_count": 56,
   "id": "03e49829-93e4-4f07-a66b-c1321ce92682",
   "metadata": {},
   "outputs": [
    {
     "name": "stdout",
     "output_type": "stream",
     "text": [
      "  first_name last_name   age gender  pre_movie_score  post_movie_score\n",
      "0        Tom     Hanks  63.0      m              8.0              10.0\n",
      "3      Oprah   Winfrey  66.0      f              6.0               8.0\n",
      "4       Emma     Stone  31.0      f              7.0               9.0\n"
     ]
    }
   ],
   "source": [
    "print(df.dropna())"
   ]
  },
  {
   "cell_type": "code",
   "execution_count": 57,
   "id": "9a3d2a31-d150-4c97-8257-d8535cd0ea28",
   "metadata": {},
   "outputs": [
    {
     "name": "stdout",
     "output_type": "stream",
     "text": [
      "  first_name last_name   age gender  pre_movie_score  post_movie_score\n",
      "0        Tom     Hanks  63.0      m              8.0              10.0\n",
      "2       Hugh   Jackman  51.0      m              NaN               NaN\n",
      "3      Oprah   Winfrey  66.0      f              6.0               8.0\n",
      "4       Emma     Stone  31.0      f              7.0               9.0\n"
     ]
    }
   ],
   "source": [
    "print(df.dropna(thresh=1))"
   ]
  },
  {
   "cell_type": "code",
   "execution_count": 58,
   "id": "13e678bc-18cb-4dd3-ab0d-a3840c0c2d03",
   "metadata": {},
   "outputs": [
    {
     "name": "stdout",
     "output_type": "stream",
     "text": [
      "Empty DataFrame\n",
      "Columns: []\n",
      "Index: [0, 1, 2, 3, 4]\n"
     ]
    }
   ],
   "source": [
    "print(df.dropna(axis=1))"
   ]
  },
  {
   "cell_type": "code",
   "execution_count": 59,
   "id": "b4b35592-0b6b-4c5f-bbc5-675688f8c081",
   "metadata": {},
   "outputs": [
    {
     "name": "stdout",
     "output_type": "stream",
     "text": [
      "  first_name last_name   age gender\n",
      "0        Tom     Hanks  63.0      m\n",
      "1        NaN       NaN   NaN    NaN\n",
      "2       Hugh   Jackman  51.0      m\n",
      "3      Oprah   Winfrey  66.0      f\n",
      "4       Emma     Stone  31.0      f\n"
     ]
    }
   ],
   "source": [
    "print(df.dropna(thresh=4,axis=1))"
   ]
  },
  {
   "cell_type": "code",
   "execution_count": 60,
   "id": "bcf5c451-b01e-4392-9545-f0529c31a8b0",
   "metadata": {},
   "outputs": [
    {
     "data": {
      "text/html": [
       "<div>\n",
       "<style scoped>\n",
       "    .dataframe tbody tr th:only-of-type {\n",
       "        vertical-align: middle;\n",
       "    }\n",
       "\n",
       "    .dataframe tbody tr th {\n",
       "        vertical-align: top;\n",
       "    }\n",
       "\n",
       "    .dataframe thead th {\n",
       "        text-align: right;\n",
       "    }\n",
       "</style>\n",
       "<table border=\"1\" class=\"dataframe\">\n",
       "  <thead>\n",
       "    <tr style=\"text-align: right;\">\n",
       "      <th></th>\n",
       "      <th>first_name</th>\n",
       "      <th>last_name</th>\n",
       "      <th>age</th>\n",
       "      <th>gender</th>\n",
       "      <th>pre_movie_score</th>\n",
       "      <th>post_movie_score</th>\n",
       "    </tr>\n",
       "  </thead>\n",
       "  <tbody>\n",
       "    <tr>\n",
       "      <th>0</th>\n",
       "      <td>Tom</td>\n",
       "      <td>Hanks</td>\n",
       "      <td>63.0</td>\n",
       "      <td>m</td>\n",
       "      <td>8.0</td>\n",
       "      <td>10.0</td>\n",
       "    </tr>\n",
       "    <tr>\n",
       "      <th>1</th>\n",
       "      <td>NEW VALUE</td>\n",
       "      <td>NEW VALUE</td>\n",
       "      <td>NEW VALUE</td>\n",
       "      <td>NEW VALUE</td>\n",
       "      <td>NEW VALUE</td>\n",
       "      <td>NEW VALUE</td>\n",
       "    </tr>\n",
       "    <tr>\n",
       "      <th>2</th>\n",
       "      <td>Hugh</td>\n",
       "      <td>Jackman</td>\n",
       "      <td>51.0</td>\n",
       "      <td>m</td>\n",
       "      <td>NEW VALUE</td>\n",
       "      <td>NEW VALUE</td>\n",
       "    </tr>\n",
       "    <tr>\n",
       "      <th>3</th>\n",
       "      <td>Oprah</td>\n",
       "      <td>Winfrey</td>\n",
       "      <td>66.0</td>\n",
       "      <td>f</td>\n",
       "      <td>6.0</td>\n",
       "      <td>8.0</td>\n",
       "    </tr>\n",
       "    <tr>\n",
       "      <th>4</th>\n",
       "      <td>Emma</td>\n",
       "      <td>Stone</td>\n",
       "      <td>31.0</td>\n",
       "      <td>f</td>\n",
       "      <td>7.0</td>\n",
       "      <td>9.0</td>\n",
       "    </tr>\n",
       "  </tbody>\n",
       "</table>\n",
       "</div>"
      ],
      "text/plain": [
       "  first_name  last_name        age     gender pre_movie_score post_movie_score\n",
       "0        Tom      Hanks       63.0          m             8.0             10.0\n",
       "1  NEW VALUE  NEW VALUE  NEW VALUE  NEW VALUE       NEW VALUE        NEW VALUE\n",
       "2       Hugh    Jackman       51.0          m       NEW VALUE        NEW VALUE\n",
       "3      Oprah    Winfrey       66.0          f             6.0              8.0\n",
       "4       Emma      Stone       31.0          f             7.0              9.0"
      ]
     },
     "execution_count": 60,
     "metadata": {},
     "output_type": "execute_result"
    }
   ],
   "source": [
    "df.fillna(\"NEW VALUE\")"
   ]
  },
  {
   "cell_type": "code",
   "execution_count": 61,
   "id": "a68930ae-b3f0-417a-842d-e9af5b86b126",
   "metadata": {},
   "outputs": [
    {
     "name": "stdout",
     "output_type": "stream",
     "text": [
      "0      Tom\n",
      "1    Empty\n",
      "2     Hugh\n",
      "3    Oprah\n",
      "4     Emma\n",
      "Name: first_name, dtype: object\n"
     ]
    }
   ],
   "source": [
    "print(df[\"first_name\"].fillna(\"Empty\"))\n",
    "df[\"first_name\"]=df[\"first_name\"].fillna(\"Empty\")"
   ]
  },
  {
   "cell_type": "code",
   "execution_count": 62,
   "id": "cbd63da1-54b2-47ef-8689-94a2c8dc2d5b",
   "metadata": {},
   "outputs": [
    {
     "name": "stdout",
     "output_type": "stream",
     "text": [
      "7.0\n"
     ]
    },
    {
     "data": {
      "text/plain": [
       "0    8.0\n",
       "1    7.0\n",
       "2    7.0\n",
       "3    6.0\n",
       "4    7.0\n",
       "Name: pre_movie_score, dtype: float64"
      ]
     },
     "execution_count": 62,
     "metadata": {},
     "output_type": "execute_result"
    }
   ],
   "source": [
    "print(df[\"pre_movie_score\"].mean())\n",
    "df[\"pre_movie_score\"].fillna(df[\"pre_movie_score\"].mean())"
   ]
  },
  {
   "cell_type": "code",
   "execution_count": 63,
   "id": "ebf3734b-eb46-4548-b4b4-cf727e3d6b94",
   "metadata": {},
   "outputs": [
    {
     "name": "stdout",
     "output_type": "stream",
     "text": [
      "     total_bill   tip  gender smoker   day    time  size  price_per_person  \\\n",
      "0         16.99  1.01  Female     No   Sun  Dinner     2              8.49   \n",
      "1         10.34  1.66    Male     No   Sun  Dinner     3              3.45   \n",
      "2         21.01  3.50    Male     No   Sun  Dinner     3              7.00   \n",
      "3         23.68  3.31    Male     No   Sun  Dinner     2             11.84   \n",
      "4         24.59  3.61  Female     No   Sun  Dinner     4              6.15   \n",
      "..          ...   ...     ...    ...   ...     ...   ...               ...   \n",
      "239       29.03  5.92    Male     No   Sat  Dinner     3              9.68   \n",
      "240       27.18  2.00  Female    Yes   Sat  Dinner     2             13.59   \n",
      "241       22.67  2.00    Male    Yes   Sat  Dinner     2             11.34   \n",
      "242       17.82  1.75    Male     No   Sat  Dinner     2              8.91   \n",
      "243       18.78  3.00  Female     No  Thur  Dinner     2              9.39   \n",
      "\n",
      "             Payer Name     CC Number Payment ID  \n",
      "0    Christy Cunningham  3.560330e+15    Sun2959  \n",
      "1        Douglas Tucker  4.478070e+15    Sun4608  \n",
      "2        Travis Walters  6.011810e+15    Sun4458  \n",
      "3      Nathaniel Harris  4.676140e+15    Sun5260  \n",
      "4          Tonya Carter  4.832730e+15    Sun2251  \n",
      "..                  ...           ...        ...  \n",
      "239       Michael Avila  5.296070e+15    Sat2657  \n",
      "240      Monica Sanders  3.506810e+15    Sat1766  \n",
      "241          Keith Wong  6.011890e+15    Sat3880  \n",
      "242        Dennis Dixon  4.375220e+12      Sat17  \n",
      "243     Michelle Hardin  3.511450e+15    Thur672  \n",
      "\n",
      "[244 rows x 11 columns]\n",
      "<pandas.core.groupby.generic.DataFrameGroupBy object at 0x000002433C461C50>\n"
     ]
    }
   ],
   "source": [
    "df= pd.read_csv(\"tips.csv\")\n",
    "print(df)\n",
    "df_grouped=df.groupby(\"gender\")\n",
    "print(df_grouped)"
   ]
  },
  {
   "cell_type": "code",
   "execution_count": 64,
   "id": "8cfde354-1cad-41d9-bba6-6df60f51bd78",
   "metadata": {},
   "outputs": [
    {
     "name": "stdout",
     "output_type": "stream",
     "text": [
      "gender\n",
      "Female    2.833448\n",
      "Male      3.089618\n",
      "Name: tip, dtype: float64\n"
     ]
    }
   ],
   "source": [
    "mean_tip_by_gender= df_grouped[\"tip\"].mean()\n",
    "print(mean_tip_by_gender)"
   ]
  },
  {
   "cell_type": "code",
   "execution_count": 65,
   "id": "2c45f906-77bf-4cbe-a77b-81a887b303ff",
   "metadata": {},
   "outputs": [
    {
     "name": "stdout",
     "output_type": "stream",
     "text": [
      "gender\n",
      "Female    1.0\n",
      "Male      1.0\n",
      "Name: tip, dtype: float64\n",
      "gender\n",
      "Female     6.5\n",
      "Male      10.0\n",
      "Name: tip, dtype: float64\n",
      "gender\n",
      "Female    1.159495\n",
      "Male      1.489102\n",
      "Name: tip, dtype: float64\n",
      "gender\n",
      "Female    1.344428\n",
      "Male      2.217424\n",
      "Name: tip, dtype: float64\n",
      "gender\n",
      "Female     87\n",
      "Male      157\n",
      "Name: tip, dtype: int64\n",
      "gender\n",
      "Female    246.51\n",
      "Male      485.07\n",
      "Name: tip, dtype: float64\n"
     ]
    }
   ],
   "source": [
    "print(df_grouped[\"tip\"].min())\n",
    "print(df_grouped[\"tip\"].max())\n",
    "print(df_grouped[\"tip\"].std())\n",
    "print(df_grouped[\"tip\"].var())\n",
    "print(df_grouped[\"tip\"].count())\n",
    "print(df_grouped[\"tip\"].sum())"
   ]
  },
  {
   "cell_type": "code",
   "execution_count": 66,
   "id": "c55c4c6a-fe99-4d92-85fc-f1cd04ebac02",
   "metadata": {},
   "outputs": [
    {
     "name": "stdout",
     "output_type": "stream",
     "text": [
      "   gender   day       tip        \n",
      "                     mean     sum\n",
      "0  Female   Fri  2.781111   25.03\n",
      "1  Female   Sat  2.801786   78.45\n",
      "2  Female   Sun  3.367222   60.61\n",
      "3  Female  Thur  2.575625   82.42\n",
      "4    Male   Fri  2.693000   26.93\n",
      "5    Male   Sat  3.083898  181.95\n",
      "6    Male   Sun  3.220345  186.78\n",
      "7    Male  Thur  2.980333   89.41\n"
     ]
    }
   ],
   "source": [
    "df_grouped=df.groupby([\"gender\",\"day\"]).agg({\"tip\" : [\"mean\",\"sum\"]}).reset_index()\n",
    "print(df_grouped)"
   ]
  },
  {
   "cell_type": "code",
   "execution_count": 67,
   "id": "8bc8f875-f88b-4666-a911-53bcbd303257",
   "metadata": {},
   "outputs": [
    {
     "name": "stdout",
     "output_type": "stream",
     "text": [
      "   gender   day  mean_tip  total_tip\n",
      "0  Female   Fri  2.781111      25.03\n",
      "1  Female   Sat  2.801786      78.45\n",
      "2  Female   Sun  3.367222      60.61\n",
      "3  Female  Thur  2.575625      82.42\n",
      "4    Male   Fri  2.693000      26.93\n"
     ]
    }
   ],
   "source": [
    "df_grouped.columns = [\"gender\",\"day\",\"mean_tip\",\"total_tip\"]\n",
    "print(df_grouped.head())"
   ]
  },
  {
   "cell_type": "code",
   "execution_count": 78,
   "id": "0ff9ab15-d10b-4a4c-85fd-a658fab80d38",
   "metadata": {},
   "outputs": [
    {
     "name": "stdout",
     "output_type": "stream",
     "text": [
      "    A   B\n",
      "0  A0  B0\n",
      "1  A1  B1\n",
      "2  A2  B2\n",
      "3  A3  B3\n",
      "    C   D\n",
      "0  C0  D0\n",
      "1  C1  D1\n",
      "2  C2  D2\n",
      "3  C3  D3\n"
     ]
    }
   ],
   "source": [
    "data_one={\"A\":[\"A0\",\"A1\",\"A2\",\"A3\"],\"B\":[\"B0\",\"B1\",\"B2\",\"B3\"]}\n",
    "data_two={\"C\":[\"C0\",\"C1\",\"C2\",\"C3\"],\"D\":[\"D0\",\"D1\",\"D2\",\"D3\"]}\n",
    "one=pd.DataFrame(data_one)\n",
    "two=pd.DataFrame(data_two)\n",
    "print(one)\n",
    "print(two)"
   ]
  },
  {
   "cell_type": "code",
   "execution_count": 82,
   "id": "a1a64d23-e518-4e63-a0fd-ed1fbe7dc305",
   "metadata": {},
   "outputs": [
    {
     "name": "stdout",
     "output_type": "stream",
     "text": [
      "     A    B    C    D\n",
      "0   A0   B0  NaN  NaN\n",
      "1   A1   B1  NaN  NaN\n",
      "2   A2   B2  NaN  NaN\n",
      "3   A3   B3  NaN  NaN\n",
      "4  NaN  NaN   C0   D0\n",
      "5  NaN  NaN   C1   D1\n",
      "6  NaN  NaN   C2   D2\n",
      "7  NaN  NaN   C3   D3\n"
     ]
    }
   ],
   "source": [
    "axis0=pd.concat([one,two],axis=0).reset_index().drop(['index'], axis=1)\n",
    "print(axis0)"
   ]
  },
  {
   "cell_type": "code",
   "execution_count": 70,
   "id": "1f85c0ba-d0bc-40cd-affe-68ef527e8896",
   "metadata": {},
   "outputs": [
    {
     "name": "stdout",
     "output_type": "stream",
     "text": [
      "     A    B    C    D\n",
      "0   A0   B0  NaN  NaN\n",
      "1   A1   B1  NaN  NaN\n",
      "2   A2   B2  NaN  NaN\n",
      "3   A3   B3  NaN  NaN\n",
      "0  NaN  NaN   C0   D0\n",
      "1  NaN  NaN   C1   D1\n",
      "2  NaN  NaN   C2   D2\n",
      "3  NaN  NaN   C3   D3\n"
     ]
    }
   ],
   "source": [
    "axis0=pd.concat([one,two],axis=0)\n",
    "print(axis0)"
   ]
  },
  {
   "cell_type": "code",
   "execution_count": 35,
   "id": "0f8d98aa-0455-433f-a9fe-8080a3435c9e",
   "metadata": {},
   "outputs": [
    {
     "name": "stdout",
     "output_type": "stream",
     "text": [
      "    A   B   C   D\n",
      "0  A0  B0  C0  D0\n",
      "1  A1  B1  C1  D1\n",
      "2  A2  B2  C2  D2\n",
      "3  A3  B3  C3  D3\n"
     ]
    }
   ],
   "source": [
    "axis1=pd.concat([one,two],axis=1)\n",
    "print(axis1)"
   ]
  },
  {
   "cell_type": "code",
   "execution_count": 36,
   "id": "a36f4329-663b-4286-a6e5-ad54b37fe08a",
   "metadata": {},
   "outputs": [
    {
     "name": "stdout",
     "output_type": "stream",
     "text": [
      "    A   B\n",
      "0  A0  B0\n",
      "1  A1  B1\n",
      "2  A2  B2\n",
      "3  A3  B3\n",
      "0  C0  D0\n",
      "1  C1  D1\n",
      "2  C2  D2\n",
      "3  C3  D3\n"
     ]
    }
   ],
   "source": [
    "two.columns=one.columns\n",
    "print(pd.concat([one,two]))"
   ]
  },
  {
   "cell_type": "code",
   "execution_count": 39,
   "id": "efcc8247-c755-4e8b-9bf5-146c53d78bd1",
   "metadata": {},
   "outputs": [
    {
     "name": "stdout",
     "output_type": "stream",
     "text": [
      "    C   D\n",
      "0  A0  B0\n",
      "1  A1  B1\n",
      "2  A2  B2\n",
      "3  A3  B3\n",
      "0  C0  D0\n",
      "1  C1  D1\n",
      "2  C2  D2\n",
      "3  C3  D3\n"
     ]
    }
   ],
   "source": [
    "one.columns=two.columns\n",
    "print(pd.concat([one,two]))"
   ]
  },
  {
   "cell_type": "code",
   "execution_count": 41,
   "id": "c27d45b2-2bd1-4f0b-b477-0e25e5ca1066",
   "metadata": {},
   "outputs": [
    {
     "name": "stdout",
     "output_type": "stream",
     "text": [
      "   reg_id   name\n",
      "0       1  Alice\n",
      "1       2    Bob\n",
      "2       3  Carol\n",
      "3       4   Dave\n",
      "   log_id     name\n",
      "0       1   Xavier\n",
      "1       2    Alice\n",
      "2       3  Yolando\n",
      "3       4      Bob\n"
     ]
    }
   ],
   "source": [
    "registrations=pd.DataFrame({'reg_id':[1,2,3,4],'name':['Alice','Bob','Carol','Dave']})\n",
    "logins=pd.DataFrame({'log_id':[1,2,3,4],'name':['Xavier','Alice','Yolando','Bob']})\n",
    "print(registrations)\n",
    "print(logins)"
   ]
  },
  {
   "cell_type": "code",
   "execution_count": 42,
   "id": "49bb21f7-3ee6-4f4e-b1ce-0c862381143e",
   "metadata": {},
   "outputs": [
    {
     "name": "stdout",
     "output_type": "stream",
     "text": [
      "   reg_id   name  log_id\n",
      "0       1  Alice       2\n",
      "1       2    Bob       4\n"
     ]
    }
   ],
   "source": [
    "merged_df=pd.merge(registrations,logins,how='inner',on='name')\n",
    "print(merged_df)"
   ]
  },
  {
   "cell_type": "code",
   "execution_count": 43,
   "id": "7d132e32-f5df-4972-a47c-c4455dcd0c02",
   "metadata": {},
   "outputs": [
    {
     "name": "stdout",
     "output_type": "stream",
     "text": [
      "   reg_id   name  log_id\n",
      "0       1  Alice       2\n",
      "1       2    Bob       4\n"
     ]
    }
   ],
   "source": [
    "merged_df=pd.merge(registrations,logins,how='inner')\n",
    "print(merged_df)"
   ]
  },
  {
   "cell_type": "code",
   "execution_count": 49,
   "id": "b91fd002-1766-44b2-8359-61e6f99e81f0",
   "metadata": {},
   "outputs": [
    {
     "name": "stdout",
     "output_type": "stream",
     "text": [
      "   reg_id     name  log_id\n",
      "0     NaN   Xavier       1\n",
      "1     1.0    Alice       2\n",
      "2     NaN  Yolando       3\n",
      "3     2.0      Bob       4\n"
     ]
    }
   ],
   "source": [
    "#pd.merge(registrations,logins,how='inner',on='reg_id')\n",
    "merged_df=pd.merge(registrations,logins,how='right')\n",
    "print(merged_df)"
   ]
  },
  {
   "cell_type": "code",
   "execution_count": 50,
   "id": "045518af-b7ce-4890-971b-4336c47ffec0",
   "metadata": {},
   "outputs": [
    {
     "name": "stdout",
     "output_type": "stream",
     "text": [
      "   reg_id   name  log_id\n",
      "0       1  Alice     2.0\n",
      "1       2    Bob     4.0\n",
      "2       3  Carol     NaN\n",
      "3       4   Dave     NaN\n"
     ]
    }
   ],
   "source": [
    "merged_df=pd.merge(registrations,logins,how='left')\n",
    "print(merged_df)"
   ]
  },
  {
   "cell_type": "code",
   "execution_count": 51,
   "id": "7222e90b-aa60-43e3-82ab-ef644eb647c8",
   "metadata": {},
   "outputs": [
    {
     "name": "stdout",
     "output_type": "stream",
     "text": [
      "   reg_id     name  log_id\n",
      "0     1.0    Alice     2.0\n",
      "1     2.0      Bob     4.0\n",
      "2     3.0    Carol     NaN\n",
      "3     4.0     Dave     NaN\n",
      "4     NaN   Xavier     1.0\n",
      "5     NaN  Yolando     3.0\n"
     ]
    }
   ],
   "source": [
    "merged_df=pd.merge(registrations,logins,how='outer')\n",
    "print(merged_df)"
   ]
  },
  {
   "cell_type": "code",
   "execution_count": null,
   "id": "d3e0fd59-e019-4b7a-8d03-2b1001425750",
   "metadata": {},
   "outputs": [],
   "source": []
  }
 ],
 "metadata": {
  "kernelspec": {
   "display_name": "Python 3 (ipykernel)",
   "language": "python",
   "name": "python3"
  },
  "language_info": {
   "codemirror_mode": {
    "name": "ipython",
    "version": 3
   },
   "file_extension": ".py",
   "mimetype": "text/x-python",
   "name": "python",
   "nbconvert_exporter": "python",
   "pygments_lexer": "ipython3",
   "version": "3.11.7"
  }
 },
 "nbformat": 4,
 "nbformat_minor": 5
}
