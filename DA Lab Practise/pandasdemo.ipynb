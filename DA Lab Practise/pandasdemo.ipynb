{
 "cells": [
  {
   "cell_type": "code",
   "execution_count": 2,
   "id": "3022924c-a35c-4121-81fb-7f58cf9080c7",
   "metadata": {},
   "outputs": [
    {
     "name": "stdout",
     "output_type": "stream",
     "text": [
      "[[95 11 81]\n",
      " [70 63 87]\n",
      " [75  9 77]\n",
      " [40  4 63]]\n"
     ]
    }
   ],
   "source": [
    "import pandas as pd\n",
    "import numpy as np\n",
    "np.random.seed(101)\n",
    "my_data=np.random.randint(0,101,(4,3))\n",
    "print(my_data)"
   ]
  },
  {
   "cell_type": "code",
   "execution_count": 3,
   "id": "75e3e411-0197-473a-a8c2-2e89bf96bdcb",
   "metadata": {},
   "outputs": [
    {
     "name": "stdout",
     "output_type": "stream",
     "text": [
      "    0   1   2\n",
      "0  95  11  81\n",
      "1  70  63  87\n",
      "2  75   9  77\n",
      "3  40   4  63\n"
     ]
    }
   ],
   "source": [
    "myindex=[\"CA\",\"NY\",\"AZ\",\"TX\"]\n",
    "mycolumns=[\"Jan\",\"Feb\",\"Mar\"]\n",
    "df = pd.DataFrame(data=my_data)\n",
    "print(df)"
   ]
  },
  {
   "cell_type": "code",
   "execution_count": 4,
   "id": "69f673f1-4c5c-4373-89e8-36ce86b8c02b",
   "metadata": {},
   "outputs": [
    {
     "name": "stdout",
     "output_type": "stream",
     "text": [
      "     0   1   2\n",
      "CA  95  11  81\n",
      "NY  70  63  87\n",
      "AZ  75   9  77\n",
      "TX  40   4  63\n"
     ]
    }
   ],
   "source": [
    "df = pd.DataFrame(data=my_data,index=myindex)\n",
    "print(df) "
   ]
  },
  {
   "cell_type": "code",
   "execution_count": 5,
   "id": "f23429be-8c86-4a42-965a-72ec1fe857aa",
   "metadata": {},
   "outputs": [
    {
     "name": "stdout",
     "output_type": "stream",
     "text": [
      "    Jan  Feb  Mar\n",
      "CA   95   11   81\n",
      "NY   70   63   87\n",
      "AZ   75    9   77\n",
      "TX   40    4   63\n"
     ]
    }
   ],
   "source": [
    "df = pd.DataFrame(data=my_data,index=myindex,columns=mycolumns)\n",
    "print(df)"
   ]
  },
  {
   "cell_type": "code",
   "execution_count": 18,
   "id": "721660bf-bec4-4c92-b12f-08f71f56ae00",
   "metadata": {},
   "outputs": [
    {
     "name": "stdout",
     "output_type": "stream",
     "text": [
      "<class 'pandas.core.frame.DataFrame'>\n",
      "Index: 243 entries, Sun4608 to Thur672\n",
      "Data columns (total 10 columns):\n",
      " #   Column            Non-Null Count  Dtype  \n",
      "---  ------            --------------  -----  \n",
      " 0   total_bill        243 non-null    float64\n",
      " 1   tip               243 non-null    float64\n",
      " 2   gender            243 non-null    object \n",
      " 3   smoker            243 non-null    object \n",
      " 4   day               243 non-null    object \n",
      " 5   time              243 non-null    object \n",
      " 6   size              243 non-null    int64  \n",
      " 7   price_per_person  243 non-null    float64\n",
      " 8   Payer Name        243 non-null    object \n",
      " 9   CC Number         243 non-null    float64\n",
      "dtypes: float64(4), int64(1), object(5)\n",
      "memory usage: 29.0+ KB\n",
      "None\n"
     ]
    }
   ],
   "source": [
    "print(df.info())"
   ]
  },
  {
   "cell_type": "code",
   "execution_count": 19,
   "id": "3e25d172-d16c-4eb1-989e-cb6a7c14ff19",
   "metadata": {},
   "outputs": [
    {
     "data": {
      "text/html": [
       "<div>\n",
       "<style scoped>\n",
       "    .dataframe tbody tr th:only-of-type {\n",
       "        vertical-align: middle;\n",
       "    }\n",
       "\n",
       "    .dataframe tbody tr th {\n",
       "        vertical-align: top;\n",
       "    }\n",
       "\n",
       "    .dataframe thead th {\n",
       "        text-align: right;\n",
       "    }\n",
       "</style>\n",
       "<table border=\"1\" class=\"dataframe\">\n",
       "  <thead>\n",
       "    <tr style=\"text-align: right;\">\n",
       "      <th></th>\n",
       "      <th>total_bill</th>\n",
       "      <th>tip</th>\n",
       "      <th>gender</th>\n",
       "      <th>smoker</th>\n",
       "      <th>day</th>\n",
       "      <th>time</th>\n",
       "      <th>size</th>\n",
       "      <th>price_per_person</th>\n",
       "      <th>Payer Name</th>\n",
       "      <th>CC Number</th>\n",
       "      <th>Payment ID</th>\n",
       "    </tr>\n",
       "  </thead>\n",
       "  <tbody>\n",
       "    <tr>\n",
       "      <th>0</th>\n",
       "      <td>16.99</td>\n",
       "      <td>1.01</td>\n",
       "      <td>Female</td>\n",
       "      <td>No</td>\n",
       "      <td>Sun</td>\n",
       "      <td>Dinner</td>\n",
       "      <td>2</td>\n",
       "      <td>8.49</td>\n",
       "      <td>Christy Cunningham</td>\n",
       "      <td>3.560330e+15</td>\n",
       "      <td>Sun2959</td>\n",
       "    </tr>\n",
       "    <tr>\n",
       "      <th>1</th>\n",
       "      <td>10.34</td>\n",
       "      <td>1.66</td>\n",
       "      <td>Male</td>\n",
       "      <td>No</td>\n",
       "      <td>Sun</td>\n",
       "      <td>Dinner</td>\n",
       "      <td>3</td>\n",
       "      <td>3.45</td>\n",
       "      <td>Douglas Tucker</td>\n",
       "      <td>4.478070e+15</td>\n",
       "      <td>Sun4608</td>\n",
       "    </tr>\n",
       "    <tr>\n",
       "      <th>2</th>\n",
       "      <td>21.01</td>\n",
       "      <td>3.50</td>\n",
       "      <td>Male</td>\n",
       "      <td>No</td>\n",
       "      <td>Sun</td>\n",
       "      <td>Dinner</td>\n",
       "      <td>3</td>\n",
       "      <td>7.00</td>\n",
       "      <td>Travis Walters</td>\n",
       "      <td>6.011810e+15</td>\n",
       "      <td>Sun4458</td>\n",
       "    </tr>\n",
       "    <tr>\n",
       "      <th>3</th>\n",
       "      <td>23.68</td>\n",
       "      <td>3.31</td>\n",
       "      <td>Male</td>\n",
       "      <td>No</td>\n",
       "      <td>Sun</td>\n",
       "      <td>Dinner</td>\n",
       "      <td>2</td>\n",
       "      <td>11.84</td>\n",
       "      <td>Nathaniel Harris</td>\n",
       "      <td>4.676140e+15</td>\n",
       "      <td>Sun5260</td>\n",
       "    </tr>\n",
       "    <tr>\n",
       "      <th>4</th>\n",
       "      <td>24.59</td>\n",
       "      <td>3.61</td>\n",
       "      <td>Female</td>\n",
       "      <td>No</td>\n",
       "      <td>Sun</td>\n",
       "      <td>Dinner</td>\n",
       "      <td>4</td>\n",
       "      <td>6.15</td>\n",
       "      <td>Tonya Carter</td>\n",
       "      <td>4.832730e+15</td>\n",
       "      <td>Sun2251</td>\n",
       "    </tr>\n",
       "    <tr>\n",
       "      <th>...</th>\n",
       "      <td>...</td>\n",
       "      <td>...</td>\n",
       "      <td>...</td>\n",
       "      <td>...</td>\n",
       "      <td>...</td>\n",
       "      <td>...</td>\n",
       "      <td>...</td>\n",
       "      <td>...</td>\n",
       "      <td>...</td>\n",
       "      <td>...</td>\n",
       "      <td>...</td>\n",
       "    </tr>\n",
       "    <tr>\n",
       "      <th>239</th>\n",
       "      <td>29.03</td>\n",
       "      <td>5.92</td>\n",
       "      <td>Male</td>\n",
       "      <td>No</td>\n",
       "      <td>Sat</td>\n",
       "      <td>Dinner</td>\n",
       "      <td>3</td>\n",
       "      <td>9.68</td>\n",
       "      <td>Michael Avila</td>\n",
       "      <td>5.296070e+15</td>\n",
       "      <td>Sat2657</td>\n",
       "    </tr>\n",
       "    <tr>\n",
       "      <th>240</th>\n",
       "      <td>27.18</td>\n",
       "      <td>2.00</td>\n",
       "      <td>Female</td>\n",
       "      <td>Yes</td>\n",
       "      <td>Sat</td>\n",
       "      <td>Dinner</td>\n",
       "      <td>2</td>\n",
       "      <td>13.59</td>\n",
       "      <td>Monica Sanders</td>\n",
       "      <td>3.506810e+15</td>\n",
       "      <td>Sat1766</td>\n",
       "    </tr>\n",
       "    <tr>\n",
       "      <th>241</th>\n",
       "      <td>22.67</td>\n",
       "      <td>2.00</td>\n",
       "      <td>Male</td>\n",
       "      <td>Yes</td>\n",
       "      <td>Sat</td>\n",
       "      <td>Dinner</td>\n",
       "      <td>2</td>\n",
       "      <td>11.34</td>\n",
       "      <td>Keith Wong</td>\n",
       "      <td>6.011890e+15</td>\n",
       "      <td>Sat3880</td>\n",
       "    </tr>\n",
       "    <tr>\n",
       "      <th>242</th>\n",
       "      <td>17.82</td>\n",
       "      <td>1.75</td>\n",
       "      <td>Male</td>\n",
       "      <td>No</td>\n",
       "      <td>Sat</td>\n",
       "      <td>Dinner</td>\n",
       "      <td>2</td>\n",
       "      <td>8.91</td>\n",
       "      <td>Dennis Dixon</td>\n",
       "      <td>4.375220e+12</td>\n",
       "      <td>Sat17</td>\n",
       "    </tr>\n",
       "    <tr>\n",
       "      <th>243</th>\n",
       "      <td>18.78</td>\n",
       "      <td>3.00</td>\n",
       "      <td>Female</td>\n",
       "      <td>No</td>\n",
       "      <td>Thur</td>\n",
       "      <td>Dinner</td>\n",
       "      <td>2</td>\n",
       "      <td>9.39</td>\n",
       "      <td>Michelle Hardin</td>\n",
       "      <td>3.511450e+15</td>\n",
       "      <td>Thur672</td>\n",
       "    </tr>\n",
       "  </tbody>\n",
       "</table>\n",
       "<p>244 rows × 11 columns</p>\n",
       "</div>"
      ],
      "text/plain": [
       "     total_bill   tip  gender smoker   day    time  size  price_per_person  \\\n",
       "0         16.99  1.01  Female     No   Sun  Dinner     2              8.49   \n",
       "1         10.34  1.66    Male     No   Sun  Dinner     3              3.45   \n",
       "2         21.01  3.50    Male     No   Sun  Dinner     3              7.00   \n",
       "3         23.68  3.31    Male     No   Sun  Dinner     2             11.84   \n",
       "4         24.59  3.61  Female     No   Sun  Dinner     4              6.15   \n",
       "..          ...   ...     ...    ...   ...     ...   ...               ...   \n",
       "239       29.03  5.92    Male     No   Sat  Dinner     3              9.68   \n",
       "240       27.18  2.00  Female    Yes   Sat  Dinner     2             13.59   \n",
       "241       22.67  2.00    Male    Yes   Sat  Dinner     2             11.34   \n",
       "242       17.82  1.75    Male     No   Sat  Dinner     2              8.91   \n",
       "243       18.78  3.00  Female     No  Thur  Dinner     2              9.39   \n",
       "\n",
       "             Payer Name     CC Number Payment ID  \n",
       "0    Christy Cunningham  3.560330e+15    Sun2959  \n",
       "1        Douglas Tucker  4.478070e+15    Sun4608  \n",
       "2        Travis Walters  6.011810e+15    Sun4458  \n",
       "3      Nathaniel Harris  4.676140e+15    Sun5260  \n",
       "4          Tonya Carter  4.832730e+15    Sun2251  \n",
       "..                  ...           ...        ...  \n",
       "239       Michael Avila  5.296070e+15    Sat2657  \n",
       "240      Monica Sanders  3.506810e+15    Sat1766  \n",
       "241          Keith Wong  6.011890e+15    Sat3880  \n",
       "242        Dennis Dixon  4.375220e+12      Sat17  \n",
       "243     Michelle Hardin  3.511450e+15    Thur672  \n",
       "\n",
       "[244 rows x 11 columns]"
      ]
     },
     "execution_count": 19,
     "metadata": {},
     "output_type": "execute_result"
    }
   ],
   "source": [
    "df= pd.read_csv(\"tips.csv\")\n",
    "df"
   ]
  },
  {
   "cell_type": "code",
   "execution_count": 20,
   "id": "3d8ba6b2-bfeb-4bca-ab65-1bc222f094c5",
   "metadata": {},
   "outputs": [
    {
     "name": "stdout",
     "output_type": "stream",
     "text": [
      "total_bill                       16.99\n",
      "tip                               1.01\n",
      "gender                          Female\n",
      "smoker                              No\n",
      "day                                Sun\n",
      "time                            Dinner\n",
      "size                                 2\n",
      "price_per_person                  8.49\n",
      "Payer Name          Christy Cunningham\n",
      "CC Number           3560330000000000.0\n",
      "Payment ID                     Sun2959\n",
      "Name: 0, dtype: object\n"
     ]
    }
   ],
   "source": [
    "print(df.iloc[0])"
   ]
  },
  {
   "cell_type": "code",
   "execution_count": 21,
   "id": "33368ee7-82b6-40c7-ba02-eb33baf3685a",
   "metadata": {},
   "outputs": [
    {
     "name": "stdout",
     "output_type": "stream",
     "text": [
      "total_bill                       16.99\n",
      "tip                               1.01\n",
      "gender                          Female\n",
      "smoker                              No\n",
      "day                                Sun\n",
      "time                            Dinner\n",
      "size                                 2\n",
      "price_per_person                  8.49\n",
      "Payer Name          Christy Cunningham\n",
      "CC Number           3560330000000000.0\n",
      "Name: Sun2959, dtype: object\n"
     ]
    }
   ],
   "source": [
    "df=df.set_index('Payment ID')\n",
    "print(df.loc['Sun2959'])"
   ]
  },
  {
   "cell_type": "code",
   "execution_count": 22,
   "id": "74d49560-67c7-4802-9bf4-bb74c72c279d",
   "metadata": {},
   "outputs": [
    {
     "name": "stdout",
     "output_type": "stream",
     "text": [
      "            total_bill   tip  gender smoker  day    time  size  \\\n",
      "Payment ID                                                       \n",
      "Sun2959          16.99  1.01  Female     No  Sun  Dinner     2   \n",
      "Sun4608          10.34  1.66    Male     No  Sun  Dinner     3   \n",
      "Sun4458          21.01  3.50    Male     No  Sun  Dinner     3   \n",
      "Sun5260          23.68  3.31    Male     No  Sun  Dinner     2   \n",
      "Sun2251          24.59  3.61  Female     No  Sun  Dinner     4   \n",
      "\n",
      "            price_per_person          Payer Name     CC Number  \n",
      "Payment ID                                                      \n",
      "Sun2959                 8.49  Christy Cunningham  3.560330e+15  \n",
      "Sun4608                 3.45      Douglas Tucker  4.478070e+15  \n",
      "Sun4458                 7.00      Travis Walters  6.011810e+15  \n",
      "Sun5260                11.84    Nathaniel Harris  4.676140e+15  \n",
      "Sun2251                 6.15        Tonya Carter  4.832730e+15  \n"
     ]
    }
   ],
   "source": [
    "print(df.head())"
   ]
  },
  {
   "cell_type": "code",
   "execution_count": 23,
   "id": "56012296-5fc6-4db7-b82a-f15c20f87feb",
   "metadata": {},
   "outputs": [
    {
     "name": "stdout",
     "output_type": "stream",
     "text": [
      "            total_bill   tip  gender smoker  day    time  size  \\\n",
      "Payment ID                                                       \n",
      "Sun4608          10.34  1.66    Male     No  Sun  Dinner     3   \n",
      "Sun4458          21.01  3.50    Male     No  Sun  Dinner     3   \n",
      "Sun5260          23.68  3.31    Male     No  Sun  Dinner     2   \n",
      "Sun2251          24.59  3.61  Female     No  Sun  Dinner     4   \n",
      "Sun9679          25.29  4.71    Male     No  Sun  Dinner     4   \n",
      "\n",
      "            price_per_person        Payer Name     CC Number  \n",
      "Payment ID                                                    \n",
      "Sun4608                 3.45    Douglas Tucker  4.478070e+15  \n",
      "Sun4458                 7.00    Travis Walters  6.011810e+15  \n",
      "Sun5260                11.84  Nathaniel Harris  4.676140e+15  \n",
      "Sun2251                 6.15      Tonya Carter  4.832730e+15  \n",
      "Sun9679                 6.32        Erik Smith  2.131400e+14  \n"
     ]
    }
   ],
   "source": [
    "df=df.drop('Sun2959',axis=0)\n",
    "print(df.head())"
   ]
  },
  {
   "cell_type": "code",
   "execution_count": 24,
   "id": "5b880caa-2aa6-4490-b6d0-cba540ce344f",
   "metadata": {},
   "outputs": [
    {
     "data": {
      "text/plain": [
       "Payment ID\n",
       "Sun4608    False\n",
       "Sun4458    False\n",
       "Sun5260    False\n",
       "Sun2251    False\n",
       "Sun9679    False\n",
       "           ...  \n",
       "Sat2657    False\n",
       "Sat1766    False\n",
       "Sat3880    False\n",
       "Sat17      False\n",
       "Thur672    False\n",
       "Name: total_bill, Length: 243, dtype: bool"
      ]
     },
     "execution_count": 24,
     "metadata": {},
     "output_type": "execute_result"
    }
   ],
   "source": [
    "df['total_bill']>30"
   ]
  },
  {
   "cell_type": "code",
   "execution_count": 25,
   "id": "d098600d-d02c-411e-836d-059f3162e1b9",
   "metadata": {},
   "outputs": [
    {
     "data": {
      "text/plain": [
       "Payment ID\n",
       "Sun4608    True\n",
       "Sun4458    True\n",
       "Sun5260    True\n",
       "Sun2251    True\n",
       "Sun9679    True\n",
       "           ... \n",
       "Sat2657    True\n",
       "Sat1766    True\n",
       "Sat3880    True\n",
       "Sat17      True\n",
       "Thur672    True\n",
       "Name: total_bill, Length: 243, dtype: bool"
      ]
     },
     "execution_count": 25,
     "metadata": {},
     "output_type": "execute_result"
    }
   ],
   "source": [
    "df['total_bill']<30"
   ]
  },
  {
   "cell_type": "code",
   "execution_count": 28,
   "id": "6b556229-0e7e-460e-ab08-f299f07879a7",
   "metadata": {},
   "outputs": [
    {
     "name": "stdout",
     "output_type": "stream",
     "text": [
      "Payment ID\n",
      "Sun4608    False\n",
      "Sun4458    False\n",
      "Sun5260    False\n",
      "Sun2251    False\n",
      "Sun9679    False\n",
      "           ...  \n",
      "Sat2657    False\n",
      "Sat1766    False\n",
      "Sat3880    False\n",
      "Sat17      False\n",
      "Thur672    False\n",
      "Name: total_bill, Length: 243, dtype: bool\n"
     ]
    }
   ],
   "source": [
    "bool_series=df['total_bill']>30\n",
    "print(bool_series)\n"
   ]
  },
  {
   "cell_type": "code",
   "execution_count": 29,
   "id": "e762e234-ec8a-46f5-81a3-9055e35915cb",
   "metadata": {},
   "outputs": [
    {
     "name": "stdout",
     "output_type": "stream",
     "text": [
      "            total_bill    tip  gender smoker   day    time  size  \\\n",
      "Payment ID                                                         \n",
      "Sun6686          35.26   5.00  Female     No   Sun  Dinner     4   \n",
      "Sat239           39.42   7.58    Male     No   Sat  Dinner     4   \n",
      "Sat6373          31.27   5.00    Male     No   Sat  Dinner     3   \n",
      "Sun2274          30.40   5.60    Male     No   Sun  Dinner     4   \n",
      "Sun9677          32.40   6.00    Male     No   Sun  Dinner     4   \n",
      "Sun6165          34.81   5.20  Female     No   Sun  Dinner     4   \n",
      "Sat8903          38.01   3.00    Male    Yes   Sat  Dinner     4   \n",
      "Sat8139          48.27   6.73    Male     No   Sat  Dinner     4   \n",
      "Thur8801         32.68   5.00    Male    Yes  Thur   Lunch     2   \n",
      "Thur7972         34.83   5.17  Female     No  Thur   Lunch     4   \n",
      "Fri9628          40.17   4.73    Male    Yes   Fri  Dinner     4   \n",
      "Sat6240          44.30   2.50  Female    Yes   Sat  Dinner     3   \n",
      "Sun591           38.07   4.00    Male     No   Sun  Dinner     3   \n",
      "Thur1025         34.30   6.70    Male     No  Thur   Lunch     6   \n",
      "Thur3621         41.19   5.00    Male     No  Thur   Lunch     5   \n",
      "Sun7518          48.17   5.00    Male     No   Sun  Dinner     6   \n",
      "Sun3719          31.71   4.50    Male     No   Sun  Dinner     4   \n",
      "Sat1954          50.81  10.00    Male    Yes   Sat  Dinner     3   \n",
      "Sun9335          31.85   3.18    Male    Yes   Sun  Dinner     2   \n",
      "Sun5109          32.90   3.11    Male    Yes   Sun  Dinner     2   \n",
      "Sun9851          34.63   3.55    Male    Yes   Sun  Dinner     2   \n",
      "Sun7544          34.65   3.68    Male    Yes   Sun  Dinner     4   \n",
      "Sun2337          45.35   3.50    Male    Yes   Sun  Dinner     3   \n",
      "Sun5140          40.55   3.00    Male    Yes   Sun  Dinner     2   \n",
      "Sun9987          30.46   2.00    Male    Yes   Sun  Dinner     5   \n",
      "Thur9313         43.11   5.00  Female    Yes  Thur   Lunch     4   \n",
      "Sat4505          38.73   3.00    Male    Yes   Sat  Dinner     4   \n",
      "Sat8361          30.06   2.00    Male    Yes   Sat  Dinner     3   \n",
      "Sat4590          48.33   9.00    Male     No   Sat  Dinner     4   \n",
      "Sat8863          30.14   3.09  Female    Yes   Sat  Dinner     4   \n",
      "Sat2929          32.83   1.17    Male    Yes   Sat  Dinner     2   \n",
      "Sat9777          35.83   4.67  Female     No   Sat  Dinner     3   \n",
      "\n",
      "            price_per_person             Payer Name     CC Number  \n",
      "Payment ID                                                         \n",
      "Sun6686                 8.82           Diane Macias  4.577820e+15  \n",
      "Sat239                  9.86         Lance Peterson  3.542580e+15  \n",
      "Sat6373                10.42      Mr. Brandon Berry  6.011530e+15  \n",
      "Sun2274                 7.60            Todd Cooper  5.038470e+11  \n",
      "Sun9677                 8.10           James Barnes  3.552000e+15  \n",
      "Sun6165                 8.70           Emily Daniel  4.291280e+15  \n",
      "Sat8903                 9.50  James Christensen DDS  3.497940e+14  \n",
      "Sat8139                12.07            Brian Ortiz  6.596450e+15  \n",
      "Thur8801               16.34          Daniel Murphy  5.356180e+15  \n",
      "Thur7972                8.71            Shawna Cook  6.011790e+15  \n",
      "Fri9628                10.04          Aaron Bentley  1.800270e+14  \n",
      "Sat6240                14.77          Heather Cohen  3.797710e+14  \n",
      "Sun591                 12.69             Jeff Lopez  3.572870e+15  \n",
      "Thur1025                5.72         Steven Carlson  3.526520e+15  \n",
      "Thur3621                8.24           Eric Andrews  4.356530e+15  \n",
      "Sun7518                 8.03          Ryan Gonzales  3.523150e+15  \n",
      "Sun3719                 7.93         Michael Lawson  3.566290e+15  \n",
      "Sat1954                16.94          Gregory Clark  5.473850e+15  \n",
      "Sun9335                15.92            Scott Perez  3.577120e+15  \n",
      "Sun5109                16.45        Nathan Reynolds  3.703070e+14  \n",
      "Sun9851                17.32           Brian Bailey  3.466560e+14  \n",
      "Sun7544                 8.66       James Hebert DDS  6.761690e+11  \n",
      "Sun2337                15.12           Jose Parsons  4.112210e+15  \n",
      "Sun5140                20.27            Stephen Cox  3.547800e+15  \n",
      "Sun9987                 6.09          David Barrett  4.792880e+15  \n",
      "Thur9313               10.78            Brooke Soto  5.544900e+15  \n",
      "Sat4505                 9.68          Ricky Ramirez  3.478180e+14  \n",
      "Sat8361                10.02          Shawn Mendoza  3.018400e+13  \n",
      "Sat4590                12.08        Alex Williamson  6.762190e+11  \n",
      "Sat8863                 7.54           Shelby House  5.020970e+11  \n",
      "Sat2929                16.42           Thomas Brown  4.284720e+15  \n",
      "Sat9777                11.94         Kimberly Crane  6.761840e+11  \n"
     ]
    }
   ],
   "source": [
    "print(df[bool_series])"
   ]
  },
  {
   "cell_type": "code",
   "execution_count": 32,
   "id": "32f56d7c-9532-4156-a3b9-3a55eb8abf96",
   "metadata": {},
   "outputs": [
    {
     "name": "stdout",
     "output_type": "stream",
     "text": [
      "            total_bill    tip  gender smoker   day    time  size  \\\n",
      "Payment ID                                                         \n",
      "Sun6686          35.26   5.00  Female     No   Sun  Dinner     4   \n",
      "Sat239           39.42   7.58    Male     No   Sat  Dinner     4   \n",
      "Sat6373          31.27   5.00    Male     No   Sat  Dinner     3   \n",
      "Sun2274          30.40   5.60    Male     No   Sun  Dinner     4   \n",
      "Sun9677          32.40   6.00    Male     No   Sun  Dinner     4   \n",
      "Sun6165          34.81   5.20  Female     No   Sun  Dinner     4   \n",
      "Sat8903          38.01   3.00    Male    Yes   Sat  Dinner     4   \n",
      "Sat8139          48.27   6.73    Male     No   Sat  Dinner     4   \n",
      "Thur8801         32.68   5.00    Male    Yes  Thur   Lunch     2   \n",
      "Thur7972         34.83   5.17  Female     No  Thur   Lunch     4   \n",
      "Fri9628          40.17   4.73    Male    Yes   Fri  Dinner     4   \n",
      "Sat6240          44.30   2.50  Female    Yes   Sat  Dinner     3   \n",
      "Sun591           38.07   4.00    Male     No   Sun  Dinner     3   \n",
      "Thur1025         34.30   6.70    Male     No  Thur   Lunch     6   \n",
      "Thur3621         41.19   5.00    Male     No  Thur   Lunch     5   \n",
      "Sun7518          48.17   5.00    Male     No   Sun  Dinner     6   \n",
      "Sun3719          31.71   4.50    Male     No   Sun  Dinner     4   \n",
      "Sat1954          50.81  10.00    Male    Yes   Sat  Dinner     3   \n",
      "Sun9335          31.85   3.18    Male    Yes   Sun  Dinner     2   \n",
      "Sun5109          32.90   3.11    Male    Yes   Sun  Dinner     2   \n",
      "Sun9851          34.63   3.55    Male    Yes   Sun  Dinner     2   \n",
      "Sun7544          34.65   3.68    Male    Yes   Sun  Dinner     4   \n",
      "Sun2337          45.35   3.50    Male    Yes   Sun  Dinner     3   \n",
      "Sun5140          40.55   3.00    Male    Yes   Sun  Dinner     2   \n",
      "Sun9987          30.46   2.00    Male    Yes   Sun  Dinner     5   \n",
      "Thur9313         43.11   5.00  Female    Yes  Thur   Lunch     4   \n",
      "Sat4505          38.73   3.00    Male    Yes   Sat  Dinner     4   \n",
      "Sat8361          30.06   2.00    Male    Yes   Sat  Dinner     3   \n",
      "Sat4590          48.33   9.00    Male     No   Sat  Dinner     4   \n",
      "Sat8863          30.14   3.09  Female    Yes   Sat  Dinner     4   \n",
      "Sat2929          32.83   1.17    Male    Yes   Sat  Dinner     2   \n",
      "Sat9777          35.83   4.67  Female     No   Sat  Dinner     3   \n",
      "\n",
      "            price_per_person             Payer Name     CC Number  \n",
      "Payment ID                                                         \n",
      "Sun6686                 8.82           Diane Macias  4.577820e+15  \n",
      "Sat239                  9.86         Lance Peterson  3.542580e+15  \n",
      "Sat6373                10.42      Mr. Brandon Berry  6.011530e+15  \n",
      "Sun2274                 7.60            Todd Cooper  5.038470e+11  \n",
      "Sun9677                 8.10           James Barnes  3.552000e+15  \n",
      "Sun6165                 8.70           Emily Daniel  4.291280e+15  \n",
      "Sat8903                 9.50  James Christensen DDS  3.497940e+14  \n",
      "Sat8139                12.07            Brian Ortiz  6.596450e+15  \n",
      "Thur8801               16.34          Daniel Murphy  5.356180e+15  \n",
      "Thur7972                8.71            Shawna Cook  6.011790e+15  \n",
      "Fri9628                10.04          Aaron Bentley  1.800270e+14  \n",
      "Sat6240                14.77          Heather Cohen  3.797710e+14  \n",
      "Sun591                 12.69             Jeff Lopez  3.572870e+15  \n",
      "Thur1025                5.72         Steven Carlson  3.526520e+15  \n",
      "Thur3621                8.24           Eric Andrews  4.356530e+15  \n",
      "Sun7518                 8.03          Ryan Gonzales  3.523150e+15  \n",
      "Sun3719                 7.93         Michael Lawson  3.566290e+15  \n",
      "Sat1954                16.94          Gregory Clark  5.473850e+15  \n",
      "Sun9335                15.92            Scott Perez  3.577120e+15  \n",
      "Sun5109                16.45        Nathan Reynolds  3.703070e+14  \n",
      "Sun9851                17.32           Brian Bailey  3.466560e+14  \n",
      "Sun7544                 8.66       James Hebert DDS  6.761690e+11  \n",
      "Sun2337                15.12           Jose Parsons  4.112210e+15  \n",
      "Sun5140                20.27            Stephen Cox  3.547800e+15  \n",
      "Sun9987                 6.09          David Barrett  4.792880e+15  \n",
      "Thur9313               10.78            Brooke Soto  5.544900e+15  \n",
      "Sat4505                 9.68          Ricky Ramirez  3.478180e+14  \n",
      "Sat8361                10.02          Shawn Mendoza  3.018400e+13  \n",
      "Sat4590                12.08        Alex Williamson  6.762190e+11  \n",
      "Sat8863                 7.54           Shelby House  5.020970e+11  \n",
      "Sat2929                16.42           Thomas Brown  4.284720e+15  \n",
      "Sat9777                11.94         Kimberly Crane  6.761840e+11  \n"
     ]
    }
   ],
   "source": [
    "print(df[df['total_bill']>30])\n",
    "#print(df[df.total_bill>30)"
   ]
  },
  {
   "cell_type": "code",
   "execution_count": 33,
   "id": "4b986efe-ab05-4611-9b14-3f334cf1d16e",
   "metadata": {},
   "outputs": [
    {
     "name": "stdout",
     "output_type": "stream",
     "text": [
      "            total_bill   tip gender smoker  day    time  size  \\\n",
      "Payment ID                                                      \n",
      "Sun4608          10.34  1.66   Male     No  Sun  Dinner     3   \n",
      "Sun4458          21.01  3.50   Male     No  Sun  Dinner     3   \n",
      "Sun5260          23.68  3.31   Male     No  Sun  Dinner     2   \n",
      "Sun9679          25.29  4.71   Male     No  Sun  Dinner     4   \n",
      "Sun5985           8.77  2.00   Male     No  Sun  Dinner     2   \n",
      "...                ...   ...    ...    ...  ...     ...   ...   \n",
      "Sat5032          12.60  1.00   Male    Yes  Sat  Dinner     2   \n",
      "Sat2929          32.83  1.17   Male    Yes  Sat  Dinner     2   \n",
      "Sat2657          29.03  5.92   Male     No  Sat  Dinner     3   \n",
      "Sat3880          22.67  2.00   Male    Yes  Sat  Dinner     2   \n",
      "Sat17            17.82  1.75   Male     No  Sat  Dinner     2   \n",
      "\n",
      "            price_per_person          Payer Name     CC Number  \n",
      "Payment ID                                                      \n",
      "Sun4608                 3.45      Douglas Tucker  4.478070e+15  \n",
      "Sun4458                 7.00      Travis Walters  6.011810e+15  \n",
      "Sun5260                11.84    Nathaniel Harris  4.676140e+15  \n",
      "Sun9679                 6.32          Erik Smith  2.131400e+14  \n",
      "Sun5985                 4.38  Kristopher Johnson  2.223730e+15  \n",
      "...                      ...                 ...           ...  \n",
      "Sat5032                 6.30       Matthew Myers  3.543680e+15  \n",
      "Sat2929                16.42        Thomas Brown  4.284720e+15  \n",
      "Sat2657                 9.68       Michael Avila  5.296070e+15  \n",
      "Sat3880                11.34          Keith Wong  6.011890e+15  \n",
      "Sat17                   8.91        Dennis Dixon  4.375220e+12  \n",
      "\n",
      "[157 rows x 10 columns]\n"
     ]
    }
   ],
   "source": [
    "print(df[df['gender']=='Male'])"
   ]
  },
  {
   "cell_type": "code",
   "execution_count": 36,
   "id": "21653efa-6856-4b95-8120-e1a63f0721e2",
   "metadata": {},
   "outputs": [
    {
     "name": "stdout",
     "output_type": "stream",
     "text": [
      "            total_bill    tip gender smoker   day    time  size  \\\n",
      "Payment ID                                                        \n",
      "Sat239           39.42   7.58   Male     No   Sat  Dinner     4   \n",
      "Sat6373          31.27   5.00   Male     No   Sat  Dinner     3   \n",
      "Sun2274          30.40   5.60   Male     No   Sun  Dinner     4   \n",
      "Sun9677          32.40   6.00   Male     No   Sun  Dinner     4   \n",
      "Sat8903          38.01   3.00   Male    Yes   Sat  Dinner     4   \n",
      "Sat8139          48.27   6.73   Male     No   Sat  Dinner     4   \n",
      "Thur8801         32.68   5.00   Male    Yes  Thur   Lunch     2   \n",
      "Fri9628          40.17   4.73   Male    Yes   Fri  Dinner     4   \n",
      "Sun591           38.07   4.00   Male     No   Sun  Dinner     3   \n",
      "Thur1025         34.30   6.70   Male     No  Thur   Lunch     6   \n",
      "Thur3621         41.19   5.00   Male     No  Thur   Lunch     5   \n",
      "Sun7518          48.17   5.00   Male     No   Sun  Dinner     6   \n",
      "Sun3719          31.71   4.50   Male     No   Sun  Dinner     4   \n",
      "Sat1954          50.81  10.00   Male    Yes   Sat  Dinner     3   \n",
      "Sun9335          31.85   3.18   Male    Yes   Sun  Dinner     2   \n",
      "Sun5109          32.90   3.11   Male    Yes   Sun  Dinner     2   \n",
      "Sun9851          34.63   3.55   Male    Yes   Sun  Dinner     2   \n",
      "Sun7544          34.65   3.68   Male    Yes   Sun  Dinner     4   \n",
      "Sun2337          45.35   3.50   Male    Yes   Sun  Dinner     3   \n",
      "Sun5140          40.55   3.00   Male    Yes   Sun  Dinner     2   \n",
      "Sun9987          30.46   2.00   Male    Yes   Sun  Dinner     5   \n",
      "Sat4505          38.73   3.00   Male    Yes   Sat  Dinner     4   \n",
      "Sat8361          30.06   2.00   Male    Yes   Sat  Dinner     3   \n",
      "Sat4590          48.33   9.00   Male     No   Sat  Dinner     4   \n",
      "Sat2929          32.83   1.17   Male    Yes   Sat  Dinner     2   \n",
      "\n",
      "            price_per_person             Payer Name     CC Number  \n",
      "Payment ID                                                         \n",
      "Sat239                  9.86         Lance Peterson  3.542580e+15  \n",
      "Sat6373                10.42      Mr. Brandon Berry  6.011530e+15  \n",
      "Sun2274                 7.60            Todd Cooper  5.038470e+11  \n",
      "Sun9677                 8.10           James Barnes  3.552000e+15  \n",
      "Sat8903                 9.50  James Christensen DDS  3.497940e+14  \n",
      "Sat8139                12.07            Brian Ortiz  6.596450e+15  \n",
      "Thur8801               16.34          Daniel Murphy  5.356180e+15  \n",
      "Fri9628                10.04          Aaron Bentley  1.800270e+14  \n",
      "Sun591                 12.69             Jeff Lopez  3.572870e+15  \n",
      "Thur1025                5.72         Steven Carlson  3.526520e+15  \n",
      "Thur3621                8.24           Eric Andrews  4.356530e+15  \n",
      "Sun7518                 8.03          Ryan Gonzales  3.523150e+15  \n",
      "Sun3719                 7.93         Michael Lawson  3.566290e+15  \n",
      "Sat1954                16.94          Gregory Clark  5.473850e+15  \n",
      "Sun9335                15.92            Scott Perez  3.577120e+15  \n",
      "Sun5109                16.45        Nathan Reynolds  3.703070e+14  \n",
      "Sun9851                17.32           Brian Bailey  3.466560e+14  \n",
      "Sun7544                 8.66       James Hebert DDS  6.761690e+11  \n",
      "Sun2337                15.12           Jose Parsons  4.112210e+15  \n",
      "Sun5140                20.27            Stephen Cox  3.547800e+15  \n",
      "Sun9987                 6.09          David Barrett  4.792880e+15  \n",
      "Sat4505                 9.68          Ricky Ramirez  3.478180e+14  \n",
      "Sat8361                10.02          Shawn Mendoza  3.018400e+13  \n",
      "Sat4590                12.08        Alex Williamson  6.762190e+11  \n",
      "Sat2929                16.42           Thomas Brown  4.284720e+15  \n"
     ]
    }
   ],
   "source": [
    "df_new = df[(df['total_bill']>30)&(df['gender']=='Male')]\n",
    "print(df_new)"
   ]
  },
  {
   "cell_type": "code",
   "execution_count": 37,
   "id": "76a84fc0-3b33-45ab-86aa-eb0a9693570a",
   "metadata": {},
   "outputs": [
    {
     "name": "stdout",
     "output_type": "stream",
     "text": [
      "            total_bill   tip  gender smoker   day    time  size  \\\n",
      "Payment ID                                                        \n",
      "Sun6686          35.26  5.00  Female     No   Sun  Dinner     4   \n",
      "Sun6165          34.81  5.20  Female     No   Sun  Dinner     4   \n",
      "Thur7972         34.83  5.17  Female     No  Thur   Lunch     4   \n",
      "Sat6240          44.30  2.50  Female    Yes   Sat  Dinner     3   \n",
      "Thur9313         43.11  5.00  Female    Yes  Thur   Lunch     4   \n",
      "Sat8863          30.14  3.09  Female    Yes   Sat  Dinner     4   \n",
      "Sat9777          35.83  4.67  Female     No   Sat  Dinner     3   \n",
      "\n",
      "            price_per_person      Payer Name     CC Number  \n",
      "Payment ID                                                  \n",
      "Sun6686                 8.82    Diane Macias  4.577820e+15  \n",
      "Sun6165                 8.70    Emily Daniel  4.291280e+15  \n",
      "Thur7972                8.71     Shawna Cook  6.011790e+15  \n",
      "Sat6240                14.77   Heather Cohen  3.797710e+14  \n",
      "Thur9313               10.78     Brooke Soto  5.544900e+15  \n",
      "Sat8863                 7.54    Shelby House  5.020970e+11  \n",
      "Sat9777                11.94  Kimberly Crane  6.761840e+11  \n"
     ]
    }
   ],
   "source": [
    "df_new = df[(df['total_bill']>30)&~(df['gender']=='Male')]\n",
    "print(df_new)"
   ]
  },
  {
   "cell_type": "code",
   "execution_count": 39,
   "id": "bedb3578-57d6-4281-a4ca-85e2e6888a7f",
   "metadata": {},
   "outputs": [
    {
     "name": "stdout",
     "output_type": "stream",
     "text": [
      "            total_bill   tip  gender smoker   day    time  size  \\\n",
      "Payment ID                                                        \n",
      "Sun6686          35.26  5.00  Female     No   Sun  Dinner     4   \n",
      "Sun6165          34.81  5.20  Female     No   Sun  Dinner     4   \n",
      "Thur7972         34.83  5.17  Female     No  Thur   Lunch     4   \n",
      "Sat6240          44.30  2.50  Female    Yes   Sat  Dinner     3   \n",
      "Thur9313         43.11  5.00  Female    Yes  Thur   Lunch     4   \n",
      "Sat8863          30.14  3.09  Female    Yes   Sat  Dinner     4   \n",
      "Sat9777          35.83  4.67  Female     No   Sat  Dinner     3   \n",
      "\n",
      "            price_per_person      Payer Name     CC Number  \n",
      "Payment ID                                                  \n",
      "Sun6686                 8.82    Diane Macias  4.577820e+15  \n",
      "Sun6165                 8.70    Emily Daniel  4.291280e+15  \n",
      "Thur7972                8.71     Shawna Cook  6.011790e+15  \n",
      "Sat6240                14.77   Heather Cohen  3.797710e+14  \n",
      "Thur9313               10.78     Brooke Soto  5.544900e+15  \n",
      "Sat8863                 7.54    Shelby House  5.020970e+11  \n",
      "Sat9777                11.94  Kimberly Crane  6.761840e+11  \n"
     ]
    }
   ],
   "source": [
    "df_new = df[(df['total_bill']>30)&(df['gender']!='Male')]\n",
    "print(df_new)"
   ]
  },
  {
   "cell_type": "code",
   "execution_count": 45,
   "id": "143b42e9-1259-432d-aa76-2bf586deaa7f",
   "metadata": {},
   "outputs": [
    {
     "name": "stdout",
     "output_type": "stream",
     "text": [
      "            total_bill    tip  gender smoker   day    time  size  \\\n",
      "Payment ID                                                         \n",
      "Sat239           39.42   7.58    Male     No   Sat  Dinner     4   \n",
      "Sun2274          30.40   5.60    Male     No   Sun  Dinner     4   \n",
      "Sun9677          32.40   6.00    Male     No   Sun  Dinner     4   \n",
      "Sun6165          34.81   5.20  Female     No   Sun  Dinner     4   \n",
      "Sat8139          48.27   6.73    Male     No   Sat  Dinner     4   \n",
      "Thur7972         34.83   5.17  Female     No  Thur   Lunch     4   \n",
      "Thur9003         24.71   5.85    Male     No  Thur   Lunch     2   \n",
      "Fri9628          40.17   4.73    Male    Yes   Fri  Dinner     4   \n",
      "Sat6240          44.30   2.50  Female    Yes   Sat  Dinner     3   \n",
      "Sun22            29.93   5.07    Male     No   Sun  Dinner     4   \n",
      "Thur1025         34.30   6.70    Male     No  Thur   Lunch     6   \n",
      "Thur3621         41.19   5.00    Male     No  Thur   Lunch     5   \n",
      "Sun9176          29.85   5.14  Female     No   Sun  Dinner     5   \n",
      "Sun7518          48.17   5.00    Male     No   Sun  Dinner     6   \n",
      "Sat1954          50.81  10.00    Male    Yes   Sat  Dinner     3   \n",
      "Sun9209           7.25   5.15    Male    Yes   Sun  Dinner     2   \n",
      "Sun3402          23.33   5.65    Male    Yes   Sun  Dinner     2   \n",
      "Sun2337          45.35   3.50    Male    Yes   Sun  Dinner     3   \n",
      "Sun6059          23.17   6.50    Male    Yes   Sun  Dinner     4   \n",
      "Sun5140          40.55   3.00    Male    Yes   Sun  Dinner     2   \n",
      "Thur9313         43.11   5.00  Female    Yes  Thur   Lunch     4   \n",
      "Sat6735          25.89   5.16    Male    Yes   Sat  Dinner     4   \n",
      "Sat4590          48.33   9.00    Male     No   Sat  Dinner     4   \n",
      "Sat3374          28.17   6.50  Female    Yes   Sat  Dinner     3   \n",
      "Sat2657          29.03   5.92    Male     No   Sat  Dinner     3   \n",
      "\n",
      "            price_per_person         Payer Name     CC Number  \n",
      "Payment ID                                                     \n",
      "Sat239                  9.86     Lance Peterson  3.542580e+15  \n",
      "Sun2274                 7.60        Todd Cooper  5.038470e+11  \n",
      "Sun9677                 8.10       James Barnes  3.552000e+15  \n",
      "Sun6165                 8.70       Emily Daniel  4.291280e+15  \n",
      "Sat8139                12.07        Brian Ortiz  6.596450e+15  \n",
      "Thur7972                8.71        Shawna Cook  6.011790e+15  \n",
      "Thur9003               12.36       Roger Taylor  4.410250e+12  \n",
      "Fri9628                10.04      Aaron Bentley  1.800270e+14  \n",
      "Sat6240                14.77      Heather Cohen  3.797710e+14  \n",
      "Sun22                   7.48        Shawn Blake  4.689080e+15  \n",
      "Thur1025                5.72     Steven Carlson  3.526520e+15  \n",
      "Thur3621                8.24       Eric Andrews  4.356530e+15  \n",
      "Sun9176                 5.97     Madison Wilson  4.210880e+15  \n",
      "Sun7518                 8.03      Ryan Gonzales  3.523150e+15  \n",
      "Sat1954                16.94      Gregory Clark  5.473850e+15  \n",
      "Sun9209                 3.62        Larry White  3.043260e+13  \n",
      "Sun3402                11.66          Jason Cox  6.556930e+15  \n",
      "Sun2337                15.12       Jose Parsons  4.112210e+15  \n",
      "Sun6059                 5.79  Dr. Michael James  4.718500e+12  \n",
      "Sun5140                20.27        Stephen Cox  3.547800e+15  \n",
      "Thur9313               10.78        Brooke Soto  5.544900e+15  \n",
      "Sat6735                 6.47     Christopher Li  6.011960e+15  \n",
      "Sat4590                12.08    Alex Williamson  6.762190e+11  \n",
      "Sat3374                 9.39    Marissa Jackson  4.922300e+15  \n",
      "Sat2657                 9.68      Michael Avila  5.296070e+15  \n"
     ]
    }
   ],
   "source": [
    "df_new = df[(df['total_bill']>40)|(df['tip']>5)]\n",
    "print(df_new)"
   ]
  },
  {
   "cell_type": "code",
   "execution_count": 47,
   "id": "a0333f04-3944-4495-8ef7-1edba7333596",
   "metadata": {},
   "outputs": [
    {
     "name": "stdout",
     "output_type": "stream",
     "text": [
      "Payment ID\n",
      "Sun4608     True\n",
      "Sun4458     True\n",
      "Sun5260     True\n",
      "Sun2251     True\n",
      "Sun9679     True\n",
      "           ...  \n",
      "Sat2657     True\n",
      "Sat1766     True\n",
      "Sat3880     True\n",
      "Sat17       True\n",
      "Thur672    False\n",
      "Name: day, Length: 243, dtype: bool\n"
     ]
    }
   ],
   "source": [
    "options = [\"Sat\",\"Sun\"]\n",
    "print(df['day'].isin(options))"
   ]
  },
  {
   "cell_type": "code",
   "execution_count": 48,
   "id": "faa61c89-20ad-4fd5-b674-1d156171d3b9",
   "metadata": {},
   "outputs": [
    {
     "name": "stdout",
     "output_type": "stream",
     "text": [
      "            total_bill   tip  gender smoker  day    time  size  \\\n",
      "Payment ID                                                       \n",
      "Sun4608          10.34  1.66    Male     No  Sun  Dinner     3   \n",
      "Sun4458          21.01  3.50    Male     No  Sun  Dinner     3   \n",
      "Sun5260          23.68  3.31    Male     No  Sun  Dinner     2   \n",
      "Sun2251          24.59  3.61  Female     No  Sun  Dinner     4   \n",
      "Sun9679          25.29  4.71    Male     No  Sun  Dinner     4   \n",
      "...                ...   ...     ...    ...  ...     ...   ...   \n",
      "Sat9777          35.83  4.67  Female     No  Sat  Dinner     3   \n",
      "Sat2657          29.03  5.92    Male     No  Sat  Dinner     3   \n",
      "Sat1766          27.18  2.00  Female    Yes  Sat  Dinner     2   \n",
      "Sat3880          22.67  2.00    Male    Yes  Sat  Dinner     2   \n",
      "Sat17            17.82  1.75    Male     No  Sat  Dinner     2   \n",
      "\n",
      "            price_per_person        Payer Name     CC Number  \n",
      "Payment ID                                                    \n",
      "Sun4608                 3.45    Douglas Tucker  4.478070e+15  \n",
      "Sun4458                 7.00    Travis Walters  6.011810e+15  \n",
      "Sun5260                11.84  Nathaniel Harris  4.676140e+15  \n",
      "Sun2251                 6.15      Tonya Carter  4.832730e+15  \n",
      "Sun9679                 6.32        Erik Smith  2.131400e+14  \n",
      "...                      ...               ...           ...  \n",
      "Sat9777                11.94    Kimberly Crane  6.761840e+11  \n",
      "Sat2657                 9.68     Michael Avila  5.296070e+15  \n",
      "Sat1766                13.59    Monica Sanders  3.506810e+15  \n",
      "Sat3880                11.34        Keith Wong  6.011890e+15  \n",
      "Sat17                   8.91      Dennis Dixon  4.375220e+12  \n",
      "\n",
      "[162 rows x 10 columns]\n"
     ]
    }
   ],
   "source": [
    "print(df[df['day'].isin([\"Sat\",\"Sun\"])])"
   ]
  },
  {
   "cell_type": "code",
   "execution_count": 50,
   "id": "9f46fdfb-a1d5-48ec-a42e-1f482f08c5d9",
   "metadata": {},
   "outputs": [
    {
     "name": "stdout",
     "output_type": "stream",
     "text": [
      "            total_bill    tip  gender smoker   day    time  size  \\\n",
      "Payment ID                                                         \n",
      "Sat5032          12.60   1.00    Male    Yes   Sat  Dinner     2   \n",
      "Sat4801           7.25   1.00  Female     No   Sat  Dinner     1   \n",
      "Fri3780           5.75   1.00  Female    Yes   Fri  Dinner     2   \n",
      "Sat3455           3.07   1.00  Female    Yes   Sat  Dinner     1   \n",
      "Sat6983          12.90   1.10  Female    Yes   Sat  Dinner     2   \n",
      "...                ...    ...     ...    ...   ...     ...   ...   \n",
      "Thur1025         34.30   6.70    Male     No  Thur   Lunch     6   \n",
      "Sat8139          48.27   6.73    Male     No   Sat  Dinner     4   \n",
      "Sat239           39.42   7.58    Male     No   Sat  Dinner     4   \n",
      "Sat4590          48.33   9.00    Male     No   Sat  Dinner     4   \n",
      "Sat1954          50.81  10.00    Male    Yes   Sat  Dinner     3   \n",
      "\n",
      "            price_per_person       Payer Name     CC Number  \n",
      "Payment ID                                                   \n",
      "Sat5032                 6.30    Matthew Myers  3.543680e+15  \n",
      "Sat4801                 7.25      Terri Jones  3.559220e+15  \n",
      "Fri3780                 2.88     Leah Ramirez  3.508910e+15  \n",
      "Sat3455                 3.07    Tiffany Brock  4.359490e+15  \n",
      "Sat6983                 6.45     Jessica Owen  4.726900e+12  \n",
      "...                      ...              ...           ...  \n",
      "Thur1025                5.72   Steven Carlson  3.526520e+15  \n",
      "Sat8139                12.07      Brian Ortiz  6.596450e+15  \n",
      "Sat239                  9.86   Lance Peterson  3.542580e+15  \n",
      "Sat4590                12.08  Alex Williamson  6.762190e+11  \n",
      "Sat1954                16.94    Gregory Clark  5.473850e+15  \n",
      "\n",
      "[243 rows x 10 columns]\n"
     ]
    }
   ],
   "source": [
    "print(df.sort_values(\"tip\"))"
   ]
  },
  {
   "cell_type": "code",
   "execution_count": 52,
   "id": "843f692e-961b-4ff8-81ec-22845465577a",
   "metadata": {},
   "outputs": [
    {
     "name": "stdout",
     "output_type": "stream",
     "text": [
      "            total_bill       tip\n",
      "total_bill    1.000000  0.676901\n",
      "tip           0.676901  1.000000\n"
     ]
    }
   ],
   "source": [
    "print(df[[\"total_bill\",\"tip\"]].corr())"
   ]
  },
  {
   "cell_type": "code",
   "execution_count": 53,
   "id": "cc59e882-7b41-4bf6-821a-958ab7fbe957",
   "metadata": {},
   "outputs": [
    {
     "name": "stdout",
     "output_type": "stream",
     "text": [
      "smoker\n",
      "No     150\n",
      "Yes     93\n",
      "Name: count, dtype: int64\n",
      "gender\n",
      "Male      157\n",
      "Female     86\n",
      "Name: count, dtype: int64\n"
     ]
    }
   ],
   "source": [
    "print(df[\"smoker\"].value_counts())\n",
    "print(df[\"gender\"].value_counts())"
   ]
  },
  {
   "cell_type": "code",
   "execution_count": 54,
   "id": "e1f5b71c-94d8-478b-b88a-dd0213c0a011",
   "metadata": {},
   "outputs": [
    {
     "name": "stdout",
     "output_type": "stream",
     "text": [
      "[3 2 4 1 6 5]\n",
      "6\n",
      "['Dinner' 'Lunch']\n"
     ]
    }
   ],
   "source": [
    "print(df[\"size\"].unique())\n",
    "print(df[\"size\"].nunique())\n",
    "print(df[\"time\"].unique())"
   ]
  },
  {
   "cell_type": "code",
   "execution_count": 55,
   "id": "d25d3a47-5a3b-4951-88fa-4328e623f1fe",
   "metadata": {},
   "outputs": [
    {
     "name": "stdout",
     "output_type": "stream",
     "text": [
      "Payment ID\n",
      "Sun4608     True\n",
      "Sun4458    False\n",
      "Sun5260    False\n",
      "Sun2251    False\n",
      "Sun9679    False\n",
      "           ...  \n",
      "Sat2657    False\n",
      "Sat1766    False\n",
      "Sat3880    False\n",
      "Sat17       True\n",
      "Thur672     True\n",
      "Name: total_bill, Length: 243, dtype: bool\n"
     ]
    }
   ],
   "source": [
    "print(df[\"total_bill\"].between(10,20,inclusive=\"both\"))"
   ]
  },
  {
   "cell_type": "code",
   "execution_count": 56,
   "id": "45be4ee9-317f-4969-833c-fce46fed35b8",
   "metadata": {},
   "outputs": [
    {
     "name": "stdout",
     "output_type": "stream",
     "text": [
      "            total_bill   tip  gender smoker   day    time  size  \\\n",
      "Payment ID                                                        \n",
      "Sun4608          10.34  1.66    Male     No   Sun  Dinner     3   \n",
      "Sun6820          15.04  1.96    Male     No   Sun  Dinner     2   \n",
      "Sun3775          14.78  3.23    Male     No   Sun  Dinner     2   \n",
      "Sun2546          10.27  1.71    Male     No   Sun  Dinner     2   \n",
      "Sun1300          15.42  1.57    Male     No   Sun  Dinner     2   \n",
      "...                ...   ...     ...    ...   ...     ...   ...   \n",
      "Sat7220          15.53  3.00    Male    Yes   Sat  Dinner     2   \n",
      "Sat4615          10.07  1.25    Male     No   Sat  Dinner     2   \n",
      "Sat5032          12.60  1.00    Male    Yes   Sat  Dinner     2   \n",
      "Sat17            17.82  1.75    Male     No   Sat  Dinner     2   \n",
      "Thur672          18.78  3.00  Female     No  Thur  Dinner     2   \n",
      "\n",
      "            price_per_person       Payer Name     CC Number  \n",
      "Payment ID                                                   \n",
      "Sun4608                 3.45   Douglas Tucker  4.478070e+15  \n",
      "Sun6820                 7.52  Joseph Mcdonald  3.522870e+15  \n",
      "Sun3775                 7.39    Jerome Abbott  3.532120e+15  \n",
      "Sun2546                 5.14    William Riley  5.662880e+11  \n",
      "Sun1300                 7.71  Chad Harrington  5.770410e+11  \n",
      "...                      ...              ...           ...  \n",
      "Sat7220                 7.76    Tracy Douglas  4.097940e+15  \n",
      "Sat4615                 5.04    Sean Gonzalez  3.534020e+15  \n",
      "Sat5032                 6.30    Matthew Myers  3.543680e+15  \n",
      "Sat17                   8.91     Dennis Dixon  4.375220e+12  \n",
      "Thur672                 9.39  Michelle Hardin  3.511450e+15  \n",
      "\n",
      "[129 rows x 10 columns]\n"
     ]
    }
   ],
   "source": [
    "print(df[df[\"total_bill\"].between(10,20,inclusive=\"both\")])"
   ]
  },
  {
   "cell_type": "code",
   "execution_count": null,
   "id": "1c495aa6-9569-4a76-ae93-714726ed21bf",
   "metadata": {},
   "outputs": [],
   "source": []
  }
 ],
 "metadata": {
  "kernelspec": {
   "display_name": "Python 3 (ipykernel)",
   "language": "python",
   "name": "python3"
  },
  "language_info": {
   "codemirror_mode": {
    "name": "ipython",
    "version": 3
   },
   "file_extension": ".py",
   "mimetype": "text/x-python",
   "name": "python",
   "nbconvert_exporter": "python",
   "pygments_lexer": "ipython3",
   "version": "3.11.7"
  }
 },
 "nbformat": 4,
 "nbformat_minor": 5
}
