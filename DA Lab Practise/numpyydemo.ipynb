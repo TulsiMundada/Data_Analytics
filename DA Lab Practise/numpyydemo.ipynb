{
 "cells": [
  {
   "cell_type": "code",
   "execution_count": 6,
   "id": "c017c3cd-5756-4975-9ecb-e02674b25f14",
   "metadata": {},
   "outputs": [
    {
     "name": "stdout",
     "output_type": "stream",
     "text": [
      "<class 'list'>\n"
     ]
    }
   ],
   "source": [
    "import numpy as np\n",
    "my_list=[1,2,3]\n",
    "my_array=np.array([1,2,3])\n",
    "\n",
    "print(type(my_list))\n"
   ]
  },
  {
   "cell_type": "code",
   "execution_count": 7,
   "id": "62f829c4-aea1-4cb3-8bcc-7b2da3f77a38",
   "metadata": {},
   "outputs": [
    {
     "name": "stdout",
     "output_type": "stream",
     "text": [
      "[1 2 3]\n"
     ]
    }
   ],
   "source": [
    "print(np.array(my_list))"
   ]
  },
  {
   "cell_type": "code",
   "execution_count": 8,
   "id": "5f8a50a7-5d7c-4933-9814-bb4fb31d9977",
   "metadata": {},
   "outputs": [
    {
     "name": "stdout",
     "output_type": "stream",
     "text": [
      "[[1 2 3]\n",
      " [4 5 6]\n",
      " [7 8 9]]\n"
     ]
    }
   ],
   "source": [
    "my_matrix=[[1,2,3],[4,5,6],[7,8,9]]\n",
    "print(np.array(my_matrix))"
   ]
  },
  {
   "cell_type": "code",
   "execution_count": 10,
   "id": "76208deb-5f58-4b50-b5b4-9ff09ab73df1",
   "metadata": {},
   "outputs": [
    {
     "name": "stdout",
     "output_type": "stream",
     "text": [
      "[0 1 2 3 4 5 6 7 8 9]\n",
      "[ 0  2  4  6  8 10]\n"
     ]
    }
   ],
   "source": [
    "print(np.arange(0,10))\n",
    "print(np.arange(0,11,2))"
   ]
  },
  {
   "cell_type": "code",
   "execution_count": 12,
   "id": "46c3f225-0757-4825-a0cb-519922a7893e",
   "metadata": {},
   "outputs": [
    {
     "name": "stdout",
     "output_type": "stream",
     "text": [
      "[0. 0. 0.]\n",
      "[1. 1. 1.]\n",
      "[[0. 0. 0. 0. 0.]\n",
      " [0. 0. 0. 0. 0.]\n",
      " [0. 0. 0. 0. 0.]\n",
      " [0. 0. 0. 0. 0.]\n",
      " [0. 0. 0. 0. 0.]]\n",
      "[[1. 1. 1.]\n",
      " [1. 1. 1.]\n",
      " [1. 1. 1.]]\n"
     ]
    }
   ],
   "source": [
    "print(np.zeros(3))\n",
    "print(np.ones(3))\n",
    "print(np.zeros((5,5)))\n",
    "print(np.ones((3,3)))"
   ]
  },
  {
   "cell_type": "code",
   "execution_count": 13,
   "id": "f0cde2b0-5530-40a8-b544-4c129a022294",
   "metadata": {},
   "outputs": [
    {
     "name": "stdout",
     "output_type": "stream",
     "text": [
      "[ 0.  5. 10.]\n",
      "[0.         0.26315789 0.52631579 0.78947368 1.05263158 1.31578947\n",
      " 1.57894737 1.84210526 2.10526316 2.36842105 2.63157895 2.89473684\n",
      " 3.15789474 3.42105263 3.68421053 3.94736842 4.21052632 4.47368421\n",
      " 4.73684211 5.        ]\n",
      "[0.   0.25 0.5  0.75 1.   1.25 1.5  1.75 2.   2.25 2.5  2.75 3.   3.25\n",
      " 3.5  3.75 4.   4.25 4.5  4.75 5.  ]\n"
     ]
    }
   ],
   "source": [
    "print(np.linspace(0,10,3))\n",
    "print(np.linspace(0,5,20))\n",
    "print(np.linspace(0,5,21))"
   ]
  },
  {
   "cell_type": "code",
   "execution_count": 14,
   "id": "6251d40f-46dd-48b3-a603-f58e00bb62d1",
   "metadata": {},
   "outputs": [
    {
     "name": "stdout",
     "output_type": "stream",
     "text": [
      "[0.80136747 0.09084747]\n",
      "[[0.3397022  0.45559586 0.56875939 0.37829912 0.54865555]\n",
      " [0.27145081 0.82458478 0.18472098 0.76421926 0.63086771]\n",
      " [0.29291049 0.13170984 0.84888136 0.80879197 0.55456528]\n",
      " [0.43755205 0.71009984 0.1869286  0.39908111 0.67217362]\n",
      " [0.6606248  0.81936124 0.31822496 0.57572342 0.3500361 ]]\n"
     ]
    }
   ],
   "source": [
    "print(np.random.rand(2))\n",
    "print(np.random.rand(5,5))"
   ]
  },
  {
   "cell_type": "code",
   "execution_count": 15,
   "id": "81e440c4-a8df-48ed-89bc-c43a5ef13142",
   "metadata": {},
   "outputs": [
    {
     "name": "stdout",
     "output_type": "stream",
     "text": [
      "[-1.67090969  0.46992463]\n",
      "[[ 0.08653206 -0.84304943 -0.92056047 -1.03699721 -1.03620925]\n",
      " [-0.07812183  2.36391881  1.69284785 -0.54066593  1.01625217]\n",
      " [ 0.63794204  0.09794853  0.4810922  -1.28436547  1.6820818 ]\n",
      " [-0.11014851 -0.6519075  -0.0906341   0.72077764  2.06992642]\n",
      " [-0.52182391 -1.86335127 -1.2251846   0.35555986 -1.16698033]]\n"
     ]
    }
   ],
   "source": [
    "print(np.random.randn(2))\n",
    "print(np.random.randn(5,5))"
   ]
  },
  {
   "cell_type": "code",
   "execution_count": 16,
   "id": "e3d9c6a2-de75-4834-8dbc-13ca03655183",
   "metadata": {},
   "outputs": [
    {
     "name": "stdout",
     "output_type": "stream",
     "text": [
      "52\n",
      "[ 6 78 82 23 26 74 72 86 98 29]\n"
     ]
    }
   ],
   "source": [
    "print(np.random.randint(1,100))\n",
    "print(np.random.randint(1,100,10))"
   ]
  },
  {
   "cell_type": "code",
   "execution_count": 17,
   "id": "e1998e58-6d10-4795-a81a-ad67de6283ee",
   "metadata": {},
   "outputs": [
    {
     "name": "stdout",
     "output_type": "stream",
     "text": [
      "[0.37454012 0.95071431 0.73199394 0.59865848]\n"
     ]
    }
   ],
   "source": [
    "np.random.seed(42) \n",
    "print(np.random.rand(4))"
   ]
  },
  {
   "cell_type": "code",
   "execution_count": 21,
   "id": "8a4000a9-fc7a-49e6-b2a1-58b890c40b82",
   "metadata": {},
   "outputs": [
    {
     "name": "stdout",
     "output_type": "stream",
     "text": [
      "[ 0  1  2  3  4  5  6  7  8  9 10 11 12 13 14 15 16 17 18 19 20 21 22 23\n",
      " 24]\n",
      "[21 43 24 48 26 41 27 15 14 46]\n"
     ]
    }
   ],
   "source": [
    "arr=np.arange(25)\n",
    "ranarr=np.random.randint(0,50,10)\n",
    "print(arr)\n",
    "print(ranarr)"
   ]
  },
  {
   "cell_type": "code",
   "execution_count": 22,
   "id": "1e26d3ee-d7a5-47fb-bb8f-ac733a5e5d4b",
   "metadata": {},
   "outputs": [
    {
     "name": "stdout",
     "output_type": "stream",
     "text": [
      "[[ 0  1  2  3  4]\n",
      " [ 5  6  7  8  9]\n",
      " [10 11 12 13 14]\n",
      " [15 16 17 18 19]\n",
      " [20 21 22 23 24]]\n"
     ]
    }
   ],
   "source": [
    "print(arr.reshape(5,5))"
   ]
  },
  {
   "cell_type": "code",
   "execution_count": 29,
   "id": "89087d10-b098-409a-8175-1810965770a9",
   "metadata": {},
   "outputs": [
    {
     "name": "stdout",
     "output_type": "stream",
     "text": [
      "48\n",
      "14\n",
      "24\n",
      "3\n",
      "0\n",
      "24\n"
     ]
    }
   ],
   "source": [
    "print(max(ranarr))\n",
    "print(min(ranarr))\n",
    "print(arr.max())\n",
    "print(ranarr.argmax())\n",
    "print(arr.min())\n",
    "print(arr.argmax())\n"
   ]
  },
  {
   "cell_type": "code",
   "execution_count": 41,
   "id": "a7026f03-e043-4210-bd35-6ad95b04ee8f",
   "metadata": {},
   "outputs": [
    {
     "name": "stdout",
     "output_type": "stream",
     "text": [
      "[ 0  1  2  3  4  5  6  7  8  9 10]\n",
      "8\n",
      "[1 2 3 4]\n",
      "[0 1 2 3 4]\n"
     ]
    }
   ],
   "source": [
    "arr=np.arange(0,11)\n",
    "print(arr)\n",
    "print(arr[8])\n",
    "print(arr[1:5])\n",
    "print(arr[0:5])"
   ]
  },
  {
   "cell_type": "code",
   "execution_count": 42,
   "id": "ffe41de8-29d1-4fef-bda9-1f845c27595c",
   "metadata": {},
   "outputs": [
    {
     "data": {
      "text/plain": [
       "array([100, 100, 100, 100, 100,   5,   6,   7,   8,   9,  10])"
      ]
     },
     "execution_count": 42,
     "metadata": {},
     "output_type": "execute_result"
    }
   ],
   "source": [
    "arr[0:5] = 100\n",
    "arr"
   ]
  },
  {
   "cell_type": "code",
   "execution_count": 43,
   "id": "689c5f85-3fc5-4bdf-8901-790449b60f0b",
   "metadata": {},
   "outputs": [
    {
     "data": {
      "text/plain": [
       "array([100, 100, 100, 100, 100])"
      ]
     },
     "execution_count": 43,
     "metadata": {},
     "output_type": "execute_result"
    }
   ],
   "source": [
    "slice = arr[0:5]\n",
    "slice"
   ]
  },
  {
   "cell_type": "code",
   "execution_count": 45,
   "id": "ae7f0006-4c4d-4434-9e1a-9117194ac8a6",
   "metadata": {},
   "outputs": [
    {
     "data": {
      "text/plain": [
       "array([900, 900, 900, 900, 900])"
      ]
     },
     "execution_count": 45,
     "metadata": {},
     "output_type": "execute_result"
    }
   ],
   "source": [
    "slice[:] = 900\n",
    "slice"
   ]
  },
  {
   "cell_type": "code",
   "execution_count": 46,
   "id": "d61acb1e-c6db-4a70-a425-8ff6f631c31d",
   "metadata": {},
   "outputs": [
    {
     "name": "stdout",
     "output_type": "stream",
     "text": [
      "[900 900 900 900 900   5   6   7   8   9  10]\n"
     ]
    }
   ],
   "source": [
    "print(arr)"
   ]
  },
  {
   "cell_type": "code",
   "execution_count": 47,
   "id": "62539664-b209-4119-a53a-0243f033d674",
   "metadata": {},
   "outputs": [
    {
     "name": "stdout",
     "output_type": "stream",
     "text": [
      "[[ 5 10 15]\n",
      " [20  3 34]\n",
      " [78  2 44]]\n"
     ]
    }
   ],
   "source": [
    "arr_2d=np.array(([5,10,15],[20,3,34],[78,2,44]))\n",
    "print(arr_2d)"
   ]
  },
  {
   "cell_type": "code",
   "execution_count": 48,
   "id": "0c5eb184-ae10-4641-852a-2adb0e472951",
   "metadata": {},
   "outputs": [
    {
     "name": "stdout",
     "output_type": "stream",
     "text": [
      "[20  3 34]\n"
     ]
    }
   ],
   "source": [
    "print(arr_2d[1])"
   ]
  },
  {
   "cell_type": "code",
   "execution_count": 49,
   "id": "86858cbb-9115-4d53-8fb6-dc9ec4037df9",
   "metadata": {},
   "outputs": [
    {
     "name": "stdout",
     "output_type": "stream",
     "text": [
      "20\n",
      "20\n",
      "[[10 15]\n",
      " [ 3 34]]\n"
     ]
    }
   ],
   "source": [
    "print(arr_2d[1][0])\n",
    "print(arr_2d[1,0])\n",
    "print(arr_2d[:2,1:])"
   ]
  },
  {
   "cell_type": "code",
   "execution_count": 51,
   "id": "c6b7d01c-0b00-4cbe-9520-4fbe3ac8b0d1",
   "metadata": {},
   "outputs": [
    {
     "name": "stdout",
     "output_type": "stream",
     "text": [
      "[ 1  2  3  4  5  6  7  8  9 10]\n",
      "[False False False False  True  True  True  True  True  True]\n",
      "[False False False False False  True  True  True  True  True]\n"
     ]
    }
   ],
   "source": [
    "arr=np.arange(1,11)\n",
    "print(arr)\n",
    "print(arr>4)\n",
    "bool_arr = arr>5\n",
    "print(bool_arr)"
   ]
  },
  {
   "cell_type": "code",
   "execution_count": 52,
   "id": "055706b8-bcea-485a-b740-0a97c07b9947",
   "metadata": {},
   "outputs": [
    {
     "name": "stdout",
     "output_type": "stream",
     "text": [
      "[ 6  7  8  9 10]\n"
     ]
    }
   ],
   "source": [
    "print(arr[bool_arr])"
   ]
  },
  {
   "cell_type": "code",
   "execution_count": 61,
   "id": "29bacb2e-7e95-4e4a-b2bb-cc94a421c387",
   "metadata": {},
   "outputs": [
    {
     "name": "stdout",
     "output_type": "stream",
     "text": [
      "[ 0  2  4  6  8 10 12 14 16 18]\n",
      "[0 0 0 0 0 0 0 0 0 0]\n",
      "[ 0  1  4  9 16 25 36 49 64 81]\n"
     ]
    }
   ],
   "source": [
    "arr=np.arange(0,10)\n",
    "print(arr+arr)\n",
    "print(arr-arr)\n",
    "print(arr*arr)"
   ]
  },
  {
   "cell_type": "code",
   "execution_count": 65,
   "id": "aadea0b5-2704-46a4-943f-280f2f6a7686",
   "metadata": {},
   "outputs": [
    {
     "name": "stdout",
     "output_type": "stream",
     "text": [
      "[  0   1   8  27  64 125 216 343 512 729]\n",
      "[0.         1.         1.41421356 1.73205081 2.         2.23606798\n",
      " 2.44948974 2.64575131 2.82842712 3.        ]\n",
      "[1.00000000e+00 2.71828183e+00 7.38905610e+00 2.00855369e+01\n",
      " 5.45981500e+01 1.48413159e+02 4.03428793e+02 1.09663316e+03\n",
      " 2.98095799e+03 8.10308393e+03]\n",
      "[ 0.          0.84147098  0.90929743  0.14112001 -0.7568025  -0.95892427\n",
      " -0.2794155   0.6569866   0.98935825  0.41211849]\n"
     ]
    }
   ],
   "source": [
    "#print(arr/arr)\n",
    "#print(1/arr)\n",
    "print(arr**3)\n",
    "print(np.sqrt(arr))\n",
    "print(np.exp(arr))\n",
    "print(np.sin(arr))\n",
    "#print(np.log(arr))"
   ]
  },
  {
   "cell_type": "code",
   "execution_count": 66,
   "id": "e7933dda-e7d2-43b4-bea1-2df33ff84490",
   "metadata": {},
   "outputs": [
    {
     "name": "stdout",
     "output_type": "stream",
     "text": [
      "45\n",
      "4.5\n",
      "9\n",
      "0\n",
      "8.25\n",
      "2.8722813232690143\n"
     ]
    }
   ],
   "source": [
    "print(arr.sum())\n",
    "print(arr.mean())\n",
    "print(arr.max())\n",
    "print(arr.min())\n",
    "print(arr.var())\n",
    "print(arr.std())"
   ]
  },
  {
   "cell_type": "code",
   "execution_count": 69,
   "id": "8cac2f75-3b66-41ae-81c5-a38b31d02d52",
   "metadata": {},
   "outputs": [
    {
     "name": "stdout",
     "output_type": "stream",
     "text": [
      "[[ 1  2  3  4]\n",
      " [44 55 66 77]\n",
      " [ 9 10 11 12]]\n",
      "[54 67 80 93]\n",
      "[ 10 242  42]\n",
      "(3, 4)\n"
     ]
    }
   ],
   "source": [
    "arr_2d=np.array([[1,2,3,4],[44,55,66,77],[9,10,11,12]])\n",
    "print(arr_2d)\n",
    "print(arr_2d.sum(axis=0))\n",
    "print(arr_2d.sum(axis=1))\n",
    "print(arr_2d.shape)\n"
   ]
  },
  {
   "cell_type": "code",
   "execution_count": 70,
   "id": "a6c9419d-483e-44a2-a77c-c2e4f4e36a96",
   "metadata": {},
   "outputs": [
    {
     "name": "stdout",
     "output_type": "stream",
     "text": [
      "0    1776\n",
      "1    1876\n",
      "2    1821\n",
      "dtype: int64\n"
     ]
    }
   ],
   "source": [
    "import numpy as np\n",
    "import pandas as pd\n",
    "myindex=['USA','CANADA','England']\n",
    "mydata=[1776,1876,1821]\n",
    "myser=pd.Series(data=mydata)\n",
    "print(myser)"
   ]
  },
  {
   "cell_type": "code",
   "execution_count": 71,
   "id": "aaa3c74b-e4c6-4588-ab1b-ae54e3155e45",
   "metadata": {},
   "outputs": [
    {
     "data": {
      "text/plain": [
       "USA        1776\n",
       "CANADA     1876\n",
       "England    1821\n",
       "dtype: int64"
      ]
     },
     "execution_count": 71,
     "metadata": {},
     "output_type": "execute_result"
    }
   ],
   "source": [
    "myser=pd.Series(data=mydata,index=myindex)\n",
    "myser"
   ]
  },
  {
   "cell_type": "code",
   "execution_count": 75,
   "id": "a9297490-a816-4a0e-b383-970830f64e64",
   "metadata": {},
   "outputs": [
    {
     "name": "stdout",
     "output_type": "stream",
     "text": [
      "[72 38 17  3]\n"
     ]
    }
   ],
   "source": [
    "ran_data = np.random.randint(0,100,4)\n",
    "print(ran_data)"
   ]
  },
  {
   "cell_type": "code",
   "execution_count": 76,
   "id": "8eb02610-eed8-4fcc-896f-511d0120a9ad",
   "metadata": {},
   "outputs": [
    {
     "name": "stdout",
     "output_type": "stream",
     "text": [
      "Alice      72\n",
      "Bob        38\n",
      "Charles    17\n",
      "Dave        3\n",
      "dtype: int32\n"
     ]
    }
   ],
   "source": [
    "names=[\"Alice\",\"Bob\",\"Charles\",\"Dave\"]\n",
    "ages=pd.Series(ran_data,names)\n",
    "print(ages)"
   ]
  },
  {
   "cell_type": "code",
   "execution_count": 77,
   "id": "ef34a08c-3a27-40fb-a5a1-f647abff3b92",
   "metadata": {},
   "outputs": [
    {
     "name": "stdout",
     "output_type": "stream",
     "text": [
      "{'Sammy': 5, 'Frank': 10, 'Spike': 7}\n",
      "Sammy     5\n",
      "Frank    10\n",
      "Spike     7\n",
      "dtype: int64\n"
     ]
    }
   ],
   "source": [
    "ages={\"Sammy\":5,\"Frank\":10,\"Spike\":7}\n",
    "print(ages)\n",
    "print(pd.Series(ages))"
   ]
  },
  {
   "cell_type": "code",
   "execution_count": 79,
   "id": "2d4fdeb4-9abf-400d-9175-780be6cf0909",
   "metadata": {},
   "outputs": [
    {
     "name": "stdout",
     "output_type": "stream",
     "text": [
      "Japan     80\n",
      "China    450\n",
      "India    200\n",
      "USA      250\n",
      "dtype: int64\n",
      "Brazil    100\n",
      "China     550\n",
      "India     210\n",
      "USA       260\n",
      "dtype: int64\n"
     ]
    }
   ],
   "source": [
    "q1={\"Japan\":80,\"China\":450,\"India\":200,\"USA\":250}\n",
    "q2={\"Brazil\":100,\"China\":550,\"India\":210,\"USA\":260}\n",
    "sales_Q1=pd.Series(q1)\n",
    "sales_Q2=pd.Series(q2)\n",
    "print(sales_Q1)\n",
    "print(sales_Q2)"
   ]
  },
  {
   "cell_type": "code",
   "execution_count": 84,
   "id": "cb0f86f2-0d9c-448e-8ee8-6815655d8928",
   "metadata": {},
   "outputs": [
    {
     "name": "stdout",
     "output_type": "stream",
     "text": [
      "80\n"
     ]
    }
   ],
   "source": [
    "print(sales_Q1[\"Japan\"])\n",
    "#print(sales_Q1[0])\n",
    "#print(sales_Q1[\"France\"]) error\n",
    "#print(sales_Q1[\"Japan \"]) error"
   ]
  },
  {
   "cell_type": "code",
   "execution_count": 86,
   "id": "baebc930-2645-47db-abea-02820d1dcd96",
   "metadata": {},
   "outputs": [
    {
     "name": "stdout",
     "output_type": "stream",
     "text": [
      "Index(['Japan', 'China', 'India', 'USA'], dtype='object')\n",
      "Japan    0.8\n",
      "China    4.5\n",
      "India    2.0\n",
      "USA      2.5\n",
      "dtype: float64\n",
      "Japan    160\n",
      "China    900\n",
      "India    400\n",
      "USA      500\n",
      "dtype: int64\n"
     ]
    }
   ],
   "source": [
    "print(sales_Q1.keys())\n",
    "print(sales_Q1/100)\n",
    "print(sales_Q1*2)"
   ]
  },
  {
   "cell_type": "code",
   "execution_count": 87,
   "id": "a38d47d5-9d8a-4be7-99a5-ec9341a9cfbb",
   "metadata": {},
   "outputs": [
    {
     "name": "stdout",
     "output_type": "stream",
     "text": [
      "Brazil       NaN\n",
      "China     1000.0\n",
      "India      410.0\n",
      "Japan        NaN\n",
      "USA        510.0\n",
      "dtype: float64\n"
     ]
    }
   ],
   "source": [
    "print(sales_Q1+sales_Q2)"
   ]
  },
  {
   "cell_type": "code",
   "execution_count": 88,
   "id": "2dd65d90-ce1a-4735-b5c3-2e5e61e351db",
   "metadata": {},
   "outputs": [
    {
     "name": "stdout",
     "output_type": "stream",
     "text": [
      "Brazil     100.0\n",
      "China     1000.0\n",
      "India      410.0\n",
      "Japan       80.0\n",
      "USA        510.0\n",
      "dtype: float64\n"
     ]
    }
   ],
   "source": [
    "print(sales_Q1.add(sales_Q2,fill_value=0))"
   ]
  },
  {
   "cell_type": "code",
   "execution_count": null,
   "id": "b65f2b68-575f-4e53-9ee1-17d7987a0535",
   "metadata": {},
   "outputs": [],
   "source": [
    "      "
   ]
  }
 ],
 "metadata": {
  "kernelspec": {
   "display_name": "Python 3 (ipykernel)",
   "language": "python",
   "name": "python3"
  },
  "language_info": {
   "codemirror_mode": {
    "name": "ipython",
    "version": 3
   },
   "file_extension": ".py",
   "mimetype": "text/x-python",
   "name": "python",
   "nbconvert_exporter": "python",
   "pygments_lexer": "ipython3",
   "version": "3.11.7"
  }
 },
 "nbformat": 4,
 "nbformat_minor": 5
}
