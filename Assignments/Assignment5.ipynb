{
 "cells": [
  {
   "cell_type": "markdown",
   "id": "1bd28ee6-eb75-4894-9a5b-86c7384d5a4b",
   "metadata": {},
   "source": [
    "# Pandas Handling Missing Values"
   ]
  },
  {
   "cell_type": "code",
   "execution_count": 2,
   "id": "ee1ff566-56e0-4eeb-afef-6319f57e5e58",
   "metadata": {},
   "outputs": [],
   "source": [
    "import pandas as pd\n",
    "import numpy as np\n",
    "import seaborn as sns\n",
    "import matplotlib.pyplot as plt\n"
   ]
  },
  {
   "cell_type": "markdown",
   "id": "222a6c4f-20a3-4647-b5c2-24bc5e452c61",
   "metadata": {},
   "source": [
    "#### 1. Write a Pandas program to detect missing values of a given DataFrame. Display True or False. "
   ]
  },
  {
   "cell_type": "code",
   "execution_count": 6,
   "id": "335f2679-f75c-4d63-9def-732c3a1d61b3",
   "metadata": {},
   "outputs": [
    {
     "name": "stdout",
     "output_type": "stream",
     "text": [
      "Original Orders DataFrame:\n",
      "     ord_no  purch_amt    ord_date  customer_id  salesman_id\n",
      "0   70001.0     150.50  2012-10-05         3002       5002.0\n",
      "1       NaN     270.65  2012-09-10         3001       5003.0\n",
      "2   70002.0      65.26         NaN         3001       5001.0\n",
      "3   70004.0     110.50  2012-08-17         3003          NaN\n",
      "4       NaN     948.50  2012-09-10         3002       5002.0\n",
      "5   70005.0    2400.60  2012-07-27         3001       5001.0\n",
      "6       NaN    5760.00  2012-09-10         3001       5001.0\n",
      "7   70010.0    1983.43  2012-10-10         3004          NaN\n",
      "8   70003.0    2480.40  2012-10-10         3003       5003.0\n",
      "9   70012.0     250.45  2012-06-27         3002       5002.0\n",
      "10      NaN      75.29  2012-08-17         3001       5003.0\n",
      "11  70013.0    3045.60  2012-04-25         3001          NaN\n",
      "\n",
      "Missing values of the said dataframe:\n",
      "    ord_no  purch_amt  ord_date  customer_id  salesman_id\n",
      "0    False      False     False        False        False\n",
      "1     True      False     False        False        False\n",
      "2    False      False      True        False        False\n",
      "3    False      False     False        False         True\n",
      "4     True      False     False        False        False\n",
      "5    False      False     False        False        False\n",
      "6     True      False     False        False        False\n",
      "7    False      False     False        False         True\n",
      "8    False      False     False        False        False\n",
      "9    False      False     False        False        False\n",
      "10    True      False     False        False        False\n",
      "11   False      False     False        False         True\n"
     ]
    }
   ],
   "source": [
    "pd.set_option('display.max_rows', None)\n",
    "df = pd.DataFrame({\n",
    "'ord_no':[70001,np.nan,70002,70004,np.nan,70005,np.nan,70010,70003,70012,np.nan,70013],\n",
    "'purch_amt':[150.5,270.65,65.26,110.5,948.5,2400.6,5760,1983.43,2480.4,250.45, 75.29,3045.6],\n",
    "'ord_date': ['2012-10-05','2012-09-10',np.nan,'2012-08-17','2012-09-10','2012-07-27','2012-09-10','2012-10-10','2012-10-10','2012-06-27','2012-08-17','2012-04-25'],\n",
    "'customer_id':[3002,3001,3001,3003,3002,3001,3001,3004,3003,3002,3001,3001],\n",
    "'salesman_id':[5002,5003,5001,np.nan,5002,5001,5001,np.nan,5003,5002,5003,np.nan]})\n",
    "print(\"Original Orders DataFrame:\")\n",
    "print(df)\n",
    "print(\"\\nMissing values of the said dataframe:\")\n",
    "print(df.isna())\n"
   ]
  },
  {
   "cell_type": "markdown",
   "id": "56371bdd-8813-4d5c-b467-18e1513a14d9",
   "metadata": {},
   "source": [
    "#### 2. Write a Pandas program to identify the column(s) of a given DataFrame which have at least one missing value."
   ]
  },
  {
   "cell_type": "code",
   "execution_count": 3,
   "id": "6c98260b-0d76-4dbf-8080-0747db19f5f5",
   "metadata": {},
   "outputs": [
    {
     "name": "stdout",
     "output_type": "stream",
     "text": [
      "Original Orders DataFrame:\n",
      "     ord_no  purch_amt    ord_date  customer_id  salesman_id\n",
      "0   70001.0     150.50  2012-10-05         3002       5002.0\n",
      "1       NaN     270.65  2012-09-10         3001       5003.0\n",
      "2   70002.0      65.26         NaN         3001       5001.0\n",
      "3   70004.0     110.50  2012-08-17         3003          NaN\n",
      "4       NaN     948.50  2012-09-10         3002       5002.0\n",
      "5   70005.0    2400.60  2012-07-27         3001       5001.0\n",
      "6       NaN    5760.00  2012-09-10         3001       5001.0\n",
      "7   70010.0    1983.43  2012-10-10         3004          NaN\n",
      "8   70003.0    2480.40  2012-10-10         3003       5003.0\n",
      "9   70012.0     250.45  2012-06-27         3002       5002.0\n",
      "10      NaN      75.29  2012-08-17         3001       5003.0\n",
      "11  70013.0    3045.60  2012-04-25         3001          NaN\n",
      "\n",
      "Identify the columns which have at least one missing value:\n",
      "ord_no          True\n",
      "purch_amt      False\n",
      "ord_date        True\n",
      "customer_id    False\n",
      "salesman_id     True\n",
      "dtype: bool\n"
     ]
    }
   ],
   "source": [
    "pd.set_option('display.max_rows', None)\n",
    "df = pd.DataFrame({\n",
    "'ord_no':[70001,np.nan,70002,70004,np.nan,70005,np.nan,70010,70003,70012,np.nan,70013],\n",
    "'purch_amt':[150.5,270.65,65.26,110.5,948.5,2400.6,5760,1983.43,2480.4,250.45, 75.29,3045.6],\n",
    "'ord_date': ['2012-10-05','2012-09-10',np.nan,'2012-08-17','2012-09-10','2012-07-27','2012-09-10','2012-10-10','2012-10-10','2012-06-27','2012-08-17','2012-04-25'],\n",
    "'customer_id':[3002,3001,3001,3003,3002,3001,3001,3004,3003,3002,3001,3001],\n",
    "'salesman_id':[5002,5003,5001,np.nan,5002,5001,5001,np.nan,5003,5002,5003,np.nan]})\n",
    "print(\"Original Orders DataFrame:\")\n",
    "print(df)\n",
    "print(\"\\nIdentify the columns which have at least one missing value:\")\n",
    "print(df.isna().any())\n"
   ]
  },
  {
   "cell_type": "markdown",
   "id": "ad3a21e2-bae5-4c8b-9b39-fdca7ddde5b7",
   "metadata": {},
   "source": [
    "#### 3. Write a Pandas program to count the number of missing values in each column of a given DataFrame."
   ]
  },
  {
   "cell_type": "code",
   "execution_count": 4,
   "id": "ca3fd7cf-60da-4792-967b-9f61a1b0ced7",
   "metadata": {},
   "outputs": [
    {
     "name": "stdout",
     "output_type": "stream",
     "text": [
      "Original Orders DataFrame:\n",
      "     ord_no  purch_amt    ord_date  customer_id  salesman_id\n",
      "0   70001.0     150.50  2012-10-05         3002       5002.0\n",
      "1       NaN     270.65  2012-09-10         3001       5003.0\n",
      "2   70002.0      65.26         NaN         3001       5001.0\n",
      "3   70004.0     110.50  2012-08-17         3003          NaN\n",
      "4       NaN     948.50  2012-09-10         3002       5002.0\n",
      "5   70005.0    2400.60  2012-07-27         3001       5001.0\n",
      "6       NaN    5760.00  2012-09-10         3001       5001.0\n",
      "7   70010.0    1983.43  2012-10-10         3004          NaN\n",
      "8   70003.0    2480.40  2012-10-10         3003       5003.0\n",
      "9   70012.0     250.45  2012-06-27         3002       5002.0\n",
      "10      NaN      75.29  2012-08-17         3001       5003.0\n",
      "11  70013.0    3045.60  2012-04-25         3001          NaN\n",
      "\n",
      "Number of missing values of the said dataframe:\n",
      "ord_no         4\n",
      "purch_amt      0\n",
      "ord_date       1\n",
      "customer_id    0\n",
      "salesman_id    3\n",
      "dtype: int64\n"
     ]
    }
   ],
   "source": [
    "pd.set_option('display.max_rows', None)\n",
    "df = pd.DataFrame({\n",
    "'ord_no':[70001,np.nan,70002,70004,np.nan,70005,np.nan,70010,70003,70012,np.nan,70013],\n",
    "'purch_amt':[150.5,270.65,65.26,110.5,948.5,2400.6,5760,1983.43,2480.4,250.45, 75.29,3045.6],\n",
    "'ord_date': ['2012-10-05','2012-09-10',np.nan,'2012-08-17','2012-09-10','2012-07-27','2012-09-10','2012-10-10','2012-10-10','2012-06-27','2012-08-17','2012-04-25'],\n",
    "'customer_id':[3002,3001,3001,3003,3002,3001,3001,3004,3003,3002,3001,3001],\n",
    "'salesman_id':[5002,5003,5001,np.nan,5002,5001,5001,np.nan,5003,5002,5003,np.nan]})\n",
    "print(\"Original Orders DataFrame:\")\n",
    "print(df)\n",
    "print(\"\\nNumber of missing values of the said dataframe:\")\n",
    "print(df.isna().sum())\n"
   ]
  },
  {
   "cell_type": "markdown",
   "id": "a3c9741d-ad7c-4c10-8102-d0083386687d",
   "metadata": {},
   "source": [
    "#### 4. Write a Pandas program to find and replace the missing values in a given DataFrame which do not have any valuable information."
   ]
  },
  {
   "cell_type": "code",
   "execution_count": 5,
   "id": "7d85259c-7801-4e92-8679-edede3c5e283",
   "metadata": {},
   "outputs": [
    {
     "name": "stdout",
     "output_type": "stream",
     "text": [
      "Original Orders DataFrame:\n",
      "   ord_no purch_amt    ord_date customer_id salesman_id\n",
      "0   70001     150.5           ?        3002        5002\n",
      "1     NaN    270.65  2012-09-10        3001        5003\n",
      "2   70002     65.26         NaN        3001           ?\n",
      "3   70004     110.5  2012-08-17        3003        5001\n",
      "4     NaN     948.5  2012-09-10        3002         NaN\n",
      "5   70005    2400.6  2012-07-27        3001        5002\n",
      "6      --      5760  2012-09-10        3001        5001\n",
      "7   70010         ?  2012-10-10        3004           ?\n",
      "8   70003     12.43  2012-10-10          --        5003\n",
      "9   70012    2480.4  2012-06-27        3002        5002\n",
      "10    NaN    250.45  2012-08-17        3001        5003\n",
      "11  70013    3045.6  2012-04-25        3001          --\n",
      "\n",
      "Replace the missing values with NaN:\n",
      "     ord_no  purch_amt    ord_date  customer_id  salesman_id\n",
      "0   70001.0     150.50         NaN       3002.0       5002.0\n",
      "1       NaN     270.65  2012-09-10       3001.0       5003.0\n",
      "2   70002.0      65.26         NaN       3001.0          NaN\n",
      "3   70004.0     110.50  2012-08-17       3003.0       5001.0\n",
      "4       NaN     948.50  2012-09-10       3002.0          NaN\n",
      "5   70005.0    2400.60  2012-07-27       3001.0       5002.0\n",
      "6       NaN    5760.00  2012-09-10       3001.0       5001.0\n",
      "7   70010.0        NaN  2012-10-10       3004.0          NaN\n",
      "8   70003.0      12.43  2012-10-10          NaN       5003.0\n",
      "9   70012.0    2480.40  2012-06-27       3002.0       5002.0\n",
      "10      NaN     250.45  2012-08-17       3001.0       5003.0\n",
      "11  70013.0    3045.60  2012-04-25       3001.0          NaN\n"
     ]
    }
   ],
   "source": [
    "pd.set_option('display.max_rows', None)\n",
    "df = pd.DataFrame({\n",
    "'ord_no':[70001,np.nan,70002,70004,np.nan,70005,\"--\",70010,70003,70012,np.nan,70013],\n",
    "'purch_amt':[150.5,270.65,65.26,110.5,948.5,2400.6,5760,\"?\",12.43,2480.4,250.45, 3045.6],\n",
    "'ord_date': ['?','2012-09-10',np.nan,'2012-08-17','2012-09-10','2012-07-27','2012-09-10','2012-10-10','2012-10-10','2012-06-27','2012-08-17','2012-04-25'],\n",
    "'customer_id':[3002,3001,3001,3003,3002,3001,3001,3004,\"--\",3002,3001,3001],\n",
    "'salesman_id':[5002,5003,\"?\",5001,np.nan,5002,5001,\"?\",5003,5002,5003,\"--\"]})\n",
    "print(\"Original Orders DataFrame:\")\n",
    "print(df)\n",
    "print(\"\\nReplace the missing values with NaN:\")\n",
    "result = df.replace({\"?\": np.nan, \"--\": np.nan})\n",
    "print(result)\n"
   ]
  },
  {
   "cell_type": "markdown",
   "id": "0bceacfd-b39c-478c-99a9-8a1570259654",
   "metadata": {},
   "source": [
    "#### 5. Write a Pandas program to drop the rows where at least one element is missing in a given DataFrame."
   ]
  },
  {
   "cell_type": "code",
   "execution_count": 6,
   "id": "28653aa2-0380-46a7-80f7-f914203d96a7",
   "metadata": {},
   "outputs": [
    {
     "name": "stdout",
     "output_type": "stream",
     "text": [
      "Original Orders DataFrame:\n",
      "     ord_no  purch_amt    ord_date  customer_id  salesman_id\n",
      "0   70001.0     150.50  2012-10-05         3002       5002.0\n",
      "1       NaN     270.65  2012-09-10         3001       5003.0\n",
      "2   70002.0      65.26         NaN         3001       5001.0\n",
      "3   70004.0     110.50  2012-08-17         3003          NaN\n",
      "4       NaN     948.50  2012-09-10         3002       5002.0\n",
      "5   70005.0    2400.60  2012-07-27         3001       5001.0\n",
      "6       NaN    5760.00  2012-09-10         3001       5001.0\n",
      "7   70010.0    1983.43  2012-10-10         3004          NaN\n",
      "8   70003.0    2480.40  2012-10-10         3003       5003.0\n",
      "9   70012.0     250.45  2012-06-27         3002       5002.0\n",
      "10      NaN      75.29  2012-08-17         3001       5003.0\n",
      "11  70013.0    3045.60  2012-04-25         3001          NaN\n",
      "\n",
      "Drop the rows where at least one element is missing:\n",
      "    ord_no  purch_amt    ord_date  customer_id  salesman_id\n",
      "0  70001.0     150.50  2012-10-05         3002       5002.0\n",
      "5  70005.0    2400.60  2012-07-27         3001       5001.0\n",
      "8  70003.0    2480.40  2012-10-10         3003       5003.0\n",
      "9  70012.0     250.45  2012-06-27         3002       5002.0\n"
     ]
    }
   ],
   "source": [
    "pd.set_option('display.max_rows', None)\n",
    "df = pd.DataFrame({\n",
    "'ord_no':[70001,np.nan,70002,70004,np.nan,70005,np.nan,70010,70003,70012,np.nan,70013],\n",
    "'purch_amt':[150.5,270.65,65.26,110.5,948.5,2400.6,5760,1983.43,2480.4,250.45, 75.29,3045.6],\n",
    "'ord_date': ['2012-10-05','2012-09-10',np.nan,'2012-08-17','2012-09-10','2012-07-27','2012-09-10','2012-10-10','2012-10-10','2012-06-27','2012-08-17','2012-04-25'],\n",
    "'customer_id':[3002,3001,3001,3003,3002,3001,3001,3004,3003,3002,3001,3001],\n",
    "'salesman_id':[5002,5003,5001,np.nan,5002,5001,5001,np.nan,5003,5002,5003,np.nan]})\n",
    "\n",
    "print(\"Original Orders DataFrame:\")\n",
    "print(df)\n",
    "print(\"\\nDrop the rows where at least one element is missing:\")\n",
    "result = df.dropna()\n",
    "print(result)\n"
   ]
  },
  {
   "cell_type": "markdown",
   "id": "a09161db-c6f8-4844-b4b8-8505b52bb6a8",
   "metadata": {},
   "source": [
    "#### 6. Write a Pandas program to drop the columns where at least one element is missing in a given DataFrame."
   ]
  },
  {
   "cell_type": "code",
   "execution_count": 7,
   "id": "0ec6c91b-ae4c-414c-8536-d98c684bfd20",
   "metadata": {},
   "outputs": [
    {
     "name": "stdout",
     "output_type": "stream",
     "text": [
      "Original Orders DataFrame:\n",
      "     ord_no  purch_amt    ord_date  customer_id  salesman_id\n",
      "0   70001.0     150.50  2012-10-05         3002       5002.0\n",
      "1       NaN     270.65  2012-09-10         3001       5003.0\n",
      "2   70002.0      65.26         NaN         3001       5001.0\n",
      "3   70004.0     110.50  2012-08-17         3003          NaN\n",
      "4       NaN     948.50  2012-09-10         3002       5002.0\n",
      "5   70005.0    2400.60  2012-07-27         3001       5001.0\n",
      "6       NaN    5760.00  2012-09-10         3001       5001.0\n",
      "7   70010.0    1983.43  2012-10-10         3004          NaN\n",
      "8   70003.0    2480.40  2012-10-10         3003       5003.0\n",
      "9   70012.0     250.45  2012-06-27         3002       5002.0\n",
      "10      NaN      75.29  2012-08-17         3001       5003.0\n",
      "11  70013.0    3045.60  2012-04-25         3001          NaN\n",
      "\n",
      "Drop the columns where at least one element is missing:\n",
      "    purch_amt  customer_id\n",
      "0      150.50         3002\n",
      "1      270.65         3001\n",
      "2       65.26         3001\n",
      "3      110.50         3003\n",
      "4      948.50         3002\n",
      "5     2400.60         3001\n",
      "6     5760.00         3001\n",
      "7     1983.43         3004\n",
      "8     2480.40         3003\n",
      "9      250.45         3002\n",
      "10      75.29         3001\n",
      "11    3045.60         3001\n"
     ]
    }
   ],
   "source": [
    "pd.set_option('display.max_rows', None)\n",
    "df = pd.DataFrame({\n",
    "'ord_no':[70001,np.nan,70002,70004,np.nan,70005,np.nan,70010,70003,70012,np.nan,70013],\n",
    "'purch_amt':[150.5,270.65,65.26,110.5,948.5,2400.6,5760,1983.43,2480.4,250.45, 75.29,3045.6],\n",
    "'ord_date': ['2012-10-05','2012-09-10',np.nan,'2012-08-17','2012-09-10','2012-07-27','2012-09-10','2012-10-10','2012-10-10','2012-06-27','2012-08-17','2012-04-25'],\n",
    "'customer_id':[3002,3001,3001,3003,3002,3001,3001,3004,3003,3002,3001,3001],\n",
    "'salesman_id':[5002,5003,5001,np.nan,5002,5001,5001,np.nan,5003,5002,5003,np.nan]})\n",
    "\n",
    "print(\"Original Orders DataFrame:\")\n",
    "print(df)\n",
    "print(\"\\nDrop the columns where at least one element is missing:\")\n",
    "result = df.dropna(axis='columns')\n",
    "print(result)\n"
   ]
  },
  {
   "cell_type": "markdown",
   "id": "5693d9c7-5233-443f-862d-d63b8970f6ef",
   "metadata": {},
   "source": [
    "#### 7. Write a Pandas program to drop the rows where all elements are missing in a given DataFrame."
   ]
  },
  {
   "cell_type": "code",
   "execution_count": 9,
   "id": "28dbd1ba-a167-4497-ad72-524d563ee7f1",
   "metadata": {},
   "outputs": [
    {
     "name": "stdout",
     "output_type": "stream",
     "text": [
      "Original Orders DataFrame:\n",
      "     ord_no  purch_amt    ord_date  customer_id\n",
      "0       NaN        NaN         NaN          NaN\n",
      "1       NaN     270.65  2012-09-10       3001.0\n",
      "2   70002.0      65.26         NaN       3001.0\n",
      "3   70004.0     110.50  2012-08-17       3003.0\n",
      "4       NaN     948.50  2012-09-10       3002.0\n",
      "5   70005.0    2400.60  2012-07-27       3001.0\n",
      "6       NaN    5760.00  2012-09-10       3001.0\n",
      "7   70010.0    1983.43  2012-10-10       3004.0\n",
      "8   70003.0    2480.40  2012-10-10       3003.0\n",
      "9   70012.0     250.45  2012-06-27       3002.0\n",
      "10      NaN      75.29  2012-08-17       3001.0\n",
      "11  70013.0    3045.60  2012-04-25       3001.0\n",
      "\n",
      "Drop the rows where all elements are missing:\n",
      "     ord_no  purch_amt    ord_date  customer_id\n",
      "1       NaN     270.65  2012-09-10       3001.0\n",
      "2   70002.0      65.26         NaN       3001.0\n",
      "3   70004.0     110.50  2012-08-17       3003.0\n",
      "4       NaN     948.50  2012-09-10       3002.0\n",
      "5   70005.0    2400.60  2012-07-27       3001.0\n",
      "6       NaN    5760.00  2012-09-10       3001.0\n",
      "7   70010.0    1983.43  2012-10-10       3004.0\n",
      "8   70003.0    2480.40  2012-10-10       3003.0\n",
      "9   70012.0     250.45  2012-06-27       3002.0\n",
      "10      NaN      75.29  2012-08-17       3001.0\n",
      "11  70013.0    3045.60  2012-04-25       3001.0\n"
     ]
    }
   ],
   "source": [
    "pd.set_option('display.max_rows', None)\n",
    "df = pd.DataFrame({\n",
    "'ord_no':[np.nan,np.nan,70002,70004,np.nan,70005,np.nan,70010,70003,70012,np.nan,70013],\n",
    "'purch_amt':[np.nan,270.65,65.26,110.5,948.5,2400.6,5760,1983.43,2480.4,250.45, 75.29,3045.6],\n",
    "'ord_date': [np.nan,'2012-09-10',np.nan,'2012-08-17','2012-09-10','2012-07-27','2012-09-10','2012-10-10','2012-10-10','2012-06-27','2012-08-17','2012-04-25'],\n",
    "'customer_id':[np.nan,3001,3001,3003,3002,3001,3001,3004,3003,3002,3001,3001]})\n",
    "\n",
    "print(\"Original Orders DataFrame:\")\n",
    "print(df)\n",
    "print(\"\\nDrop the rows where all elements are missing:\")\n",
    "result = df.dropna(how='all')\n",
    "print(result)\n"
   ]
  },
  {
   "cell_type": "markdown",
   "id": "bdcaed47-9d18-4e59-9f84-061227a0414d",
   "metadata": {},
   "source": [
    "#### 8. Write a Pandas program to keep the rows with at least 2 NaN values in a given DataFrame."
   ]
  },
  {
   "cell_type": "code",
   "execution_count": 10,
   "id": "120072c7-dd57-473d-803f-00a6d0e27752",
   "metadata": {},
   "outputs": [
    {
     "name": "stdout",
     "output_type": "stream",
     "text": [
      "Original Orders DataFrame:\n",
      "     ord_no  purch_amt    ord_date  customer_id\n",
      "0       NaN        NaN         NaN          NaN\n",
      "1       NaN     270.65  2012-09-10       3001.0\n",
      "2   70002.0      65.26         NaN       3001.0\n",
      "3       NaN        NaN         NaN          NaN\n",
      "4       NaN     948.50  2012-09-10       3002.0\n",
      "5   70005.0    2400.60  2012-07-27       3001.0\n",
      "6       NaN    5760.00  2012-09-10       3001.0\n",
      "7   70010.0    1983.43  2012-10-10       3004.0\n",
      "8   70003.0    2480.40  2012-10-10       3003.0\n",
      "9   70012.0     250.45  2012-06-27       3002.0\n",
      "10      NaN      75.29  2012-08-17       3001.0\n",
      "11      NaN        NaN         NaN          NaN\n",
      "\n",
      "Keep the rows with at least 2 NaN values of the said DataFrame:\n",
      "     ord_no  purch_amt    ord_date  customer_id\n",
      "1       NaN     270.65  2012-09-10       3001.0\n",
      "2   70002.0      65.26         NaN       3001.0\n",
      "4       NaN     948.50  2012-09-10       3002.0\n",
      "5   70005.0    2400.60  2012-07-27       3001.0\n",
      "6       NaN    5760.00  2012-09-10       3001.0\n",
      "7   70010.0    1983.43  2012-10-10       3004.0\n",
      "8   70003.0    2480.40  2012-10-10       3003.0\n",
      "9   70012.0     250.45  2012-06-27       3002.0\n",
      "10      NaN      75.29  2012-08-17       3001.0\n"
     ]
    }
   ],
   "source": [
    "pd.set_option('display.max_rows', None)\n",
    "#pd.set_option('display.max_columns', None)\n",
    "df = pd.DataFrame({\n",
    "'ord_no':[np.nan,np.nan,70002,np.nan,np.nan,70005,np.nan,70010,70003,70012,np.nan,np.nan],\n",
    "'purch_amt':[np.nan,270.65,65.26,np.nan,948.5,2400.6,5760,1983.43,2480.4,250.45, 75.29,np.nan],\n",
    "'ord_date': [np.nan,'2012-09-10',np.nan,np.nan,'2012-09-10','2012-07-27','2012-09-10','2012-10-10','2012-10-10','2012-06-27','2012-08-17',np.nan],\n",
    "'customer_id':[np.nan,3001,3001,np.nan,3002,3001,3001,3004,3003,3002,3001,np.nan]})\n",
    "print(\"Original Orders DataFrame:\")\n",
    "print(df)\n",
    "print(\"\\nKeep the rows with at least 2 NaN values of the said DataFrame:\")\n",
    "result = df.dropna(thresh=2)\n",
    "print(result)\n"
   ]
  },
  {
   "cell_type": "markdown",
   "id": "abea1085-30be-43a2-9e08-e72bc835c56c",
   "metadata": {},
   "source": [
    "#### 9. Write a Pandas program to drop those rows from a given DataFrame in which specific columns have missing values."
   ]
  },
  {
   "cell_type": "code",
   "execution_count": 11,
   "id": "8e347471-07e8-4e20-bfd5-57278c6ee93a",
   "metadata": {},
   "outputs": [
    {
     "name": "stdout",
     "output_type": "stream",
     "text": [
      "Original Orders DataFrame:\n",
      "     ord_no  purch_amt    ord_date  customer_id\n",
      "0       NaN        NaN         NaN          NaN\n",
      "1       NaN     270.65  2012-09-10       3001.0\n",
      "2   70002.0      65.26         NaN       3001.0\n",
      "3       NaN        NaN         NaN          NaN\n",
      "4       NaN     948.50  2012-09-10       3002.0\n",
      "5   70005.0    2400.60  2012-07-27       3001.0\n",
      "6       NaN    5760.00  2012-09-10       3001.0\n",
      "7   70010.0    1983.43  2012-10-10       3004.0\n",
      "8   70003.0    2480.40  2012-10-10       3003.0\n",
      "9   70012.0     250.45  2012-06-27       3002.0\n",
      "10      NaN      75.29  2012-08-17       3001.0\n",
      "11      NaN        NaN         NaN          NaN\n",
      "\n",
      "Drop those rows in which specific columns have missing values:\n",
      "    ord_no  purch_amt    ord_date  customer_id\n",
      "2  70002.0      65.26         NaN       3001.0\n",
      "5  70005.0    2400.60  2012-07-27       3001.0\n",
      "7  70010.0    1983.43  2012-10-10       3004.0\n",
      "8  70003.0    2480.40  2012-10-10       3003.0\n",
      "9  70012.0     250.45  2012-06-27       3002.0\n"
     ]
    }
   ],
   "source": [
    "pd.set_option('display.max_rows', None)\n",
    "#pd.set_option('display.max_columns', None)\n",
    "df = pd.DataFrame({\n",
    "'ord_no':[np.nan,np.nan,70002,np.nan,np.nan,70005,np.nan,70010,70003,70012,np.nan,np.nan],\n",
    "'purch_amt':[np.nan,270.65,65.26,np.nan,948.5,2400.6,5760,1983.43,2480.4,250.45, 75.29,np.nan],\n",
    "'ord_date': [np.nan,'2012-09-10',np.nan,np.nan,'2012-09-10','2012-07-27','2012-09-10','2012-10-10','2012-10-10','2012-06-27','2012-08-17',np.nan],\n",
    "'customer_id':[np.nan,3001,3001,np.nan,3002,3001,3001,3004,3003,3002,3001,np.nan]})\n",
    "print(\"Original Orders DataFrame:\")\n",
    "print(df)\n",
    "print(\"\\nDrop those rows in which specific columns have missing values:\")\n",
    "result = df.dropna(subset=['ord_no', 'customer_id'])\n",
    "print(result)\n"
   ]
  },
  {
   "cell_type": "markdown",
   "id": "291cbe7e-7ac8-4c11-9804-71293f2d8e7c",
   "metadata": {},
   "source": [
    "#### 10. Write a Pandas program to keep the valid entries of a given DataFrame."
   ]
  },
  {
   "cell_type": "code",
   "execution_count": 12,
   "id": "e25beb5f-8731-4904-abe6-f7f92a40ecc8",
   "metadata": {},
   "outputs": [
    {
     "name": "stdout",
     "output_type": "stream",
     "text": [
      "Original Orders DataFrame:\n",
      "     ord_no  purch_amt    ord_date  customer_id\n",
      "0       NaN        NaN         NaN          NaN\n",
      "1       NaN     270.65  2012-09-10       3001.0\n",
      "2   70002.0      65.26         NaN       3001.0\n",
      "3       NaN        NaN         NaN          NaN\n",
      "4       NaN     948.50  2012-09-10       3002.0\n",
      "5   70005.0    2400.60  2012-07-27       3001.0\n",
      "6       NaN    5760.00  2012-09-10       3001.0\n",
      "7   70010.0    1983.43  2012-10-10       3004.0\n",
      "8   70003.0    2480.40  2012-10-10       3003.0\n",
      "9   70012.0     250.45  2012-06-27       3002.0\n",
      "10      NaN      75.29  2012-08-17       3001.0\n",
      "11      NaN        NaN         NaN          NaN\n",
      "\n",
      "Keep the said DataFrame with valid entries:\n",
      "    ord_no  purch_amt    ord_date  customer_id\n",
      "5  70005.0    2400.60  2012-07-27       3001.0\n",
      "7  70010.0    1983.43  2012-10-10       3004.0\n",
      "8  70003.0    2480.40  2012-10-10       3003.0\n",
      "9  70012.0     250.45  2012-06-27       3002.0\n"
     ]
    }
   ],
   "source": [
    "pd.set_option('display.max_rows', None)\n",
    "#pd.set_option('display.max_columns', None)\n",
    "df = pd.DataFrame({\n",
    "'ord_no':[np.nan,np.nan,70002,np.nan,np.nan,70005,np.nan,70010,70003,70012,np.nan,np.nan],\n",
    "'purch_amt':[np.nan,270.65,65.26,np.nan,948.5,2400.6,5760,1983.43,2480.4,250.45, 75.29,np.nan],\n",
    "'ord_date': [np.nan,'2012-09-10',np.nan,np.nan,'2012-09-10','2012-07-27','2012-09-10','2012-10-10','2012-10-10','2012-06-27','2012-08-17',np.nan],\n",
    "'customer_id':[np.nan,3001,3001,np.nan,3002,3001,3001,3004,3003,3002,3001,np.nan]})\n",
    "print(\"Original Orders DataFrame:\")\n",
    "print(df)\n",
    "print(\"\\nKeep the said DataFrame with valid entries:\")\n",
    "result = df.dropna(inplace=False)\n",
    "print(result)\n"
   ]
  },
  {
   "cell_type": "markdown",
   "id": "ac6d21ab-1a81-45e0-b299-64c2fb5f20e2",
   "metadata": {},
   "source": [
    "#### 11. Write a Pandas program to calculate the total number of missing values in a DataFrame."
   ]
  },
  {
   "cell_type": "code",
   "execution_count": 13,
   "id": "2e647312-32d7-4ee7-91bd-c1c093b1c760",
   "metadata": {},
   "outputs": [
    {
     "name": "stdout",
     "output_type": "stream",
     "text": [
      "Original Orders DataFrame:\n",
      "     ord_no  purch_amt    ord_date  customer_id\n",
      "0       NaN        NaN         NaN          NaN\n",
      "1       NaN     270.65  2012-09-10       3001.0\n",
      "2   70002.0      65.26         NaN       3001.0\n",
      "3       NaN        NaN         NaN          NaN\n",
      "4       NaN     948.50  2012-09-10       3002.0\n",
      "5   70005.0    2400.60  2012-07-27       3001.0\n",
      "6       NaN    5760.00  2012-09-10       3001.0\n",
      "7   70010.0    1983.43  2012-10-10       3004.0\n",
      "8   70003.0    2480.40  2012-10-10       3003.0\n",
      "9   70012.0     250.45  2012-06-27       3002.0\n",
      "10      NaN      75.29  2012-08-17       3001.0\n",
      "11      NaN        NaN         NaN          NaN\n",
      "\n",
      "Total number of missing values of the said DataFrame:\n",
      "17\n"
     ]
    }
   ],
   "source": [
    "pd.set_option('display.max_rows', None)\n",
    "df = pd.DataFrame({\n",
    "'ord_no':[np.nan,np.nan,70002,np.nan,np.nan,70005,np.nan,70010,70003,70012,np.nan,np.nan],\n",
    "'purch_amt':[np.nan,270.65,65.26,np.nan,948.5,2400.6,5760,1983.43,2480.4,250.45, 75.29,np.nan],\n",
    "'ord_date': [np.nan,'2012-09-10',np.nan,np.nan,'2012-09-10','2012-07-27','2012-09-10','2012-10-10','2012-10-10','2012-06-27','2012-08-17',np.nan],\n",
    "'customer_id':[np.nan,3001,3001,np.nan,3002,3001,3001,3004,3003,3002,3001,np.nan]})\n",
    "print(\"Original Orders DataFrame:\")\n",
    "print(df)\n",
    "print(\"\\nTotal number of missing values of the said DataFrame:\")\n",
    "result = df.isna().sum().sum()\n",
    "print(result)\n"
   ]
  },
  {
   "cell_type": "markdown",
   "id": "f394da0a-84a3-4327-9e54-1723992f373c",
   "metadata": {},
   "source": [
    "#### 12. Write a Pandas program to replace NaNs with a single constant value in specified columns in a DataFrame."
   ]
  },
  {
   "cell_type": "code",
   "execution_count": 14,
   "id": "2938f521-b00d-456b-b70c-86a8a7594935",
   "metadata": {},
   "outputs": [
    {
     "name": "stdout",
     "output_type": "stream",
     "text": [
      "Original Orders DataFrame:\n",
      "     ord_no  purch_amt    ord_date  customer_id  salesman_id\n",
      "0   70001.0     150.50  2012-10-05         3002       5002.0\n",
      "1       NaN     270.65  2012-09-10         3001       5003.0\n",
      "2   70002.0      65.26         NaN         3001       5001.0\n",
      "3   70004.0     110.50  2012-08-17         3003          NaN\n",
      "4       NaN     948.50  2012-09-10         3002       5002.0\n",
      "5   70005.0    2400.60  2012-07-27         3001       5001.0\n",
      "6       NaN    5760.00  2012-09-10         3001       5001.0\n",
      "7   70010.0    1983.43  2012-10-10         3004          NaN\n",
      "8   70003.0    2480.40  2012-10-10         3003       5003.0\n",
      "9   70012.0     250.45  2012-06-27         3002       5002.0\n",
      "10      NaN      75.29  2012-08-17         3001       5003.0\n",
      "11  70013.0    3045.60  2012-04-25         3001          NaN\n",
      "\n",
      "Replace NaNs with a single constant value:\n",
      "0     70001.0\n",
      "1         0.0\n",
      "2     70002.0\n",
      "3     70004.0\n",
      "4         0.0\n",
      "5     70005.0\n",
      "6         0.0\n",
      "7     70010.0\n",
      "8     70003.0\n",
      "9     70012.0\n",
      "10        0.0\n",
      "11    70013.0\n",
      "Name: ord_no, dtype: float64\n"
     ]
    }
   ],
   "source": [
    "pd.set_option('display.max_rows', None)\n",
    "#pd.set_option('display.max_columns', None)\n",
    "df = pd.DataFrame({\n",
    "'ord_no':[70001,np.nan,70002,70004,np.nan,70005,np.nan,70010,70003,70012,np.nan,70013],\n",
    "'purch_amt':[150.5,270.65,65.26,110.5,948.5,2400.6,5760,1983.43,2480.4,250.45, 75.29,3045.6],\n",
    "'ord_date': ['2012-10-05','2012-09-10',np.nan,'2012-08-17','2012-09-10','2012-07-27','2012-09-10','2012-10-10','2012-10-10','2012-06-27','2012-08-17','2012-04-25'],\n",
    "'customer_id':[3002,3001,3001,3003,3002,3001,3001,3004,3003,3002,3001,3001],\n",
    "'salesman_id':[5002,5003,5001,np.nan,5002,5001,5001,np.nan,5003,5002,5003,np.nan]})\n",
    "print(\"Original Orders DataFrame:\")\n",
    "print(df)\n",
    "print(\"\\nReplace NaNs with a single constant value:\")\n",
    "result = df['ord_no'].fillna(0, inplace=False)\n",
    "print(result)\n"
   ]
  },
  {
   "cell_type": "markdown",
   "id": "4fda95b1-bc59-4abc-abc5-c18e106b5989",
   "metadata": {},
   "source": [
    "#### 13. Write a Pandas program to replace NaNs with the value from the previous row or the next row in a given DataFrame."
   ]
  },
  {
   "cell_type": "code",
   "execution_count": 2,
   "id": "3e9a4f05-a824-44d7-a562-349198c5aa55",
   "metadata": {},
   "outputs": [
    {
     "name": "stdout",
     "output_type": "stream",
     "text": [
      "Original Orders DataFrame:\n",
      "     ord_no  purch_amt  sale_amt    ord_date  customer_id  salesman_id\n",
      "0   70001.0     150.50     10.50  2012-10-05         3002       5002.0\n",
      "1       NaN        NaN     20.65  2012-09-10         3001       5003.0\n",
      "2   70002.0      65.26       NaN         NaN         3001       5001.0\n",
      "3   70004.0     110.50     11.50  2012-08-17         3003          NaN\n",
      "4       NaN     948.50     98.50  2012-09-10         3002       5002.0\n",
      "5   70005.0        NaN       NaN  2012-07-27         3001       5001.0\n",
      "6       NaN    5760.00     57.00  2012-09-10         3001       5001.0\n",
      "7   70010.0    1983.43     19.43  2012-10-10         3004          NaN\n",
      "8   70003.0        NaN       NaN  2012-10-10         3003       5003.0\n",
      "9   70012.0     250.45     25.45  2012-06-27         3002       5002.0\n",
      "10      NaN      75.29     75.29  2012-08-17         3001       5003.0\n",
      "11  70013.0    3045.60     35.60  2012-04-25         3001          NaN\n",
      "\n",
      "Replacing NaNs with the value from the previous row (purch_amt):\n",
      "     ord_no  purch_amt  sale_amt    ord_date  customer_id  salesman_id\n",
      "0   70001.0     150.50     10.50  2012-10-05         3002       5002.0\n",
      "1       NaN     150.50     20.65  2012-09-10         3001       5003.0\n",
      "2   70002.0      65.26       NaN         NaN         3001       5001.0\n",
      "3   70004.0     110.50     11.50  2012-08-17         3003          NaN\n",
      "4       NaN     948.50     98.50  2012-09-10         3002       5002.0\n",
      "5   70005.0     948.50       NaN  2012-07-27         3001       5001.0\n",
      "6       NaN    5760.00     57.00  2012-09-10         3001       5001.0\n",
      "7   70010.0    1983.43     19.43  2012-10-10         3004          NaN\n",
      "8   70003.0    1983.43       NaN  2012-10-10         3003       5003.0\n",
      "9   70012.0     250.45     25.45  2012-06-27         3002       5002.0\n",
      "10      NaN      75.29     75.29  2012-08-17         3001       5003.0\n",
      "11  70013.0    3045.60     35.60  2012-04-25         3001          NaN\n",
      "\n",
      "Replacing NaNs with the value from the next row (sale_amt):\n",
      "     ord_no  purch_amt  sale_amt    ord_date  customer_id  salesman_id\n",
      "0   70001.0     150.50     10.50  2012-10-05         3002       5002.0\n",
      "1       NaN     150.50     20.65  2012-09-10         3001       5003.0\n",
      "2   70002.0      65.26     11.50         NaN         3001       5001.0\n",
      "3   70004.0     110.50     11.50  2012-08-17         3003          NaN\n",
      "4       NaN     948.50     98.50  2012-09-10         3002       5002.0\n",
      "5   70005.0     948.50     57.00  2012-07-27         3001       5001.0\n",
      "6       NaN    5760.00     57.00  2012-09-10         3001       5001.0\n",
      "7   70010.0    1983.43     19.43  2012-10-10         3004          NaN\n",
      "8   70003.0    1983.43     25.45  2012-10-10         3003       5003.0\n",
      "9   70012.0     250.45     25.45  2012-06-27         3002       5002.0\n",
      "10      NaN      75.29     75.29  2012-08-17         3001       5003.0\n",
      "11  70013.0    3045.60     35.60  2012-04-25         3001          NaN\n"
     ]
    },
    {
     "name": "stderr",
     "output_type": "stream",
     "text": [
      "C:\\Users\\dai\\AppData\\Local\\Temp\\ipykernel_1420\\2052244455.py:13: FutureWarning: Series.fillna with 'method' is deprecated and will raise in a future version. Use obj.ffill() or obj.bfill() instead.\n",
      "  df['purch_amt'].fillna(method='pad', inplace=True)\n",
      "C:\\Users\\dai\\AppData\\Local\\Temp\\ipykernel_1420\\2052244455.py:16: FutureWarning: Series.fillna with 'method' is deprecated and will raise in a future version. Use obj.ffill() or obj.bfill() instead.\n",
      "  df['sale_amt'].fillna(method='bfill', inplace=True)\n"
     ]
    }
   ],
   "source": [
    "pd.set_option('display.max_rows', None)\n",
    "#pd.set_option('display.max_columns', None)\n",
    "df = pd.DataFrame({\n",
    "'ord_no':[70001,np.nan,70002,70004,np.nan,70005,np.nan,70010,70003,70012,np.nan,70013],\n",
    "'purch_amt':[150.5,np.nan,65.26,110.5,948.5,np.nan,5760,1983.43,np.nan,250.45, 75.29,3045.6],\n",
    "'sale_amt':[10.5,20.65,np.nan,11.5,98.5,np.nan,57,19.43,np.nan,25.45, 75.29,35.6],\n",
    "'ord_date': ['2012-10-05','2012-09-10',np.nan,'2012-08-17','2012-09-10','2012-07-27','2012-09-10','2012-10-10','2012-10-10','2012-06-27','2012-08-17','2012-04-25'],\n",
    "'customer_id':[3002,3001,3001,3003,3002,3001,3001,3004,3003,3002,3001,3001],\n",
    "'salesman_id':[5002,5003,5001,np.nan,5002,5001,5001,np.nan,5003,5002,5003,np.nan]})\n",
    "print(\"Original Orders DataFrame:\")\n",
    "print(df)\n",
    "print(\"\\nReplacing NaNs with the value from the previous row (purch_amt):\")\n",
    "df['purch_amt'].fillna(method='pad', inplace=True)\n",
    "print(df)\n",
    "print(\"\\nReplacing NaNs with the value from the next row (sale_amt):\")\n",
    "df['sale_amt'].fillna(method='bfill', inplace=True)\n",
    "print(df)\n"
   ]
  },
  {
   "cell_type": "markdown",
   "id": "9577dc91-0b47-4c27-b43f-22be4bbcf1db",
   "metadata": {},
   "source": [
    "#### 14. Write a Pandas program to replace NaNs with median or mean of the specified columns in a given DataFrame."
   ]
  },
  {
   "cell_type": "code",
   "execution_count": 3,
   "id": "0e47427a-69e5-49fd-a358-57de771aedbd",
   "metadata": {},
   "outputs": [
    {
     "name": "stdout",
     "output_type": "stream",
     "text": [
      "Original Orders DataFrame:\n",
      "     ord_no  purch_amt  sale_amt    ord_date  customer_id  salesman_id\n",
      "0   70001.0     150.50     10.50  2012-10-05         3002       5002.0\n",
      "1       NaN        NaN     20.65  2012-09-10         3001       5003.0\n",
      "2   70002.0      65.26       NaN         NaN         3001       5001.0\n",
      "3   70004.0     110.50     11.50  2012-08-17         3003          NaN\n",
      "4       NaN     948.50     98.50  2012-09-10         3002       5002.0\n",
      "5   70005.0        NaN       NaN  2012-07-27         3001       5001.0\n",
      "6       NaN    5760.00     57.00  2012-09-10         3001       5001.0\n",
      "7   70010.0    1983.43     19.43  2012-10-10         3004          NaN\n",
      "8   70003.0        NaN       NaN  2012-10-10         3003       5003.0\n",
      "9   70012.0     250.45     25.45  2012-06-27         3002       5002.0\n",
      "10      NaN      75.29     75.29  2012-08-17         3001       5003.0\n",
      "11  70013.0    3045.60     35.60  2012-04-25         3001          NaN\n",
      "Using median in purch_amt to replace NaN:\n",
      "     ord_no  purch_amt  sale_amt    ord_date  customer_id  salesman_id\n",
      "0   70001.0     150.50     10.50  2012-10-05         3002       5002.0\n",
      "1       NaN     250.45     20.65  2012-09-10         3001       5003.0\n",
      "2   70002.0      65.26       NaN         NaN         3001       5001.0\n",
      "3   70004.0     110.50     11.50  2012-08-17         3003          NaN\n",
      "4       NaN     948.50     98.50  2012-09-10         3002       5002.0\n",
      "5   70005.0     250.45       NaN  2012-07-27         3001       5001.0\n",
      "6       NaN    5760.00     57.00  2012-09-10         3001       5001.0\n",
      "7   70010.0    1983.43     19.43  2012-10-10         3004          NaN\n",
      "8   70003.0     250.45       NaN  2012-10-10         3003       5003.0\n",
      "9   70012.0     250.45     25.45  2012-06-27         3002       5002.0\n",
      "10      NaN      75.29     75.29  2012-08-17         3001       5003.0\n",
      "11  70013.0    3045.60     35.60  2012-04-25         3001          NaN\n",
      "Using mean to replace NaN:\n",
      "     ord_no  purch_amt  sale_amt    ord_date  customer_id  salesman_id\n",
      "0   70001.0     150.50     10.50  2012-10-05         3002       5002.0\n",
      "1       NaN     250.45     20.65  2012-09-10         3001       5003.0\n",
      "2   70002.0      65.26     39.00         NaN         3001       5001.0\n",
      "3   70004.0     110.50     11.50  2012-08-17         3003          NaN\n",
      "4       NaN     948.50     98.50  2012-09-10         3002       5002.0\n",
      "5   70005.0     250.45     39.00  2012-07-27         3001       5001.0\n",
      "6       NaN    5760.00     57.00  2012-09-10         3001       5001.0\n",
      "7   70010.0    1983.43     19.43  2012-10-10         3004          NaN\n",
      "8   70003.0     250.45     39.00  2012-10-10         3003       5003.0\n",
      "9   70012.0     250.45     25.45  2012-06-27         3002       5002.0\n",
      "10      NaN      75.29     75.29  2012-08-17         3001       5003.0\n",
      "11  70013.0    3045.60     35.60  2012-04-25         3001          NaN\n"
     ]
    }
   ],
   "source": [
    "pd.set_option('display.max_rows', None)\n",
    "#pd.set_option('display.max_columns', None)\n",
    "df = pd.DataFrame({\n",
    "'ord_no':[70001,np.nan,70002,70004,np.nan,70005,np.nan,70010,70003,70012,np.nan,70013],\n",
    "'purch_amt':[150.5,np.nan,65.26,110.5,948.5,np.nan,5760,1983.43,np.nan,250.45, 75.29,3045.6],\n",
    "'sale_amt':[10.5,20.65,np.nan,11.5,98.5,np.nan,57,19.43,np.nan,25.45, 75.29,35.6],\n",
    "'ord_date': ['2012-10-05','2012-09-10',np.nan,'2012-08-17','2012-09-10','2012-07-27','2012-09-10','2012-10-10','2012-10-10','2012-06-27','2012-08-17','2012-04-25'],\n",
    "'customer_id':[3002,3001,3001,3003,3002,3001,3001,3004,3003,3002,3001,3001],\n",
    "'salesman_id':[5002,5003,5001,np.nan,5002,5001,5001,np.nan,5003,5002,5003,np.nan]})\n",
    "print(\"Original Orders DataFrame:\")\n",
    "print(df)\n",
    "print(\"Using median in purch_amt to replace NaN:\")\n",
    "df['purch_amt'].fillna(df['purch_amt'].median(), inplace=True)\n",
    "print(df)\n",
    "print(\"Using mean to replace NaN:\")\n",
    "df['sale_amt'].fillna(int(df['sale_amt'].mean()), inplace=True)\n",
    "print(df)\n"
   ]
  },
  {
   "cell_type": "markdown",
   "id": "0020dd8d-027a-4eb3-b001-46e903f4fa56",
   "metadata": {},
   "source": [
    "#### 15. Write a Pandas program to interpolate the missing values using the Linear Interpolation method in a given DataFrame."
   ]
  },
  {
   "cell_type": "code",
   "execution_count": 7,
   "id": "08df771a-1505-43ac-9e2e-3375b6643c20",
   "metadata": {},
   "outputs": [
    {
     "name": "stdout",
     "output_type": "stream",
     "text": [
      "Original Orders DataFrame:\n",
      "     ord_no  purch_amt  sale_amt    ord_date  customer_id  salesman_id\n",
      "0   70001.0     150.50     10.50  2012-10-05         3002       5002.0\n",
      "1       NaN        NaN     20.65  2012-09-10         3001       5003.0\n",
      "2   70002.0      65.26       NaN         NaN         3001       5001.0\n",
      "3   70004.0     110.50     11.50  2012-08-17         3003          NaN\n",
      "4       NaN     948.50     98.50  2012-09-10         3002       5002.0\n",
      "5   70005.0        NaN       NaN  2012-07-27         3001       5001.0\n",
      "6       NaN    5760.00     57.00  2012-09-10         3001       5001.0\n",
      "7   70010.0    1983.43     19.43  2012-10-10         3004          NaN\n",
      "8   70003.0        NaN       NaN  2012-10-10         3003       5003.0\n",
      "9   70012.0     250.45     25.45  2012-06-27         3002       5002.0\n",
      "10      NaN      75.29     75.29  2012-08-17         3001       5003.0\n",
      "11  70013.0    3045.60     35.60  2012-04-25         3001          NaN\n",
      "\n",
      "Interpolate the missing values using the Linear Interpolation method (purch_amt):\n",
      "     ord_no  purch_amt  sale_amt    ord_date  customer_id  salesman_id\n",
      "0   70001.0     150.50     10.50  2012-10-05         3002       5002.0\n",
      "1       NaN     107.88     20.65  2012-09-10         3001       5003.0\n",
      "2   70002.0      65.26       NaN         NaN         3001       5001.0\n",
      "3   70004.0     110.50     11.50  2012-08-17         3003          NaN\n",
      "4       NaN     948.50     98.50  2012-09-10         3002       5002.0\n",
      "5   70005.0    3354.25       NaN  2012-07-27         3001       5001.0\n",
      "6       NaN    5760.00     57.00  2012-09-10         3001       5001.0\n",
      "7   70010.0    1983.43     19.43  2012-10-10         3004          NaN\n",
      "8   70003.0    1116.94       NaN  2012-10-10         3003       5003.0\n",
      "9   70012.0     250.45     25.45  2012-06-27         3002       5002.0\n",
      "10      NaN      75.29     75.29  2012-08-17         3001       5003.0\n",
      "11  70013.0    3045.60     35.60  2012-04-25         3001          NaN\n"
     ]
    }
   ],
   "source": [
    "import pandas as pd\n",
    "import numpy as np\n",
    "pd.set_option('display.max_rows', None)\n",
    "#pd.set_option('display.max_columns', None)\n",
    "df = pd.DataFrame({\n",
    "'ord_no':[70001,np.nan,70002,70004,np.nan,70005,np.nan,70010,70003,70012,np.nan,70013],\n",
    "'purch_amt':[150.5,np.nan,65.26,110.5,948.5,np.nan,5760,1983.43,np.nan,250.45, 75.29,3045.6],\n",
    "'sale_amt':[10.5,20.65,np.nan,11.5,98.5,np.nan,57,19.43,np.nan,25.45, 75.29,35.6],\n",
    "'ord_date': ['2012-10-05','2012-09-10',np.nan,'2012-08-17','2012-09-10','2012-07-27','2012-09-10','2012-10-10','2012-10-10','2012-06-27','2012-08-17','2012-04-25'],\n",
    "'customer_id':[3002,3001,3001,3003,3002,3001,3001,3004,3003,3002,3001,3001],\n",
    "'salesman_id':[5002,5003,5001,np.nan,5002,5001,5001,np.nan,5003,5002,5003,np.nan]})\n",
    "print(\"Original Orders DataFrame:\")\n",
    "print(df) \n",
    "print(\"\\nInterpolate the missing values using the Linear Interpolation method (purch_amt):\")\n",
    "df['purch_amt'].interpolate(method='linear', direction = 'forward', inplace=True) \n",
    "print(df)\n"
   ]
  },
  {
   "cell_type": "markdown",
   "id": "5bb8303a-0fca-4ca9-a185-f5c09694f99d",
   "metadata": {},
   "source": [
    "#### 16. Write a Pandas program to count the number of missing values of a specified column in a given DataFrame."
   ]
  },
  {
   "cell_type": "code",
   "execution_count": 8,
   "id": "8f45c0d2-f6a6-46c8-8b04-f361d7fbb2b1",
   "metadata": {},
   "outputs": [
    {
     "name": "stdout",
     "output_type": "stream",
     "text": [
      "Original Orders DataFrame:\n",
      "     ord_no  purch_amt  sale_amt    ord_date  customer_id  salesman_id\n",
      "0   70001.0     150.50     10.50  2012-10-05         3002       5002.0\n",
      "1       NaN        NaN     20.65  2012-09-10         3001       5003.0\n",
      "2   70002.0      65.26       NaN         NaN         3001       5001.0\n",
      "3   70004.0     110.50     11.50  2012-08-17         3003          NaN\n",
      "4       NaN     948.50     98.50  2012-09-10         3002       5002.0\n",
      "5   70005.0        NaN       NaN  2012-07-27         3001       5001.0\n",
      "6       NaN    5760.00     57.00  2012-09-10         3001       5001.0\n",
      "7   70010.0    1983.43     19.43  2012-10-10         3004          NaN\n",
      "8   70003.0        NaN       NaN  2012-10-10         3003       5003.0\n",
      "9   70012.0     250.45     25.45  2012-06-27         3002       5002.0\n",
      "10      NaN      75.29     75.29  2012-08-17         3001       5003.0\n",
      "11  70013.0    3045.60     35.60  2012-04-25         3001          NaN\n",
      "\n",
      "Missing values in purch_amt column:\n",
      "3\n"
     ]
    }
   ],
   "source": [
    "pd.set_option('display.max_rows', None)\n",
    "#pd.set_option('display.max_columns', None)\n",
    "df = pd.DataFrame({\n",
    "'ord_no':[70001,np.nan,70002,70004,np.nan,70005,np.nan,70010,70003,70012,np.nan,70013],\n",
    "'purch_amt':[150.5,np.nan,65.26,110.5,948.5,np.nan,5760,1983.43,np.nan,250.45, 75.29,3045.6],\n",
    "'sale_amt':[10.5,20.65,np.nan,11.5,98.5,np.nan,57,19.43,np.nan,25.45, 75.29,35.6],\n",
    "'ord_date': ['2012-10-05','2012-09-10',np.nan,'2012-08-17','2012-09-10','2012-07-27','2012-09-10','2012-10-10','2012-10-10','2012-06-27','2012-08-17','2012-04-25'],\n",
    "'customer_id':[3002,3001,3001,3003,3002,3001,3001,3004,3003,3002,3001,3001],\n",
    "'salesman_id':[5002,5003,5001,np.nan,5002,5001,5001,np.nan,5003,5002,5003,np.nan]})\n",
    "print(\"Original Orders DataFrame:\")\n",
    "print(df) \n",
    "print(\"\\nMissing values in purch_amt column:\")\n",
    "result = df['purch_amt'].value_counts(dropna=False).loc[np.nan]\n",
    "print(result)\n"
   ]
  },
  {
   "cell_type": "markdown",
   "id": "ae922ec4-a3cb-48d4-9225-635148ba135b",
   "metadata": {},
   "source": [
    "#### 17. Write a Pandas program to count the missing values in a given DataFrame."
   ]
  },
  {
   "cell_type": "code",
   "execution_count": 9,
   "id": "d31d6240-d1a2-45bb-8643-5ea39e0c53b5",
   "metadata": {},
   "outputs": [
    {
     "name": "stdout",
     "output_type": "stream",
     "text": [
      "Original Orders DataFrame:\n",
      "     ord_no  purch_amt  sale_amt    ord_date  customer_id  salesman_id\n",
      "0   70001.0     150.50     10.50  2012-10-05         3002       5002.0\n",
      "1       NaN        NaN     20.65  2012-09-10         3001       5003.0\n",
      "2   70002.0      65.26       NaN         NaN         3001       5001.0\n",
      "3   70004.0     110.50     11.50  2012-08-17         3003          NaN\n",
      "4       NaN     948.50     98.50  2012-09-10         3002       5002.0\n",
      "5   70005.0        NaN       NaN  2012-07-27         3001       5001.0\n",
      "6       NaN    5760.00     57.00  2012-09-10         3001       5001.0\n",
      "7   70010.0    1983.43     19.43  2012-10-10         3004          NaN\n",
      "8   70003.0        NaN       NaN  2012-10-10         3003       5003.0\n",
      "9   70012.0     250.45     25.45  2012-06-27         3002       5002.0\n",
      "10      NaN      75.29     75.29  2012-08-17         3001       5003.0\n",
      "11  70013.0    3045.60     35.60  2012-04-25         3001          NaN\n",
      "\n",
      "Total missing values in a dataframe:\n",
      "14\n"
     ]
    }
   ],
   "source": [
    "import pandas as pd\n",
    "import numpy as np\n",
    "pd.set_option('display.max_rows', None)\n",
    "#pd.set_option('display.max_columns', None)\n",
    "df = pd.DataFrame({\n",
    "'ord_no':[70001,np.nan,70002,70004,np.nan,70005,np.nan,70010,70003,70012,np.nan,70013],\n",
    "'purch_amt':[150.5,np.nan,65.26,110.5,948.5,np.nan,5760,1983.43,np.nan,250.45, 75.29,3045.6],\n",
    "'sale_amt':[10.5,20.65,np.nan,11.5,98.5,np.nan,57,19.43,np.nan,25.45, 75.29,35.6],\n",
    "'ord_date': ['2012-10-05','2012-09-10',np.nan,'2012-08-17','2012-09-10','2012-07-27','2012-09-10','2012-10-10','2012-10-10','2012-06-27','2012-08-17','2012-04-25'],\n",
    "'customer_id':[3002,3001,3001,3003,3002,3001,3001,3004,3003,3002,3001,3001],\n",
    "'salesman_id':[5002,5003,5001,np.nan,5002,5001,5001,np.nan,5003,5002,5003,np.nan]})\n",
    "print(\"Original Orders DataFrame:\")\n",
    "print(df) \n",
    "print(\"\\nTotal missing values in a dataframe:\")\n",
    "tot_missing_vals = df.isnull().sum().sum()\n",
    "print(tot_missing_vals)\n"
   ]
  },
  {
   "cell_type": "markdown",
   "id": "07b5af20-337c-4474-a981-628023555611",
   "metadata": {},
   "source": [
    "#### 18. Write a Pandas program to find the Indexes of missing values in a given DataFrame.\n"
   ]
  },
  {
   "cell_type": "code",
   "execution_count": 10,
   "id": "08288784-61bb-489f-acd6-3fc2b22bd78b",
   "metadata": {},
   "outputs": [
    {
     "name": "stdout",
     "output_type": "stream",
     "text": [
      "Original Orders DataFrame:\n",
      "     ord_no  purch_amt  sale_amt    ord_date  customer_id  salesman_id\n",
      "0   70001.0     150.50     10.50  2012-10-05         3002       5002.0\n",
      "1       NaN        NaN     20.65  2012-09-10         3001       5003.0\n",
      "2   70002.0      65.26       NaN         NaN         3001       5001.0\n",
      "3   70004.0     110.50     11.50  2012-08-17         3003          NaN\n",
      "4       NaN     948.50     98.50  2012-09-10         3002       5002.0\n",
      "5   70005.0        NaN       NaN  2012-07-27         3001       5001.0\n",
      "6       NaN    5760.00     57.00  2012-09-10         3001       5001.0\n",
      "7   70010.0    1983.43     19.43  2012-10-10         3004          NaN\n",
      "8   70003.0        NaN       NaN  2012-10-10         3003       5003.0\n",
      "9   70012.0     250.45     25.45  2012-06-27         3002       5002.0\n",
      "10      NaN      75.29     75.29  2012-08-17         3001       5003.0\n",
      "11  70013.0    3045.60     35.60  2012-04-25         3001          NaN\n",
      "\n",
      "Missing values in purch_amt column:\n",
      "(array([ 1,  4,  6, 10], dtype=int64),)\n"
     ]
    }
   ],
   "source": [
    "pd.set_option('display.max_rows', None)\n",
    "#pd.set_option('display.max_columns', None)\n",
    "df = pd.DataFrame({\n",
    "'ord_no':[70001,np.nan,70002,70004,np.nan,70005,np.nan,70010,70003,70012,np.nan,70013],\n",
    "'purch_amt':[150.5,np.nan,65.26,110.5,948.5,np.nan,5760,1983.43,np.nan,250.45, 75.29,3045.6],\n",
    "'sale_amt':[10.5,20.65,np.nan,11.5,98.5,np.nan,57,19.43,np.nan,25.45, 75.29,35.6],\n",
    "'ord_date': ['2012-10-05','2012-09-10',np.nan,'2012-08-17','2012-09-10','2012-07-27','2012-09-10','2012-10-10','2012-10-10','2012-06-27','2012-08-17','2012-04-25'],\n",
    "'customer_id':[3002,3001,3001,3003,3002,3001,3001,3004,3003,3002,3001,3001],\n",
    "'salesman_id':[5002,5003,5001,np.nan,5002,5001,5001,np.nan,5003,5002,5003,np.nan]})\n",
    "print(\"Original Orders DataFrame:\")\n",
    "print(df) \n",
    "print(\"\\nMissing values in purch_amt column:\")\n",
    "result = df['ord_no'].isnull().to_numpy().nonzero()\n",
    "print(result)\n"
   ]
  },
  {
   "cell_type": "markdown",
   "id": "86874d4b-dbf3-400b-91d3-3ce938e09767",
   "metadata": {},
   "source": [
    "#### 19. Write a Pandas program to replace the missing values with the most frequent values present in each column of a given DataFrame."
   ]
  },
  {
   "cell_type": "code",
   "execution_count": 11,
   "id": "11ba4b69-fc13-4a3a-bca9-578f96f86f7b",
   "metadata": {},
   "outputs": [
    {
     "name": "stdout",
     "output_type": "stream",
     "text": [
      "Original Orders DataFrame:\n",
      "     ord_no  purch_amt  sale_amt    ord_date  customer_id  salesman_id\n",
      "0   70001.0     150.50     10.50  2012-10-05         3002       5002.0\n",
      "1       NaN        NaN     20.65  2012-09-10         3001       5003.0\n",
      "2   70002.0      65.26       NaN         NaN         3001       5001.0\n",
      "3   70004.0     110.50     11.50  2012-08-17         3003          NaN\n",
      "4       NaN     948.50     98.50  2012-09-10         3002       5002.0\n",
      "5   70005.0        NaN       NaN  2012-07-27         3001       5001.0\n",
      "6       NaN    5760.00     57.00  2012-09-10         3001       5001.0\n",
      "7   70010.0    1983.43     19.43  2012-10-10         3004          NaN\n",
      "8   70003.0        NaN       NaN  2012-10-10         3003       5003.0\n",
      "9   70012.0     250.45     25.45  2012-06-27         3002       5002.0\n",
      "10      NaN      75.29     75.29  2012-08-17         3001       5003.0\n",
      "11  70013.0    3045.60     35.60  2012-04-25         3001          NaN\n",
      "\n",
      "Replace the missing values with the most frequent values present in each column:\n",
      "     ord_no  purch_amt  sale_amt    ord_date  customer_id  salesman_id\n",
      "0   70001.0     150.50     10.50  2012-10-05         3002       5002.0\n",
      "1   70001.0      65.26     20.65  2012-09-10         3001       5003.0\n",
      "2   70002.0      65.26     10.50  2012-09-10         3001       5001.0\n",
      "3   70004.0     110.50     11.50  2012-08-17         3003       5001.0\n",
      "4   70001.0     948.50     98.50  2012-09-10         3002       5002.0\n",
      "5   70005.0      65.26     10.50  2012-07-27         3001       5001.0\n",
      "6   70001.0    5760.00     57.00  2012-09-10         3001       5001.0\n",
      "7   70010.0    1983.43     19.43  2012-10-10         3004       5001.0\n",
      "8   70003.0      65.26     10.50  2012-10-10         3003       5003.0\n",
      "9   70012.0     250.45     25.45  2012-06-27         3002       5002.0\n",
      "10  70001.0      75.29     75.29  2012-08-17         3001       5003.0\n",
      "11  70013.0    3045.60     35.60  2012-04-25         3001       5001.0\n"
     ]
    }
   ],
   "source": [
    "pd.set_option('display.max_rows', None)\n",
    "#pd.set_option('display.max_columns', None)\n",
    "df = pd.DataFrame({\n",
    "'ord_no':[70001,np.nan,70002,70004,np.nan,70005,np.nan,70010,70003,70012,np.nan,70013],\n",
    "'purch_amt':[150.5,np.nan,65.26,110.5,948.5,np.nan,5760,1983.43,np.nan,250.45, 75.29,3045.6],\n",
    "'sale_amt':[10.5,20.65,np.nan,11.5,98.5,np.nan,57,19.43,np.nan,25.45, 75.29,35.6],\n",
    "'ord_date': ['2012-10-05','2012-09-10',np.nan,'2012-08-17','2012-09-10','2012-07-27','2012-09-10','2012-10-10','2012-10-10','2012-06-27','2012-08-17','2012-04-25'],\n",
    "'customer_id':[3002,3001,3001,3003,3002,3001,3001,3004,3003,3002,3001,3001],\n",
    "'salesman_id':[5002,5003,5001,np.nan,5002,5001,5001,np.nan,5003,5002,5003,np.nan]})\n",
    "print(\"Original Orders DataFrame:\")\n",
    "print(df) \n",
    "print(\"\\nReplace the missing values with the most frequent values present in each column:\")\n",
    "result = df.fillna(df.mode().iloc[0])\n",
    "print(result)\n"
   ]
  },
  {
   "cell_type": "markdown",
   "id": "37337c51-397e-4241-a4f4-c3f64a460d8d",
   "metadata": {},
   "source": [
    "#### 20. Write a Pandas program to create a hitmap for more information about the distribution of missing values in a given DataFrame."
   ]
  },
  {
   "cell_type": "code",
   "execution_count": 14,
   "id": "7bada0d6-2ec0-4d5c-8d99-bd270c2acbef",
   "metadata": {},
   "outputs": [
    {
     "data": {
      "image/png": "[encoded data removed]",
      "text/plain": [
       "<Figure size 1600x1000 with 1 Axes>"
      ]
     },
     "metadata": {},
     "output_type": "display_data"
    }
   ],
   "source": [
    "pd.set_option('display.max_rows', None)\n",
    "#pd.set_option('display.max_columns', None)\n",
    "df = pd.DataFrame({\n",
    "'ord_no':[70001,np.nan,70002,70004,np.nan,70005,np.nan,70010,70003,70012,np.nan,70013],\n",
    "'purch_amt':[150.5,np.nan,65.26,110.5,948.5,np.nan,5760,1983.43,np.nan,250.45, 75.29,3045.6],\n",
    "'sale_amt':[10.5,20.65,np.nan,11.5,98.5,np.nan,57,19.43,np.nan,25.45, 75.29,35.6],\n",
    "'ord_date': ['2012-10-05','2012-09-10',np.nan,'2012-08-17','2012-09-10','2012-07-27','2012-09-10','2012-10-10','2012-10-10','2012-06-27','2012-08-17','2012-04-25'],\n",
    "'customer_id':[3002,3001,3001,3003,3002,3001,3001,3004,3003,3002,3001,3001],\n",
    "'salesman_id':[5002,5003,5001,np.nan,5002,5001,5001,np.nan,5003,5002,5003,np.nan]})\n",
    "plt.figure(figsize=(16,10))\n",
    "sns.heatmap(df.isnull(), cbar=False, cmap=\"YlGnBu\")\n",
    "plt.show()\n"
   ]
  }
 ],
 "metadata": {
  "kernelspec": {
   "display_name": "Python 3 (ipykernel)",
   "language": "python",
   "name": "python3"
  },
  "language_info": {
   "codemirror_mode": {
    "name": "ipython",
    "version": 3
   },
   "file_extension": ".py",
   "mimetype": "text/x-python",
   "name": "python",
   "nbconvert_exporter": "python",
   "pygments_lexer": "ipython3",
   "version": "3.11.7"
  }
 },
 "nbformat": 4,
 "nbformat_minor": 5
}
