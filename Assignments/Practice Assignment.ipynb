{
 "cells": [
  {
   "cell_type": "markdown",
   "id": "5dfb03b9-1d9a-4cdd-9b40-e1311fa3c4d8",
   "metadata": {},
   "source": [
    "# Practice Assignment 1"
   ]
  },
  {
   "cell_type": "markdown",
   "id": "88a428fb-6e70-4126-80cf-b269ec71bb63",
   "metadata": {},
   "source": [
    "### Question Number 4"
   ]
  },
  {
   "cell_type": "code",
   "execution_count": 33,
   "id": "6d7fc266-658d-47b0-bf47-22bed675af61",
   "metadata": {},
   "outputs": [],
   "source": [
    "import numpy as np\n",
    "import pandas as pd\n",
    "import matplotlib.pyplot as plt\n",
    "import seaborn as sns\n"
   ]
  },
  {
   "cell_type": "code",
   "execution_count": 2,
   "id": "30b5ac42-f0b5-4fbc-8367-f5337d3387f3",
   "metadata": {},
   "outputs": [
    {
     "name": "stdout",
     "output_type": "stream",
     "text": [
      "                                                Address    Lot AM or PM  \\\n",
      "0     16629 Pace Camp Apt. 448\\nAlexisborough, NE 77...  46 in       PM   \n",
      "1     9374 Jasmine Spurs Suite 508\\nSouth John, TN 8...  28 rn       PM   \n",
      "2                      Unit 0065 Box 5052\\nDPO AP 27450  94 vE       PM   \n",
      "3                 7780 Julia Fords\\nNew Stacy, WA 45798  36 vm       PM   \n",
      "4     23012 Munoz Drive Suite 337\\nNew Cynthia, TX 5...  20 IE       AM   \n",
      "...                                                 ...    ...      ...   \n",
      "9995      966 Castaneda Locks\\nWest Juliafurt, CO 96415  92 XI       PM   \n",
      "9996  832 Curtis Dam Suite 785\\nNorth Edwardburgh, T...  41 JY       AM   \n",
      "9997              Unit 4434 Box 6343\\nDPO AE 28026-0283  74 Zh       AM   \n",
      "9998               0096 English Rest\\nRoystad, IA 12457  74 cL       PM   \n",
      "9999     40674 Barrett Stravenue\\nGrimesville, WI 79682  64 Hr       AM   \n",
      "\n",
      "                                           Browser Info  \\\n",
      "0     Opera/9.56.(X11; Linux x86_64; sl-SI) Presto/2...   \n",
      "1     Opera/8.93.(Windows 98; Win 9x 4.90; en-US) Pr...   \n",
      "2     Mozilla/5.0 (compatible; MSIE 9.0; Windows NT ...   \n",
      "3     Mozilla/5.0 (Macintosh; Intel Mac OS X 10_8_0 ...   \n",
      "4     Opera/9.58.(X11; Linux x86_64; it-IT) Presto/2...   \n",
      "...                                                 ...   \n",
      "9995  Mozilla/5.0 (Windows NT 5.1) AppleWebKit/5352 ...   \n",
      "9996  Mozilla/5.0 (compatible; MSIE 9.0; Windows NT ...   \n",
      "9997  Mozilla/5.0 (Macintosh; U; Intel Mac OS X 10_7...   \n",
      "9998  Mozilla/5.0 (Macintosh; Intel Mac OS X 10_8_8;...   \n",
      "9999  Mozilla/5.0 (X11; Linux i686; rv:1.9.5.20) Gec...   \n",
      "\n",
      "                              Company       Credit Card CC Exp Date  \\\n",
      "0                     Martinez-Herman  6011929061123406       02/20   \n",
      "1     Fletcher, Richards and Whitaker  3337758169645356       11/18   \n",
      "2          Simpson, Williams and Pham      675957666125       08/19   \n",
      "3     Williams, Marshall and Buchanan  6011578504430710       02/24   \n",
      "4           Brown, Watson and Andrews  6011456623207998       10/25   \n",
      "...                               ...               ...         ...   \n",
      "9995                    Randall-Sloan   342945015358701       03/22   \n",
      "9996         Hale, Collins and Wilson   210033169205009       07/25   \n",
      "9997                     Anderson Ltd  6011539787356311       05/21   \n",
      "9998                         Cook Inc   180003348082930       11/17   \n",
      "9999                       Greene Inc  4139972901927273       02/19   \n",
      "\n",
      "      CC Security Code                  CC Provider  \\\n",
      "0                  900                 JCB 16 digit   \n",
      "1                  561                   Mastercard   \n",
      "2                  699                 JCB 16 digit   \n",
      "3                  384                     Discover   \n",
      "4                  678  Diners Club / Carte Blanche   \n",
      "...                ...                          ...   \n",
      "9995               838                 JCB 15 digit   \n",
      "9996               207                 JCB 16 digit   \n",
      "9997                 1                VISA 16 digit   \n",
      "9998               987             American Express   \n",
      "9999               302                 JCB 15 digit   \n",
      "\n",
      "                               Email                                     Job  \\\n",
      "0                  pdunlap@yahoo.com  Scientist, product/process development   \n",
      "1                 anthony41@reed.com                       Drilling engineer   \n",
      "2     amymiller@morales-harrison.com                Customer service manager   \n",
      "3        brent16@olson-robinson.info                       Drilling engineer   \n",
      "4        christopherwright@gmail.com                             Fine artist   \n",
      "...                              ...                                     ...   \n",
      "9995          iscott@wade-garner.com                              Printmaker   \n",
      "9996              mary85@hotmail.com                         Energy engineer   \n",
      "9997               tyler16@gmail.com                      Veterinary surgeon   \n",
      "9998         elizabethmoore@reid.net                Local government officer   \n",
      "9999           rachelford@vaughn.com                  Embryologist, clinical   \n",
      "\n",
      "           IP Address Language  Purchase Price  \n",
      "0     149.146.147.205       el           98.14  \n",
      "1        15.160.41.51       fr           70.73  \n",
      "2      132.207.160.22       de            0.95  \n",
      "3        30.250.74.19       es           78.04  \n",
      "4        24.140.33.94       es           77.82  \n",
      "...               ...      ...             ...  \n",
      "9995    29.73.197.114       it           82.21  \n",
      "9996   121.133.168.51       pt           25.63  \n",
      "9997    156.210.0.254       el           83.98  \n",
      "9998     55.78.26.143       es           38.84  \n",
      "9999  176.119.198.199       el           67.59  \n",
      "\n",
      "[10000 rows x 14 columns]\n"
     ]
    }
   ],
   "source": [
    "data = pd.read_csv(\"walmart_purchase_data.csv\")\n",
    "print(data)"
   ]
  },
  {
   "cell_type": "markdown",
   "id": "358ab6a0-de71-4562-a5b0-f6d56e6cfab1",
   "metadata": {},
   "source": [
    "#### a. What is the average Purchase Price?"
   ]
  },
  {
   "cell_type": "code",
   "execution_count": 6,
   "id": "75aabd54-432e-43f6-baf1-cb3b09b2ef24",
   "metadata": {},
   "outputs": [
    {
     "name": "stdout",
     "output_type": "stream",
     "text": [
      "50.347302\n"
     ]
    }
   ],
   "source": [
    "avg = data['Purchase Price'].mean()\n",
    "print(avg)"
   ]
  },
  {
   "cell_type": "markdown",
   "id": "5cba6d0e-0b74-4f1f-a6e3-34e609765025",
   "metadata": {},
   "source": [
    "#### b. What were the highest and lowest purchase prices?"
   ]
  },
  {
   "cell_type": "code",
   "execution_count": 8,
   "id": "0dbdf75a-6cd0-432b-98b0-b3efdf3b1c5c",
   "metadata": {},
   "outputs": [
    {
     "name": "stdout",
     "output_type": "stream",
     "text": [
      "99.99\n",
      "0.0\n"
     ]
    }
   ],
   "source": [
    "highest = data['Purchase Price'].max()\n",
    "print(highest)\n",
    "lowest = data['Purchase Price'].min()\n",
    "print(lowest)"
   ]
  },
  {
   "cell_type": "code",
   "execution_count": 105,
   "id": "d35dd1af-1e1b-4fe8-b13d-4951dc72e5ac",
   "metadata": {},
   "outputs": [
    {
     "data": {
      "text/html": [
       "<div>\n",
       "<style scoped>\n",
       "    .dataframe tbody tr th:only-of-type {\n",
       "        vertical-align: middle;\n",
       "    }\n",
       "\n",
       "    .dataframe tbody tr th {\n",
       "        vertical-align: top;\n",
       "    }\n",
       "\n",
       "    .dataframe thead th {\n",
       "        text-align: right;\n",
       "    }\n",
       "</style>\n",
       "<table border=\"1\" class=\"dataframe\">\n",
       "  <thead>\n",
       "    <tr style=\"text-align: right;\">\n",
       "      <th></th>\n",
       "      <th>Address</th>\n",
       "      <th>Lot</th>\n",
       "      <th>AM or PM</th>\n",
       "      <th>Browser Info</th>\n",
       "      <th>Company</th>\n",
       "      <th>Credit Card</th>\n",
       "      <th>CC Exp Date</th>\n",
       "      <th>CC Security Code</th>\n",
       "      <th>CC Provider</th>\n",
       "      <th>Email</th>\n",
       "      <th>Job</th>\n",
       "      <th>IP Address</th>\n",
       "      <th>Language</th>\n",
       "      <th>Purchase Price</th>\n",
       "    </tr>\n",
       "  </thead>\n",
       "  <tbody>\n",
       "    <tr>\n",
       "      <th>0</th>\n",
       "      <td>16629 Pace Camp Apt. 448\\nAlexisborough, NE 77...</td>\n",
       "      <td>46 in</td>\n",
       "      <td>PM</td>\n",
       "      <td>Opera/9.56.(X11; Linux x86_64; sl-SI) Presto/2...</td>\n",
       "      <td>Martinez-Herman</td>\n",
       "      <td>6011929061123406</td>\n",
       "      <td>02/20</td>\n",
       "      <td>900</td>\n",
       "      <td>JCB 16 digit</td>\n",
       "      <td>pdunlap@yahoo.com</td>\n",
       "      <td>Scientist, product/process development</td>\n",
       "      <td>149.146.147.205</td>\n",
       "      <td>el</td>\n",
       "      <td>98.14</td>\n",
       "    </tr>\n",
       "    <tr>\n",
       "      <th>1</th>\n",
       "      <td>9374 Jasmine Spurs Suite 508\\nSouth John, TN 8...</td>\n",
       "      <td>28 rn</td>\n",
       "      <td>PM</td>\n",
       "      <td>Opera/8.93.(Windows 98; Win 9x 4.90; en-US) Pr...</td>\n",
       "      <td>Fletcher, Richards and Whitaker</td>\n",
       "      <td>3337758169645356</td>\n",
       "      <td>11/18</td>\n",
       "      <td>561</td>\n",
       "      <td>Mastercard</td>\n",
       "      <td>anthony41@reed.com</td>\n",
       "      <td>Drilling engineer</td>\n",
       "      <td>15.160.41.51</td>\n",
       "      <td>fr</td>\n",
       "      <td>70.73</td>\n",
       "    </tr>\n",
       "  </tbody>\n",
       "</table>\n",
       "</div>"
      ],
      "text/plain": [
       "                                             Address    Lot AM or PM  \\\n",
       "0  16629 Pace Camp Apt. 448\\nAlexisborough, NE 77...  46 in       PM   \n",
       "1  9374 Jasmine Spurs Suite 508\\nSouth John, TN 8...  28 rn       PM   \n",
       "\n",
       "                                        Browser Info  \\\n",
       "0  Opera/9.56.(X11; Linux x86_64; sl-SI) Presto/2...   \n",
       "1  Opera/8.93.(Windows 98; Win 9x 4.90; en-US) Pr...   \n",
       "\n",
       "                           Company       Credit Card CC Exp Date  \\\n",
       "0                  Martinez-Herman  6011929061123406       02/20   \n",
       "1  Fletcher, Richards and Whitaker  3337758169645356       11/18   \n",
       "\n",
       "   CC Security Code   CC Provider               Email  \\\n",
       "0               900  JCB 16 digit   pdunlap@yahoo.com   \n",
       "1               561    Mastercard  anthony41@reed.com   \n",
       "\n",
       "                                      Job       IP Address Language  \\\n",
       "0  Scientist, product/process development  149.146.147.205       el   \n",
       "1                       Drilling engineer     15.160.41.51       fr   \n",
       "\n",
       "   Purchase Price  \n",
       "0           98.14  \n",
       "1           70.73  "
      ]
     },
     "execution_count": 105,
     "metadata": {},
     "output_type": "execute_result"
    }
   ],
   "source": [
    "data.head(2)"
   ]
  },
  {
   "cell_type": "markdown",
   "id": "dd517427-e1a3-40b8-8060-d808216a0f6f",
   "metadata": {},
   "source": [
    "#### c. How many people have English 'en' as their Language of choice on the website?"
   ]
  },
  {
   "cell_type": "code",
   "execution_count": 19,
   "id": "a2eab3b5-2760-4f8d-8e8b-75949a49ff3b",
   "metadata": {},
   "outputs": [
    {
     "name": "stdout",
     "output_type": "stream",
     "text": [
      "people have English 'en' as their Language of choice on the website is  :  1098\n"
     ]
    },
    {
     "name": "stderr",
     "output_type": "stream",
     "text": [
      "C:\\Users\\dai\\AppData\\Local\\Temp\\ipykernel_16292\\3662982118.py:2: FutureWarning: Series.__getitem__ treating keys as positions is deprecated. In a future version, integer keys will always be treated as labels (consistent with DataFrame behavior). To access a value by position, use `ser.iloc[pos]`\n",
      "  print(\"people have English 'en' as their Language of choice on the website is  : \",count[1])\n"
     ]
    }
   ],
   "source": [
    "count = data[data[\"Language\"] == \"en\"].count()\n",
    "print(\"people have English 'en' as their Language of choice on the website is  : \",count[1])"
   ]
  },
  {
   "cell_type": "markdown",
   "id": "e0e4af27-6835-464d-a363-d16962268e9a",
   "metadata": {},
   "source": [
    "#### d. What is the email of the person with the following Credit Card Number: 492653524267285 "
   ]
  },
  {
   "cell_type": "code",
   "execution_count": 35,
   "id": "52adb46a-b744-4ee5-b039-0a2674c00834",
   "metadata": {},
   "outputs": [
    {
     "data": {
      "text/html": [
       "<div>\n",
       "<style scoped>\n",
       "    .dataframe tbody tr th:only-of-type {\n",
       "        vertical-align: middle;\n",
       "    }\n",
       "\n",
       "    .dataframe tbody tr th {\n",
       "        vertical-align: top;\n",
       "    }\n",
       "\n",
       "    .dataframe thead th {\n",
       "        text-align: right;\n",
       "    }\n",
       "</style>\n",
       "<table border=\"1\" class=\"dataframe\">\n",
       "  <thead>\n",
       "    <tr style=\"text-align: right;\">\n",
       "      <th></th>\n",
       "      <th>Address</th>\n",
       "      <th>Lot</th>\n",
       "      <th>AM or PM</th>\n",
       "      <th>Browser Info</th>\n",
       "      <th>Company</th>\n",
       "      <th>Credit Card</th>\n",
       "      <th>CC Exp Date</th>\n",
       "      <th>CC Security Code</th>\n",
       "      <th>CC Provider</th>\n",
       "      <th>Email</th>\n",
       "      <th>Job</th>\n",
       "      <th>IP Address</th>\n",
       "      <th>Language</th>\n",
       "      <th>Purchase Price</th>\n",
       "    </tr>\n",
       "  </thead>\n",
       "  <tbody>\n",
       "  </tbody>\n",
       "</table>\n",
       "</div>"
      ],
      "text/plain": [
       "Empty DataFrame\n",
       "Columns: [Address, Lot, AM or PM, Browser Info, Company, Credit Card, CC Exp Date, CC Security Code, CC Provider, Email, Job, IP Address, Language, Purchase Price]\n",
       "Index: []"
      ]
     },
     "execution_count": 35,
     "metadata": {},
     "output_type": "execute_result"
    }
   ],
   "source": [
    "data[data[\"Credit Card\"] == 492653524267285]"
   ]
  },
  {
   "cell_type": "markdown",
   "id": "e5a73b68-9df3-4ef7-a7dc-560e1f47b9b3",
   "metadata": {},
   "source": [
    "#### e. Someone made a purchase that came from Lot: \"90 WT\" , what was the Purchase Price for this transaction?"
   ]
  },
  {
   "cell_type": "code",
   "execution_count": 48,
   "id": "8f34f7a8-ab04-4f4c-bc81-b7cb554fc0be",
   "metadata": {},
   "outputs": [
    {
     "name": "stdout",
     "output_type": "stream",
     "text": [
      "The Purchase Price that came from Lot: 90 WT is : 513    75.1\n",
      "Name: Purchase Price, dtype: float64\n"
     ]
    }
   ],
   "source": [
    "print(\"The Purchase Price that came from Lot: 90 WT is :\", (data[data[\"Lot\"] == \"90 WT\"])[\"Purchase Price\"])"
   ]
  },
  {
   "cell_type": "markdown",
   "id": "c7670c49-8307-4e08-9c59-e3757dab0624",
   "metadata": {},
   "source": [
    "#### f. How many people have American Express as their Credit Card Provider and made a purchase above $95 ?"
   ]
  },
  {
   "cell_type": "code",
   "execution_count": 75,
   "id": "cccc8021-099c-4130-923d-82fffd5aad08",
   "metadata": {},
   "outputs": [
    {
     "name": "stdout",
     "output_type": "stream",
     "text": [
      "people have American Express as their Credit Card Provider and made a purchase above $95:  39\n"
     ]
    },
    {
     "name": "stderr",
     "output_type": "stream",
     "text": [
      "C:\\Users\\dai\\AppData\\Local\\Temp\\ipykernel_16292\\2831061245.py:1: FutureWarning: Series.__getitem__ treating keys as positions is deprecated. In a future version, integer keys will always be treated as labels (consistent with DataFrame behavior). To access a value by position, use `ser.iloc[pos]`\n",
      "  print(\"people have American Express as their Credit Card Provider and made a purchase above $95: \",(data[(data[\"CC Provider\"] == \"American Express\") & (data[\"Purchase Price\"] > 95 )]).count()[0])\n"
     ]
    }
   ],
   "source": [
    "print(\"people have American Express as their Credit Card Provider and made a purchase above $95: \",(data[(data[\"CC Provider\"] == \"American Express\") & (data[\"Purchase Price\"] > 95 )]).count()[0])"
   ]
  },
  {
   "cell_type": "markdown",
   "id": "24a528b4-810e-4660-b441-9a373dd026ce",
   "metadata": {},
   "source": [
    "#### g. How many people have a credit card that expires in 2025?"
   ]
  },
  {
   "cell_type": "code",
   "execution_count": 18,
   "id": "b26cd4ba-df20-47ea-88fd-47f1d6fa6adf",
   "metadata": {},
   "outputs": [],
   "source": [
    "x = data[\"CC Exp Date\"]\n",
    "count = 0\n",
    "for i,j in enumerate(x):\n",
    "    if j[3:] == \"25\":\n",
    "        \tcount+=1"
   ]
  },
  {
   "cell_type": "code",
   "execution_count": 19,
   "id": "a0b2485a-cada-422a-b472-0a08013a2002",
   "metadata": {},
   "outputs": [
    {
     "name": "stdout",
     "output_type": "stream",
     "text": [
      "people have a credit card that expires in 2025 is:  1033\n"
     ]
    }
   ],
   "source": [
    "print(\"people have a credit card that expires in 2025 is: \",count)"
   ]
  },
  {
   "cell_type": "markdown",
   "id": "2166af72-4015-473c-aeef-65ecc5f665ce",
   "metadata": {},
   "source": [
    "#### h. What are the top 5 most popular email providers/hosts (e.g. gmail.com, yahoo.com, etc...) ?"
   ]
  },
  {
   "cell_type": "code",
   "execution_count": 29,
   "id": "e3275aad-0a7f-41e7-9de8-af3ae245e562",
   "metadata": {},
   "outputs": [
    {
     "name": "stdout",
     "output_type": "stream",
     "text": [
      "Email\n",
      "hotmail.com     1638\n",
      "yahoo.com       1616\n",
      "gmail.com       1605\n",
      "smith.com         42\n",
      "williams.com      37\n",
      "Name: count, dtype: int64\n"
     ]
    }
   ],
   "source": [
    "top_email_provider= data[\"Email\"].str.split(\"@\").str.get(-1).value_counts().head(5)\n",
    "print(top_email_provider)"
   ]
  },
  {
   "cell_type": "markdown",
   "id": "ffb79337-4850-40c7-8aab-bcea7da8123d",
   "metadata": {},
   "source": [
    "#### i. What are the 5 most common Job Titles?"
   ]
  },
  {
   "cell_type": "code",
   "execution_count": 30,
   "id": "5515b516-4960-40bc-b526-fe1bcfd530c9",
   "metadata": {},
   "outputs": [
    {
     "name": "stdout",
     "output_type": "stream",
     "text": [
      "Job\n",
      "Interior and spatial designer    31\n",
      "Lawyer                           30\n",
      "Social researcher                28\n",
      "Purchasing manager               27\n",
      "Designer, jewellery              27\n",
      "Name: count, dtype: int64\n"
     ]
    }
   ],
   "source": [
    "job_title= data[\"Job\"].value_counts().head(5)\n",
    "print(job_title)"
   ]
  },
  {
   "cell_type": "markdown",
   "id": "de822cb0-d2d8-433b-a2de-4d461d61eac8",
   "metadata": {},
   "source": [
    "#### j. How many people made the purchase during morning and evening time?"
   ]
  },
  {
   "cell_type": "code",
   "execution_count": 32,
   "id": "19d392c6-a299-4ace-bbe4-9f6f106a9c4e",
   "metadata": {},
   "outputs": [
    {
     "name": "stdout",
     "output_type": "stream",
     "text": [
      "AM or PM\n",
      "PM    5068\n",
      "AM    4932\n",
      "Name: count, dtype: int64\n"
     ]
    }
   ],
   "source": [
    "print(data[\"AM or PM\"].value_counts())"
   ]
  },
  {
   "cell_type": "code",
   "execution_count": 52,
   "id": "f773a0d6-28b7-4800-aeed-1673b0afe562",
   "metadata": {},
   "outputs": [],
   "source": [
    "x = data[\"Company\"].unique()"
   ]
  },
  {
   "cell_type": "code",
   "execution_count": 58,
   "id": "a1cb76b8-83b9-4e22-91d4-6f55065f1a8a",
   "metadata": {},
   "outputs": [
    {
     "name": "stdout",
     "output_type": "stream",
     "text": [
      "8653\n"
     ]
    }
   ],
   "source": [
    "count = 0\n",
    "for i in x:\n",
    "    count+=1\n",
    "print(count)"
   ]
  },
  {
   "cell_type": "code",
   "execution_count": 14,
   "id": "cc1d1c2a-aed4-4537-812b-071ef3551998",
   "metadata": {},
   "outputs": [
    {
     "data": {
      "text/plain": [
       "{'whiskers': [<matplotlib.lines.Line2D at 0x1720a558a10>,\n",
       "  <matplotlib.lines.Line2D at 0x1720a5598d0>],\n",
       " 'caps': [<matplotlib.lines.Line2D at 0x1720a55a710>,\n",
       "  <matplotlib.lines.Line2D at 0x1720a55af50>],\n",
       " 'boxes': [<matplotlib.lines.Line2D at 0x17209594250>],\n",
       " 'medians': [<matplotlib.lines.Line2D at 0x1720a55b850>],\n",
       " 'fliers': [<matplotlib.lines.Line2D at 0x1720a580150>],\n",
       " 'means': []}"
      ]
     },
     "execution_count": 14,
     "metadata": {},
     "output_type": "execute_result"
    },
    {
     "data": {
      "image/png": "[encoded data removed]",
      "text/plain": [
       "<Figure size 640x480 with 1 Axes>"
      ]
     },
     "metadata": {},
     "output_type": "display_data"
    }
   ],
   "source": [
    "plt.boxplot(data[\"Purchase Price\"])"
   ]
  },
  {
   "cell_type": "markdown",
   "id": "85c21c70-1276-47ee-bb67-159c65d62143",
   "metadata": {},
   "source": [
    "### Question Number 3"
   ]
  },
  {
   "cell_type": "code",
   "execution_count": 1,
   "id": "d3a2df24-63e4-494a-9003-8c7bfcfdff94",
   "metadata": {},
   "outputs": [
    {
     "name": "stdout",
     "output_type": "stream",
     "text": [
      "[ 0  1  2  3  4  5  6  7  8  9 10 11 12 13 14 15 16 17 18 19 20 21 22 23\n",
      " 24 25 26 27 28 29 30 31 32 33 34 35 36 37 38 39 40 41 42 43 44 45 46 47\n",
      " 48 49 50 51 52 53 54 55 56 57 58 59 60 61 62 63 64 65 66 67 68 69 70 71\n",
      " 72 73 74 75 76 77 78 79 80 81 82 83 84 85 86 87 88 89 90 91 92 93 94 95\n",
      " 96 97 98 99] [  0   2   4   6   8  10  12  14  16  18  20  22  24  26  28  30  32  34\n",
      "  36  38  40  42  44  46  48  50  52  54  56  58  60  62  64  66  68  70\n",
      "  72  74  76  78  80  82  84  86  88  90  92  94  96  98 100 102 104 106\n",
      " 108 110 112 114 116 118 120 122 124 126 128 130 132 134 136 138 140 142\n",
      " 144 146 148 150 152 154 156 158 160 162 164 166 168 170 172 174 176 178\n",
      " 180 182 184 186 188 190 192 194 196 198] [   0    1    4    9   16   25   36   49   64   81  100  121  144  169\n",
      "  196  225  256  289  324  361  400  441  484  529  576  625  676  729\n",
      "  784  841  900  961 1024 1089 1156 1225 1296 1369 1444 1521 1600 1681\n",
      " 1764 1849 1936 2025 2116 2209 2304 2401 2500 2601 2704 2809 2916 3025\n",
      " 3136 3249 3364 3481 3600 3721 3844 3969 4096 4225 4356 4489 4624 4761\n",
      " 4900 5041 5184 5329 5476 5625 5776 5929 6084 6241 6400 6561 6724 6889\n",
      " 7056 7225 7396 7569 7744 7921 8100 8281 8464 8649 8836 9025 9216 9409\n",
      " 9604 9801]\n"
     ]
    }
   ],
   "source": [
    "import numpy as np\n",
    "x = np.arange(0,100)\n",
    "y = x*2\n",
    "z = x**2\n",
    "print(x,y,z)"
   ]
  },
  {
   "cell_type": "markdown",
   "id": "c2cfd930-b636-4014-9903-dd6e97eb5533",
   "metadata": {},
   "source": [
    "#### a. Create a figure object and axis of the figure canvas at axis1 = [0,0,1,1]. Provide necessary labels and title to the plot."
   ]
  },
  {
   "cell_type": "code",
   "execution_count": 5,
   "id": "d40dd06d-60ec-4cbb-9887-248865d18f93",
   "metadata": {},
   "outputs": [
    {
     "data": {
      "text/plain": [
       "Text(0.5, 1.0, 'title')"
      ]
     },
     "execution_count": 5,
     "metadata": {},
     "output_type": "execute_result"
    },
    {
     "data": {
      "image/png": "[encoded data removed]",
      "text/plain": [
       "<Figure size 640x480 with 1 Axes>"
      ]
     },
     "metadata": {},
     "output_type": "display_data"
    }
   ],
   "source": [
    "fig = plt.figure()\n",
    "ax = fig.add_axes([0,0,1,1])\n",
    "ax.plot(x,y)\n",
    "ax.set_xlabel('x')\n",
    "ax.set_ylabel('y')\n",
    "ax.set_title('title')"
   ]
  },
  {
   "cell_type": "markdown",
   "id": "f5be35d6-5854-4106-818d-b41b6fe29544",
   "metadata": {},
   "source": [
    "#### b. Create another plot at axis1 = [0,0,1,1] and axis2 = [0.2,0.5,0.2,0.2]"
   ]
  },
  {
   "cell_type": "code",
   "execution_count": 6,
   "id": "f0d42582-8287-4644-929a-728103dfab9d",
   "metadata": {},
   "outputs": [
    {
     "data": {
      "text/plain": [
       "Text(0, 0.5, 'y')"
      ]
     },
     "execution_count": 6,
     "metadata": {},
     "output_type": "execute_result"
    },
    {
     "data": {
      "image/png": "[encoded data removed]",
      "text/plain": [
       "<Figure size 640x480 with 2 Axes>"
      ]
     },
     "metadata": {},
     "output_type": "display_data"
    }
   ],
   "source": [
    "fig = plt.figure()\n",
    "ax1 = fig.add_axes([0,0,1,1])\n",
    "ax2 = fig.add_axes([0.2,0.5,0.2,0.2])\n",
    "ax1.plot(x,y)\n",
    "ax1.set_xlabel('x')\n",
    "ax1.set_ylabel('y')\n",
    "ax2.plot(x,y)\n",
    "ax2.set_xlabel('x')\n",
    "ax2.set_ylabel('y')"
   ]
  },
  {
   "cell_type": "markdown",
   "id": "7c86a3e3-a9b8-491c-b6f0-36b96a5474d3",
   "metadata": {},
   "source": [
    "#### c. Create a plot by adding two axis object at [0,0,1,1] & [0.2,0.5,0.4,0.4]"
   ]
  },
  {
   "cell_type": "code",
   "execution_count": 7,
   "id": "f56213ac-a8a4-4987-a1ba-9af6645abac9",
   "metadata": {},
   "outputs": [
    {
     "data": {
      "image/png": "[encoded data removed]",
      "text/plain": [
       "<Figure size 640x480 with 2 Axes>"
      ]
     },
     "metadata": {},
     "output_type": "display_data"
    }
   ],
   "source": [
    "fig = plt.figure()\n",
    "ax = fig.add_axes([0,0,1,1])\n",
    "ax2 = fig.add_axes([0.2,0.5,0.4,0.4])\n",
    "plt.plot(x,y)\n",
    "plt.xlabel('X Axis title here')\n",
    "plt.ylabel('y Axis title here')\n",
    "plt.title('Plot title here')\n",
    "plt.show()"
   ]
  },
  {
   "cell_type": "markdown",
   "id": "1c37d146-23d8-4e74-8436-49874cfa23cd",
   "metadata": {},
   "source": [
    "#### d. Use x, y, z array to create the plots\n",
    "i. Between x and z arrays \n",
    "\n",
    "ii. Between x & y arrays by setting the x-limit in range 20-22 and y-limit range in 30-50\n"
   ]
  },
  {
   "cell_type": "code",
   "execution_count": 9,
   "id": "96ca5048-838f-4e79-a35e-764b6cb423d7",
   "metadata": {},
   "outputs": [
    {
     "data": {
      "image/png": "[encoded data removed]",
      "text/plain": [
       "<Figure size 640x480 with 2 Axes>"
      ]
     },
     "execution_count": 9,
     "metadata": {},
     "output_type": "execute_result"
    }
   ],
   "source": [
    "ax.plot(x,z)\n",
    "ax.set_xlabel('X')\n",
    "ax.set_ylabel('Z')\n",
    "ax2.plot(x,y)\n",
    "ax2.set_xlabel('X')\n",
    "ax2.set_ylabel('Y')\n",
    "ax2.set_title('zoom')\n",
    "ax2.set_xlim(20,22)\n",
    "ax2.set_ylim(30,50)\n",
    "fig"
   ]
  },
  {
   "cell_type": "markdown",
   "id": "ec7b7375-ca30-4144-8b3c-e7d7e078ca3a",
   "metadata": {},
   "source": [
    "### Question Number 2"
   ]
  },
  {
   "cell_type": "markdown",
   "id": "7ac0b6c3-8b90-49be-b17f-f4abebc6a835",
   "metadata": {},
   "source": [
    "### a. Create a Matrix between 0 and 1, with each value difference of 0.01."
   ]
  },
  {
   "cell_type": "code",
   "execution_count": 10,
   "id": "a2f3d548-2b1c-41d9-8831-feb03d723c68",
   "metadata": {},
   "outputs": [
    {
     "name": "stdout",
     "output_type": "stream",
     "text": [
      "[[0.   0.01 0.02 0.03 0.04 0.05 0.06 0.07 0.08 0.09]\n",
      " [0.1  0.11 0.12 0.13 0.14 0.15 0.16 0.17 0.18 0.19]\n",
      " [0.2  0.21 0.22 0.23 0.24 0.25 0.26 0.27 0.28 0.29]\n",
      " [0.3  0.31 0.32 0.33 0.34 0.35 0.36 0.37 0.38 0.39]\n",
      " [0.4  0.41 0.42 0.43 0.44 0.45 0.46 0.47 0.48 0.49]\n",
      " [0.5  0.51 0.52 0.53 0.54 0.55 0.56 0.57 0.58 0.59]\n",
      " [0.6  0.61 0.62 0.63 0.64 0.65 0.66 0.67 0.68 0.69]\n",
      " [0.7  0.71 0.72 0.73 0.74 0.75 0.76 0.77 0.78 0.79]\n",
      " [0.8  0.81 0.82 0.83 0.84 0.85 0.86 0.87 0.88 0.89]\n",
      " [0.9  0.91 0.92 0.93 0.94 0.95 0.96 0.97 0.98 0.99]]\n"
     ]
    }
   ],
   "source": [
    "print(np.arange(0, 1, 0.01).reshape(10, 10))\n"
   ]
  },
  {
   "cell_type": "markdown",
   "id": "2a2d8d40-1baa-4970-a7df-f5ca95dc83a1",
   "metadata": {},
   "source": [
    "#### b. Create an array of 20 linearly spaced points between 0 and 1."
   ]
  },
  {
   "cell_type": "code",
   "execution_count": 11,
   "id": "59c79bcd-ec69-476a-8d9f-a4ac6929627c",
   "metadata": {},
   "outputs": [
    {
     "name": "stdout",
     "output_type": "stream",
     "text": [
      "[0.         0.05263158 0.10526316 0.15789474 0.21052632 0.26315789\n",
      " 0.31578947 0.36842105 0.42105263 0.47368421 0.52631579 0.57894737\n",
      " 0.63157895 0.68421053 0.73684211 0.78947368 0.84210526 0.89473684\n",
      " 0.94736842 1.        ]\n"
     ]
    }
   ],
   "source": [
    "print(np.linspace(0,1,20))"
   ]
  },
  {
   "cell_type": "markdown",
   "id": "95a10169-d2e0-4320-98a7-b7d6fc3261da",
   "metadata": {},
   "source": [
    "#### c. Create a 5*5 matrix using range 1 to 26, and return sum of the matrix, standard deviation and sum of all the columns of the matrix."
   ]
  },
  {
   "cell_type": "code",
   "execution_count": 12,
   "id": "f47ade46-36e9-433c-8b5b-5f436cfe48a0",
   "metadata": {},
   "outputs": [
    {
     "name": "stdout",
     "output_type": "stream",
     "text": [
      "[[ 1  2  3  4  5]\n",
      " [ 6  7  8  9 10]\n",
      " [11 12 13 14 15]\n",
      " [16 17 18 19 20]\n",
      " [21 22 23 24 25]]\n",
      "Sum :  325\n",
      "Standard Deviation :  7.211102550927978\n",
      "Sum of column matrix :  [55 60 65 70 75]\n"
     ]
    }
   ],
   "source": [
    "a=np.arange(1,26).reshape(5,5)\n",
    "print(a)\n",
    "print(\"Sum : \",a.sum())\n",
    "print(\"Standard Deviation : \",a.std())\n",
    "print(\"Sum of column matrix : \",a.sum(axis=0))"
   ]
  },
  {
   "cell_type": "markdown",
   "id": "208fdd91-807f-4e7d-95b6-d264430bd079",
   "metadata": {},
   "source": [
    "### Question Number 1"
   ]
  },
  {
   "cell_type": "markdown",
   "id": "157830cb-f99a-4522-b61c-d8e836316ac2",
   "metadata": {},
   "source": [
    "#### a. Read the entire dataset using pandas dataframe and build the file by appending each file in an optimized manner"
   ]
  },
  {
   "cell_type": "code",
   "execution_count": 5,
   "id": "d7f5f256-e0ff-4de9-9b25-b8cd13e27ab1",
   "metadata": {},
   "outputs": [],
   "source": [
    "d1 = pd.read_csv(\"201803-fordgobike-tripdata.csv\")\n",
    "d2 = pd.read_csv(\"201807-fordgobike-tripdata.csv\")\n",
    "d3 = pd.read_csv(\"201811-fordgobike-tripdata.csv\")\n",
    "d4 = pd.read_csv(\"201812-fordgobike-tripdata.csv\")"
   ]
  },
  {
   "cell_type": "code",
   "execution_count": 6,
   "id": "6340c58d-5bce-4620-970d-0e493a90f40f",
   "metadata": {},
   "outputs": [
    {
     "data": {
      "text/html": [
       "<div>\n",
       "<style scoped>\n",
       "    .dataframe tbody tr th:only-of-type {\n",
       "        vertical-align: middle;\n",
       "    }\n",
       "\n",
       "    .dataframe tbody tr th {\n",
       "        vertical-align: top;\n",
       "    }\n",
       "\n",
       "    .dataframe thead th {\n",
       "        text-align: right;\n",
       "    }\n",
       "</style>\n",
       "<table border=\"1\" class=\"dataframe\">\n",
       "  <thead>\n",
       "    <tr style=\"text-align: right;\">\n",
       "      <th></th>\n",
       "      <th>duration_sec</th>\n",
       "      <th>start_time</th>\n",
       "      <th>end_time</th>\n",
       "      <th>start_station_id</th>\n",
       "      <th>start_station_name</th>\n",
       "      <th>start_station_latitude</th>\n",
       "      <th>start_station_longitude</th>\n",
       "      <th>end_station_id</th>\n",
       "      <th>end_station_name</th>\n",
       "      <th>end_station_latitude</th>\n",
       "      <th>end_station_longitude</th>\n",
       "      <th>bike_id</th>\n",
       "      <th>user_type</th>\n",
       "      <th>member_birth_year</th>\n",
       "      <th>member_gender</th>\n",
       "      <th>bike_share_for_all_trip</th>\n",
       "    </tr>\n",
       "  </thead>\n",
       "  <tbody>\n",
       "    <tr>\n",
       "      <th>0</th>\n",
       "      <td>71766</td>\n",
       "      <td>2018-03-31 16:58:33.1490</td>\n",
       "      <td>2018-04-01 12:54:39.2630</td>\n",
       "      <td>4</td>\n",
       "      <td>Cyril Magnin St at Ellis St</td>\n",
       "      <td>37.785881</td>\n",
       "      <td>-122.408915</td>\n",
       "      <td>6</td>\n",
       "      <td>The Embarcadero at Sansome St</td>\n",
       "      <td>37.804770</td>\n",
       "      <td>-122.403234</td>\n",
       "      <td>341</td>\n",
       "      <td>Customer</td>\n",
       "      <td>1964.0</td>\n",
       "      <td>Female</td>\n",
       "      <td>No</td>\n",
       "    </tr>\n",
       "    <tr>\n",
       "      <th>1</th>\n",
       "      <td>62569</td>\n",
       "      <td>2018-03-31 19:03:35.9160</td>\n",
       "      <td>2018-04-01 12:26:25.0350</td>\n",
       "      <td>78</td>\n",
       "      <td>Folsom St at 9th St</td>\n",
       "      <td>37.773717</td>\n",
       "      <td>-122.411647</td>\n",
       "      <td>47</td>\n",
       "      <td>4th St at Harrison St</td>\n",
       "      <td>37.780955</td>\n",
       "      <td>-122.399749</td>\n",
       "      <td>536</td>\n",
       "      <td>Subscriber</td>\n",
       "      <td>1984.0</td>\n",
       "      <td>Male</td>\n",
       "      <td>No</td>\n",
       "    </tr>\n",
       "    <tr>\n",
       "      <th>2</th>\n",
       "      <td>56221</td>\n",
       "      <td>2018-03-31 20:13:13.5640</td>\n",
       "      <td>2018-04-01 11:50:14.8400</td>\n",
       "      <td>258</td>\n",
       "      <td>University Ave at Oxford St</td>\n",
       "      <td>37.872355</td>\n",
       "      <td>-122.266447</td>\n",
       "      <td>239</td>\n",
       "      <td>Bancroft Way at Telegraph Ave</td>\n",
       "      <td>37.868813</td>\n",
       "      <td>-122.258764</td>\n",
       "      <td>3245</td>\n",
       "      <td>Customer</td>\n",
       "      <td>1983.0</td>\n",
       "      <td>Male</td>\n",
       "      <td>No</td>\n",
       "    </tr>\n",
       "    <tr>\n",
       "      <th>3</th>\n",
       "      <td>85844</td>\n",
       "      <td>2018-03-31 11:28:07.6580</td>\n",
       "      <td>2018-04-01 11:18:52.6130</td>\n",
       "      <td>186</td>\n",
       "      <td>Lakeside Dr at 14th St</td>\n",
       "      <td>37.801319</td>\n",
       "      <td>-122.262642</td>\n",
       "      <td>340</td>\n",
       "      <td>Harmon St at Adeline St</td>\n",
       "      <td>37.849735</td>\n",
       "      <td>-122.270582</td>\n",
       "      <td>3722</td>\n",
       "      <td>Customer</td>\n",
       "      <td>NaN</td>\n",
       "      <td>NaN</td>\n",
       "      <td>No</td>\n",
       "    </tr>\n",
       "    <tr>\n",
       "      <th>4</th>\n",
       "      <td>1566</td>\n",
       "      <td>2018-03-31 23:37:56.6400</td>\n",
       "      <td>2018-04-01 00:04:02.8930</td>\n",
       "      <td>193</td>\n",
       "      <td>Grand Ave at Santa Clara Ave</td>\n",
       "      <td>37.812744</td>\n",
       "      <td>-122.247215</td>\n",
       "      <td>196</td>\n",
       "      <td>Grand Ave at Perkins St</td>\n",
       "      <td>37.808894</td>\n",
       "      <td>-122.256460</td>\n",
       "      <td>2355</td>\n",
       "      <td>Subscriber</td>\n",
       "      <td>1979.0</td>\n",
       "      <td>Male</td>\n",
       "      <td>No</td>\n",
       "    </tr>\n",
       "  </tbody>\n",
       "</table>\n",
       "</div>"
      ],
      "text/plain": [
       "   duration_sec                start_time                  end_time  \\\n",
       "0         71766  2018-03-31 16:58:33.1490  2018-04-01 12:54:39.2630   \n",
       "1         62569  2018-03-31 19:03:35.9160  2018-04-01 12:26:25.0350   \n",
       "2         56221  2018-03-31 20:13:13.5640  2018-04-01 11:50:14.8400   \n",
       "3         85844  2018-03-31 11:28:07.6580  2018-04-01 11:18:52.6130   \n",
       "4          1566  2018-03-31 23:37:56.6400  2018-04-01 00:04:02.8930   \n",
       "\n",
       "   start_station_id            start_station_name  start_station_latitude  \\\n",
       "0                 4   Cyril Magnin St at Ellis St               37.785881   \n",
       "1                78           Folsom St at 9th St               37.773717   \n",
       "2               258   University Ave at Oxford St               37.872355   \n",
       "3               186        Lakeside Dr at 14th St               37.801319   \n",
       "4               193  Grand Ave at Santa Clara Ave               37.812744   \n",
       "\n",
       "   start_station_longitude  end_station_id               end_station_name  \\\n",
       "0              -122.408915               6  The Embarcadero at Sansome St   \n",
       "1              -122.411647              47          4th St at Harrison St   \n",
       "2              -122.266447             239  Bancroft Way at Telegraph Ave   \n",
       "3              -122.262642             340        Harmon St at Adeline St   \n",
       "4              -122.247215             196        Grand Ave at Perkins St   \n",
       "\n",
       "   end_station_latitude  end_station_longitude  bike_id   user_type  \\\n",
       "0             37.804770            -122.403234      341    Customer   \n",
       "1             37.780955            -122.399749      536  Subscriber   \n",
       "2             37.868813            -122.258764     3245    Customer   \n",
       "3             37.849735            -122.270582     3722    Customer   \n",
       "4             37.808894            -122.256460     2355  Subscriber   \n",
       "\n",
       "   member_birth_year member_gender bike_share_for_all_trip  \n",
       "0             1964.0        Female                      No  \n",
       "1             1984.0          Male                      No  \n",
       "2             1983.0          Male                      No  \n",
       "3                NaN           NaN                      No  \n",
       "4             1979.0          Male                      No  "
      ]
     },
     "execution_count": 6,
     "metadata": {},
     "output_type": "execute_result"
    }
   ],
   "source": [
    "d1.head()"
   ]
  },
  {
   "cell_type": "code",
   "execution_count": 7,
   "id": "adfee8e5-2b7a-4f06-bd1b-130944e2231e",
   "metadata": {},
   "outputs": [
    {
     "data": {
      "text/html": [
       "<div>\n",
       "<style scoped>\n",
       "    .dataframe tbody tr th:only-of-type {\n",
       "        vertical-align: middle;\n",
       "    }\n",
       "\n",
       "    .dataframe tbody tr th {\n",
       "        vertical-align: top;\n",
       "    }\n",
       "\n",
       "    .dataframe thead th {\n",
       "        text-align: right;\n",
       "    }\n",
       "</style>\n",
       "<table border=\"1\" class=\"dataframe\">\n",
       "  <thead>\n",
       "    <tr style=\"text-align: right;\">\n",
       "      <th></th>\n",
       "      <th>duration_sec</th>\n",
       "      <th>start_time</th>\n",
       "      <th>end_time</th>\n",
       "      <th>start_station_id</th>\n",
       "      <th>start_station_name</th>\n",
       "      <th>start_station_latitude</th>\n",
       "      <th>start_station_longitude</th>\n",
       "      <th>end_station_id</th>\n",
       "      <th>end_station_name</th>\n",
       "      <th>end_station_latitude</th>\n",
       "      <th>end_station_longitude</th>\n",
       "      <th>bike_id</th>\n",
       "      <th>user_type</th>\n",
       "      <th>member_birth_year</th>\n",
       "      <th>member_gender</th>\n",
       "      <th>bike_share_for_all_trip</th>\n",
       "    </tr>\n",
       "  </thead>\n",
       "  <tbody>\n",
       "    <tr>\n",
       "      <th>0</th>\n",
       "      <td>59989</td>\n",
       "      <td>2018-07-31 18:20:32.7230</td>\n",
       "      <td>2018-08-01 11:00:22.1890</td>\n",
       "      <td>197.0</td>\n",
       "      <td>El Embarcadero at Grand Ave</td>\n",
       "      <td>37.808848</td>\n",
       "      <td>-122.249680</td>\n",
       "      <td>181.0</td>\n",
       "      <td>Grand Ave at Webster St</td>\n",
       "      <td>37.811377</td>\n",
       "      <td>-122.265192</td>\n",
       "      <td>1953</td>\n",
       "      <td>Customer</td>\n",
       "      <td>1995.0</td>\n",
       "      <td>Male</td>\n",
       "      <td>No</td>\n",
       "    </tr>\n",
       "    <tr>\n",
       "      <th>1</th>\n",
       "      <td>60232</td>\n",
       "      <td>2018-07-31 17:24:26.2350</td>\n",
       "      <td>2018-08-01 10:08:18.7520</td>\n",
       "      <td>77.0</td>\n",
       "      <td>11th St at Natoma St</td>\n",
       "      <td>37.773507</td>\n",
       "      <td>-122.416040</td>\n",
       "      <td>356.0</td>\n",
       "      <td>Valencia St at Clinton Park</td>\n",
       "      <td>37.769188</td>\n",
       "      <td>-122.422285</td>\n",
       "      <td>3010</td>\n",
       "      <td>Subscriber</td>\n",
       "      <td>1994.0</td>\n",
       "      <td>Female</td>\n",
       "      <td>No</td>\n",
       "    </tr>\n",
       "    <tr>\n",
       "      <th>2</th>\n",
       "      <td>43864</td>\n",
       "      <td>2018-07-31 21:03:26.7030</td>\n",
       "      <td>2018-08-01 09:14:30.8340</td>\n",
       "      <td>NaN</td>\n",
       "      <td>NaN</td>\n",
       "      <td>37.410000</td>\n",
       "      <td>-121.940000</td>\n",
       "      <td>NaN</td>\n",
       "      <td>NaN</td>\n",
       "      <td>37.410000</td>\n",
       "      <td>-121.940000</td>\n",
       "      <td>4273</td>\n",
       "      <td>Subscriber</td>\n",
       "      <td>1998.0</td>\n",
       "      <td>Male</td>\n",
       "      <td>No</td>\n",
       "    </tr>\n",
       "    <tr>\n",
       "      <th>3</th>\n",
       "      <td>51522</td>\n",
       "      <td>2018-07-31 18:54:23.7210</td>\n",
       "      <td>2018-08-01 09:13:06.6610</td>\n",
       "      <td>114.0</td>\n",
       "      <td>Rhode Island St at 17th St</td>\n",
       "      <td>37.764478</td>\n",
       "      <td>-122.402570</td>\n",
       "      <td>345.0</td>\n",
       "      <td>Hubbell St at 16th St</td>\n",
       "      <td>37.766474</td>\n",
       "      <td>-122.398295</td>\n",
       "      <td>1043</td>\n",
       "      <td>Subscriber</td>\n",
       "      <td>1990.0</td>\n",
       "      <td>Female</td>\n",
       "      <td>No</td>\n",
       "    </tr>\n",
       "    <tr>\n",
       "      <th>4</th>\n",
       "      <td>83380</td>\n",
       "      <td>2018-07-31 09:22:29.1000</td>\n",
       "      <td>2018-08-01 08:32:09.2700</td>\n",
       "      <td>213.0</td>\n",
       "      <td>32nd St at Adeline St</td>\n",
       "      <td>37.823847</td>\n",
       "      <td>-122.281193</td>\n",
       "      <td>198.0</td>\n",
       "      <td>Snow Park</td>\n",
       "      <td>37.807813</td>\n",
       "      <td>-122.264496</td>\n",
       "      <td>1336</td>\n",
       "      <td>Subscriber</td>\n",
       "      <td>1982.0</td>\n",
       "      <td>Male</td>\n",
       "      <td>No</td>\n",
       "    </tr>\n",
       "  </tbody>\n",
       "</table>\n",
       "</div>"
      ],
      "text/plain": [
       "   duration_sec                start_time                  end_time  \\\n",
       "0         59989  2018-07-31 18:20:32.7230  2018-08-01 11:00:22.1890   \n",
       "1         60232  2018-07-31 17:24:26.2350  2018-08-01 10:08:18.7520   \n",
       "2         43864  2018-07-31 21:03:26.7030  2018-08-01 09:14:30.8340   \n",
       "3         51522  2018-07-31 18:54:23.7210  2018-08-01 09:13:06.6610   \n",
       "4         83380  2018-07-31 09:22:29.1000  2018-08-01 08:32:09.2700   \n",
       "\n",
       "   start_station_id           start_station_name  start_station_latitude  \\\n",
       "0             197.0  El Embarcadero at Grand Ave               37.808848   \n",
       "1              77.0         11th St at Natoma St               37.773507   \n",
       "2               NaN                          NaN               37.410000   \n",
       "3             114.0   Rhode Island St at 17th St               37.764478   \n",
       "4             213.0        32nd St at Adeline St               37.823847   \n",
       "\n",
       "   start_station_longitude  end_station_id             end_station_name  \\\n",
       "0              -122.249680           181.0      Grand Ave at Webster St   \n",
       "1              -122.416040           356.0  Valencia St at Clinton Park   \n",
       "2              -121.940000             NaN                          NaN   \n",
       "3              -122.402570           345.0        Hubbell St at 16th St   \n",
       "4              -122.281193           198.0                    Snow Park   \n",
       "\n",
       "   end_station_latitude  end_station_longitude  bike_id   user_type  \\\n",
       "0             37.811377            -122.265192     1953    Customer   \n",
       "1             37.769188            -122.422285     3010  Subscriber   \n",
       "2             37.410000            -121.940000     4273  Subscriber   \n",
       "3             37.766474            -122.398295     1043  Subscriber   \n",
       "4             37.807813            -122.264496     1336  Subscriber   \n",
       "\n",
       "   member_birth_year member_gender bike_share_for_all_trip  \n",
       "0             1995.0          Male                      No  \n",
       "1             1994.0        Female                      No  \n",
       "2             1998.0          Male                      No  \n",
       "3             1990.0        Female                      No  \n",
       "4             1982.0          Male                      No  "
      ]
     },
     "execution_count": 7,
     "metadata": {},
     "output_type": "execute_result"
    }
   ],
   "source": [
    "d2.head()"
   ]
  },
  {
   "cell_type": "code",
   "execution_count": 8,
   "id": "3f0376aa-f1ae-43e2-a335-9aafeace2e4a",
   "metadata": {},
   "outputs": [
    {
     "data": {
      "text/html": [
       "<div>\n",
       "<style scoped>\n",
       "    .dataframe tbody tr th:only-of-type {\n",
       "        vertical-align: middle;\n",
       "    }\n",
       "\n",
       "    .dataframe tbody tr th {\n",
       "        vertical-align: top;\n",
       "    }\n",
       "\n",
       "    .dataframe thead th {\n",
       "        text-align: right;\n",
       "    }\n",
       "</style>\n",
       "<table border=\"1\" class=\"dataframe\">\n",
       "  <thead>\n",
       "    <tr style=\"text-align: right;\">\n",
       "      <th></th>\n",
       "      <th>duration_sec</th>\n",
       "      <th>start_time</th>\n",
       "      <th>end_time</th>\n",
       "      <th>start_station_id</th>\n",
       "      <th>start_station_name</th>\n",
       "      <th>start_station_latitude</th>\n",
       "      <th>start_station_longitude</th>\n",
       "      <th>end_station_id</th>\n",
       "      <th>end_station_name</th>\n",
       "      <th>end_station_latitude</th>\n",
       "      <th>end_station_longitude</th>\n",
       "      <th>bike_id</th>\n",
       "      <th>user_type</th>\n",
       "      <th>member_birth_year</th>\n",
       "      <th>member_gender</th>\n",
       "      <th>bike_share_for_all_trip</th>\n",
       "    </tr>\n",
       "  </thead>\n",
       "  <tbody>\n",
       "    <tr>\n",
       "      <th>0</th>\n",
       "      <td>79489</td>\n",
       "      <td>2018-11-30 13:40:32.7690</td>\n",
       "      <td>2018-12-01 11:45:21.9720</td>\n",
       "      <td>NaN</td>\n",
       "      <td>NaN</td>\n",
       "      <td>37.420000</td>\n",
       "      <td>-121.940000</td>\n",
       "      <td>NaN</td>\n",
       "      <td>NaN</td>\n",
       "      <td>37.410000</td>\n",
       "      <td>-121.940000</td>\n",
       "      <td>4105</td>\n",
       "      <td>Customer</td>\n",
       "      <td>1982.0</td>\n",
       "      <td>Female</td>\n",
       "      <td>No</td>\n",
       "    </tr>\n",
       "    <tr>\n",
       "      <th>1</th>\n",
       "      <td>42847</td>\n",
       "      <td>2018-11-30 20:13:45.5090</td>\n",
       "      <td>2018-12-01 08:07:53.1330</td>\n",
       "      <td>37.0</td>\n",
       "      <td>2nd St at Folsom St</td>\n",
       "      <td>37.785000</td>\n",
       "      <td>-122.395936</td>\n",
       "      <td>30.0</td>\n",
       "      <td>San Francisco Caltrain (Townsend St at 4th St)</td>\n",
       "      <td>37.776598</td>\n",
       "      <td>-122.395282</td>\n",
       "      <td>2614</td>\n",
       "      <td>Customer</td>\n",
       "      <td>1992.0</td>\n",
       "      <td>Male</td>\n",
       "      <td>No</td>\n",
       "    </tr>\n",
       "    <tr>\n",
       "      <th>2</th>\n",
       "      <td>1128</td>\n",
       "      <td>2018-11-30 23:58:26.4310</td>\n",
       "      <td>2018-12-01 00:17:14.4880</td>\n",
       "      <td>249.0</td>\n",
       "      <td>Russell St at College Ave</td>\n",
       "      <td>37.858473</td>\n",
       "      <td>-122.253253</td>\n",
       "      <td>249.0</td>\n",
       "      <td>Russell St at College Ave</td>\n",
       "      <td>37.858473</td>\n",
       "      <td>-122.253253</td>\n",
       "      <td>1496</td>\n",
       "      <td>Subscriber</td>\n",
       "      <td>1998.0</td>\n",
       "      <td>Male</td>\n",
       "      <td>Yes</td>\n",
       "    </tr>\n",
       "    <tr>\n",
       "      <th>3</th>\n",
       "      <td>2476</td>\n",
       "      <td>2018-11-30 23:35:06.7230</td>\n",
       "      <td>2018-12-01 00:16:23.4740</td>\n",
       "      <td>104.0</td>\n",
       "      <td>4th St at 16th St</td>\n",
       "      <td>37.767045</td>\n",
       "      <td>-122.390833</td>\n",
       "      <td>15.0</td>\n",
       "      <td>San Francisco Ferry Building (Harry Bridges Pl...</td>\n",
       "      <td>37.795392</td>\n",
       "      <td>-122.394203</td>\n",
       "      <td>1334</td>\n",
       "      <td>Subscriber</td>\n",
       "      <td>1959.0</td>\n",
       "      <td>Male</td>\n",
       "      <td>No</td>\n",
       "    </tr>\n",
       "    <tr>\n",
       "      <th>4</th>\n",
       "      <td>1273</td>\n",
       "      <td>2018-11-30 23:54:12.3890</td>\n",
       "      <td>2018-12-01 00:15:26.3680</td>\n",
       "      <td>44.0</td>\n",
       "      <td>Civic Center/UN Plaza BART Station (Market St ...</td>\n",
       "      <td>37.781074</td>\n",
       "      <td>-122.411738</td>\n",
       "      <td>60.0</td>\n",
       "      <td>8th St at Ringold St</td>\n",
       "      <td>37.774520</td>\n",
       "      <td>-122.409449</td>\n",
       "      <td>393</td>\n",
       "      <td>Subscriber</td>\n",
       "      <td>1993.0</td>\n",
       "      <td>Female</td>\n",
       "      <td>Yes</td>\n",
       "    </tr>\n",
       "  </tbody>\n",
       "</table>\n",
       "</div>"
      ],
      "text/plain": [
       "   duration_sec                start_time                  end_time  \\\n",
       "0         79489  2018-11-30 13:40:32.7690  2018-12-01 11:45:21.9720   \n",
       "1         42847  2018-11-30 20:13:45.5090  2018-12-01 08:07:53.1330   \n",
       "2          1128  2018-11-30 23:58:26.4310  2018-12-01 00:17:14.4880   \n",
       "3          2476  2018-11-30 23:35:06.7230  2018-12-01 00:16:23.4740   \n",
       "4          1273  2018-11-30 23:54:12.3890  2018-12-01 00:15:26.3680   \n",
       "\n",
       "   start_station_id                                 start_station_name  \\\n",
       "0               NaN                                                NaN   \n",
       "1              37.0                                2nd St at Folsom St   \n",
       "2             249.0                          Russell St at College Ave   \n",
       "3             104.0                                  4th St at 16th St   \n",
       "4              44.0  Civic Center/UN Plaza BART Station (Market St ...   \n",
       "\n",
       "   start_station_latitude  start_station_longitude  end_station_id  \\\n",
       "0               37.420000              -121.940000             NaN   \n",
       "1               37.785000              -122.395936            30.0   \n",
       "2               37.858473              -122.253253           249.0   \n",
       "3               37.767045              -122.390833            15.0   \n",
       "4               37.781074              -122.411738            60.0   \n",
       "\n",
       "                                    end_station_name  end_station_latitude  \\\n",
       "0                                                NaN             37.410000   \n",
       "1     San Francisco Caltrain (Townsend St at 4th St)             37.776598   \n",
       "2                          Russell St at College Ave             37.858473   \n",
       "3  San Francisco Ferry Building (Harry Bridges Pl...             37.795392   \n",
       "4                               8th St at Ringold St             37.774520   \n",
       "\n",
       "   end_station_longitude  bike_id   user_type  member_birth_year  \\\n",
       "0            -121.940000     4105    Customer             1982.0   \n",
       "1            -122.395282     2614    Customer             1992.0   \n",
       "2            -122.253253     1496  Subscriber             1998.0   \n",
       "3            -122.394203     1334  Subscriber             1959.0   \n",
       "4            -122.409449      393  Subscriber             1993.0   \n",
       "\n",
       "  member_gender bike_share_for_all_trip  \n",
       "0        Female                      No  \n",
       "1          Male                      No  \n",
       "2          Male                     Yes  \n",
       "3          Male                      No  \n",
       "4        Female                     Yes  "
      ]
     },
     "execution_count": 8,
     "metadata": {},
     "output_type": "execute_result"
    }
   ],
   "source": [
    "d3.head()"
   ]
  },
  {
   "cell_type": "code",
   "execution_count": 9,
   "id": "4594f6c2-6445-4bc2-8556-3c2cedaa04fb",
   "metadata": {},
   "outputs": [
    {
     "data": {
      "text/html": [
       "<div>\n",
       "<style scoped>\n",
       "    .dataframe tbody tr th:only-of-type {\n",
       "        vertical-align: middle;\n",
       "    }\n",
       "\n",
       "    .dataframe tbody tr th {\n",
       "        vertical-align: top;\n",
       "    }\n",
       "\n",
       "    .dataframe thead th {\n",
       "        text-align: right;\n",
       "    }\n",
       "</style>\n",
       "<table border=\"1\" class=\"dataframe\">\n",
       "  <thead>\n",
       "    <tr style=\"text-align: right;\">\n",
       "      <th></th>\n",
       "      <th>duration_sec</th>\n",
       "      <th>start_time</th>\n",
       "      <th>end_time</th>\n",
       "      <th>start_station_id</th>\n",
       "      <th>start_station_name</th>\n",
       "      <th>start_station_latitude</th>\n",
       "      <th>start_station_longitude</th>\n",
       "      <th>end_station_id</th>\n",
       "      <th>end_station_name</th>\n",
       "      <th>end_station_latitude</th>\n",
       "      <th>end_station_longitude</th>\n",
       "      <th>bike_id</th>\n",
       "      <th>user_type</th>\n",
       "      <th>member_birth_year</th>\n",
       "      <th>member_gender</th>\n",
       "      <th>bike_share_for_all_trip</th>\n",
       "    </tr>\n",
       "  </thead>\n",
       "  <tbody>\n",
       "    <tr>\n",
       "      <th>0</th>\n",
       "      <td>68529</td>\n",
       "      <td>2018-12-31 20:03:11.7350</td>\n",
       "      <td>2019-01-01 15:05:21.5580</td>\n",
       "      <td>217.0</td>\n",
       "      <td>27th St at MLK Jr Way</td>\n",
       "      <td>37.817015</td>\n",
       "      <td>-122.271761</td>\n",
       "      <td>217.0</td>\n",
       "      <td>27th St at MLK Jr Way</td>\n",
       "      <td>37.817015</td>\n",
       "      <td>-122.271761</td>\n",
       "      <td>3305</td>\n",
       "      <td>Customer</td>\n",
       "      <td>NaN</td>\n",
       "      <td>NaN</td>\n",
       "      <td>No</td>\n",
       "    </tr>\n",
       "    <tr>\n",
       "      <th>1</th>\n",
       "      <td>63587</td>\n",
       "      <td>2018-12-31 19:00:32.1210</td>\n",
       "      <td>2019-01-01 12:40:19.3660</td>\n",
       "      <td>NaN</td>\n",
       "      <td>NaN</td>\n",
       "      <td>37.400000</td>\n",
       "      <td>-121.940000</td>\n",
       "      <td>NaN</td>\n",
       "      <td>NaN</td>\n",
       "      <td>37.400000</td>\n",
       "      <td>-121.940000</td>\n",
       "      <td>4281</td>\n",
       "      <td>Customer</td>\n",
       "      <td>1995.0</td>\n",
       "      <td>Male</td>\n",
       "      <td>No</td>\n",
       "    </tr>\n",
       "    <tr>\n",
       "      <th>2</th>\n",
       "      <td>64169</td>\n",
       "      <td>2018-12-31 15:09:01.0820</td>\n",
       "      <td>2019-01-01 08:58:30.0910</td>\n",
       "      <td>NaN</td>\n",
       "      <td>NaN</td>\n",
       "      <td>37.400000</td>\n",
       "      <td>-121.940000</td>\n",
       "      <td>NaN</td>\n",
       "      <td>NaN</td>\n",
       "      <td>37.400000</td>\n",
       "      <td>-121.940000</td>\n",
       "      <td>4267</td>\n",
       "      <td>Customer</td>\n",
       "      <td>1988.0</td>\n",
       "      <td>Male</td>\n",
       "      <td>No</td>\n",
       "    </tr>\n",
       "    <tr>\n",
       "      <th>3</th>\n",
       "      <td>30550</td>\n",
       "      <td>2018-12-31 19:26:20.7750</td>\n",
       "      <td>2019-01-01 03:55:30.7930</td>\n",
       "      <td>13.0</td>\n",
       "      <td>Commercial St at Montgomery St</td>\n",
       "      <td>37.794231</td>\n",
       "      <td>-122.402923</td>\n",
       "      <td>19.0</td>\n",
       "      <td>Post St at Kearny St</td>\n",
       "      <td>37.788975</td>\n",
       "      <td>-122.403452</td>\n",
       "      <td>5422</td>\n",
       "      <td>Subscriber</td>\n",
       "      <td>1986.0</td>\n",
       "      <td>Male</td>\n",
       "      <td>Yes</td>\n",
       "    </tr>\n",
       "    <tr>\n",
       "      <th>4</th>\n",
       "      <td>2150</td>\n",
       "      <td>2018-12-31 23:59:12.0970</td>\n",
       "      <td>2019-01-01 00:35:02.1530</td>\n",
       "      <td>3.0</td>\n",
       "      <td>Powell St BART Station (Market St at 4th St)</td>\n",
       "      <td>37.786375</td>\n",
       "      <td>-122.404904</td>\n",
       "      <td>368.0</td>\n",
       "      <td>Myrtle St at Polk St</td>\n",
       "      <td>37.785434</td>\n",
       "      <td>-122.419622</td>\n",
       "      <td>4820</td>\n",
       "      <td>Customer</td>\n",
       "      <td>NaN</td>\n",
       "      <td>NaN</td>\n",
       "      <td>No</td>\n",
       "    </tr>\n",
       "  </tbody>\n",
       "</table>\n",
       "</div>"
      ],
      "text/plain": [
       "   duration_sec                start_time                  end_time  \\\n",
       "0         68529  2018-12-31 20:03:11.7350  2019-01-01 15:05:21.5580   \n",
       "1         63587  2018-12-31 19:00:32.1210  2019-01-01 12:40:19.3660   \n",
       "2         64169  2018-12-31 15:09:01.0820  2019-01-01 08:58:30.0910   \n",
       "3         30550  2018-12-31 19:26:20.7750  2019-01-01 03:55:30.7930   \n",
       "4          2150  2018-12-31 23:59:12.0970  2019-01-01 00:35:02.1530   \n",
       "\n",
       "   start_station_id                            start_station_name  \\\n",
       "0             217.0                         27th St at MLK Jr Way   \n",
       "1               NaN                                           NaN   \n",
       "2               NaN                                           NaN   \n",
       "3              13.0                Commercial St at Montgomery St   \n",
       "4               3.0  Powell St BART Station (Market St at 4th St)   \n",
       "\n",
       "   start_station_latitude  start_station_longitude  end_station_id  \\\n",
       "0               37.817015              -122.271761           217.0   \n",
       "1               37.400000              -121.940000             NaN   \n",
       "2               37.400000              -121.940000             NaN   \n",
       "3               37.794231              -122.402923            19.0   \n",
       "4               37.786375              -122.404904           368.0   \n",
       "\n",
       "        end_station_name  end_station_latitude  end_station_longitude  \\\n",
       "0  27th St at MLK Jr Way             37.817015            -122.271761   \n",
       "1                    NaN             37.400000            -121.940000   \n",
       "2                    NaN             37.400000            -121.940000   \n",
       "3   Post St at Kearny St             37.788975            -122.403452   \n",
       "4   Myrtle St at Polk St             37.785434            -122.419622   \n",
       "\n",
       "   bike_id   user_type  member_birth_year member_gender  \\\n",
       "0     3305    Customer                NaN           NaN   \n",
       "1     4281    Customer             1995.0          Male   \n",
       "2     4267    Customer             1988.0          Male   \n",
       "3     5422  Subscriber             1986.0          Male   \n",
       "4     4820    Customer                NaN           NaN   \n",
       "\n",
       "  bike_share_for_all_trip  \n",
       "0                      No  \n",
       "1                      No  \n",
       "2                      No  \n",
       "3                     Yes  \n",
       "4                      No  "
      ]
     },
     "execution_count": 9,
     "metadata": {},
     "output_type": "execute_result"
    }
   ],
   "source": [
    "d4.head()"
   ]
  },
  {
   "cell_type": "code",
   "execution_count": 10,
   "id": "9ce6330d-3aeb-4cbc-8ea9-d752037a0a15",
   "metadata": {},
   "outputs": [],
   "source": [
    "df = pd.concat([d1,d2,d3,d4],)"
   ]
  },
  {
   "cell_type": "code",
   "execution_count": 11,
   "id": "046954fb-f331-4101-a3ba-f99ed54958c9",
   "metadata": {},
   "outputs": [
    {
     "data": {
      "text/html": [
       "<div>\n",
       "<style scoped>\n",
       "    .dataframe tbody tr th:only-of-type {\n",
       "        vertical-align: middle;\n",
       "    }\n",
       "\n",
       "    .dataframe tbody tr th {\n",
       "        vertical-align: top;\n",
       "    }\n",
       "\n",
       "    .dataframe thead th {\n",
       "        text-align: right;\n",
       "    }\n",
       "</style>\n",
       "<table border=\"1\" class=\"dataframe\">\n",
       "  <thead>\n",
       "    <tr style=\"text-align: right;\">\n",
       "      <th></th>\n",
       "      <th>duration_sec</th>\n",
       "      <th>start_time</th>\n",
       "      <th>end_time</th>\n",
       "      <th>start_station_id</th>\n",
       "      <th>start_station_name</th>\n",
       "      <th>start_station_latitude</th>\n",
       "      <th>start_station_longitude</th>\n",
       "      <th>end_station_id</th>\n",
       "      <th>end_station_name</th>\n",
       "      <th>end_station_latitude</th>\n",
       "      <th>end_station_longitude</th>\n",
       "      <th>bike_id</th>\n",
       "      <th>user_type</th>\n",
       "      <th>member_birth_year</th>\n",
       "      <th>member_gender</th>\n",
       "      <th>bike_share_for_all_trip</th>\n",
       "    </tr>\n",
       "  </thead>\n",
       "  <tbody>\n",
       "    <tr>\n",
       "      <th>0</th>\n",
       "      <td>71766</td>\n",
       "      <td>2018-03-31 16:58:33.1490</td>\n",
       "      <td>2018-04-01 12:54:39.2630</td>\n",
       "      <td>4.0</td>\n",
       "      <td>Cyril Magnin St at Ellis St</td>\n",
       "      <td>37.785881</td>\n",
       "      <td>-122.408915</td>\n",
       "      <td>6.0</td>\n",
       "      <td>The Embarcadero at Sansome St</td>\n",
       "      <td>37.804770</td>\n",
       "      <td>-122.403234</td>\n",
       "      <td>341</td>\n",
       "      <td>Customer</td>\n",
       "      <td>1964.0</td>\n",
       "      <td>Female</td>\n",
       "      <td>No</td>\n",
       "    </tr>\n",
       "    <tr>\n",
       "      <th>1</th>\n",
       "      <td>62569</td>\n",
       "      <td>2018-03-31 19:03:35.9160</td>\n",
       "      <td>2018-04-01 12:26:25.0350</td>\n",
       "      <td>78.0</td>\n",
       "      <td>Folsom St at 9th St</td>\n",
       "      <td>37.773717</td>\n",
       "      <td>-122.411647</td>\n",
       "      <td>47.0</td>\n",
       "      <td>4th St at Harrison St</td>\n",
       "      <td>37.780955</td>\n",
       "      <td>-122.399749</td>\n",
       "      <td>536</td>\n",
       "      <td>Subscriber</td>\n",
       "      <td>1984.0</td>\n",
       "      <td>Male</td>\n",
       "      <td>No</td>\n",
       "    </tr>\n",
       "    <tr>\n",
       "      <th>2</th>\n",
       "      <td>56221</td>\n",
       "      <td>2018-03-31 20:13:13.5640</td>\n",
       "      <td>2018-04-01 11:50:14.8400</td>\n",
       "      <td>258.0</td>\n",
       "      <td>University Ave at Oxford St</td>\n",
       "      <td>37.872355</td>\n",
       "      <td>-122.266447</td>\n",
       "      <td>239.0</td>\n",
       "      <td>Bancroft Way at Telegraph Ave</td>\n",
       "      <td>37.868813</td>\n",
       "      <td>-122.258764</td>\n",
       "      <td>3245</td>\n",
       "      <td>Customer</td>\n",
       "      <td>1983.0</td>\n",
       "      <td>Male</td>\n",
       "      <td>No</td>\n",
       "    </tr>\n",
       "    <tr>\n",
       "      <th>3</th>\n",
       "      <td>85844</td>\n",
       "      <td>2018-03-31 11:28:07.6580</td>\n",
       "      <td>2018-04-01 11:18:52.6130</td>\n",
       "      <td>186.0</td>\n",
       "      <td>Lakeside Dr at 14th St</td>\n",
       "      <td>37.801319</td>\n",
       "      <td>-122.262642</td>\n",
       "      <td>340.0</td>\n",
       "      <td>Harmon St at Adeline St</td>\n",
       "      <td>37.849735</td>\n",
       "      <td>-122.270582</td>\n",
       "      <td>3722</td>\n",
       "      <td>Customer</td>\n",
       "      <td>NaN</td>\n",
       "      <td>NaN</td>\n",
       "      <td>No</td>\n",
       "    </tr>\n",
       "    <tr>\n",
       "      <th>4</th>\n",
       "      <td>1566</td>\n",
       "      <td>2018-03-31 23:37:56.6400</td>\n",
       "      <td>2018-04-01 00:04:02.8930</td>\n",
       "      <td>193.0</td>\n",
       "      <td>Grand Ave at Santa Clara Ave</td>\n",
       "      <td>37.812744</td>\n",
       "      <td>-122.247215</td>\n",
       "      <td>196.0</td>\n",
       "      <td>Grand Ave at Perkins St</td>\n",
       "      <td>37.808894</td>\n",
       "      <td>-122.256460</td>\n",
       "      <td>2355</td>\n",
       "      <td>Subscriber</td>\n",
       "      <td>1979.0</td>\n",
       "      <td>Male</td>\n",
       "      <td>No</td>\n",
       "    </tr>\n",
       "    <tr>\n",
       "      <th>...</th>\n",
       "      <td>...</td>\n",
       "      <td>...</td>\n",
       "      <td>...</td>\n",
       "      <td>...</td>\n",
       "      <td>...</td>\n",
       "      <td>...</td>\n",
       "      <td>...</td>\n",
       "      <td>...</td>\n",
       "      <td>...</td>\n",
       "      <td>...</td>\n",
       "      <td>...</td>\n",
       "      <td>...</td>\n",
       "      <td>...</td>\n",
       "      <td>...</td>\n",
       "      <td>...</td>\n",
       "      <td>...</td>\n",
       "    </tr>\n",
       "    <tr>\n",
       "      <th>131358</th>\n",
       "      <td>473</td>\n",
       "      <td>2018-12-01 00:11:54.8110</td>\n",
       "      <td>2018-12-01 00:19:48.5470</td>\n",
       "      <td>345.0</td>\n",
       "      <td>Hubbell St at 16th St</td>\n",
       "      <td>37.766474</td>\n",
       "      <td>-122.398295</td>\n",
       "      <td>81.0</td>\n",
       "      <td>Berry St at 4th St</td>\n",
       "      <td>37.775880</td>\n",
       "      <td>-122.393170</td>\n",
       "      <td>3035</td>\n",
       "      <td>Subscriber</td>\n",
       "      <td>1982.0</td>\n",
       "      <td>Female</td>\n",
       "      <td>No</td>\n",
       "    </tr>\n",
       "    <tr>\n",
       "      <th>131359</th>\n",
       "      <td>841</td>\n",
       "      <td>2018-12-01 00:02:48.7260</td>\n",
       "      <td>2018-12-01 00:16:49.7660</td>\n",
       "      <td>10.0</td>\n",
       "      <td>Washington St at Kearny St</td>\n",
       "      <td>37.795393</td>\n",
       "      <td>-122.404770</td>\n",
       "      <td>58.0</td>\n",
       "      <td>Market St at 10th St</td>\n",
       "      <td>37.776619</td>\n",
       "      <td>-122.417385</td>\n",
       "      <td>2034</td>\n",
       "      <td>Subscriber</td>\n",
       "      <td>1999.0</td>\n",
       "      <td>Female</td>\n",
       "      <td>No</td>\n",
       "    </tr>\n",
       "    <tr>\n",
       "      <th>131360</th>\n",
       "      <td>260</td>\n",
       "      <td>2018-12-01 00:05:27.6150</td>\n",
       "      <td>2018-12-01 00:09:47.9560</td>\n",
       "      <td>245.0</td>\n",
       "      <td>Downtown Berkeley BART</td>\n",
       "      <td>37.870139</td>\n",
       "      <td>-122.268422</td>\n",
       "      <td>255.0</td>\n",
       "      <td>Virginia St at Shattuck Ave</td>\n",
       "      <td>37.876573</td>\n",
       "      <td>-122.269528</td>\n",
       "      <td>2243</td>\n",
       "      <td>Subscriber</td>\n",
       "      <td>1991.0</td>\n",
       "      <td>Male</td>\n",
       "      <td>No</td>\n",
       "    </tr>\n",
       "    <tr>\n",
       "      <th>131361</th>\n",
       "      <td>292</td>\n",
       "      <td>2018-12-01 00:03:06.5490</td>\n",
       "      <td>2018-12-01 00:07:59.0800</td>\n",
       "      <td>93.0</td>\n",
       "      <td>4th St at Mission Bay Blvd S</td>\n",
       "      <td>37.770407</td>\n",
       "      <td>-122.391198</td>\n",
       "      <td>126.0</td>\n",
       "      <td>Esprit Park</td>\n",
       "      <td>37.761634</td>\n",
       "      <td>-122.390648</td>\n",
       "      <td>545</td>\n",
       "      <td>Subscriber</td>\n",
       "      <td>1963.0</td>\n",
       "      <td>Male</td>\n",
       "      <td>No</td>\n",
       "    </tr>\n",
       "    <tr>\n",
       "      <th>131362</th>\n",
       "      <td>150</td>\n",
       "      <td>2018-12-01 00:03:05.7420</td>\n",
       "      <td>2018-12-01 00:05:36.0260</td>\n",
       "      <td>107.0</td>\n",
       "      <td>17th St at Dolores St</td>\n",
       "      <td>37.763015</td>\n",
       "      <td>-122.426497</td>\n",
       "      <td>119.0</td>\n",
       "      <td>18th St at Noe St</td>\n",
       "      <td>37.761047</td>\n",
       "      <td>-122.432642</td>\n",
       "      <td>4319</td>\n",
       "      <td>Subscriber</td>\n",
       "      <td>NaN</td>\n",
       "      <td>NaN</td>\n",
       "      <td>No</td>\n",
       "    </tr>\n",
       "  </tbody>\n",
       "</table>\n",
       "<p>576102 rows × 16 columns</p>\n",
       "</div>"
      ],
      "text/plain": [
       "        duration_sec                start_time                  end_time  \\\n",
       "0              71766  2018-03-31 16:58:33.1490  2018-04-01 12:54:39.2630   \n",
       "1              62569  2018-03-31 19:03:35.9160  2018-04-01 12:26:25.0350   \n",
       "2              56221  2018-03-31 20:13:13.5640  2018-04-01 11:50:14.8400   \n",
       "3              85844  2018-03-31 11:28:07.6580  2018-04-01 11:18:52.6130   \n",
       "4               1566  2018-03-31 23:37:56.6400  2018-04-01 00:04:02.8930   \n",
       "...              ...                       ...                       ...   \n",
       "131358           473  2018-12-01 00:11:54.8110  2018-12-01 00:19:48.5470   \n",
       "131359           841  2018-12-01 00:02:48.7260  2018-12-01 00:16:49.7660   \n",
       "131360           260  2018-12-01 00:05:27.6150  2018-12-01 00:09:47.9560   \n",
       "131361           292  2018-12-01 00:03:06.5490  2018-12-01 00:07:59.0800   \n",
       "131362           150  2018-12-01 00:03:05.7420  2018-12-01 00:05:36.0260   \n",
       "\n",
       "        start_station_id            start_station_name  \\\n",
       "0                    4.0   Cyril Magnin St at Ellis St   \n",
       "1                   78.0           Folsom St at 9th St   \n",
       "2                  258.0   University Ave at Oxford St   \n",
       "3                  186.0        Lakeside Dr at 14th St   \n",
       "4                  193.0  Grand Ave at Santa Clara Ave   \n",
       "...                  ...                           ...   \n",
       "131358             345.0         Hubbell St at 16th St   \n",
       "131359              10.0    Washington St at Kearny St   \n",
       "131360             245.0        Downtown Berkeley BART   \n",
       "131361              93.0  4th St at Mission Bay Blvd S   \n",
       "131362             107.0         17th St at Dolores St   \n",
       "\n",
       "        start_station_latitude  start_station_longitude  end_station_id  \\\n",
       "0                    37.785881              -122.408915             6.0   \n",
       "1                    37.773717              -122.411647            47.0   \n",
       "2                    37.872355              -122.266447           239.0   \n",
       "3                    37.801319              -122.262642           340.0   \n",
       "4                    37.812744              -122.247215           196.0   \n",
       "...                        ...                      ...             ...   \n",
       "131358               37.766474              -122.398295            81.0   \n",
       "131359               37.795393              -122.404770            58.0   \n",
       "131360               37.870139              -122.268422           255.0   \n",
       "131361               37.770407              -122.391198           126.0   \n",
       "131362               37.763015              -122.426497           119.0   \n",
       "\n",
       "                     end_station_name  end_station_latitude  \\\n",
       "0       The Embarcadero at Sansome St             37.804770   \n",
       "1               4th St at Harrison St             37.780955   \n",
       "2       Bancroft Way at Telegraph Ave             37.868813   \n",
       "3             Harmon St at Adeline St             37.849735   \n",
       "4             Grand Ave at Perkins St             37.808894   \n",
       "...                               ...                   ...   \n",
       "131358             Berry St at 4th St             37.775880   \n",
       "131359           Market St at 10th St             37.776619   \n",
       "131360    Virginia St at Shattuck Ave             37.876573   \n",
       "131361                    Esprit Park             37.761634   \n",
       "131362              18th St at Noe St             37.761047   \n",
       "\n",
       "        end_station_longitude  bike_id   user_type  member_birth_year  \\\n",
       "0                 -122.403234      341    Customer             1964.0   \n",
       "1                 -122.399749      536  Subscriber             1984.0   \n",
       "2                 -122.258764     3245    Customer             1983.0   \n",
       "3                 -122.270582     3722    Customer                NaN   \n",
       "4                 -122.256460     2355  Subscriber             1979.0   \n",
       "...                       ...      ...         ...                ...   \n",
       "131358            -122.393170     3035  Subscriber             1982.0   \n",
       "131359            -122.417385     2034  Subscriber             1999.0   \n",
       "131360            -122.269528     2243  Subscriber             1991.0   \n",
       "131361            -122.390648      545  Subscriber             1963.0   \n",
       "131362            -122.432642     4319  Subscriber                NaN   \n",
       "\n",
       "       member_gender bike_share_for_all_trip  \n",
       "0             Female                      No  \n",
       "1               Male                      No  \n",
       "2               Male                      No  \n",
       "3                NaN                      No  \n",
       "4               Male                      No  \n",
       "...              ...                     ...  \n",
       "131358        Female                      No  \n",
       "131359        Female                      No  \n",
       "131360          Male                      No  \n",
       "131361          Male                      No  \n",
       "131362           NaN                      No  \n",
       "\n",
       "[576102 rows x 16 columns]"
      ]
     },
     "execution_count": 11,
     "metadata": {},
     "output_type": "execute_result"
    }
   ],
   "source": [
    "df"
   ]
  },
  {
   "cell_type": "code",
   "execution_count": 12,
   "id": "e22b0f44-0ac0-4a54-ab17-cce47a8ee8ab",
   "metadata": {},
   "outputs": [
    {
     "data": {
      "text/plain": [
       "Index(['duration_sec', 'start_time', 'end_time', 'start_station_id',\n",
       "       'start_station_name', 'start_station_latitude',\n",
       "       'start_station_longitude', 'end_station_id', 'end_station_name',\n",
       "       'end_station_latitude', 'end_station_longitude', 'bike_id', 'user_type',\n",
       "       'member_birth_year', 'member_gender', 'bike_share_for_all_trip'],\n",
       "      dtype='object')"
      ]
     },
     "execution_count": 12,
     "metadata": {},
     "output_type": "execute_result"
    }
   ],
   "source": [
    "df.columns"
   ]
  },
  {
   "cell_type": "code",
   "execution_count": 13,
   "id": "4a098a11-84c2-4963-90f7-125cdaee9ab6",
   "metadata": {},
   "outputs": [
    {
     "data": {
      "text/html": [
       "<div>\n",
       "<style scoped>\n",
       "    .dataframe tbody tr th:only-of-type {\n",
       "        vertical-align: middle;\n",
       "    }\n",
       "\n",
       "    .dataframe tbody tr th {\n",
       "        vertical-align: top;\n",
       "    }\n",
       "\n",
       "    .dataframe thead th {\n",
       "        text-align: right;\n",
       "    }\n",
       "</style>\n",
       "<table border=\"1\" class=\"dataframe\">\n",
       "  <thead>\n",
       "    <tr style=\"text-align: right;\">\n",
       "      <th></th>\n",
       "      <th>duration_sec</th>\n",
       "      <th>start_time</th>\n",
       "      <th>end_time</th>\n",
       "      <th>start_station_id</th>\n",
       "      <th>start_station_name</th>\n",
       "      <th>start_station_latitude</th>\n",
       "      <th>start_station_longitude</th>\n",
       "      <th>end_station_id</th>\n",
       "      <th>end_station_name</th>\n",
       "      <th>end_station_latitude</th>\n",
       "      <th>end_station_longitude</th>\n",
       "      <th>bike_id</th>\n",
       "      <th>user_type</th>\n",
       "      <th>member_birth_year</th>\n",
       "      <th>member_gender</th>\n",
       "      <th>bike_share_for_all_trip</th>\n",
       "    </tr>\n",
       "  </thead>\n",
       "  <tbody>\n",
       "    <tr>\n",
       "      <th>0</th>\n",
       "      <td>71766</td>\n",
       "      <td>2018-03-31 16:58:33.1490</td>\n",
       "      <td>2018-04-01 12:54:39.2630</td>\n",
       "      <td>4.0</td>\n",
       "      <td>Cyril Magnin St at Ellis St</td>\n",
       "      <td>37.785881</td>\n",
       "      <td>-122.408915</td>\n",
       "      <td>6.0</td>\n",
       "      <td>The Embarcadero at Sansome St</td>\n",
       "      <td>37.80477</td>\n",
       "      <td>-122.403234</td>\n",
       "      <td>341</td>\n",
       "      <td>Customer</td>\n",
       "      <td>1964.0</td>\n",
       "      <td>Female</td>\n",
       "      <td>No</td>\n",
       "    </tr>\n",
       "  </tbody>\n",
       "</table>\n",
       "</div>"
      ],
      "text/plain": [
       "   duration_sec                start_time                  end_time  \\\n",
       "0         71766  2018-03-31 16:58:33.1490  2018-04-01 12:54:39.2630   \n",
       "\n",
       "   start_station_id           start_station_name  start_station_latitude  \\\n",
       "0               4.0  Cyril Magnin St at Ellis St               37.785881   \n",
       "\n",
       "   start_station_longitude  end_station_id               end_station_name  \\\n",
       "0              -122.408915             6.0  The Embarcadero at Sansome St   \n",
       "\n",
       "   end_station_latitude  end_station_longitude  bike_id user_type  \\\n",
       "0              37.80477            -122.403234      341  Customer   \n",
       "\n",
       "   member_birth_year member_gender bike_share_for_all_trip  \n",
       "0             1964.0        Female                      No  "
      ]
     },
     "execution_count": 13,
     "metadata": {},
     "output_type": "execute_result"
    }
   ],
   "source": [
    "df.head(1)"
   ]
  },
  {
   "cell_type": "markdown",
   "id": "3c459cbc-647a-4131-8cea-b9c08bead6b6",
   "metadata": {},
   "source": [
    "#### b. What was the time duration for the average trip taken?"
   ]
  },
  {
   "cell_type": "code",
   "execution_count": 14,
   "id": "7e7c05b4-b1c2-41e6-9adb-b5560d0126c0",
   "metadata": {},
   "outputs": [
    {
     "name": "stdout",
     "output_type": "stream",
     "text": [
      "Average time duration for trip taken 834.4304272507298\n"
     ]
    }
   ],
   "source": [
    "print(\"Average time duration for trip taken\",df[\"duration_sec\"].mean())"
   ]
  },
  {
   "cell_type": "markdown",
   "id": "f3922d7b-5cdd-4b55-8ffb-a2ef10bafd14",
   "metadata": {},
   "source": [
    "#### c. Is there any correlation between the months and the trip duration? Use scatter plot\n"
   ]
  },
  {
   "cell_type": "code",
   "execution_count": 21,
   "id": "5f34b3ce-fa38-40eb-b737-882e828bf033",
   "metadata": {},
   "outputs": [],
   "source": [
    "start_month = df[\"start_time\"].str[5:7]\n",
    "end_month = df[\"end_time\"].str[5:7]"
   ]
  },
  {
   "cell_type": "code",
   "execution_count": 26,
   "id": "7beec5ef-200c-4b70-a3ea-25b60e4e6233",
   "metadata": {},
   "outputs": [
    {
     "data": {
      "text/plain": [
       "<matplotlib.collections.PathCollection at 0x23051524cd0>"
      ]
     },
     "execution_count": 26,
     "metadata": {},
     "output_type": "execute_result"
    },
    {
     "data": {
      "image/png": "[encoded data removed]",
      "text/plain": [
       "<Figure size 640x480 with 1 Axes>"
      ]
     },
     "metadata": {},
     "output_type": "display_data"
    }
   ],
   "source": [
    "plt.scatter(x=start_month,y=df[\"duration_sec\"])"
   ]
  },
  {
   "cell_type": "markdown",
   "id": "ae189ee7-527f-4aad-ad62-d408838c6b49",
   "metadata": {},
   "source": [
    "#### d. Do seasons affect the duration of a trip ? Comment your observations."
   ]
  },
  {
   "cell_type": "code",
   "execution_count": 29,
   "id": "0fd8dd4b-bc8d-4a52-9e6e-dfa90fdd8be1",
   "metadata": {},
   "outputs": [
    {
     "name": "stdout",
     "output_type": "stream",
     "text": [
      "Yes , seasons affect the duration of a trip as tourists travel mostly in march , july , november and december we can say that they travel mostly when it is summer holidays or winter holidays.\n"
     ]
    }
   ],
   "source": [
    "print(\"Yes , seasons affect the duration of a trip as tourists travel mostly in march , july , november and december we can say that they travel mostly when it is summer holidays or winter holidays.\")"
   ]
  },
  {
   "cell_type": "markdown",
   "id": "08c4de22-f667-4125-8943-b5764988ec02",
   "metadata": {},
   "source": [
    "#### e. Using multivariate exploration, explain whether there is any relation between short trips and the users."
   ]
  },
  {
   "cell_type": "code",
   "execution_count": 38,
   "id": "aed13aec-9a99-4826-bb2c-e5a839f02cf9",
   "metadata": {},
   "outputs": [
    {
     "data": {
      "text/plain": [
       "<Axes: xlabel='user_type', ylabel='duration_sec'>"
      ]
     },
     "execution_count": 38,
     "metadata": {},
     "output_type": "execute_result"
    },
    {
     "data": {
      "image/png": "[encoded data removed]",
      "text/plain": [
       "<Figure size 640x480 with 1 Axes>"
      ]
     },
     "metadata": {},
     "output_type": "display_data"
    }
   ],
   "source": [
    "nm_sorted = df.sort_values('duration_sec', ascending = False)\n",
    "sns.scatterplot(x = 'user_type', y = 'duration_sec', data = nm_sorted)"
   ]
  },
  {
   "cell_type": "code",
   "execution_count": null,
   "id": "6f14b95f-f7b6-4bf3-8b26-9b7ffdb68b2b",
   "metadata": {},
   "outputs": [],
   "source": []
  }
 ],
 "metadata": {
  "kernelspec": {
   "display_name": "Python 3 (ipykernel)",
   "language": "python",
   "name": "python3"
  },
  "language_info": {
   "codemirror_mode": {
    "name": "ipython",
    "version": 3
   },
   "file_extension": ".py",
   "mimetype": "text/x-python",
   "name": "python",
   "nbconvert_exporter": "python",
   "pygments_lexer": "ipython3",
   "version": "3.11.7"
  }
 },
 "nbformat": 4,
 "nbformat_minor": 5
}
