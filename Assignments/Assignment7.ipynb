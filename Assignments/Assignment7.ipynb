{
 "cells": [
  {
   "cell_type": "markdown",
   "id": "c8f92544-3445-4729-bf0f-26b01fc52ebd",
   "metadata": {},
   "source": [
    " # Pandas Set"
   ]
  },
  {
   "cell_type": "code",
   "execution_count": 4,
   "id": "c849cafa-0dd8-4cdf-9443-b24217d56d57",
   "metadata": {},
   "outputs": [],
   "source": [
    "import pandas as pd\n",
    "import numpy as np"
   ]
  },
  {
   "cell_type": "markdown",
   "id": "f1b65d32-aba3-480f-8404-edd0c41b57be",
   "metadata": {},
   "source": [
    "#### 1. Write a Pandas program to read a csv file from a specified source and print the first 5 rows."
   ]
  },
  {
   "cell_type": "code",
   "execution_count": 5,
   "id": "8af2dc4d-7142-4a16-9ccf-5aee90f61063",
   "metadata": {},
   "outputs": [],
   "source": [
    "df = pd.read_csv('diamonds.csv').drop(columns='Unnamed: 0') "
   ]
  },
  {
   "cell_type": "code",
   "execution_count": 6,
   "id": "5e92445e-4d31-4c95-8a0a-dff58aae1f37",
   "metadata": {},
   "outputs": [
    {
     "data": {
      "text/html": [
       "<div>\n",
       "<style scoped>\n",
       "    .dataframe tbody tr th:only-of-type {\n",
       "        vertical-align: middle;\n",
       "    }\n",
       "\n",
       "    .dataframe tbody tr th {\n",
       "        vertical-align: top;\n",
       "    }\n",
       "\n",
       "    .dataframe thead th {\n",
       "        text-align: right;\n",
       "    }\n",
       "</style>\n",
       "<table border=\"1\" class=\"dataframe\">\n",
       "  <thead>\n",
       "    <tr style=\"text-align: right;\">\n",
       "      <th></th>\n",
       "      <th>carat</th>\n",
       "      <th>cut</th>\n",
       "      <th>color</th>\n",
       "      <th>clarity</th>\n",
       "      <th>depth</th>\n",
       "      <th>table</th>\n",
       "      <th>price</th>\n",
       "      <th>x</th>\n",
       "      <th>y</th>\n",
       "      <th>z</th>\n",
       "    </tr>\n",
       "  </thead>\n",
       "  <tbody>\n",
       "    <tr>\n",
       "      <th>0</th>\n",
       "      <td>0.23</td>\n",
       "      <td>Ideal</td>\n",
       "      <td>E</td>\n",
       "      <td>SI2</td>\n",
       "      <td>61.5</td>\n",
       "      <td>55.0</td>\n",
       "      <td>326</td>\n",
       "      <td>3.95</td>\n",
       "      <td>3.98</td>\n",
       "      <td>2.43</td>\n",
       "    </tr>\n",
       "    <tr>\n",
       "      <th>1</th>\n",
       "      <td>0.21</td>\n",
       "      <td>Premium</td>\n",
       "      <td>E</td>\n",
       "      <td>SI1</td>\n",
       "      <td>59.8</td>\n",
       "      <td>61.0</td>\n",
       "      <td>326</td>\n",
       "      <td>3.89</td>\n",
       "      <td>3.84</td>\n",
       "      <td>2.31</td>\n",
       "    </tr>\n",
       "    <tr>\n",
       "      <th>2</th>\n",
       "      <td>0.23</td>\n",
       "      <td>Good</td>\n",
       "      <td>E</td>\n",
       "      <td>VS1</td>\n",
       "      <td>56.9</td>\n",
       "      <td>65.0</td>\n",
       "      <td>327</td>\n",
       "      <td>4.05</td>\n",
       "      <td>4.07</td>\n",
       "      <td>2.31</td>\n",
       "    </tr>\n",
       "    <tr>\n",
       "      <th>3</th>\n",
       "      <td>0.29</td>\n",
       "      <td>Premium</td>\n",
       "      <td>I</td>\n",
       "      <td>VS2</td>\n",
       "      <td>62.4</td>\n",
       "      <td>58.0</td>\n",
       "      <td>334</td>\n",
       "      <td>4.20</td>\n",
       "      <td>4.23</td>\n",
       "      <td>2.63</td>\n",
       "    </tr>\n",
       "    <tr>\n",
       "      <th>4</th>\n",
       "      <td>0.31</td>\n",
       "      <td>Good</td>\n",
       "      <td>J</td>\n",
       "      <td>SI2</td>\n",
       "      <td>63.3</td>\n",
       "      <td>58.0</td>\n",
       "      <td>335</td>\n",
       "      <td>4.34</td>\n",
       "      <td>4.35</td>\n",
       "      <td>2.75</td>\n",
       "    </tr>\n",
       "  </tbody>\n",
       "</table>\n",
       "</div>"
      ],
      "text/plain": [
       "   carat      cut color clarity  depth  table  price     x     y     z\n",
       "0   0.23    Ideal     E     SI2   61.5   55.0    326  3.95  3.98  2.43\n",
       "1   0.21  Premium     E     SI1   59.8   61.0    326  3.89  3.84  2.31\n",
       "2   0.23     Good     E     VS1   56.9   65.0    327  4.05  4.07  2.31\n",
       "3   0.29  Premium     I     VS2   62.4   58.0    334  4.20  4.23  2.63\n",
       "4   0.31     Good     J     SI2   63.3   58.0    335  4.34  4.35  2.75"
      ]
     },
     "execution_count": 6,
     "metadata": {},
     "output_type": "execute_result"
    }
   ],
   "source": [
    "df.head(5)"
   ]
  },
  {
   "cell_type": "markdown",
   "id": "330bd184-ce5b-415b-91e4-f697499d41a5",
   "metadata": {},
   "source": [
    "#### 2. Write a Pandas program to read a dataset from diamonds DataFrame and modify the default columns values and print the first 6 rows."
   ]
  },
  {
   "cell_type": "code",
   "execution_count": 8,
   "id": "82bfb723-0831-4add-b556-cefb25ce13db",
   "metadata": {},
   "outputs": [
    {
     "name": "stdout",
     "output_type": "stream",
     "text": [
      "First 6 rows:\n",
      "   carat        cut     x     y     z\n",
      "0   0.23      Ideal  3.95  3.98  2.43\n",
      "1   0.21    Premium  3.89  3.84  2.31\n",
      "2   0.23       Good  4.05  4.07  2.31\n",
      "3   0.29    Premium  4.20  4.23  2.63\n",
      "4   0.31       Good  4.34  4.35  2.75\n",
      "5   0.24  Very Good  3.94  3.96  2.48\n"
     ]
    }
   ],
   "source": [
    "cols = ['carat', 'cut', 'x', 'y', 'z']\n",
    "print(\"First 6 rows:\")\n",
    "print(df[cols].head(6))"
   ]
  },
  {
   "cell_type": "markdown",
   "id": "6c34c7ae-5197-4f81-a674-cac1b707a514",
   "metadata": {},
   "source": [
    "#### 3. Write a Pandas program to select a series from diamonds DataFrame. Print the content of the series."
   ]
  },
  {
   "cell_type": "code",
   "execution_count": 13,
   "id": "56fede73-b2a9-4e3c-8b6b-a3f53e88be24",
   "metadata": {},
   "outputs": [
    {
     "name": "stdout",
     "output_type": "stream",
     "text": [
      "0        Ideal\n",
      "1      Premium\n",
      "2         Good\n",
      "3    Very Good\n",
      "4         Fair\n",
      "dtype: object\n"
     ]
    }
   ],
   "source": [
    "Cut = pd.Series(df['cut'].unique())\n",
    "print(Cut)"
   ]
  },
  {
   "cell_type": "markdown",
   "id": "ebd5b925-9d42-4212-8c93-b08838479731",
   "metadata": {},
   "source": [
    "#### 4. Write a Pandas program to create a new 'Quality -color' Series (use bracket notation to define the Series name) of the diamonds DataFrame."
   ]
  },
  {
   "cell_type": "code",
   "execution_count": 179,
   "id": "806d40bc-b6f9-4595-bda2-817e130b7e80",
   "metadata": {},
   "outputs": [
    {
     "name": "stdout",
     "output_type": "stream",
     "text": [
      "  color  carat      cut clarity  depth  table  price     x     y     z  \\\n",
      "0     E   0.23    Ideal     SI2   61.5   55.0    326  3.95  3.98  2.43   \n",
      "1     E   0.21  Premium     SI1   59.8   61.0    326  3.89  3.84  2.31   \n",
      "2     E   0.23     Good     VS1   56.9   65.0    327  4.05  4.07  2.31   \n",
      "3     I   0.29  Premium     VS2   62.4   58.0    334  4.20  4.23  2.63   \n",
      "4     J   0.31     Good     SI2   63.3   58.0    335  4.34  4.35  2.75   \n",
      "\n",
      "  Quality–color  \n",
      "0       Ideal E  \n",
      "1     Premium E  \n",
      "2        Good E  \n",
      "3     Premium I  \n",
      "4        Good J  \n"
     ]
    }
   ],
   "source": [
    "df['Quality–color'] = df.cut + \" \" + df.color\n",
    "print(df.head())"
   ]
  },
  {
   "cell_type": "markdown",
   "id": "b9eac18e-0679-4a3d-938e-c3bd3ca3b24b",
   "metadata": {},
   "source": [
    "#### 5. Write a Pandas program to find the number of rows and columns and data type of each column of diamonds Dataframe."
   ]
  },
  {
   "cell_type": "code",
   "execution_count": 180,
   "id": "9840b671-c061-4302-b563-751c5088fb18",
   "metadata": {},
   "outputs": [
    {
     "name": "stdout",
     "output_type": "stream",
     "text": [
      "Number of rows and columns:\n",
      "(53940, 11)\n",
      "\n",
      "Data type of each column:\n",
      "color             object\n",
      "carat            float64\n",
      "cut               object\n",
      "clarity           object\n",
      "depth            float64\n",
      "table            float64\n",
      "price              int64\n",
      "x                float64\n",
      "y                float64\n",
      "z                float64\n",
      "Quality–color     object\n",
      "dtype: object\n"
     ]
    }
   ],
   "source": [
    "print(\"Number of rows and columns:\")\n",
    "print(df.shape)\n",
    "print(\"\\nData type of each column:\")\n",
    "print(df.dtypes)\n"
   ]
  },
  {
   "cell_type": "markdown",
   "id": "3d4e7aea-6854-44e3-a9dc-c98fa08eef22",
   "metadata": {},
   "source": [
    "#### 6. Write a Pandas program to summarize only 'object' columns of the diamonds Dataframe.\n"
   ]
  },
  {
   "cell_type": "code",
   "execution_count": 181,
   "id": "26513ae4-8a83-4163-8b01-03567bb2e084",
   "metadata": {},
   "outputs": [
    {
     "name": "stdout",
     "output_type": "stream",
     "text": [
      "Summarize of 'object' columns:\n",
      "        color    cut clarity Quality–color\n",
      "count   53940  53940   53940         53940\n",
      "unique      7      5       8            35\n",
      "top         G  Ideal     SI1       Ideal G\n",
      "freq    11292  21551   13065          4884\n"
     ]
    }
   ],
   "source": [
    "print(\"Summarize of 'object' columns:\")\n",
    "print(df.describe(include=['object']))"
   ]
  },
  {
   "cell_type": "markdown",
   "id": "d88e7c44-19e9-4677-9b7b-7d082679c6d1",
   "metadata": {},
   "source": [
    "#### 7. Write a Pandas program to rename two of the columns of the diamonds Dataframe.\n"
   ]
  },
  {
   "cell_type": "code",
   "execution_count": 52,
   "id": "d0f1c3fe-1519-4594-9ef4-f27fd1db4aee",
   "metadata": {},
   "outputs": [
    {
     "name": "stdout",
     "output_type": "stream",
     "text": [
      "Original Dataframe:\n",
      "   carat      cut color clarity  depth  table  price     x     y     z\n",
      "0   0.23    Ideal     E     SI2   61.5   55.0    326  3.95  3.98  2.43\n",
      "1   0.21  Premium     E     SI1   59.8   61.0    326  3.89  3.84  2.31\n",
      "2   0.23     Good     E     VS1   56.9   65.0    327  4.05  4.07  2.31\n",
      "3   0.29  Premium     I     VS2   62.4   58.0    334  4.20  4.23  2.63\n",
      "4   0.31     Good     J     SI2   63.3   58.0    335  4.34  4.35  2.75\n",
      "\n",
      "After renaming two of the columns of the said dataframe:\n",
      "   carat      cut diamond_color dimaond_clarity  depth  table  price     x  \\\n",
      "0   0.23    Ideal             E             SI2   61.5   55.0    326  3.95   \n",
      "1   0.21  Premium             E             SI1   59.8   61.0    326  3.89   \n",
      "2   0.23     Good             E             VS1   56.9   65.0    327  4.05   \n",
      "3   0.29  Premium             I             VS2   62.4   58.0    334  4.20   \n",
      "4   0.31     Good             J             SI2   63.3   58.0    335  4.34   \n",
      "\n",
      "      y     z  \n",
      "0  3.98  2.43  \n",
      "1  3.84  2.31  \n",
      "2  4.07  2.31  \n",
      "3  4.23  2.63  \n",
      "4  4.35  2.75  \n"
     ]
    }
   ],
   "source": [
    "print(\"Original Dataframe:\")\n",
    "print(df.head())\n",
    "print(\"\\nAfter renaming two of the columns of the said dataframe:\")\n",
    "df.rename(columns={'color':'diamond_color', 'clarity':'dimaond_clarity'}, inplace=True)\n",
    "print(df.head())"
   ]
  },
  {
   "cell_type": "markdown",
   "id": "f27aa74c-fee8-457f-88b4-fc8ba27d05a8",
   "metadata": {},
   "source": [
    "#### ``8. Write a Pandas program to rename all the columns of the diamonds Dataframe.\n"
   ]
  },
  {
   "cell_type": "code",
   "execution_count": 183,
   "id": "c7487921-cd98-4776-824e-4d4e0b7a66cf",
   "metadata": {},
   "outputs": [
    {
     "name": "stdout",
     "output_type": "stream",
     "text": [
      "Original Dataframe:\n",
      "  diamond_color  carat      cut dimaond_clarity  depth  table  price     x  \\\n",
      "0             E   0.23    Ideal             SI2   61.5   55.0    326  3.95   \n",
      "1             E   0.21  Premium             SI1   59.8   61.0    326  3.89   \n",
      "2             E   0.23     Good             VS1   56.9   65.0    327  4.05   \n",
      "3             I   0.29  Premium             VS2   62.4   58.0    334  4.20   \n",
      "4             J   0.31     Good             SI2   63.3   58.0    335  4.34   \n",
      "\n",
      "      y     z Quality–color  \n",
      "0  3.98  2.43       Ideal E  \n",
      "1  3.84  2.31     Premium E  \n",
      "2  4.07  2.31        Good E  \n",
      "3  4.23  2.63     Premium I  \n",
      "4  4.35  2.75        Good J  \n",
      "\n",
      "After renaming all the columns of the said dataframe:\n",
      "  new_carat  new_cut new_color new_clarity  new_depth  new_table  new_price  \\\n",
      "0         E     0.23     Ideal         SI2       61.5       55.0        326   \n",
      "1         E     0.21   Premium         SI1       59.8       61.0        326   \n",
      "2         E     0.23      Good         VS1       56.9       65.0        327   \n",
      "3         I     0.29   Premium         VS2       62.4       58.0        334   \n",
      "4         J     0.31      Good         SI2       63.3       58.0        335   \n",
      "\n",
      "   new_x  new_y  new_z new_Quality–color  \n",
      "0   3.95   3.98   2.43           Ideal E  \n",
      "1   3.89   3.84   2.31         Premium E  \n",
      "2   4.05   4.07   2.31            Good E  \n",
      "3   4.20   4.23   2.63         Premium I  \n",
      "4   4.34   4.35   2.75            Good J  \n"
     ]
    }
   ],
   "source": [
    "print(\"Original Dataframe:\")\n",
    "print(df.head())\n",
    "diamonds_cols = ['new_carat', 'new_cut', 'new_color', 'new_clarity', 'new_depth', 'new_table', 'new_price', 'new_x', 'new_y', 'new_z','new_Quality–color']\n",
    "df.columns = diamonds_cols\n",
    "print(\"\\nAfter renaming all the columns of the said dataframe:\")\n",
    "df.rename(columns={'color':'diamond_color', 'clarity':'dimaond_clarity'}, inplace=True)\n",
    "print(df.head())"
   ]
  },
  {
   "cell_type": "markdown",
   "id": "2551ae0e-8545-42dd-ab60-d1e33cc5a908",
   "metadata": {},
   "source": [
    "#### 9. Write a Pandas program to remove the second column of the diamonds Dataframe.\n"
   ]
  },
  {
   "cell_type": "code",
   "execution_count": 184,
   "id": "8ea2aa58-e1a8-4d6e-813d-c9405f82ad20",
   "metadata": {},
   "outputs": [
    {
     "name": "stdout",
     "output_type": "stream",
     "text": [
      "Original Dataframe:\n",
      "  new_carat  new_cut new_color new_clarity  new_depth  new_table  new_price  \\\n",
      "0         E     0.23     Ideal         SI2       61.5       55.0        326   \n",
      "1         E     0.21   Premium         SI1       59.8       61.0        326   \n",
      "2         E     0.23      Good         VS1       56.9       65.0        327   \n",
      "3         I     0.29   Premium         VS2       62.4       58.0        334   \n",
      "4         J     0.31      Good         SI2       63.3       58.0        335   \n",
      "\n",
      "   new_x  new_y  new_z new_Quality–color  \n",
      "0   3.95   3.98   2.43           Ideal E  \n",
      "1   3.89   3.84   2.31         Premium E  \n",
      "2   4.05   4.07   2.31            Good E  \n",
      "3   4.20   4.23   2.63         Premium I  \n",
      "4   4.34   4.35   2.75            Good J  \n",
      "\n",
      "Remove the second column of the said Dataframe:\n",
      "  new_carat new_color new_clarity  new_depth  new_table  new_price  new_x  \\\n",
      "0         E     Ideal         SI2       61.5       55.0        326   3.95   \n",
      "1         E   Premium         SI1       59.8       61.0        326   3.89   \n",
      "2         E      Good         VS1       56.9       65.0        327   4.05   \n",
      "3         I   Premium         VS2       62.4       58.0        334   4.20   \n",
      "4         J      Good         SI2       63.3       58.0        335   4.34   \n",
      "\n",
      "   new_y  new_z new_Quality–color  \n",
      "0   3.98   2.43           Ideal E  \n",
      "1   3.84   2.31         Premium E  \n",
      "2   4.07   2.31            Good E  \n",
      "3   4.23   2.63         Premium I  \n",
      "4   4.35   2.75            Good J  \n"
     ]
    }
   ],
   "source": [
    "print(\"Original Dataframe:\")\n",
    "print(df.head())\n",
    "print(\"\\nRemove the second column of the said Dataframe:\")\n",
    "df.drop('new_cut', axis=1, inplace=True)\n",
    "print(df.head())"
   ]
  },
  {
   "cell_type": "markdown",
   "id": "a1c9c76e-89d6-4e2d-8fd2-1b01b2207587",
   "metadata": {},
   "source": [
    "#### 10. Write a Pandas program to remove multiple columns at once of the diamonds Dataframe.\n"
   ]
  },
  {
   "cell_type": "code",
   "execution_count": 185,
   "id": "6e6fbfe8-9fc8-4bb3-bb9a-e7a43e4dbb35",
   "metadata": {},
   "outputs": [
    {
     "name": "stdout",
     "output_type": "stream",
     "text": [
      "Original Dataframe:\n",
      "  new_carat new_color new_clarity  new_depth  new_table  new_price  new_x  \\\n",
      "0         E     Ideal         SI2       61.5       55.0        326   3.95   \n",
      "1         E   Premium         SI1       59.8       61.0        326   3.89   \n",
      "2         E      Good         VS1       56.9       65.0        327   4.05   \n",
      "3         I   Premium         VS2       62.4       58.0        334   4.20   \n",
      "4         J      Good         SI2       63.3       58.0        335   4.34   \n",
      "\n",
      "   new_y  new_z new_Quality–color  \n",
      "0   3.98   2.43           Ideal E  \n",
      "1   3.84   2.31         Premium E  \n",
      "2   4.07   2.31            Good E  \n",
      "3   4.23   2.63         Premium I  \n",
      "4   4.35   2.75            Good J  \n",
      "\n",
      "Remove multiple columns:\n",
      "  new_clarity  new_depth  new_table  new_price  new_x  new_y  new_z  \\\n",
      "0         SI2       61.5       55.0        326   3.95   3.98   2.43   \n",
      "1         SI1       59.8       61.0        326   3.89   3.84   2.31   \n",
      "2         VS1       56.9       65.0        327   4.05   4.07   2.31   \n",
      "3         VS2       62.4       58.0        334   4.20   4.23   2.63   \n",
      "4         SI2       63.3       58.0        335   4.34   4.35   2.75   \n",
      "\n",
      "  new_Quality–color  \n",
      "0           Ideal E  \n",
      "1         Premium E  \n",
      "2            Good E  \n",
      "3         Premium I  \n",
      "4            Good J  \n"
     ]
    }
   ],
   "source": [
    "print(\"Original Dataframe:\")\n",
    "print(df.head())\n",
    "print(\"\\nRemove multiple columns:\")\n",
    "df.drop(['new_carat', 'new_color'], axis=1, inplace=True)\n",
    "print(df.head())"
   ]
  },
  {
   "cell_type": "markdown",
   "id": "84ae84a6-02f1-402f-ba3c-0ef511e15c6c",
   "metadata": {},
   "source": [
    "#### 11. Write a Pandas program to remove multiple rows at once (axis=0 refers to rows) from diamonds dataframe.\n"
   ]
  },
  {
   "cell_type": "code",
   "execution_count": 186,
   "id": "a473bbb6-f404-424c-b7bd-03f0599ee242",
   "metadata": {},
   "outputs": [
    {
     "name": "stdout",
     "output_type": "stream",
     "text": [
      "Original Dataframe:\n",
      "  new_clarity  new_depth  new_table  new_price  new_x  new_y  new_z  \\\n",
      "0         SI2       61.5       55.0        326   3.95   3.98   2.43   \n",
      "1         SI1       59.8       61.0        326   3.89   3.84   2.31   \n",
      "2         VS1       56.9       65.0        327   4.05   4.07   2.31   \n",
      "3         VS2       62.4       58.0        334   4.20   4.23   2.63   \n",
      "4         SI2       63.3       58.0        335   4.34   4.35   2.75   \n",
      "\n",
      "  new_Quality–color  \n",
      "0           Ideal E  \n",
      "1         Premium E  \n",
      "2            Good E  \n",
      "3         Premium I  \n",
      "4            Good J  \n",
      "\n",
      "Remove multiple rows:\n",
      "  new_clarity  new_depth  new_table  new_price  new_x  new_y  new_z  \\\n",
      "0         SI2       61.5       55.0        326   3.95   3.98   2.43   \n",
      "1         SI1       59.8       61.0        326   3.89   3.84   2.31   \n",
      "3         VS2       62.4       58.0        334   4.20   4.23   2.63   \n",
      "6        VVS1       62.3       57.0        336   3.95   3.98   2.47   \n",
      "7         SI1       61.9       55.0        337   4.07   4.11   2.53   \n",
      "\n",
      "  new_Quality–color  \n",
      "0           Ideal E  \n",
      "1         Premium E  \n",
      "3         Premium I  \n",
      "6       Very Good I  \n",
      "7       Very Good H  \n"
     ]
    }
   ],
   "source": [
    "print(\"Original Dataframe:\")\n",
    "print(df.head())\n",
    "print(\"\\nRemove multiple rows:\")\n",
    "df.drop([2, 4, 5], axis=0, inplace=True)\n",
    "print(df.head())"
   ]
  },
  {
   "cell_type": "markdown",
   "id": "1f9f29cf-fb60-49b5-911b-994ffa68a9e8",
   "metadata": {},
   "source": [
    "#### 12. Write a Pandas program to sort the 'cut' Series in ascending order (returns a Series) of diamonds Dataframe."
   ]
  },
  {
   "cell_type": "code",
   "execution_count": 51,
   "id": "bbef1a70-33bd-4f96-ba55-69157359a784",
   "metadata": {},
   "outputs": [
    {
     "name": "stdout",
     "output_type": "stream",
     "text": [
      "Original Dataframe:\n",
      "   carat      cut color clarity  depth  table  price     x     y     z\n",
      "0   0.23    Ideal     E     SI2   61.5   55.0    326  3.95  3.98  2.43\n",
      "1   0.21  Premium     E     SI1   59.8   61.0    326  3.89  3.84  2.31\n",
      "2   0.23     Good     E     VS1   56.9   65.0    327  4.05  4.07  2.31\n",
      "3   0.29  Premium     I     VS2   62.4   58.0    334  4.20  4.23  2.63\n",
      "4   0.31     Good     J     SI2   63.3   58.0    335  4.34  4.35  2.75\n",
      "\n",
      "cut Series in ascending order :\n",
      "cut\n",
      "Ideal        21551\n",
      "Premium      13791\n",
      "Very Good    12082\n",
      "Good          4906\n",
      "Fair          1610\n",
      "Name: count, dtype: int64\n",
      "3850          Fair\n",
      "51464         Fair\n",
      "51466         Fair\n",
      "10237         Fair\n",
      "10760         Fair\n",
      "           ...    \n",
      "7402     Very Good\n",
      "43101    Very Good\n",
      "16893    Very Good\n",
      "16898    Very Good\n",
      "21164    Very Good\n",
      "Name: cut, Length: 53940, dtype: object\n"
     ]
    }
   ],
   "source": [
    "df = pd.read_csv('diamonds.csv').drop(columns='Unnamed: 0')\n",
    "print(\"Original Dataframe:\")\n",
    "print(df.head())\n",
    "print(\"\\ncut Series in ascending order :\")\n",
    "unique_value_counts = df['cut'].value_counts()\n",
    "print(unique_value_counts)\n",
    "result = df.cut.sort_values(ascending=True)\n",
    "print(result)"
   ]
  },
  {
   "cell_type": "markdown",
   "id": "f6d1cd68-0b07-40ff-823f-031e28399427",
   "metadata": {},
   "source": [
    "#### 13. Write a Pandas program to sort the 'price' Series in descending order (returns a Series) of diamonds Dataframe.\n"
   ]
  },
  {
   "cell_type": "code",
   "execution_count": 188,
   "id": "9fb838c0-b19b-49db-94aa-c0cef1b49f89",
   "metadata": {},
   "outputs": [
    {
     "name": "stdout",
     "output_type": "stream",
     "text": [
      "Original Dataframe:\n",
      "   carat      cut color clarity  depth  table  price     x     y     z\n",
      "0   0.23    Ideal     E     SI2   61.5   55.0    326  3.95  3.98  2.43\n",
      "1   0.21  Premium     E     SI1   59.8   61.0    326  3.89  3.84  2.31\n",
      "2   0.23     Good     E     VS1   56.9   65.0    327  4.05  4.07  2.31\n",
      "3   0.29  Premium     I     VS2   62.4   58.0    334  4.20  4.23  2.63\n",
      "4   0.31     Good     J     SI2   63.3   58.0    335  4.34  4.35  2.75\n",
      "\n",
      "price Series in descending order :\n",
      "27749    18823\n",
      "27748    18818\n",
      "27747    18806\n",
      "27746    18804\n",
      "27745    18803\n",
      "         ...  \n",
      "4          335\n",
      "3          334\n",
      "2          327\n",
      "1          326\n",
      "0          326\n",
      "Name: price, Length: 53940, dtype: int64\n"
     ]
    }
   ],
   "source": [
    "print(\"Original Dataframe:\")\n",
    "print(df.head())\n",
    "print(\"\\nprice Series in descending order :\")\n",
    "result = df.price.sort_values(ascending=False)\n",
    "print(result)"
   ]
  },
  {
   "cell_type": "markdown",
   "id": "54ffcb3c-03b6-4807-a848-331477ac2713",
   "metadata": {},
   "source": [
    "#### 14. Write a Pandas program to sort the entire diamonds DataFrame by the 'carat' Series in ascending and descending order.\n"
   ]
  },
  {
   "cell_type": "code",
   "execution_count": 189,
   "id": "3f36a5ac-0764-4486-87af-452c7264ef60",
   "metadata": {},
   "outputs": [
    {
     "name": "stdout",
     "output_type": "stream",
     "text": [
      "Original Dataframe:\n",
      "   carat      cut color clarity  depth  table  price     x     y     z\n",
      "0   0.23    Ideal     E     SI2   61.5   55.0    326  3.95  3.98  2.43\n",
      "1   0.21  Premium     E     SI1   59.8   61.0    326  3.89  3.84  2.31\n",
      "2   0.23     Good     E     VS1   56.9   65.0    327  4.05  4.07  2.31\n",
      "3   0.29  Premium     I     VS2   62.4   58.0    334  4.20  4.23  2.63\n",
      "4   0.31     Good     J     SI2   63.3   58.0    335  4.34  4.35  2.75\n",
      "\n",
      "Sort the entire diamonds DataFrame by the 'carat' Series in ascending order\n",
      "       carat      cut color clarity  depth  table  price      x      y     z\n",
      "31593   0.20  Premium     E     VS2   61.1   59.0    367   3.81   3.78  2.32\n",
      "31597   0.20    Ideal     D     VS2   61.5   57.0    367   3.81   3.77  2.33\n",
      "31596   0.20  Premium     F     VS2   62.6   59.0    367   3.73   3.71  2.33\n",
      "31595   0.20    Ideal     E     VS2   59.7   55.0    367   3.86   3.84  2.30\n",
      "31594   0.20  Premium     E     VS2   59.7   62.0    367   3.84   3.80  2.28\n",
      "...      ...      ...   ...     ...    ...    ...    ...    ...    ...   ...\n",
      "25999   4.01  Premium     J      I1   62.5   62.0  15223  10.02   9.94  6.24\n",
      "25998   4.01  Premium     I      I1   61.0   61.0  15223  10.14  10.10  6.17\n",
      "27130   4.13     Fair     H      I1   64.8   61.0  17329  10.00   9.85  6.43\n",
      "27630   4.50     Fair     J      I1   65.8   58.0  18531  10.23  10.16  6.72\n",
      "27415   5.01     Fair     J      I1   65.5   59.0  18018  10.74  10.54  6.98\n",
      "\n",
      "[53940 rows x 10 columns]\n",
      "\n",
      "Sort the entire diamonds DataFrame by the 'carat' Series in descending  order\n",
      "       carat      cut color clarity  depth  table  price      x      y     z\n",
      "27415   5.01     Fair     J      I1   65.5   59.0  18018  10.74  10.54  6.98\n",
      "27630   4.50     Fair     J      I1   65.8   58.0  18531  10.23  10.16  6.72\n",
      "27130   4.13     Fair     H      I1   64.8   61.0  17329  10.00   9.85  6.43\n",
      "25999   4.01  Premium     J      I1   62.5   62.0  15223  10.02   9.94  6.24\n",
      "25998   4.01  Premium     I      I1   61.0   61.0  15223  10.14  10.10  6.17\n",
      "...      ...      ...   ...     ...    ...    ...    ...    ...    ...   ...\n",
      "31592   0.20  Premium     E     VS2   59.0   60.0    367   3.81   3.78  2.24\n",
      "31591   0.20  Premium     E     VS2   59.8   62.0    367   3.79   3.77  2.26\n",
      "31601   0.20  Premium     D     VS2   61.7   60.0    367   3.77   3.72  2.31\n",
      "14      0.20  Premium     E     SI2   60.2   62.0    345   3.79   3.75  2.27\n",
      "31596   0.20  Premium     F     VS2   62.6   59.0    367   3.73   3.71  2.33\n",
      "\n",
      "[53940 rows x 10 columns]\n"
     ]
    }
   ],
   "source": [
    "print(\"Original Dataframe:\")\n",
    "print(df.head())\n",
    "print(\"\\nSort the entire diamonds DataFrame by the 'carat' Series in ascending order\")\n",
    "result = df.sort_values('carat')\n",
    "print(result)\n",
    "print(\"\\nSort the entire diamonds DataFrame by the 'carat' Series in descending  order\")\n",
    "result = df.sort_values('carat', ascending=False)\n",
    "print(result)"
   ]
  },
  {
   "cell_type": "markdown",
   "id": "147a49b1-7fbd-4a3f-a0b3-156547cc96e9",
   "metadata": {},
   "source": [
    "#### 15. Write a Pandas program to filter the DataFrame rows to only show carat weight at least 0.3.\n"
   ]
  },
  {
   "cell_type": "code",
   "execution_count": 190,
   "id": "f1d6e1ff-9544-4a7b-a1a0-1c5072a533c3",
   "metadata": {},
   "outputs": [
    {
     "name": "stdout",
     "output_type": "stream",
     "text": [
      "Original Dataframe:\n",
      "    carat        cut color clarity  depth  table  price     x     y     z\n",
      "0    0.23      Ideal     E     SI2   61.5   55.0    326  3.95  3.98  2.43\n",
      "1    0.21    Premium     E     SI1   59.8   61.0    326  3.89  3.84  2.31\n",
      "2    0.23       Good     E     VS1   56.9   65.0    327  4.05  4.07  2.31\n",
      "3    0.29    Premium     I     VS2   62.4   58.0    334  4.20  4.23  2.63\n",
      "4    0.31       Good     J     SI2   63.3   58.0    335  4.34  4.35  2.75\n",
      "5    0.24  Very Good     J    VVS2   62.8   57.0    336  3.94  3.96  2.48\n",
      "6    0.24  Very Good     I    VVS1   62.3   57.0    336  3.95  3.98  2.47\n",
      "7    0.26  Very Good     H     SI1   61.9   55.0    337  4.07  4.11  2.53\n",
      "8    0.22       Fair     E     VS2   65.1   61.0    337  3.87  3.78  2.49\n",
      "9    0.23  Very Good     H     VS1   59.4   61.0    338  4.00  4.05  2.39\n",
      "10   0.30       Good     J     SI1   64.0   55.0    339  4.25  4.28  2.73\n",
      "11   0.23      Ideal     J     VS1   62.8   56.0    340  3.93  3.90  2.46\n",
      "12   0.22    Premium     F     SI1   60.4   61.0    342  3.88  3.84  2.33\n",
      "13   0.31      Ideal     J     SI2   62.2   54.0    344  4.35  4.37  2.71\n",
      "14   0.20    Premium     E     SI2   60.2   62.0    345  3.79  3.75  2.27\n",
      "15   0.32    Premium     E      I1   60.9   58.0    345  4.38  4.42  2.68\n",
      "16   0.30      Ideal     I     SI2   62.0   54.0    348  4.31  4.34  2.68\n",
      "17   0.30       Good     J     SI1   63.4   54.0    351  4.23  4.29  2.70\n",
      "18   0.30       Good     J     SI1   63.8   56.0    351  4.23  4.26  2.71\n",
      "19   0.30  Very Good     J     SI1   62.7   59.0    351  4.21  4.27  2.66\n",
      "\n",
      "Rows to only show carat weight at least 0.3:\n",
      "[False, False, False, False, True, False, False, False, False, False, True, False, False, True, False, True, True, True, True, True]\n"
     ]
    }
   ],
   "source": [
    "print(\"Original Dataframe:\")\n",
    "print(df.head(20))\n",
    "print(\"\\nRows to only show carat weight at least 0.3:\")\n",
    "booleans = []\n",
    "for w in df.carat:\n",
    "   if w >= .3:\n",
    "       booleans.append(True)\n",
    "   else:\n",
    "       booleans.append(False)\n",
    "print(booleans[0:20])"
   ]
  },
  {
   "cell_type": "markdown",
   "id": "d30a269d-60f9-412f-b1b3-f726925c7903",
   "metadata": {},
   "source": [
    "#### 16. Write a Pandas program to convert a python list to pandas series.\n"
   ]
  },
  {
   "cell_type": "code",
   "execution_count": 191,
   "id": "4fd3af2a-4db6-4c69-a9f6-1b3fbfe084be",
   "metadata": {},
   "outputs": [
    {
     "name": "stdout",
     "output_type": "stream",
     "text": [
      "Original list:\n",
      "[1, 3, 5, 7, 9, 11]\n",
      "Convert the list to a Series:\n",
      "0     1\n",
      "1     3\n",
      "2     5\n",
      "3     7\n",
      "4     9\n",
      "5    11\n",
      "dtype: int64\n"
     ]
    }
   ],
   "source": [
    "l = [1, 3, 5, 7, 9, 11]\n",
    "print(\"Original list:\")\n",
    "print(l)\n",
    "print(\"Convert the list to a Series:\")\n",
    "result = pd.Series(l)\n",
    "print(result)"
   ]
  },
  {
   "cell_type": "markdown",
   "id": "b8bd55fc-1601-476a-8194-398598d44ede",
   "metadata": {},
   "source": [
    "#### 17. Write a Pandas program to find the details of the diamonds where length>5, width>5 and depth>5.\n"
   ]
  },
  {
   "cell_type": "code",
   "execution_count": 192,
   "id": "38b2138e-f504-4f49-98c8-5ac158296618",
   "metadata": {},
   "outputs": [
    {
     "name": "stdout",
     "output_type": "stream",
     "text": [
      "Original Dataframe:\n",
      "   carat      cut color clarity  depth  table  price     x     y     z\n",
      "0   0.23    Ideal     E     SI2   61.5   55.0    326  3.95  3.98  2.43\n",
      "1   0.21  Premium     E     SI1   59.8   61.0    326  3.89  3.84  2.31\n",
      "2   0.23     Good     E     VS1   56.9   65.0    327  4.05  4.07  2.31\n",
      "3   0.29  Premium     I     VS2   62.4   58.0    334  4.20  4.23  2.63\n",
      "4   0.31     Good     J     SI2   63.3   58.0    335  4.34  4.35  2.75\n",
      "\n",
      "Diamonds where length>5, width>5 and depth>5:\n",
      "       carat   cut color clarity  depth  table  price     x     y     z\n",
      "11778   1.83  Fair     J      I1   70.0   58.0   5083  7.34  7.28  5.12\n",
      "13002   2.14  Fair     J      I1   69.4   57.0   5405  7.74  7.70  5.36\n",
      "13118   2.15  Fair     J      I1   65.5   57.0   5430  8.01  7.95  5.23\n",
      "13562   1.96  Fair     F      I1   66.6   60.0   5554  7.59  7.56  5.04\n",
      "13757   2.22  Fair     J      I1   66.7   56.0   5607  8.04  8.02  5.36\n"
     ]
    }
   ],
   "source": [
    "print(\"Original Dataframe:\")\n",
    "print(df.head())\n",
    "print(\"\\nDiamonds where length>5, width>5 and depth>5:\")\n",
    "result = df[(df.x>5) & (df.y>5) & (df.z>5)]\n",
    "print(result.head())"
   ]
  },
  {
   "cell_type": "markdown",
   "id": "ac822694-21db-4e01-a9da-fa1a95a1468c",
   "metadata": {},
   "source": [
    "#### 18. Write a Pandas program to find the diamonds that are either Premium or Ideal.\n"
   ]
  },
  {
   "cell_type": "code",
   "execution_count": 193,
   "id": "cc1ae428-bfc5-42b7-b2e3-584243ef9157",
   "metadata": {},
   "outputs": [
    {
     "name": "stdout",
     "output_type": "stream",
     "text": [
      "Original Dataframe:\n",
      "   carat      cut color clarity  depth  table  price     x     y     z\n",
      "0   0.23    Ideal     E     SI2   61.5   55.0    326  3.95  3.98  2.43\n",
      "1   0.21  Premium     E     SI1   59.8   61.0    326  3.89  3.84  2.31\n",
      "2   0.23     Good     E     VS1   56.9   65.0    327  4.05  4.07  2.31\n",
      "3   0.29  Premium     I     VS2   62.4   58.0    334  4.20  4.23  2.63\n",
      "4   0.31     Good     J     SI2   63.3   58.0    335  4.34  4.35  2.75\n",
      "\n",
      "Diamonds that are either Premium or Ideal:\n",
      "    carat      cut color clarity  depth  table  price     x     y     z\n",
      "0    0.23    Ideal     E     SI2   61.5   55.0    326  3.95  3.98  2.43\n",
      "1    0.21  Premium     E     SI1   59.8   61.0    326  3.89  3.84  2.31\n",
      "3    0.29  Premium     I     VS2   62.4   58.0    334  4.20  4.23  2.63\n",
      "11   0.23    Ideal     J     VS1   62.8   56.0    340  3.93  3.90  2.46\n",
      "12   0.22  Premium     F     SI1   60.4   61.0    342  3.88  3.84  2.33\n"
     ]
    }
   ],
   "source": [
    "print(\"Original Dataframe:\")\n",
    "print(df.head())\n",
    "print(\"\\nDiamonds that are either Premium or Ideal:\")\n",
    "result = df[(df.cut == 'Premium') | (df.cut == 'Ideal')]\n",
    "print(result.head())"
   ]
  },
  {
   "cell_type": "markdown",
   "id": "cae1c6eb-3fff-4e3b-8263-0bdcee7fe4d2",
   "metadata": {},
   "source": [
    "#### 19. Write a Pandas program to find the diamonds that are with a Fair or Good or Premium."
   ]
  },
  {
   "cell_type": "code",
   "execution_count": 194,
   "id": "6ce31b4b-0787-4ce9-99c0-94b6dc395e02",
   "metadata": {},
   "outputs": [
    {
     "name": "stdout",
     "output_type": "stream",
     "text": [
      "Original Dataframe:\n",
      "   carat      cut color clarity  depth  table  price     x     y     z\n",
      "0   0.23    Ideal     E     SI2   61.5   55.0    326  3.95  3.98  2.43\n",
      "1   0.21  Premium     E     SI1   59.8   61.0    326  3.89  3.84  2.31\n",
      "2   0.23     Good     E     VS1   56.9   65.0    327  4.05  4.07  2.31\n",
      "3   0.29  Premium     I     VS2   62.4   58.0    334  4.20  4.23  2.63\n",
      "4   0.31     Good     J     SI2   63.3   58.0    335  4.34  4.35  2.75\n",
      "\n",
      "Diamonds that are with a Fair or Good or Premium:\n",
      "   carat      cut color clarity  depth  table  price     x     y     z\n",
      "1   0.21  Premium     E     SI1   59.8   61.0    326  3.89  3.84  2.31\n",
      "2   0.23     Good     E     VS1   56.9   65.0    327  4.05  4.07  2.31\n",
      "3   0.29  Premium     I     VS2   62.4   58.0    334  4.20  4.23  2.63\n",
      "4   0.31     Good     J     SI2   63.3   58.0    335  4.34  4.35  2.75\n",
      "8   0.22     Fair     E     VS2   65.1   61.0    337  3.87  3.78  2.49\n"
     ]
    }
   ],
   "source": [
    "print(\"Original Dataframe:\")\n",
    "print(df.head())\n",
    "print(\"\\nDiamonds that are with a Fair or Good or Premium:\")\n",
    "result = df[df.cut.isin(['Fair', 'Good', 'Premium'])]\n",
    "print(result.head())"
   ]
  },
  {
   "cell_type": "markdown",
   "id": "195ba1ca-7e66-4784-b754-cdd0d28dd1ff",
   "metadata": {},
   "source": [
    "#### 20. Write a Pandas program to display all column labels of diamonds DataFrame.\n"
   ]
  },
  {
   "cell_type": "code",
   "execution_count": 195,
   "id": "fcdd8182-7705-45ff-aa7e-60cd10e92ae2",
   "metadata": {},
   "outputs": [
    {
     "name": "stdout",
     "output_type": "stream",
     "text": [
      "Column labels of diamonds DataFrame:\n",
      "Index(['carat', 'cut', 'color', 'clarity', 'depth', 'table', 'price', 'x', 'y',\n",
      "       'z'],\n",
      "      dtype='object')\n"
     ]
    }
   ],
   "source": [
    "print(\"Column labels of diamonds DataFrame:\")\n",
    "print(df.columns)"
   ]
  },
  {
   "cell_type": "markdown",
   "id": "0d0fc485-06b1-40f9-b8c5-56fe59a82e72",
   "metadata": {},
   "source": [
    "#### 21. Write a Pandas program to read only a subset of 3 rows from diamonds DataFrame."
   ]
  },
  {
   "cell_type": "code",
   "execution_count": 196,
   "id": "6a468889-b52f-4a30-8952-51f075ec1f3e",
   "metadata": {},
   "outputs": [
    {
     "name": "stdout",
     "output_type": "stream",
     "text": [
      "Original Dataframe:\n",
      "   carat      cut color clarity  depth  table  price     x     y     z\n",
      "0   0.23    Ideal     E     SI2   61.5   55.0    326  3.95  3.98  2.43\n",
      "1   0.21  Premium     E     SI1   59.8   61.0    326  3.89  3.84  2.31\n",
      "2   0.23     Good     E     VS1   56.9   65.0    327  4.05  4.07  2.31\n",
      "3   0.29  Premium     I     VS2   62.4   58.0    334  4.20  4.23  2.63\n",
      "4   0.31     Good     J     SI2   63.3   58.0    335  4.34  4.35  2.75\n",
      "\n",
      "Subset of 3 rows from diamonds DataFrame:\n",
      "       carat      cut color clarity  depth  table  price     x     y     z\n",
      "47856   0.68  Premium     D     SI1   59.8   59.0   1909  5.72  5.66  3.40\n",
      "22750   1.52  Premium     E     SI1   62.4   59.0  10767  7.34  7.37  4.59\n",
      "45259   0.54    Ideal     F     VS2   62.2   57.0   1662  5.21  5.24  3.25\n"
     ]
    }
   ],
   "source": [
    "print(\"Original Dataframe:\")\n",
    "print(df.head())\n",
    "print(\"\\nSubset of 3 rows from diamonds DataFrame:\")\n",
    "print(df.sample(3))"
   ]
  },
  {
   "cell_type": "markdown",
   "id": "5519989f-3330-40af-9124-f7b99e6cb861",
   "metadata": {},
   "source": [
    "#### 22. Write a Pandas program to iterate through diamonds DataFrame."
   ]
  },
  {
   "cell_type": "code",
   "execution_count": 7,
   "id": "f2ddec65-2513-40cf-9fc7-b0643b49adb3",
   "metadata": {},
   "outputs": [
    {
     "name": "stdout",
     "output_type": "stream",
     "text": [
      "Original Dataframe:\n",
      "   carat      cut color clarity  depth  table  price     x     y     z\n",
      "0   0.23    Ideal     E     SI2   61.5   55.0    326  3.95  3.98  2.43\n",
      "1   0.21  Premium     E     SI1   59.8   61.0    326  3.89  3.84  2.31\n",
      "2   0.23     Good     E     VS1   56.9   65.0    327  4.05  4.07  2.31\n",
      "3   0.29  Premium     I     VS2   62.4   58.0    334  4.20  4.23  2.63\n",
      "4   0.31     Good     J     SI2   63.3   58.0    335  4.34  4.35  2.75\n",
      "\n",
      "Iterate through diamonds DataFrame:\n",
      "0 0.23 Ideal E 326\n",
      "1 0.21 Premium E 326\n",
      "2 0.23 Good E 327\n",
      "3 0.29 Premium I 334\n",
      "4 0.31 Good J 335\n",
      "5 0.24 Very Good J 336\n",
      "6 0.24 Very Good I 336\n",
      "7 0.26 Very Good H 337\n",
      "8 0.22 Fair E 337\n",
      "9 0.23 Very Good H 338\n",
      "10 0.3 Good J 339\n",
      "11 0.23 Ideal J 340\n",
      "12 0.22 Premium F 342\n",
      "13 0.31 Ideal J 344\n",
      "14 0.2 Premium E 345\n",
      "15 0.32 Premium E 345\n",
      "16 0.3 Ideal I 348\n",
      "17 0.3 Good J 351\n",
      "18 0.3 Good J 351\n",
      "19 0.3 Very Good J 351\n",
      "20 0.3 Good I 351\n",
      "21 0.23 Very Good E 352\n",
      "22 0.23 Very Good H 353\n",
      "23 0.31 Very Good J 353\n",
      "24 0.31 Very Good J 353\n",
      "25 0.23 Very Good G 354\n",
      "26 0.24 Premium I 355\n",
      "27 0.3 Very Good J 357\n",
      "28 0.23 Very Good D 357\n",
      "29 0.23 Very Good F 357\n",
      "30 0.23 Very Good F 402\n",
      "31 0.23 Very Good F 402\n",
      "32 0.23 Very Good E 402\n",
      "33 0.23 Very Good E 402\n",
      "34 0.23 Very Good D 402\n",
      "35 0.23 Good F 402\n",
      "36 0.23 Good E 402\n",
      "37 0.31 Good H 402\n",
      "38 0.26 Very Good D 403\n",
      "39 0.33 Ideal I 403\n",
      "40 0.33 Ideal I 403\n",
      "41 0.33 Ideal J 403\n",
      "42 0.26 Good D 403\n",
      "43 0.26 Good D 403\n",
      "44 0.32 Good H 403\n",
      "45 0.29 Premium F 403\n",
      "46 0.32 Very Good H 403\n",
      "47 0.32 Good H 403\n",
      "48 0.25 Very Good E 404\n",
      "49 0.29 Very Good H 404\n"
     ]
    }
   ],
   "source": [
    "print(\"Original Dataframe:\")\n",
    "print(df.head())\n",
    "df1 =df.head(50)\n",
    "print(\"\\nIterate through diamonds DataFrame:\")\n",
    "for index, row in df1.iterrows():\n",
    "   print(index, row.carat, row.cut, row.color, row.price)"
   ]
  },
  {
   "cell_type": "markdown",
   "id": "75fa138b-c059-4637-b0a8-9cbf25813a63",
   "metadata": {},
   "source": [
    "#### 23. Write a Pandas program to drop all non-numeric columns from diamonds DataFrame.\n"
   ]
  },
  {
   "cell_type": "code",
   "execution_count": 198,
   "id": "807bc8fb-7804-44f8-81a5-f58592b14368",
   "metadata": {},
   "outputs": [
    {
     "name": "stdout",
     "output_type": "stream",
     "text": [
      "Original Dataframe:\n",
      "   carat      cut color clarity  depth  table  price     x     y     z\n",
      "0   0.23    Ideal     E     SI2   61.5   55.0    326  3.95  3.98  2.43\n",
      "1   0.21  Premium     E     SI1   59.8   61.0    326  3.89  3.84  2.31\n",
      "2   0.23     Good     E     VS1   56.9   65.0    327  4.05  4.07  2.31\n",
      "3   0.29  Premium     I     VS2   62.4   58.0    334  4.20  4.23  2.63\n",
      "4   0.31     Good     J     SI2   63.3   58.0    335  4.34  4.35  2.75\n",
      "\n",
      "Drop all non-numeric columns of diamonds DataFrame:\n",
      "carat      float64\n",
      "cut         object\n",
      "color       object\n",
      "clarity     object\n",
      "depth      float64\n",
      "table      float64\n",
      "price        int64\n",
      "x          float64\n",
      "y          float64\n",
      "z          float64\n",
      "dtype: object\n",
      "carat    float64\n",
      "depth    float64\n",
      "table    float64\n",
      "price      int64\n",
      "x        float64\n",
      "y        float64\n",
      "z        float64\n",
      "dtype: object\n",
      "   carat  depth  table  price     x     y     z\n",
      "0   0.23   61.5   55.0    326  3.95  3.98  2.43\n",
      "1   0.21   59.8   61.0    326  3.89  3.84  2.31\n",
      "2   0.23   56.9   65.0    327  4.05  4.07  2.31\n",
      "3   0.29   62.4   58.0    334  4.20  4.23  2.63\n",
      "4   0.31   63.3   58.0    335  4.34  4.35  2.75\n"
     ]
    }
   ],
   "source": [
    "print(\"Original Dataframe:\")\n",
    "print(df.head())\n",
    "print(\"\\nDrop all non-numeric columns of diamonds DataFrame:\")\n",
    "print(df.dtypes)\n",
    "df.drop(columns=['cut','color','clarity'],inplace = True)\n",
    "print(df.dtypes)\n",
    "print(df.head())\n"
   ]
  },
  {
   "cell_type": "markdown",
   "id": "81a23ebd-d5d6-41eb-999c-b8c6a8ea84a3",
   "metadata": {},
   "source": [
    "#### 24. Write a Pandas program to include only numeric columns in the diamonds DataFrame.\n"
   ]
  },
  {
   "cell_type": "code",
   "execution_count": 199,
   "id": "4fac8c2d-6e13-474f-9769-125639635a00",
   "metadata": {},
   "outputs": [],
   "source": [
    "df = pd.read_csv('diamonds.csv').drop(columns='Unnamed: 0')"
   ]
  },
  {
   "cell_type": "code",
   "execution_count": 200,
   "id": "16fa3bd8-fe34-4fd7-9681-75373fc5ee3f",
   "metadata": {},
   "outputs": [
    {
     "name": "stdout",
     "output_type": "stream",
     "text": [
      "Original Dataframe:\n",
      "   carat      cut color clarity  depth  table  price     x     y     z\n",
      "0   0.23    Ideal     E     SI2   61.5   55.0    326  3.95  3.98  2.43\n",
      "1   0.21  Premium     E     SI1   59.8   61.0    326  3.89  3.84  2.31\n",
      "2   0.23     Good     E     VS1   56.9   65.0    327  4.05  4.07  2.31\n",
      "3   0.29  Premium     I     VS2   62.4   58.0    334  4.20  4.23  2.63\n",
      "4   0.31     Good     J     SI2   63.3   58.0    335  4.34  4.35  2.75\n",
      "\n",
      "Include only numeric columns in the diamonds DataFrame:\n",
      "carat    float64\n",
      "depth    float64\n",
      "table    float64\n",
      "price      int64\n",
      "x        float64\n",
      "y        float64\n",
      "z        float64\n",
      "dtype: object\n",
      "       carat  depth  table  price     x     y     z\n",
      "0       0.23   61.5   55.0    326  3.95  3.98  2.43\n",
      "1       0.21   59.8   61.0    326  3.89  3.84  2.31\n",
      "2       0.23   56.9   65.0    327  4.05  4.07  2.31\n",
      "3       0.29   62.4   58.0    334  4.20  4.23  2.63\n",
      "4       0.31   63.3   58.0    335  4.34  4.35  2.75\n",
      "...      ...    ...    ...    ...   ...   ...   ...\n",
      "53935   0.72   60.8   57.0   2757  5.75  5.76  3.50\n",
      "53936   0.72   63.1   55.0   2757  5.69  5.75  3.61\n",
      "53937   0.70   62.8   60.0   2757  5.66  5.68  3.56\n",
      "53938   0.86   61.0   58.0   2757  6.15  6.12  3.74\n",
      "53939   0.75   62.2   55.0   2757  5.83  5.87  3.64\n",
      "\n",
      "[53940 rows x 7 columns]\n"
     ]
    }
   ],
   "source": [
    "print(\"Original Dataframe:\")\n",
    "print(df.head())\n",
    "print(\"\\nInclude only numeric columns in the diamonds DataFrame:\")\n",
    "print(df.select_dtypes(include=[np.number]).dtypes)\n",
    "print(df.drop(columns=['cut','color','clarity']))\n",
    "\n"
   ]
  },
  {
   "cell_type": "markdown",
   "id": "991e7161-b5d7-44d9-8c64-071acb4e3a54",
   "metadata": {},
   "source": [
    "#### 25. Write a Pandas program to pass a list of data types to only describe certain types of diamonds DataFrame.\n"
   ]
  },
  {
   "cell_type": "code",
   "execution_count": 201,
   "id": "010a8ea6-79a3-475d-a2b8-6eef23cbade4",
   "metadata": {},
   "outputs": [
    {
     "name": "stdout",
     "output_type": "stream",
     "text": [
      "Original Dataframe:\n",
      "   carat      cut color clarity  depth  table  price     x     y     z\n",
      "0   0.23    Ideal     E     SI2   61.5   55.0    326  3.95  3.98  2.43\n",
      "1   0.21  Premium     E     SI1   59.8   61.0    326  3.89  3.84  2.31\n",
      "2   0.23     Good     E     VS1   56.9   65.0    327  4.05  4.07  2.31\n",
      "3   0.29  Premium     I     VS2   62.4   58.0    334  4.20  4.23  2.63\n",
      "4   0.31     Good     J     SI2   63.3   58.0    335  4.34  4.35  2.75\n",
      "\n",
      "List of data types to only describe certain types:\n",
      "               carat    cut  color clarity         depth         table  \\\n",
      "count   53940.000000  53940  53940   53940  53940.000000  53940.000000   \n",
      "unique           NaN      5      7       8           NaN           NaN   \n",
      "top              NaN  Ideal      G     SI1           NaN           NaN   \n",
      "freq             NaN  21551  11292   13065           NaN           NaN   \n",
      "mean        0.797940    NaN    NaN     NaN     61.749405     57.457184   \n",
      "std         0.474011    NaN    NaN     NaN      1.432621      2.234491   \n",
      "min         0.200000    NaN    NaN     NaN     43.000000     43.000000   \n",
      "25%         0.400000    NaN    NaN     NaN     61.000000     56.000000   \n",
      "50%         0.700000    NaN    NaN     NaN     61.800000     57.000000   \n",
      "75%         1.040000    NaN    NaN     NaN     62.500000     59.000000   \n",
      "max         5.010000    NaN    NaN     NaN     79.000000     95.000000   \n",
      "\n",
      "                   x             y             z  \n",
      "count   53940.000000  53940.000000  53940.000000  \n",
      "unique           NaN           NaN           NaN  \n",
      "top              NaN           NaN           NaN  \n",
      "freq             NaN           NaN           NaN  \n",
      "mean        5.731157      5.734526      3.538734  \n",
      "std         1.121761      1.142135      0.705699  \n",
      "min         0.000000      0.000000      0.000000  \n",
      "25%         4.710000      4.720000      2.910000  \n",
      "50%         5.700000      5.710000      3.530000  \n",
      "75%         6.540000      6.540000      4.040000  \n",
      "max        10.740000     58.900000     31.800000  \n"
     ]
    }
   ],
   "source": [
    "print(\"Original Dataframe:\")\n",
    "print(df.head())\n",
    "print(\"\\nList of data types to only describe certain types:\")\n",
    "print(df.describe(include=['object', 'float64']))"
   ]
  },
  {
   "cell_type": "markdown",
   "id": "e4480939-b7c0-4f93-9dce-7ce60e6f4934",
   "metadata": {},
   "source": [
    "#### 26. Write a Pandas program to calculate the mean of each numeric column of diamonds DataFrame."
   ]
  },
  {
   "cell_type": "code",
   "execution_count": 202,
   "id": "81e05f80-490a-4e7b-a940-c8ce71281ef4",
   "metadata": {},
   "outputs": [
    {
     "name": "stdout",
     "output_type": "stream",
     "text": [
      "Original Dataframe:\n",
      "   carat      cut color clarity  depth  table  price     x     y     z\n",
      "0   0.23    Ideal     E     SI2   61.5   55.0    326  3.95  3.98  2.43\n",
      "1   0.21  Premium     E     SI1   59.8   61.0    326  3.89  3.84  2.31\n",
      "2   0.23     Good     E     VS1   56.9   65.0    327  4.05  4.07  2.31\n",
      "3   0.29  Premium     I     VS2   62.4   58.0    334  4.20  4.23  2.63\n",
      "4   0.31     Good     J     SI2   63.3   58.0    335  4.34  4.35  2.75\n",
      "\n",
      "Mean of each numeric column of diamonds DataFrame:\n",
      "carat       0.797940\n",
      "depth      61.749405\n",
      "table      57.457184\n",
      "price    3932.799722\n",
      "x           5.731157\n",
      "y           5.734526\n",
      "z           3.538734\n",
      "dtype: float64\n"
     ]
    }
   ],
   "source": [
    "print(\"Original Dataframe:\")\n",
    "print(df.head())\n",
    "print(\"\\nMean of each numeric column of diamonds DataFrame:\")\n",
    "df.drop(columns=['cut','color','clarity'],inplace = True)\n",
    "print(df.mean())"
   ]
  },
  {
   "cell_type": "markdown",
   "id": "0217a45e-a8b3-4906-aa51-d74cccce5b64",
   "metadata": {},
   "source": [
    "#### 27. Write a Pandas program to calculate the mean of each row of diamonds DataFrame."
   ]
  },
  {
   "cell_type": "code",
   "execution_count": 203,
   "id": "72074645-17a6-4ab5-b4dc-c35f3ba38e69",
   "metadata": {},
   "outputs": [
    {
     "name": "stdout",
     "output_type": "stream",
     "text": [
      "Original Dataframe:\n",
      "   carat  depth  table  price     x     y     z\n",
      "0   0.23   61.5   55.0    326  3.95  3.98  2.43\n",
      "1   0.21   59.8   61.0    326  3.89  3.84  2.31\n",
      "2   0.23   56.9   65.0    327  4.05  4.07  2.31\n",
      "3   0.29   62.4   58.0    334  4.20  4.23  2.63\n",
      "4   0.31   63.3   58.0    335  4.34  4.35  2.75\n",
      "\n",
      "Mean of each row of diamonds DataFrame:\n",
      "0    64.727143\n",
      "1    65.292857\n",
      "2    65.651429\n",
      "3    66.535714\n",
      "4    66.864286\n",
      "dtype: float64\n"
     ]
    }
   ],
   "source": [
    "print(\"Original Dataframe:\")\n",
    "print(df.head())\n",
    "print(\"\\nMean of each row of diamonds DataFrame:\")\n",
    "print(df.mean(axis=1).head())"
   ]
  },
  {
   "cell_type": "markdown",
   "id": "14c0d2a7-47e0-4243-bfc9-08cf4325e0e6",
   "metadata": {},
   "source": [
    "#### 28. Write a Pandas program to calculate the mean of price for each cut of diamonds DataFrame."
   ]
  },
  {
   "cell_type": "code",
   "execution_count": 204,
   "id": "dd1a9919-d604-4dc3-8796-e7dd7ad70dc7",
   "metadata": {},
   "outputs": [
    {
     "name": "stdout",
     "output_type": "stream",
     "text": [
      "Original Dataframe:\n",
      "   carat      cut color clarity  depth  table  price     x     y     z\n",
      "0   0.23    Ideal     E     SI2   61.5   55.0    326  3.95  3.98  2.43\n",
      "1   0.21  Premium     E     SI1   59.8   61.0    326  3.89  3.84  2.31\n",
      "2   0.23     Good     E     VS1   56.9   65.0    327  4.05  4.07  2.31\n",
      "3   0.29  Premium     I     VS2   62.4   58.0    334  4.20  4.23  2.63\n",
      "4   0.31     Good     J     SI2   63.3   58.0    335  4.34  4.35  2.75\n",
      "\n",
      "Calculate the mean of price for each cut:\n",
      "cut\n",
      "Fair         4358.757764\n",
      "Good         3928.864452\n",
      "Ideal        3457.541970\n",
      "Premium      4584.257704\n",
      "Very Good    3981.759891\n",
      "Name: price, dtype: float64\n"
     ]
    }
   ],
   "source": [
    "df = pd.read_csv('diamonds.csv').drop(columns='Unnamed: 0') \n",
    "print(\"Original Dataframe:\")\n",
    "print(df.head())\n",
    "print(\"\\nCalculate the mean of price for each cut:\")\n",
    "print(df.groupby('cut').price.mean())"
   ]
  },
  {
   "cell_type": "markdown",
   "id": "f9ec3e0e-6957-46e5-bec0-8243bd9f7d4b",
   "metadata": {},
   "source": [
    "#### 29. Write a Pandas program to calculate count, minimum, maximum price for each cut of diamonds DataFrame."
   ]
  },
  {
   "cell_type": "code",
   "execution_count": 205,
   "id": "5f33c4ac-ea68-41b5-8991-08a3c3dc514d",
   "metadata": {},
   "outputs": [
    {
     "name": "stdout",
     "output_type": "stream",
     "text": [
      "Original Dataframe:\n",
      "   carat      cut color clarity  depth  table  price     x     y     z\n",
      "0   0.23    Ideal     E     SI2   61.5   55.0    326  3.95  3.98  2.43\n",
      "1   0.21  Premium     E     SI1   59.8   61.0    326  3.89  3.84  2.31\n",
      "2   0.23     Good     E     VS1   56.9   65.0    327  4.05  4.07  2.31\n",
      "3   0.29  Premium     I     VS2   62.4   58.0    334  4.20  4.23  2.63\n",
      "4   0.31     Good     J     SI2   63.3   58.0    335  4.34  4.35  2.75\n",
      "\n",
      "Calculate the count,min,max of price for each cut:\n",
      "cut\n",
      "Fair         337\n",
      "Good         327\n",
      "Ideal        326\n",
      "Premium      326\n",
      "Very Good    336\n",
      "Name: price, dtype: int64\n",
      "cut\n",
      "Fair         18574\n",
      "Good         18788\n",
      "Ideal        18806\n",
      "Premium      18823\n",
      "Very Good    18818\n",
      "Name: price, dtype: int64\n",
      "cut\n",
      "Fair          1610\n",
      "Good          4906\n",
      "Ideal        21551\n",
      "Premium      13791\n",
      "Very Good    12082\n",
      "Name: price, dtype: int64\n"
     ]
    }
   ],
   "source": [
    "print(\"Original Dataframe:\")\n",
    "print(df.head())\n",
    "print(\"\\nCalculate the count,min,max of price for each cut:\")\n",
    "print(df.groupby('cut').price.min())\n",
    "print(df.groupby('cut').price.max())\n",
    "print(df.groupby('cut').price.count())"
   ]
  },
  {
   "cell_type": "markdown",
   "id": "8845d709-d60a-4861-b3f0-dfde59dc8e54",
   "metadata": {},
   "source": [
    "#### 30. Write a Pandas program to create a side-by-side bar plot of the diamonds DataFrame."
   ]
  },
  {
   "cell_type": "code",
   "execution_count": 206,
   "id": "c86ba279-d52b-49a2-871f-1de3a3ce5604",
   "metadata": {},
   "outputs": [
    {
     "name": "stdout",
     "output_type": "stream",
     "text": [
      "Original Dataframe:\n",
      "   carat      cut color clarity  depth  table  price     x     y     z\n",
      "0   0.23    Ideal     E     SI2   61.5   55.0    326  3.95  3.98  2.43\n",
      "1   0.21  Premium     E     SI1   59.8   61.0    326  3.89  3.84  2.31\n",
      "2   0.23     Good     E     VS1   56.9   65.0    327  4.05  4.07  2.31\n",
      "3   0.29  Premium     I     VS2   62.4   58.0    334  4.20  4.23  2.63\n",
      "4   0.31     Good     J     SI2   63.3   58.0    335  4.34  4.35  2.75\n",
      "\n",
      "Side-by-side bar plot of the diamonds DataFrame:\n"
     ]
    },
    {
     "data": {
      "text/plain": [
       "<Axes: xlabel='cut'>"
      ]
     },
     "execution_count": 206,
     "metadata": {},
     "output_type": "execute_result"
    },
    {
     "data": {
      "image/png": "[encoded data removed]",
      "text/plain": [
       "<Figure size 640x480 with 1 Axes>"
      ]
     },
     "metadata": {},
     "output_type": "display_data"
    }
   ],
   "source": [
    "print(\"Original Dataframe:\")\n",
    "print(df.head())\n",
    "print(\"\\nSide-by-side bar plot of the diamonds DataFrame:\")\n",
    "df.groupby('cut').count().plot(kind='bar')"
   ]
  },
  {
   "cell_type": "markdown",
   "id": "a7ff77ec-eee9-406a-8b41-8ffd9d610f01",
   "metadata": {},
   "source": [
    "#### 31. Write a Pandas program to count how many times each value in cut series of diamonds DataFrame occurs."
   ]
  },
  {
   "cell_type": "code",
   "execution_count": 207,
   "id": "0778db31-8cef-403b-a7ce-a0c44cb8c202",
   "metadata": {},
   "outputs": [
    {
     "name": "stdout",
     "output_type": "stream",
     "text": [
      "Original Dataframe:\n",
      "   carat      cut color clarity  depth  table  price     x     y     z\n",
      "0   0.23    Ideal     E     SI2   61.5   55.0    326  3.95  3.98  2.43\n",
      "1   0.21  Premium     E     SI1   59.8   61.0    326  3.89  3.84  2.31\n",
      "2   0.23     Good     E     VS1   56.9   65.0    327  4.05  4.07  2.31\n",
      "3   0.29  Premium     I     VS2   62.4   58.0    334  4.20  4.23  2.63\n",
      "4   0.31     Good     J     SI2   63.3   58.0    335  4.34  4.35  2.75\n",
      "\n",
      "Calculate count in cut series\n",
      "cut\n",
      "Fair          1610\n",
      "Good          4906\n",
      "Ideal        21551\n",
      "Premium      13791\n",
      "Very Good    12082\n",
      "Name: price, dtype: int64\n"
     ]
    }
   ],
   "source": [
    "print(\"Original Dataframe:\")\n",
    "print(df.head())\n",
    "print(\"\\nCalculate count in cut series\")\n",
    "print(df.groupby('cut').price.count())"
   ]
  },
  {
   "cell_type": "markdown",
   "id": "1937460b-b715-4c1c-bbfe-26ff5324febe",
   "metadata": {},
   "source": [
    "#### 32. Write a Pandas program to display percentages of each value of cut series occurs in diamonds DataFrame.\n"
   ]
  },
  {
   "cell_type": "code",
   "execution_count": 208,
   "id": "c4b45aa4-3ed9-4ecd-a26a-44b38d48a2f6",
   "metadata": {},
   "outputs": [
    {
     "name": "stdout",
     "output_type": "stream",
     "text": [
      "Original Dataframe:\n",
      "   carat      cut color clarity  depth  table  price     x     y     z\n",
      "0   0.23    Ideal     E     SI2   61.5   55.0    326  3.95  3.98  2.43\n",
      "1   0.21  Premium     E     SI1   59.8   61.0    326  3.89  3.84  2.31\n",
      "2   0.23     Good     E     VS1   56.9   65.0    327  4.05  4.07  2.31\n",
      "3   0.29  Premium     I     VS2   62.4   58.0    334  4.20  4.23  2.63\n",
      "4   0.31     Good     J     SI2   63.3   58.0    335  4.34  4.35  2.75\n",
      "\n",
      "Calculate percentage in cut series\n"
     ]
    },
    {
     "data": {
      "text/plain": [
       "cut\n",
       "Fair          2.984798\n",
       "Good          9.095291\n",
       "Ideal        39.953652\n",
       "Premium      25.567297\n",
       "Very Good    22.398962\n",
       "Name: price, dtype: float64"
      ]
     },
     "execution_count": 208,
     "metadata": {},
     "output_type": "execute_result"
    }
   ],
   "source": [
    "print(\"Original Dataframe:\")\n",
    "print(df.head())\n",
    "print(\"\\nCalculate percentage in cut series\")\n",
    "(df.groupby('cut').price.count())*100/(df['cut'].count())"
   ]
  },
  {
   "cell_type": "markdown",
   "id": "db068b16-585e-4a31-a7e4-e1ebb89c217c",
   "metadata": {},
   "source": [
    "#### 33. Write a Pandas program to display the unique values in cut series of diamonds DataFrame."
   ]
  },
  {
   "cell_type": "code",
   "execution_count": 209,
   "id": "f30cd101-5b60-4f71-86e3-0d55bb43f260",
   "metadata": {},
   "outputs": [
    {
     "name": "stdout",
     "output_type": "stream",
     "text": [
      "Original Dataframe:\n",
      "   carat      cut color clarity  depth  table  price     x     y     z\n",
      "0   0.23    Ideal     E     SI2   61.5   55.0    326  3.95  3.98  2.43\n",
      "1   0.21  Premium     E     SI1   59.8   61.0    326  3.89  3.84  2.31\n",
      "2   0.23     Good     E     VS1   56.9   65.0    327  4.05  4.07  2.31\n",
      "3   0.29  Premium     I     VS2   62.4   58.0    334  4.20  4.23  2.63\n",
      "4   0.31     Good     J     SI2   63.3   58.0    335  4.34  4.35  2.75\n",
      "\n",
      "Unique values in cut series\n",
      "['Ideal' 'Premium' 'Good' 'Very Good' 'Fair']\n"
     ]
    }
   ],
   "source": [
    "print(\"Original Dataframe:\")\n",
    "print(df.head())\n",
    "print(\"\\nUnique values in cut series\")\n",
    "print(df['cut'].unique())"
   ]
  },
  {
   "cell_type": "markdown",
   "id": "57cd35da-39cc-41e1-932a-cddd7a036394",
   "metadata": {},
   "source": [
    "#### 34. Write a Pandas program to count the number of unique values in cut series of diamonds DataFrame.\n"
   ]
  },
  {
   "cell_type": "code",
   "execution_count": 210,
   "id": "be104788-ee08-4f29-a83c-376fef38d9f5",
   "metadata": {},
   "outputs": [
    {
     "name": "stdout",
     "output_type": "stream",
     "text": [
      "Original Dataframe:\n",
      "   carat      cut color clarity  depth  table  price     x     y     z\n",
      "0   0.23    Ideal     E     SI2   61.5   55.0    326  3.95  3.98  2.43\n",
      "1   0.21  Premium     E     SI1   59.8   61.0    326  3.89  3.84  2.31\n",
      "2   0.23     Good     E     VS1   56.9   65.0    327  4.05  4.07  2.31\n",
      "3   0.29  Premium     I     VS2   62.4   58.0    334  4.20  4.23  2.63\n",
      "4   0.31     Good     J     SI2   63.3   58.0    335  4.34  4.35  2.75\n",
      "\n",
      "Number of unique values in cut series of diamonds DataFrame:\n",
      "5\n"
     ]
    }
   ],
   "source": [
    "print(\"Original Dataframe:\")\n",
    "print(df.head())\n",
    "print(\"\\nNumber of unique values in cut series of diamonds DataFrame:\")\n",
    "print(df.cut.nunique())"
   ]
  },
  {
   "cell_type": "markdown",
   "id": "31b42e59-14c2-4dc7-b9b2-34a5885799e1",
   "metadata": {},
   "source": [
    "#### 35. Write a Pandas program to compute a cross-tabulation of two Series in diamonds DataFrame."
   ]
  },
  {
   "cell_type": "code",
   "execution_count": 211,
   "id": "2c6a29b1-4885-48ed-a421-42e32a175f98",
   "metadata": {},
   "outputs": [
    {
     "name": "stdout",
     "output_type": "stream",
     "text": [
      "Original Dataframe:\n",
      "   carat      cut color clarity  depth  table  price     x     y     z\n",
      "0   0.23    Ideal     E     SI2   61.5   55.0    326  3.95  3.98  2.43\n",
      "1   0.21  Premium     E     SI1   59.8   61.0    326  3.89  3.84  2.31\n",
      "2   0.23     Good     E     VS1   56.9   65.0    327  4.05  4.07  2.31\n",
      "3   0.29  Premium     I     VS2   62.4   58.0    334  4.20  4.23  2.63\n",
      "4   0.31     Good     J     SI2   63.3   58.0    335  4.34  4.35  2.75\n",
      "\n",
      "Cross-tabulation of two Series of diamonds DataFrame:\n",
      "price      326    327    334    335    336    337    338    339    340    \\\n",
      "cut                                                                        \n",
      "Fair           0      0      0      0      0      1      0      0      0   \n",
      "Good           0      1      0      1      0      0      0      1      0   \n",
      "Ideal          1      0      0      0      0      0      0      0      1   \n",
      "Premium        1      0      1      0      0      0      0      0      0   \n",
      "Very Good      0      0      0      0      2      1      1      0      0   \n",
      "\n",
      "price      342    ...  18787  18788  18791  18795  18797  18803  18804  18806  \\\n",
      "cut               ...                                                           \n",
      "Fair           0  ...      0      0      0      0      0      0      0      0   \n",
      "Good           0  ...      0      1      0      0      0      0      0      0   \n",
      "Ideal          0  ...      1      0      1      0      0      0      1      1   \n",
      "Premium        1  ...      0      0      1      2      1      0      0      0   \n",
      "Very Good      0  ...      0      0      0      0      0      1      0      0   \n",
      "\n",
      "price      18818  18823  \n",
      "cut                      \n",
      "Fair           0      0  \n",
      "Good           0      0  \n",
      "Ideal          0      0  \n",
      "Premium        0      1  \n",
      "Very Good      1      0  \n",
      "\n",
      "[5 rows x 11602 columns]\n"
     ]
    }
   ],
   "source": [
    "print(\"Original Dataframe:\")\n",
    "print(df.head())\n",
    "print(\"\\nCross-tabulation of two Series of diamonds DataFrame:\")\n",
    "print(pd.crosstab(df.cut, df.price))"
   ]
  },
  {
   "cell_type": "markdown",
   "id": "7817d1d0-9c7e-4908-8d0e-7bf2317ab810",
   "metadata": {},
   "source": [
    "#### 36. Write a Pandas program to calculate various summary statistics of cut series of diamonds DataFrame.\n"
   ]
  },
  {
   "cell_type": "code",
   "execution_count": 212,
   "id": "834b5437-60ef-452d-bbaa-6c1643f4aa0b",
   "metadata": {},
   "outputs": [
    {
     "name": "stdout",
     "output_type": "stream",
     "text": [
      "Original Dataframe:\n",
      "   carat      cut color clarity  depth  table  price     x     y     z\n",
      "0   0.23    Ideal     E     SI2   61.5   55.0    326  3.95  3.98  2.43\n",
      "1   0.21  Premium     E     SI1   59.8   61.0    326  3.89  3.84  2.31\n",
      "2   0.23     Good     E     VS1   56.9   65.0    327  4.05  4.07  2.31\n",
      "3   0.29  Premium     I     VS2   62.4   58.0    334  4.20  4.23  2.63\n",
      "4   0.31     Good     J     SI2   63.3   58.0    335  4.34  4.35  2.75\n",
      "\n",
      "Various summary statistics of diamonds DataFrame:\n",
      "count    53940.000000\n",
      "mean         0.797940\n",
      "std          0.474011\n",
      "min          0.200000\n",
      "25%          0.400000\n",
      "50%          0.700000\n",
      "75%          1.040000\n",
      "max          5.010000\n",
      "Name: carat, dtype: float64\n"
     ]
    }
   ],
   "source": [
    "print(\"Original Dataframe:\")\n",
    "print(df.head())\n",
    "print(\"\\nVarious summary statistics of diamonds DataFrame:\")\n",
    "print(df.carat.describe())"
   ]
  },
  {
   "cell_type": "markdown",
   "id": "9435e21f-da19-4d98-8347-8d9c86634bce",
   "metadata": {},
   "source": [
    "#### 37. Write a Pandas program to create a histogram of the 'carat' Series (distribution of a numerical variable) of diamonds DataFrame.\n"
   ]
  },
  {
   "cell_type": "code",
   "execution_count": 213,
   "id": "ee72c258-4cbd-42de-aee1-ab6fb8199e75",
   "metadata": {},
   "outputs": [
    {
     "name": "stdout",
     "output_type": "stream",
     "text": [
      "Original Dataframe:\n",
      "   carat      cut color clarity  depth  table  price     x     y     z\n",
      "0   0.23    Ideal     E     SI2   61.5   55.0    326  3.95  3.98  2.43\n",
      "1   0.21  Premium     E     SI1   59.8   61.0    326  3.89  3.84  2.31\n",
      "2   0.23     Good     E     VS1   56.9   65.0    327  4.05  4.07  2.31\n",
      "3   0.29  Premium     I     VS2   62.4   58.0    334  4.20  4.23  2.63\n",
      "4   0.31     Good     J     SI2   63.3   58.0    335  4.34  4.35  2.75\n",
      "\n",
      "Histogram of the 'carat' Series (distribution of a numerical variable) of diamonds DataFrame.\n"
     ]
    },
    {
     "data": {
      "text/plain": [
       "<Axes: ylabel='Frequency'>"
      ]
     },
     "execution_count": 213,
     "metadata": {},
     "output_type": "execute_result"
    },
    {
     "data": {
      "image/png": "[encoded data removed]",
      "text/plain": [
       "<Figure size 640x480 with 1 Axes>"
      ]
     },
     "metadata": {},
     "output_type": "display_data"
    }
   ],
   "source": [
    "print(\"Original Dataframe:\")\n",
    "print(df.head())\n",
    "print(\"\\nHistogram of the 'carat' Series (distribution of a numerical variable) of diamonds DataFrame.\")\n",
    "df.carat.plot(kind='hist')"
   ]
  },
  {
   "cell_type": "markdown",
   "id": "701301e7-845e-4ae2-a7be-ca885b9a71e0",
   "metadata": {},
   "source": [
    "#### 38. Write a Pandas program to create a bar plot of the 'value_counts' for the 'cut' series of diamonds DataFrame.\n"
   ]
  },
  {
   "cell_type": "code",
   "execution_count": 214,
   "id": "b504d4d6-4a85-42fc-88b0-a8846f05f46b",
   "metadata": {
    "scrolled": true
   },
   "outputs": [
    {
     "name": "stdout",
     "output_type": "stream",
     "text": [
      "Original Dataframe:\n",
      "   carat      cut color clarity  depth  table  price     x     y     z\n",
      "0   0.23    Ideal     E     SI2   61.5   55.0    326  3.95  3.98  2.43\n",
      "1   0.21  Premium     E     SI1   59.8   61.0    326  3.89  3.84  2.31\n",
      "2   0.23     Good     E     VS1   56.9   65.0    327  4.05  4.07  2.31\n",
      "3   0.29  Premium     I     VS2   62.4   58.0    334  4.20  4.23  2.63\n",
      "4   0.31     Good     J     SI2   63.3   58.0    335  4.34  4.35  2.75\n",
      "\n",
      "Bar plot of the 'value_counts' for the ‘cut’ series of diamonds DataFrame:\n"
     ]
    },
    {
     "data": {
      "text/plain": [
       "<Axes: xlabel='cut'>"
      ]
     },
     "execution_count": 214,
     "metadata": {},
     "output_type": "execute_result"
    },
    {
     "data": {
      "image/png": "[encoded data removed]",
      "text/plain": [
       "<Figure size 640x480 with 1 Axes>"
      ]
     },
     "metadata": {},
     "output_type": "display_data"
    }
   ],
   "source": [
    "print(\"Original Dataframe:\")\n",
    "print(df.head())\n",
    "print(\"\\nBar plot of the 'value_counts' for the ‘cut’ series of diamonds DataFrame:\")\n",
    "df.cut.value_counts().plot(kind='bar')"
   ]
  },
  {
   "cell_type": "markdown",
   "id": "3369b354-b171-4844-bfa7-b55bf9d6eec8",
   "metadata": {},
   "source": [
    "#### 39. Write a Pandas program to create a DataFrame of booleans (True if missing, \n",
    "False if not missing) from diamonds DataFrame.0))0))"
   ]
  },
  {
   "cell_type": "code",
   "execution_count": 215,
   "id": "0b3b292b-6eb9-4758-94fd-86ff305f5592",
   "metadata": {},
   "outputs": [
    {
     "name": "stdout",
     "output_type": "stream",
     "text": [
      "Original Dataframe:\n",
      "   carat      cut color clarity  depth  table  price     x     y     z\n",
      "0   0.23    Ideal     E     SI2   61.5   55.0    326  3.95  3.98  2.43\n",
      "1   0.21  Premium     E     SI1   59.8   61.0    326  3.89  3.84  2.31\n",
      "2   0.23     Good     E     VS1   56.9   65.0    327  4.05  4.07  2.31\n",
      "3   0.29  Premium     I     VS2   62.4   58.0    334  4.20  4.23  2.63\n",
      "4   0.31     Good     J     SI2   63.3   58.0    335  4.34  4.35  2.75\n",
      "\n",
      "DataFrame of booleans:\n",
      "    carat    cut  color  clarity  depth  table  price      x      y      z\n",
      "0   False  False  False    False  False  False  False  False  False  False\n",
      "1   False  False  False    False  False  False  False  False  False  False\n",
      "2   False  False  False    False  False  False  False  False  False  False\n",
      "3   False  False  False    False  False  False  False  False  False  False\n",
      "4   False  False  False    False  False  False  False  False  False  False\n",
      "5   False  False  False    False  False  False  False  False  False  False\n",
      "6   False  False  False    False  False  False  False  False  False  False\n",
      "7   False  False  False    False  False  False  False  False  False  False\n",
      "8   False  False  False    False  False  False  False  False  False  False\n",
      "9   False  False  False    False  False  False  False  False  False  False\n",
      "10  False  False  False    False  False  False  False  False  False  False\n",
      "11  False  False  False    False  False  False  False  False  False  False\n",
      "12  False  False  False    False  False  False  False  False  False  False\n",
      "13  False  False  False    False  False  False  False  False  False  False\n",
      "14  False  False  False    False  False  False  False  False  False  False\n",
      "15  False  False  False    False  False  False  False  False  False  False\n",
      "16  False  False  False    False  False  False  False  False  False  False\n",
      "17  False  False  False    False  False  False  False  False  False  False\n",
      "18  False  False  False    False  False  False  False  False  False  False\n",
      "19  False  False  False    False  False  False  False  False  False  False\n"
     ]
    }
   ],
   "source": [
    "print(\"Original Dataframe:\")\n",
    "print(df.head())\n",
    "print(\"\\nDataFrame of booleans:\")\n",
    "print(df.isnull().head(20))"
   ]
  },
  {
   "cell_type": "markdown",
   "id": "30f9f98f-250b-4573-afca-e3de2738d85d",
   "metadata": {},
   "source": [
    "#### 40. Write a Pandas program to count the number of missing values in each Series of diamonds DataFrame.\n"
   ]
  },
  {
   "cell_type": "code",
   "execution_count": 216,
   "id": "005bb67d-1c9e-4420-9d3c-0c5b9327f71a",
   "metadata": {},
   "outputs": [
    {
     "name": "stdout",
     "output_type": "stream",
     "text": [
      "Original Dataframe:\n",
      "   carat      cut color clarity  depth  table  price     x     y     z\n",
      "0   0.23    Ideal     E     SI2   61.5   55.0    326  3.95  3.98  2.43\n",
      "1   0.21  Premium     E     SI1   59.8   61.0    326  3.89  3.84  2.31\n",
      "2   0.23     Good     E     VS1   56.9   65.0    327  4.05  4.07  2.31\n",
      "3   0.29  Premium     I     VS2   62.4   58.0    334  4.20  4.23  2.63\n",
      "4   0.31     Good     J     SI2   63.3   58.0    335  4.34  4.35  2.75\n",
      "\n",
      "Number of missing values in each Series of diamonds DataFrame:\n",
      "carat      0\n",
      "cut        0\n",
      "color      0\n",
      "clarity    0\n",
      "depth      0\n",
      "table      0\n",
      "price      0\n",
      "x          0\n",
      "y          0\n",
      "z          0\n",
      "dtype: int64\n"
     ]
    }
   ],
   "source": [
    "print(\"Original Dataframe:\")\n",
    "print(df.head())\n",
    "print(\"\\nNumber of missing values in each Series of diamonds DataFrame:\")\n",
    "print(df.isnull().sum())"
   ]
  },
  {
   "cell_type": "markdown",
   "id": "6b2339c9-91c8-4017-bc39-263ee8396b06",
   "metadata": {},
   "source": [
    "#### 41. Write a Pandas program to check the number of rows and columns and drop those row if 'any' values are missing in a row of diamonds DataFrame."
   ]
  },
  {
   "cell_type": "code",
   "execution_count": 217,
   "id": "f733ec7a-9727-457f-916e-f32185f27a63",
   "metadata": {},
   "outputs": [
    {
     "name": "stdout",
     "output_type": "stream",
     "text": [
      "Original Dataframe:\n",
      "   carat      cut color clarity  depth  table  price     x     y     z\n",
      "0   0.23    Ideal     E     SI2   61.5   55.0    326  3.95  3.98  2.43\n",
      "1   0.21  Premium     E     SI1   59.8   61.0    326  3.89  3.84  2.31\n",
      "2   0.23     Good     E     VS1   56.9   65.0    327  4.05  4.07  2.31\n",
      "3   0.29  Premium     I     VS2   62.4   58.0    334  4.20  4.23  2.63\n",
      "4   0.31     Good     J     SI2   63.3   58.0    335  4.34  4.35  2.75\n",
      "Number of rows and columns:\n",
      "(53940, 10)\n",
      "After droping those rows where values are missing:\n",
      "(53940, 10)\n"
     ]
    }
   ],
   "source": [
    "print(\"Original Dataframe:\")\n",
    "print(df.head())\n",
    "print(\"Number of rows and columns:\")\n",
    "print(df.shape)\n",
    "print(\"After droping those rows where values are missing:\")\n",
    "print(df.dropna(how='any').shape)"
   ]
  },
  {
   "cell_type": "markdown",
   "id": "0721021e-e589-4831-b360-415ac25348ba",
   "metadata": {},
   "source": [
    "#### 42. Write a Pandas program to drop a row if any or all values in a row are missing of diamonds DataFrame on two specific columns.\n"
   ]
  },
  {
   "cell_type": "code",
   "execution_count": 218,
   "id": "fd4b9b9a-419a-4f0d-8e22-731c4a0da096",
   "metadata": {},
   "outputs": [
    {
     "name": "stdout",
     "output_type": "stream",
     "text": [
      "Original Dataframe:\n",
      "   carat      cut color clarity  depth  table  price     x     y     z\n",
      "0   0.23    Ideal     E     SI2   61.5   55.0    326  3.95  3.98  2.43\n",
      "1   0.21  Premium     E     SI1   59.8   61.0    326  3.89  3.84  2.31\n",
      "2   0.23     Good     E     VS1   56.9   65.0    327  4.05  4.07  2.31\n",
      "3   0.29  Premium     I     VS2   62.4   58.0    334  4.20  4.23  2.63\n",
      "4   0.31     Good     J     SI2   63.3   58.0    335  4.34  4.35  2.75\n",
      "\n",
      "After droping those rows where any value in a row is missing in carat and cut columns:\n",
      "(53940, 10)\n",
      "\n",
      "After droping those rows where all values in a row are missing in carat and cut columns:\n",
      "(53940, 10)\n"
     ]
    }
   ],
   "source": [
    "print(\"Original Dataframe:\")\n",
    "print(df.head())\n",
    "print(\"\\nAfter droping those rows where any value in a row is missing in carat and cut columns:\")\n",
    "print(df.dropna(subset=['carat', 'cut'], how='any').shape)\n",
    "print(\"\\nAfter droping those rows where all values in a row are missing in carat and cut columns:\")\n",
    "print(df.dropna(subset=['carat', 'cut'], how='all').shape)\n"
   ]
  },
  {
   "cell_type": "markdown",
   "id": "221f6074-46ac-4008-ba60-926619451f15",
   "metadata": {},
   "source": [
    "#### 43. Write a Pandas program to set an existing column as the index of diamonds DataFrame.\n"
   ]
  },
  {
   "cell_type": "code",
   "execution_count": 219,
   "id": "1afc56c6-0cee-48f5-99de-76e6b8499e6e",
   "metadata": {},
   "outputs": [
    {
     "name": "stdout",
     "output_type": "stream",
     "text": [
      "Original Dataframe:\n",
      "   carat      cut color clarity  depth  table  price     x     y     z\n",
      "0   0.23    Ideal     E     SI2   61.5   55.0    326  3.95  3.98  2.43\n",
      "1   0.21  Premium     E     SI1   59.8   61.0    326  3.89  3.84  2.31\n",
      "2   0.23     Good     E     VS1   56.9   65.0    327  4.05  4.07  2.31\n",
      "3   0.29  Premium     I     VS2   62.4   58.0    334  4.20  4.23  2.63\n",
      "4   0.31     Good     J     SI2   63.3   58.0    335  4.34  4.35  2.75\n",
      "\n",
      "New Dataframe:\n",
      "       carat      cut clarity  depth  table  price     x     y     z\n",
      "color                                                               \n",
      "E       0.23    Ideal     SI2   61.5   55.0    326  3.95  3.98  2.43\n",
      "E       0.21  Premium     SI1   59.8   61.0    326  3.89  3.84  2.31\n",
      "E       0.23     Good     VS1   56.9   65.0    327  4.05  4.07  2.31\n",
      "I       0.29  Premium     VS2   62.4   58.0    334  4.20  4.23  2.63\n",
      "J       0.31     Good     SI2   63.3   58.0    335  4.34  4.35  2.75\n",
      "\n",
      "Now restore the index name:\n",
      "  color  carat      cut clarity  depth  table  price     x     y     z\n",
      "0     E   0.23    Ideal     SI2   61.5   55.0    326  3.95  3.98  2.43\n",
      "1     E   0.21  Premium     SI1   59.8   61.0    326  3.89  3.84  2.31\n",
      "2     E   0.23     Good     VS1   56.9   65.0    327  4.05  4.07  2.31\n",
      "3     I   0.29  Premium     VS2   62.4   58.0    334  4.20  4.23  2.63\n",
      "4     J   0.31     Good     SI2   63.3   58.0    335  4.34  4.35  2.75\n"
     ]
    }
   ],
   "source": [
    "print(\"Original Dataframe:\")\n",
    "print(df.head())\n",
    "print(\"\\nNew Dataframe:\")\n",
    "df.set_index('color', inplace=True)\n",
    "print(df.head())\n",
    "print(\"\\nNow restore the index name:\")\n",
    "df.index.name = 'color'\n",
    "df.reset_index(inplace=True)\n",
    "print(df.head())"
   ]
  },
  {
   "cell_type": "markdown",
   "id": "cdaa0334-b02e-4f32-9f09-34a0a5eb7b61",
   "metadata": {},
   "source": [
    "#### 44. Write a Pandas program to set an existing column as the index of diamonds DataFrame and restore the index name, and move the index back to a column.\n"
   ]
  },
  {
   "cell_type": "code",
   "execution_count": 220,
   "id": "7394c152-f647-417b-bcbf-39987f571c53",
   "metadata": {},
   "outputs": [
    {
     "name": "stdout",
     "output_type": "stream",
     "text": [
      "Original Dataframe:\n",
      "  color  carat      cut clarity  depth  table  price     x     y     z\n",
      "0     E   0.23    Ideal     SI2   61.5   55.0    326  3.95  3.98  2.43\n",
      "1     E   0.21  Premium     SI1   59.8   61.0    326  3.89  3.84  2.31\n",
      "2     E   0.23     Good     VS1   56.9   65.0    327  4.05  4.07  2.31\n",
      "3     I   0.29  Premium     VS2   62.4   58.0    334  4.20  4.23  2.63\n",
      "4     J   0.31     Good     SI2   63.3   58.0    335  4.34  4.35  2.75\n",
      "\n",
      "New Dataframe:\n",
      "       carat      cut clarity  depth  table  price     x     y     z\n",
      "color                                                               \n",
      "E       0.23    Ideal     SI2   61.5   55.0    326  3.95  3.98  2.43\n",
      "E       0.21  Premium     SI1   59.8   61.0    326  3.89  3.84  2.31\n",
      "E       0.23     Good     VS1   56.9   65.0    327  4.05  4.07  2.31\n",
      "I       0.29  Premium     VS2   62.4   58.0    334  4.20  4.23  2.63\n",
      "J       0.31     Good     SI2   63.3   58.0    335  4.34  4.35  2.75\n",
      "\n",
      "Now restore the index name:\n",
      "  color  carat      cut clarity  depth  table  price     x     y     z\n",
      "0     E   0.23    Ideal     SI2   61.5   55.0    326  3.95  3.98  2.43\n",
      "1     E   0.21  Premium     SI1   59.8   61.0    326  3.89  3.84  2.31\n",
      "2     E   0.23     Good     VS1   56.9   65.0    327  4.05  4.07  2.31\n",
      "3     I   0.29  Premium     VS2   62.4   58.0    334  4.20  4.23  2.63\n",
      "4     J   0.31     Good     SI2   63.3   58.0    335  4.34  4.35  2.75\n"
     ]
    }
   ],
   "source": [
    "print(\"Original Dataframe:\")\n",
    "print(df.head())\n",
    "print(\"\\nNew Dataframe:\")\n",
    "df.set_index('color', inplace=True)\n",
    "print(df.head())\n",
    "print(\"\\nNow restore the index name:\")\n",
    "df.index.name = 'color'\n",
    "df.reset_index(inplace=True)\n",
    "print(df.head())"
   ]
  },
  {
   "cell_type": "markdown",
   "id": "c15d94a5-5d08-43d8-ae98-21f0060b4b5c",
   "metadata": {},
   "source": [
    "#### 45. Write a Pandas program to access a specified Series index and the Series values of diamonds DataFrame.\n"
   ]
  },
  {
   "cell_type": "code",
   "execution_count": 221,
   "id": "634dc4ec-fcb1-49d3-a79d-fc36b0712eba",
   "metadata": {},
   "outputs": [
    {
     "name": "stdout",
     "output_type": "stream",
     "text": [
      "Original Dataframe:\n",
      "  color  carat      cut clarity  depth  table  price     x     y     z\n",
      "0     E   0.23    Ideal     SI2   61.5   55.0    326  3.95  3.98  2.43\n",
      "1     E   0.21  Premium     SI1   59.8   61.0    326  3.89  3.84  2.31\n",
      "2     E   0.23     Good     VS1   56.9   65.0    327  4.05  4.07  2.31\n",
      "3     I   0.29  Premium     VS2   62.4   58.0    334  4.20  4.23  2.63\n",
      "4     J   0.31     Good     SI2   63.3   58.0    335  4.34  4.35  2.75\n",
      "\n",
      "Access the Series index:\n",
      "Index([ 0.3, 0.31, 1.01,  0.7, 0.32,  1.0,  0.9, 0.41,  0.4, 0.71,\n",
      "       ...\n",
      "        4.0,  3.4, 2.77,  2.7, 3.05, 3.02, 3.65,  3.5, 3.22, 3.11],\n",
      "      dtype='float64', name='carat', length=273)\n",
      "\n",
      "Access the Series values:\n",
      "[2604 2249 2242 1981 1840 1558 1485 1382 1299 1294 1258 1189 1127  910\n",
      "  883  817  807  793  764  709  706  670  667  645  625  572  570  523\n",
      "  496  492  492  488  475  473  440  430  398  394  381  373  361  342\n",
      "  322  310  308  300  293  287  284  282  279  278  265  254  253  251\n",
      "  251  251  249  246  246  236  233  228  226  220  215  212  212  207\n",
      "  204  200  198  187  187  178  177  174  172  155  149  146  142  140\n",
      "  135  134  133  131  130  126  124  123  122  122  119  110  110  109\n",
      "  106  106  103  102  101   99   95   89   89   89   87   86   80   77\n",
      "   68   67   65   65   64   64   63   62   61   60   59   59   57   52\n",
      "   52   50   50   50   50   50   48   48   48   46   45   45   43   43\n",
      "   41   40   40   36   34   32   32   31   31   31   30   28   27   26\n",
      "   26   25   25   25   25   25   24   23   23   23   22   22   21   21\n",
      "   21   21   21   20   19   19   18   18   18   18   18   17   17   17\n",
      "   17   16   16   15   15   15   14   13   13   13   13   12   12   12\n",
      "   12   11    9    9    9    9    9    9    9    8    8    8    8    8\n",
      "    7    7    7    7    7    6    6    6    5    5    5    5    4    4\n",
      "    4    4    4    4    4    3    3    3    3    3    3    3    3    3\n",
      "    3    3    3    3    3    3    3    3    2    2    2    2    2    2\n",
      "    1    1    1    1    1    1    1    1    1    1    1    1    1    1\n",
      "    1    1    1    1    1    1    1]\n"
     ]
    }
   ],
   "source": [
    "print(\"Original Dataframe:\")\n",
    "print(df.head())\n",
    "print(\"\\nAccess the Series index:\")\n",
    "print(df.carat.value_counts().index)\n",
    "print(\"\\nAccess the Series values:\")\n",
    "print(df.carat.value_counts().values)"
   ]
  },
  {
   "cell_type": "markdown",
   "id": "cf124f27-a448-49b4-9edd-48c6465d4d44",
   "metadata": {},
   "source": [
    "#### 46. Write a Pandas program to sort a Series by its values and index of diamonds DataFrame.\n"
   ]
  },
  {
   "cell_type": "code",
   "execution_count": 222,
   "id": "55c6c71e-32f4-4101-be1a-985603c1c810",
   "metadata": {},
   "outputs": [
    {
     "name": "stdout",
     "output_type": "stream",
     "text": [
      "Original Dataframe:\n",
      "  color  carat      cut clarity  depth  table  price     x     y     z\n",
      "0     E   0.23    Ideal     SI2   61.5   55.0    326  3.95  3.98  2.43\n",
      "1     E   0.21  Premium     SI1   59.8   61.0    326  3.89  3.84  2.31\n",
      "2     E   0.23     Good     VS1   56.9   65.0    327  4.05  4.07  2.31\n",
      "3     I   0.29  Premium     VS2   62.4   58.0    334  4.20  4.23  2.63\n",
      "4     J   0.31     Good     SI2   63.3   58.0    335  4.34  4.35  2.75\n",
      "\n",
      "Series sorted by its values:\n",
      "cut\n",
      "Fair          1610\n",
      "Good          4906\n",
      "Very Good    12082\n",
      "Premium      13791\n",
      "Ideal        21551\n",
      "Name: count, dtype: int64\n",
      "\n",
      "Series sorted by its index:\n",
      "cut\n",
      "Fair          1610\n",
      "Good          4906\n",
      "Ideal        21551\n",
      "Premium      13791\n",
      "Very Good    12082\n",
      "Name: count, dtype: int64\n"
     ]
    }
   ],
   "source": [
    "print(\"Original Dataframe:\")\n",
    "print(df.head())\n",
    "print(\"\\nSeries sorted by its values:\")\n",
    "print(df.cut.value_counts().sort_values())\n",
    "print(\"\\nSeries sorted by its index:\")\n",
    "print(df.cut.value_counts().sort_index())"
   ]
  },
  {
   "cell_type": "markdown",
   "id": "b2487e98-2a93-4520-b2de-474bd722729c",
   "metadata": {},
   "source": [
    "#### 47. Write a Pandas program to calculate the multiply of length, width and depth for each cut of diamonds DataFrame."
   ]
  },
  {
   "cell_type": "code",
   "execution_count": 223,
   "id": "c61eb3fc-174c-4f1e-9cd6-482d1c9cc948",
   "metadata": {},
   "outputs": [
    {
     "name": "stdout",
     "output_type": "stream",
     "text": [
      "Original Dataframe:\n",
      "  color  carat      cut clarity  depth  table  price     x     y     z\n",
      "0     E   0.23    Ideal     SI2   61.5   55.0    326  3.95  3.98  2.43\n",
      "1     E   0.21  Premium     SI1   59.8   61.0    326  3.89  3.84  2.31\n",
      "2     E   0.23     Good     VS1   56.9   65.0    327  4.05  4.07  2.31\n",
      "3     I   0.29  Premium     VS2   62.4   58.0    334  4.20  4.23  2.63\n",
      "4     J   0.31     Good     SI2   63.3   58.0    335  4.34  4.35  2.75\n",
      "\n",
      "Multiply of length, width and depth for each cut:\n",
      "0    38.202030\n",
      "1    34.505856\n",
      "2    38.076885\n",
      "3    46.724580\n",
      "4    51.917250\n",
      "dtype: float64\n"
     ]
    }
   ],
   "source": [
    "print(\"Original Dataframe:\")\n",
    "print(df.head())\n",
    "print(\"\\nMultiply of length, width and depth for each cut:\")\n",
    "print((df.x*df.y*df.z).head())"
   ]
  },
  {
   "cell_type": "markdown",
   "id": "aa7ee722-a398-4702-8f19-eda864b0a859",
   "metadata": {},
   "source": [
    "#### 48. Write a Pandas program to concatenate the diamonds DataFrame with the 'color' Series.\n"
   ]
  },
  {
   "cell_type": "code",
   "execution_count": 224,
   "id": "ee7cbc93-b30d-4992-be7d-7f79b99efef6",
   "metadata": {},
   "outputs": [
    {
     "name": "stdout",
     "output_type": "stream",
     "text": [
      "Original Dataframe:\n",
      "  color  carat      cut clarity  depth  table  price     x     y     z\n",
      "0     E   0.23    Ideal     SI2   61.5   55.0    326  3.95  3.98  2.43\n",
      "1     E   0.21  Premium     SI1   59.8   61.0    326  3.89  3.84  2.31\n",
      "2     E   0.23     Good     VS1   56.9   65.0    327  4.05  4.07  2.31\n",
      "3     I   0.29  Premium     VS2   62.4   58.0    334  4.20  4.23  2.63\n",
      "4     J   0.31     Good     SI2   63.3   58.0    335  4.34  4.35  2.75\n",
      "\n",
      "Concatenate the 'diamonds' DataFrame with the 'color' Series:\n",
      "  color  carat      cut clarity  depth  table  price     x     y     z color\n",
      "0     E   0.23    Ideal     SI2   61.5   55.0    326  3.95  3.98  2.43     E\n",
      "1     E   0.21  Premium     SI1   59.8   61.0    326  3.89  3.84  2.31     E\n",
      "2     E   0.23     Good     VS1   56.9   65.0    327  4.05  4.07  2.31     E\n",
      "3     I   0.29  Premium     VS2   62.4   58.0    334  4.20  4.23  2.63     I\n",
      "4     J   0.31     Good     SI2   63.3   58.0    335  4.34  4.35  2.75     J\n"
     ]
    }
   ],
   "source": [
    "print(\"Original Dataframe:\")\n",
    "print(df.head())\n",
    "print(\"\\nConcatenate the 'diamonds' DataFrame with the 'color' Series:\")\n",
    "print(pd.concat([df, df.color], axis=1).head())"
   ]
  },
  {
   "cell_type": "markdown",
   "id": "2e66c860-7844-421a-9ff3-4cb4dd73a04d",
   "metadata": {},
   "source": [
    "#### 49. Write a Pandas program to read specified rows and all columns of diamonds DataFrame."
   ]
  },
  {
   "cell_type": "code",
   "execution_count": 225,
   "id": "da96f483-e6ba-49b7-9067-5159cd5c6c44",
   "metadata": {},
   "outputs": [
    {
     "name": "stdout",
     "output_type": "stream",
     "text": [
      "First 7 rows:\n",
      "  color  carat        cut clarity  depth  table  price     x     y     z\n",
      "0     E   0.23      Ideal     SI2   61.5   55.0    326  3.95  3.98  2.43\n",
      "1     E   0.21    Premium     SI1   59.8   61.0    326  3.89  3.84  2.31\n",
      "2     E   0.23       Good     VS1   56.9   65.0    327  4.05  4.07  2.31\n",
      "3     I   0.29    Premium     VS2   62.4   58.0    334  4.20  4.23  2.63\n",
      "4     J   0.31       Good     SI2   63.3   58.0    335  4.34  4.35  2.75\n",
      "5     J   0.24  Very Good    VVS2   62.8   57.0    336  3.94  3.96  2.48\n",
      "6     I   0.24  Very Good    VVS1   62.3   57.0    336  3.95  3.98  2.47\n",
      "\n",
      "All columns:\n",
      "color          E\n",
      "carat       0.23\n",
      "cut        Ideal\n",
      "clarity      SI2\n",
      "depth       61.5\n",
      "table       55.0\n",
      "price        326\n",
      "x           3.95\n",
      "y           3.98\n",
      "z           2.43\n",
      "Name: 0, dtype: object\n"
     ]
    }
   ],
   "source": [
    "print(\"First 7 rows:\")\n",
    "print(df.head(7))\n",
    "print(\"\\nAll columns:\")\n",
    "print(df.loc[0, :])"
   ]
  },
  {
   "cell_type": "markdown",
   "id": "ac3d9b91-05db-4e09-ae8e-e694a53803e4",
   "metadata": {},
   "source": [
    "#### 50. Write a Pandas program to read rows 0, 5, 7 and all columns of diamonds DataFrame.\n"
   ]
  },
  {
   "cell_type": "code",
   "execution_count": 226,
   "id": "b75806b9-e6e8-4665-bbaf-a695df0475e2",
   "metadata": {},
   "outputs": [
    {
     "name": "stdout",
     "output_type": "stream",
     "text": [
      "Original Dataframe:\n",
      "  color  carat      cut clarity  depth  table  price     x     y     z\n",
      "0     E   0.23    Ideal     SI2   61.5   55.0    326  3.95  3.98  2.43\n",
      "1     E   0.21  Premium     SI1   59.8   61.0    326  3.89  3.84  2.31\n",
      "2     E   0.23     Good     VS1   56.9   65.0    327  4.05  4.07  2.31\n",
      "3     I   0.29  Premium     VS2   62.4   58.0    334  4.20  4.23  2.63\n",
      "4     J   0.31     Good     SI2   63.3   58.0    335  4.34  4.35  2.75\n",
      "\n",
      "Rows 0, 5, 7 and all columns:\n",
      "  color  carat      cut clarity  depth  table  price     x     y     z\n",
      "0     E   0.23    Ideal     SI2   61.5   55.0    326  3.95  3.98  2.43\n",
      "1     E   0.21  Premium     SI1   59.8   61.0    326  3.89  3.84  2.31\n",
      "2     E   0.23     Good     VS1   56.9   65.0    327  4.05  4.07  2.31\n"
     ]
    }
   ],
   "source": [
    "print(\"Original Dataframe:\")\n",
    "print(df.head())\n",
    "print(\"\\nRows 0, 5, 7 and all columns:\")\n",
    "print(df.loc[[0, 1, 2], :])"
   ]
  },
  {
   "cell_type": "markdown",
   "id": "81457896-b2c3-4b94-8ad5-f64cccfd7a5a",
   "metadata": {},
   "source": [
    "#### 51. Write a Pandas program to read rows 2 through 5 and all columns of diamonds DataFrame.\n"
   ]
  },
  {
   "cell_type": "code",
   "execution_count": 227,
   "id": "00141efd-dd22-493f-81fd-12823acccc03",
   "metadata": {},
   "outputs": [
    {
     "name": "stdout",
     "output_type": "stream",
     "text": [
      "Original Dataframe:\n",
      "  color  carat      cut clarity  depth  table  price     x     y     z\n",
      "0     E   0.23    Ideal     SI2   61.5   55.0    326  3.95  3.98  2.43\n",
      "1     E   0.21  Premium     SI1   59.8   61.0    326  3.89  3.84  2.31\n",
      "2     E   0.23     Good     VS1   56.9   65.0    327  4.05  4.07  2.31\n",
      "3     I   0.29  Premium     VS2   62.4   58.0    334  4.20  4.23  2.63\n",
      "4     J   0.31     Good     SI2   63.3   58.0    335  4.34  4.35  2.75\n",
      "\n",
      "Rows 2 through 5 and all columns :\n",
      "  color  carat      cut clarity  depth  table  price     x     y     z\n",
      "0     E   0.23    Ideal     SI2   61.5   55.0    326  3.95  3.98  2.43\n",
      "1     E   0.21  Premium     SI1   59.8   61.0    326  3.89  3.84  2.31\n",
      "2     E   0.23     Good     VS1   56.9   65.0    327  4.05  4.07  2.31\n"
     ]
    }
   ],
   "source": [
    "print(\"Original Dataframe:\")\n",
    "print(df.head())\n",
    "print(\"\\nRows 2 through 5 and all columns :\")\n",
    "print(df.loc[0:2, :])"
   ]
  },
  {
   "cell_type": "markdown",
   "id": "5d7d0cd5-1b3e-479f-ae0c-1d4969b99144",
   "metadata": {},
   "source": [
    "#### 52. Write a Pandas program to read rows 0 through 2 (inclusive), columns 'color' and 'price' of diamonds DataFrame.\n"
   ]
  },
  {
   "cell_type": "code",
   "execution_count": 228,
   "id": "affb783c-40b0-45d5-b8fa-45701d0fd887",
   "metadata": {},
   "outputs": [
    {
     "name": "stdout",
     "output_type": "stream",
     "text": [
      "Original Dataframe:\n",
      "  color  carat      cut clarity  depth  table  price     x     y     z\n",
      "0     E   0.23    Ideal     SI2   61.5   55.0    326  3.95  3.98  2.43\n",
      "1     E   0.21  Premium     SI1   59.8   61.0    326  3.89  3.84  2.31\n",
      "2     E   0.23     Good     VS1   56.9   65.0    327  4.05  4.07  2.31\n",
      "3     I   0.29  Premium     VS2   62.4   58.0    334  4.20  4.23  2.63\n",
      "4     J   0.31     Good     SI2   63.3   58.0    335  4.34  4.35  2.75\n",
      "\n",
      "Rows 0 through 2 (inclusive), columns ‘color’ and ‘price’:\n",
      "  color  carat      cut clarity  depth  table  price\n",
      "0     E   0.23    Ideal     SI2   61.5   55.0    326\n",
      "1     E   0.21  Premium     SI1   59.8   61.0    326\n",
      "2     E   0.23     Good     VS1   56.9   65.0    327\n"
     ]
    }
   ],
   "source": [
    "print(\"Original Dataframe:\")\n",
    "print(df.head())\n",
    "print(\"\\nRows 0 through 2 (inclusive), columns ‘color’ and ‘price’:\")\n",
    "print(df.loc[0:2, 'color':'price'])"
   ]
  },
  {
   "cell_type": "markdown",
   "id": "0fd65de0-965c-4f99-882f-fb19dd6828c4",
   "metadata": {},
   "source": [
    "#### 53. Write a Pandas program to read rows 0 through 2 (inclusive), columns 'color' through 'price' (inclusive) of diamonds DataFrame.\n"
   ]
  },
  {
   "cell_type": "code",
   "execution_count": 229,
   "id": "5a1371bb-b57b-4909-bd09-1df1114a88e7",
   "metadata": {},
   "outputs": [
    {
     "name": "stdout",
     "output_type": "stream",
     "text": [
      "Original Dataframe:\n",
      "  color  carat      cut clarity  depth  table  price     x     y     z\n",
      "0     E   0.23    Ideal     SI2   61.5   55.0    326  3.95  3.98  2.43\n",
      "1     E   0.21  Premium     SI1   59.8   61.0    326  3.89  3.84  2.31\n",
      "2     E   0.23     Good     VS1   56.9   65.0    327  4.05  4.07  2.31\n",
      "3     I   0.29  Premium     VS2   62.4   58.0    334  4.20  4.23  2.63\n",
      "4     J   0.31     Good     SI2   63.3   58.0    335  4.34  4.35  2.75\n",
      "\n",
      "Rows 0 through 2 (inclusive), columns ‘color’ and ‘price’:\n",
      "  color  carat      cut clarity  depth  table  price\n",
      "0     E   0.23    Ideal     SI2   61.5   55.0    326\n",
      "1     E   0.21  Premium     SI1   59.8   61.0    326\n",
      "2     E   0.23     Good     VS1   56.9   65.0    327\n"
     ]
    }
   ],
   "source": [
    "print(\"Original Dataframe:\")\n",
    "print(df.head())\n",
    "print(\"\\nRows 0 through 2 (inclusive), columns ‘color’ and ‘price’:\")\n",
    "print(df.loc[0:2, 'color':'price'])"
   ]
  },
  {
   "cell_type": "markdown",
   "id": "38a47cfb-423e-45f3-8b29-1c92d1445578",
   "metadata": {},
   "source": [
    "#### 54. Write a Pandas program to read rows in which the 'cut' is 'Premium', column 'color' of diamonds DataFrame.\n"
   ]
  },
  {
   "cell_type": "code",
   "execution_count": 230,
   "id": "845ee78b-1b9e-42ed-aaa6-e2121a9178aa",
   "metadata": {},
   "outputs": [
    {
     "name": "stdout",
     "output_type": "stream",
     "text": [
      "Original Dataframe:\n",
      "  color  carat      cut clarity  depth  table  price     x     y     z\n",
      "0     E   0.23    Ideal     SI2   61.5   55.0    326  3.95  3.98  2.43\n",
      "1     E   0.21  Premium     SI1   59.8   61.0    326  3.89  3.84  2.31\n",
      "2     E   0.23     Good     VS1   56.9   65.0    327  4.05  4.07  2.31\n",
      "3     I   0.29  Premium     VS2   62.4   58.0    334  4.20  4.23  2.63\n",
      "4     J   0.31     Good     SI2   63.3   58.0    335  4.34  4.35  2.75\n",
      "\n",
      "Rows in which the ‘cut’  is ‘Premium’, column ‘color’:\n",
      "1        E\n",
      "3        I\n",
      "12       F\n",
      "14       E\n",
      "15       E\n",
      "        ..\n",
      "53928    E\n",
      "53930    E\n",
      "53931    F\n",
      "53934    D\n",
      "53938    H\n",
      "Name: color, Length: 13791, dtype: object\n"
     ]
    }
   ],
   "source": [
    "print(\"Original Dataframe:\")\n",
    "print(df.head())\n",
    "print(\"\\nRows in which the ‘cut’  is ‘Premium’, column ‘color’:\")\n",
    "print(df.loc[df.cut=='Premium', 'color'])"
   ]
  },
  {
   "cell_type": "markdown",
   "id": "f7639d0b-6afc-4418-b4e5-b888f63c66d9",
   "metadata": {},
   "source": [
    "#### 55. Write a Pandas program to read rows in positions 0 and 1, columns in positions 0 and 3 of diamonds DataFrame.\n"
   ]
  },
  {
   "cell_type": "code",
   "execution_count": 231,
   "id": "63ca2234-278f-4dc9-a50e-60b3b62ef853",
   "metadata": {},
   "outputs": [
    {
     "name": "stdout",
     "output_type": "stream",
     "text": [
      "Original Dataframe:\n",
      "  color  carat      cut clarity  depth  table  price     x     y     z\n",
      "0     E   0.23    Ideal     SI2   61.5   55.0    326  3.95  3.98  2.43\n",
      "1     E   0.21  Premium     SI1   59.8   61.0    326  3.89  3.84  2.31\n",
      "2     E   0.23     Good     VS1   56.9   65.0    327  4.05  4.07  2.31\n",
      "3     I   0.29  Premium     VS2   62.4   58.0    334  4.20  4.23  2.63\n",
      "4     J   0.31     Good     SI2   63.3   58.0    335  4.34  4.35  2.75\n",
      "\n",
      "Rows in positions 0 and 1, columns in positions 0 and 3 :\n",
      "  color clarity\n",
      "0     E     SI2\n",
      "1     E     SI1\n"
     ]
    }
   ],
   "source": [
    "print(\"Original Dataframe:\")\n",
    "print(df.head())\n",
    "print(\"\\nRows in positions 0 and 1, columns in positions 0 and 3 :\")\n",
    "print(df.iloc[[0, 1], [0, 3]])"
   ]
  },
  {
   "cell_type": "markdown",
   "id": "7d6b4df1-b721-49fc-90f2-6d4b7f841021",
   "metadata": {},
   "source": [
    "#### 56. Write a Pandas program to read rows in positions 0 through 4, columns in positions 1 through 4 of diamonds DataFrame.\n"
   ]
  },
  {
   "cell_type": "code",
   "execution_count": 232,
   "id": "387dc962-e578-4495-896d-6c4ca91284a3",
   "metadata": {},
   "outputs": [
    {
     "name": "stdout",
     "output_type": "stream",
     "text": [
      "Original Dataframe:\n",
      "  color  carat      cut clarity  depth  table  price     x     y     z\n",
      "0     E   0.23    Ideal     SI2   61.5   55.0    326  3.95  3.98  2.43\n",
      "1     E   0.21  Premium     SI1   59.8   61.0    326  3.89  3.84  2.31\n",
      "2     E   0.23     Good     VS1   56.9   65.0    327  4.05  4.07  2.31\n",
      "3     I   0.29  Premium     VS2   62.4   58.0    334  4.20  4.23  2.63\n",
      "4     J   0.31     Good     SI2   63.3   58.0    335  4.34  4.35  2.75\n",
      "\n",
      "Rows in positions 0 through 4, columns in positions 1 through 4:\n",
      "   carat      cut clarity\n",
      "0   0.23    Ideal     SI2\n",
      "1   0.21  Premium     SI1\n",
      "2   0.23     Good     VS1\n",
      "3   0.29  Premium     VS2\n"
     ]
    }
   ],
   "source": [
    "print(\"Original Dataframe:\")\n",
    "print(df.head())\n",
    "print(\"\\nRows in positions 0 through 4, columns in positions 1 through 4:\")\n",
    "print(df.iloc[0:4, 1:4])"
   ]
  },
  {
   "cell_type": "markdown",
   "id": "13ec08d3-48dc-455c-96c3-2e188acfe16d",
   "metadata": {},
   "source": [
    "#### 57. Write a Pandas program to read rows in positions 0 through 4 (exclusive) and all columns of diamonds DataFrame.\n"
   ]
  },
  {
   "cell_type": "code",
   "execution_count": 233,
   "id": "55176cfe-b7f2-4dfb-8feb-736cda82b22f",
   "metadata": {},
   "outputs": [
    {
     "name": "stdout",
     "output_type": "stream",
     "text": [
      "Original Dataframe:\n",
      "  color  carat      cut clarity  depth  table  price     x     y     z\n",
      "0     E   0.23    Ideal     SI2   61.5   55.0    326  3.95  3.98  2.43\n",
      "1     E   0.21  Premium     SI1   59.8   61.0    326  3.89  3.84  2.31\n",
      "2     E   0.23     Good     VS1   56.9   65.0    327  4.05  4.07  2.31\n",
      "3     I   0.29  Premium     VS2   62.4   58.0    334  4.20  4.23  2.63\n",
      "4     J   0.31     Good     SI2   63.3   58.0    335  4.34  4.35  2.75\n",
      "\n",
      "Rows in positions 0 through 4 (exclusive) and all columns :\n",
      "  color  carat      cut clarity  depth  table  price     x     y     z\n",
      "0     E   0.23    Ideal     SI2   61.5   55.0    326  3.95  3.98  2.43\n",
      "1     E   0.21  Premium     SI1   59.8   61.0    326  3.89  3.84  2.31\n",
      "2     E   0.23     Good     VS1   56.9   65.0    327  4.05  4.07  2.31\n",
      "3     I   0.29  Premium     VS2   62.4   58.0    334  4.20  4.23  2.63\n",
      "4     J   0.31     Good     SI2   63.3   58.0    335  4.34  4.35  2.75\n"
     ]
    }
   ],
   "source": [
    "print(\"Original Dataframe:\")\n",
    "print(df.head())\n",
    "print(\"\\nRows in positions 0 through 4 (exclusive) and all columns :\")\n",
    "print(df.iloc[0:5, :])"
   ]
  },
  {
   "cell_type": "markdown",
   "id": "f132bd65-0bcf-4a7d-b874-35605b48d065",
   "metadata": {},
   "source": [
    "#### 58. Write a Pandas program to read rows 2 through 5 (inclusive), columns in positions 0 through 2 (exclusive) of diamonds DataFrame.\n"
   ]
  },
  {
   "cell_type": "code",
   "execution_count": 234,
   "id": "610ac6b7-2efc-4223-8101-9b7e5d6f28e2",
   "metadata": {},
   "outputs": [
    {
     "name": "stdout",
     "output_type": "stream",
     "text": [
      "Original Dataframe:\n",
      "  color  carat      cut clarity  depth  table  price     x     y     z\n",
      "0     E   0.23    Ideal     SI2   61.5   55.0    326  3.95  3.98  2.43\n",
      "1     E   0.21  Premium     SI1   59.8   61.0    326  3.89  3.84  2.31\n",
      "2     E   0.23     Good     VS1   56.9   65.0    327  4.05  4.07  2.31\n",
      "3     I   0.29  Premium     VS2   62.4   58.0    334  4.20  4.23  2.63\n",
      "4     J   0.31     Good     SI2   63.3   58.0    335  4.34  4.35  2.75\n",
      "\n",
      "Rows 2 through 5 (inclusive), columns in positions 0 through 2 (exclusive):\n",
      "  color  carat\n",
      "2     E   0.23\n",
      "3     I   0.29\n",
      "4     J   0.31\n"
     ]
    }
   ],
   "source": [
    "print(\"Original Dataframe:\")\n",
    "print(df.head())\n",
    "print(\"\\nRows 2 through 5 (inclusive), columns in positions 0 through 2 (exclusive):\")\n",
    "print(df.iloc[2:5, 0:2])"
   ]
  },
  {
   "cell_type": "markdown",
   "id": "d4b5cce0-2e65-4120-9bb1-86e5a83a1d4e",
   "metadata": {},
   "source": [
    "#### 59. Write a Pandas program to print a concise summary of diamonds DataFrame."
   ]
  },
  {
   "cell_type": "code",
   "execution_count": 235,
   "id": "d090255e-8ea6-4cd9-8582-27f2b85f3b26",
   "metadata": {},
   "outputs": [
    {
     "name": "stdout",
     "output_type": "stream",
     "text": [
      "Original Dataframe:\n",
      "  color  carat      cut clarity  depth  table  price     x     y     z\n",
      "0     E   0.23    Ideal     SI2   61.5   55.0    326  3.95  3.98  2.43\n",
      "1     E   0.21  Premium     SI1   59.8   61.0    326  3.89  3.84  2.31\n",
      "2     E   0.23     Good     VS1   56.9   65.0    327  4.05  4.07  2.31\n",
      "3     I   0.29  Premium     VS2   62.4   58.0    334  4.20  4.23  2.63\n",
      "4     J   0.31     Good     SI2   63.3   58.0    335  4.34  4.35  2.75\n",
      "\n",
      "Concise summary of diamonds DataFrame:\n",
      "<class 'pandas.core.frame.DataFrame'>\n",
      "RangeIndex: 53940 entries, 0 to 53939\n",
      "Data columns (total 10 columns):\n",
      " #   Column   Non-Null Count  Dtype  \n",
      "---  ------   --------------  -----  \n",
      " 0   color    53940 non-null  object \n",
      " 1   carat    53940 non-null  float64\n",
      " 2   cut      53940 non-null  object \n",
      " 3   clarity  53940 non-null  object \n",
      " 4   depth    53940 non-null  float64\n",
      " 5   table    53940 non-null  float64\n",
      " 6   price    53940 non-null  int64  \n",
      " 7   x        53940 non-null  float64\n",
      " 8   y        53940 non-null  float64\n",
      " 9   z        53940 non-null  float64\n",
      "dtypes: float64(6), int64(1), object(3)\n",
      "memory usage: 4.1+ MB\n",
      "None\n"
     ]
    }
   ],
   "source": [
    "print(\"Original Dataframe:\")\n",
    "print(df.head())\n",
    "print(\"\\nConcise summary of diamonds DataFrame:\")\n",
    "print(df.info())"
   ]
  },
  {
   "cell_type": "markdown",
   "id": "e070dfe1-e466-4b5a-bdb3-ab387e4e7294",
   "metadata": {},
   "source": [
    "#### 60. Write a Pandas program to get the true memory usage by diamonds DataFrame.\n"
   ]
  },
  {
   "cell_type": "code",
   "execution_count": 236,
   "id": "5b869dec-4ef6-4060-b412-ee648de328e2",
   "metadata": {},
   "outputs": [
    {
     "name": "stdout",
     "output_type": "stream",
     "text": [
      "Original Dataframe:\n",
      "  color  carat      cut clarity  depth  table  price     x     y     z\n",
      "0     E   0.23    Ideal     SI2   61.5   55.0    326  3.95  3.98  2.43\n",
      "1     E   0.21  Premium     SI1   59.8   61.0    326  3.89  3.84  2.31\n",
      "2     E   0.23     Good     VS1   56.9   65.0    327  4.05  4.07  2.31\n",
      "3     I   0.29  Premium     VS2   62.4   58.0    334  4.20  4.23  2.63\n",
      "4     J   0.31     Good     SI2   63.3   58.0    335  4.34  4.35  2.75\n",
      "\n",
      "True memory usage by diamonds DataFrame:\n",
      "<class 'pandas.core.frame.DataFrame'>\n",
      "RangeIndex: 53940 entries, 0 to 53939\n",
      "Data columns (total 10 columns):\n",
      " #   Column   Non-Null Count  Dtype  \n",
      "---  ------   --------------  -----  \n",
      " 0   color    53940 non-null  object \n",
      " 1   carat    53940 non-null  float64\n",
      " 2   cut      53940 non-null  object \n",
      " 3   clarity  53940 non-null  object \n",
      " 4   depth    53940 non-null  float64\n",
      " 5   table    53940 non-null  float64\n",
      " 6   price    53940 non-null  int64  \n",
      " 7   x        53940 non-null  float64\n",
      " 8   y        53940 non-null  float64\n",
      " 9   z        53940 non-null  float64\n",
      "dtypes: float64(6), int64(1), object(3)\n",
      "memory usage: 12.2 MB\n",
      "None\n"
     ]
    }
   ],
   "source": [
    "print(\"Original Dataframe:\")\n",
    "print(df.head())\n",
    "print(\"\\nTrue memory usage by diamonds DataFrame:\")\n",
    "print(df.info(memory_usage='deep'))"
   ]
  },
  {
   "cell_type": "markdown",
   "id": "0b41e3ec-6daa-4c4c-a210-9cccddc821b9",
   "metadata": {},
   "source": [
    "#### 61. Write a Pandas program to calculate the memory usage for each Series (in bytes) of diamonds DataFrame."
   ]
  },
  {
   "cell_type": "code",
   "execution_count": 237,
   "id": "3c1a0577-517f-45e6-ba7f-2dea33bb5620",
   "metadata": {},
   "outputs": [
    {
     "name": "stdout",
     "output_type": "stream",
     "text": [
      "Original Dataframe:\n",
      "  color  carat      cut clarity  depth  table  price     x     y     z\n",
      "0     E   0.23    Ideal     SI2   61.5   55.0    326  3.95  3.98  2.43\n",
      "1     E   0.21  Premium     SI1   59.8   61.0    326  3.89  3.84  2.31\n",
      "2     E   0.23     Good     VS1   56.9   65.0    327  4.05  4.07  2.31\n",
      "3     I   0.29  Premium     VS2   62.4   58.0    334  4.20  4.23  2.63\n",
      "4     J   0.31     Good     SI2   63.3   58.0    335  4.34  4.35  2.75\n",
      "\n",
      "Memory usage for each Series (in bytes) of diamonds DataFrame:\n",
      "Index          132\n",
      "color      3128520\n",
      "carat       431520\n",
      "cut        3413674\n",
      "clarity    3242590\n",
      "depth       431520\n",
      "table       431520\n",
      "price       431520\n",
      "x           431520\n",
      "y           431520\n",
      "z           431520\n",
      "dtype: int64\n"
     ]
    }
   ],
   "source": [
    "print(\"Original Dataframe:\")\n",
    "print(df.head())\n",
    "print(\"\\nMemory usage for each Series (in bytes) of diamonds DataFrame:\")\n",
    "print(df.memory_usage(deep=True))"
   ]
  },
  {
   "cell_type": "markdown",
   "id": "0332d1da-4977-4d24-b1bb-442837a39b48",
   "metadata": {},
   "source": [
    "#### 62. Write a Pandas program to get randomly sample rows from diamonds DataFrame."
   ]
  },
  {
   "cell_type": "code",
   "execution_count": 238,
   "id": "01444652-aac0-4a53-8fd4-f7626cca6795",
   "metadata": {},
   "outputs": [
    {
     "name": "stdout",
     "output_type": "stream",
     "text": [
      "Original Dataframe:\n",
      "  color  carat      cut clarity  depth  table  price     x     y     z\n",
      "0     E   0.23    Ideal     SI2   61.5   55.0    326  3.95  3.98  2.43\n",
      "1     E   0.21  Premium     SI1   59.8   61.0    326  3.89  3.84  2.31\n",
      "2     E   0.23     Good     VS1   56.9   65.0    327  4.05  4.07  2.31\n",
      "3     I   0.29  Premium     VS2   62.4   58.0    334  4.20  4.23  2.63\n",
      "4     J   0.31     Good     SI2   63.3   58.0    335  4.34  4.35  2.75\n",
      "\n",
      "Sample 5 rows from the DataFrame without replacement:\n",
      "      color  carat        cut clarity  depth  table  price     x     y     z\n",
      "20117     H   1.31      Ideal     VS1   61.5   55.0   8583  7.05  7.02  4.33\n",
      "29        F   0.23  Very Good     VS1   60.9   57.0    357  3.96  3.99  2.42\n",
      "19457     G   1.01      Ideal    VVS2   62.2   54.0   8104  6.41  6.48  4.01\n"
     ]
    }
   ],
   "source": [
    "print(\"Original Dataframe:\")\n",
    "print(df.head())\n",
    "print(\"\\nSample 5 rows from the DataFrame without replacement:\")\n",
    "print(df.sample(n=3))"
   ]
  },
  {
   "cell_type": "markdown",
   "id": "1460b024-5acc-42f4-8ff8-01092d0b7786",
   "metadata": {},
   "source": [
    "#### 63. Write a Pandas program to get sample 75% of the diamonds DataFrame's rows without replacement and store the remaining 25% of the rows in another DataFrame."
   ]
  },
  {
   "cell_type": "code",
   "execution_count": 239,
   "id": "174f348e-d14c-4fc5-b3a9-d1f96107a618",
   "metadata": {},
   "outputs": [
    {
     "name": "stdout",
     "output_type": "stream",
     "text": [
      "Original Dataframe:\n",
      "(53940, 10)\n",
      "\n",
      "Sample 75% of diamonds DataFrame's rows without replacement:\n",
      "      color  carat        cut clarity  depth  table  price     x     y     z\n",
      "42653     G   0.40    Premium      IF   60.8   58.0   1333  4.73  4.77  2.89\n",
      "4069      D   0.31  Very Good     SI1   63.0   55.0    571  4.32  4.34  2.73\n",
      "27580     F   1.60      Ideal     VS2   62.0   55.0  18421  7.49  7.54  4.66\n",
      "33605     D   0.31       Good     SI2   63.1   54.0    462  4.33  4.38  2.75\n",
      "34415     G   0.30      Ideal      IF   61.2   57.0    863  4.35  4.38  2.67\n",
      "...     ...    ...        ...     ...    ...    ...    ...   ...   ...   ...\n",
      "4677      F   1.05    Premium     SI2   61.1   59.0   3672  6.54  6.61  4.02\n",
      "34855     G   0.30       Good    VVS2   63.8   56.0    878  4.29  4.27  2.73\n",
      "13929     I   2.00       Fair      I1   66.0   60.0   5667  7.78  7.74  5.10\n",
      "31091     G   0.33  Very Good    VVS2   62.8   57.0    752  4.39  4.47  2.78\n",
      "41428     E   0.53  Very Good     SI2   63.2   54.0   1227  5.19  5.16  3.27\n",
      "\n",
      "[40455 rows x 10 columns]\n",
      "\n",
      "Remaining 25% of the rows:\n",
      "      color  carat        cut clarity  depth  table  price     x     y     z\n",
      "13        J   0.31      Ideal     SI2   62.2   54.0    344  4.35  4.37  2.71\n",
      "14        E   0.20    Premium     SI2   60.2   62.0    345  3.79  3.75  2.27\n",
      "18        J   0.30       Good     SI1   63.8   56.0    351  4.23  4.26  2.71\n",
      "26        I   0.24    Premium     VS1   62.5   57.0    355  3.97  3.94  2.47\n",
      "33        E   0.23  Very Good     VS1   59.5   58.0    402  4.01  4.06  2.40\n",
      "...     ...    ...        ...     ...    ...    ...    ...   ...   ...   ...\n",
      "53919     I   0.76      Ideal    VVS1   62.2   55.0   2753  5.89  5.87  3.66\n",
      "53923     I   0.73      Ideal     VS2   61.3   56.0   2756  5.80  5.84  3.57\n",
      "53926     E   0.71      Ideal     SI1   61.9   56.0   2756  5.71  5.73  3.54\n",
      "53934     D   0.72    Premium     SI1   62.7   59.0   2757  5.69  5.73  3.58\n",
      "53935     D   0.72      Ideal     SI1   60.8   57.0   2757  5.75  5.76  3.50\n",
      "\n",
      "[13485 rows x 10 columns]\n"
     ]
    }
   ],
   "source": [
    "print(\"Original Dataframe:\")\n",
    "print(df.shape)\n",
    "print(\"\\nSample 75% of diamonds DataFrame's rows without replacement:\")\n",
    "result = df.sample(frac=0.75, random_state=99)\n",
    "print(result)\n",
    "print(\"\\nRemaining 25% of the rows:\")\n",
    "print(df.loc[~df.index.isin(result.index), :])"
   ]
  },
  {
   "cell_type": "markdown",
   "id": "5dd614fb-d432-476c-8433-a109f51c1884",
   "metadata": {},
   "source": [
    "#### 64. Write a Pandas program to read the diamonds DataFrame and detect duplicate color. Note: duplicated () function returns boolean Series denoting duplicate rows, optionally only considering certain columns."
   ]
  },
  {
   "cell_type": "code",
   "execution_count": 240,
   "id": "60a3039a-4339-4cfd-b31c-779b12d252dd",
   "metadata": {},
   "outputs": [
    {
     "name": "stdout",
     "output_type": "stream",
     "text": [
      "Original Dataframe:\n",
      "(53940, 10)\n",
      "\n",
      "Count the duplicate items:\n",
      "53932\n"
     ]
    }
   ],
   "source": [
    "print(\"Original Dataframe:\")\n",
    "print(df.shape)\n",
    "print(\"\\nCount the duplicate items:\")\n",
    "print(df.clarity.duplicated().sum())\n"
   ]
  },
  {
   "cell_type": "markdown",
   "id": "ad22f3f6-63e2-4aad-8595-1524cc278331",
   "metadata": {},
   "source": [
    "\n",
    "#### 65. Write a Pandas program to count the duplicate rows of diamonds DataFrame."
   ]
  },
  {
   "cell_type": "code",
   "execution_count": 241,
   "id": "730e6e18-2904-4f42-a178-c8f839a65a0e",
   "metadata": {},
   "outputs": [
    {
     "name": "stdout",
     "output_type": "stream",
     "text": [
      "Original Dataframe:\n",
      "(53940, 10)\n",
      "\n",
      "Duplicate rows of diamonds DataFrame:\n",
      "146\n"
     ]
    }
   ],
   "source": [
    "print(\"Original Dataframe:\")\n",
    "print(df.shape)\n",
    "print(\"\\nDuplicate rows of diamonds DataFrame:\")\n",
    "print(df.duplicated().sum())\n"
   ]
  },
  {
   "cell_type": "code",
   "execution_count": null,
   "id": "d5f32b72-46e7-4c22-aadb-bf3cf0114fcf",
   "metadata": {},
   "outputs": [],
   "source": []
  },
  {
   "cell_type": "code",
   "execution_count": null,
   "id": "cba6bab0-5373-4a31-8796-b675cde40b0a",
   "metadata": {},
   "outputs": [],
   "source": []
  },
  {
   "cell_type": "code",
   "execution_count": null,
   "id": "ee443a11-3978-4be0-a4ab-68397382c62c",
   "metadata": {},
   "outputs": [],
   "source": []
  }
 ],
 "metadata": {
  "kernelspec": {
   "display_name": "Python 3 (ipykernel)",
   "language": "python",
   "name": "python3"
  },
  "language_info": {
   "codemirror_mode": {
    "name": "ipython",
    "version": 3
   },
   "file_extension": ".py",
   "mimetype": "text/x-python",
   "name": "python",
   "nbconvert_exporter": "python",
   "pygments_lexer": "ipython3",
   "version": "3.11.7"
  }
 },
 "nbformat": 4,
 "nbformat_minor": 5
}
