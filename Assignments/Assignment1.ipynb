{
 "cells": [
  {
   "cell_type": "markdown",
   "id": "2f60c273-d425-4670-b726-f212d1fec1ca",
   "metadata": {},
   "source": [
    "# Numpy Assignment"
   ]
  },
  {
   "cell_type": "markdown",
   "id": "e9799c39-de39-4bf0-9bd0-96df2af508d2",
   "metadata": {},
   "source": [
    "#### 1.Write a NumPy program to get the numpy version and show numpy build configuration.\n"
   ]
  },
  {
   "cell_type": "code",
   "execution_count": 2,
   "id": "7ecf7965-4da9-4b27-9972-c3499126f817",
   "metadata": {},
   "outputs": [
    {
     "name": "stdout",
     "output_type": "stream",
     "text": [
      "numpy version:  1.26.4\n",
      "Build Dependencies:\n",
      "  blas:\n",
      "    detection method: pkgconfig\n",
      "    found: true\n",
      "    include directory: C:/Users/dai/anaconda3/Library/include\n",
      "    lib directory: C:/Users/dai/anaconda3/Library/lib\n",
      "    name: mkl-sdl\n",
      "    openblas configuration: unknown\n",
      "    pc file directory: C:\\b\\abs_c1ywpu18ar\\croot\\numpy_and_numpy_base_1708638681471\\_h_env\\Library\\lib\\pkgconfig\n",
      "    version: '2023.1'\n",
      "  lapack:\n",
      "    detection method: internal\n",
      "    found: true\n",
      "    include directory: unknown\n",
      "    lib directory: unknown\n",
      "    name: dep1868282989520\n",
      "    openblas configuration: unknown\n",
      "    pc file directory: unknown\n",
      "    version: 1.26.4\n",
      "Compilers:\n",
      "  c:\n",
      "    commands: cl.exe\n",
      "    linker: link\n",
      "    name: msvc\n",
      "    version: 19.29.30154\n",
      "  c++:\n",
      "    commands: cl.exe\n",
      "    linker: link\n",
      "    name: msvc\n",
      "    version: 19.29.30154\n",
      "  cython:\n",
      "    commands: cython\n",
      "    linker: cython\n",
      "    name: cython\n",
      "    version: 3.0.8\n",
      "Machine Information:\n",
      "  build:\n",
      "    cpu: x86_64\n",
      "    endian: little\n",
      "    family: x86_64\n",
      "    system: windows\n",
      "  host:\n",
      "    cpu: x86_64\n",
      "    endian: little\n",
      "    family: x86_64\n",
      "    system: windows\n",
      "Python Information:\n",
      "  path: C:\\b\\abs_c1ywpu18ar\\croot\\numpy_and_numpy_base_1708638681471\\_h_env\\python.exe\n",
      "  version: '3.11'\n",
      "SIMD Extensions:\n",
      "  baseline:\n",
      "  - SSE\n",
      "  - SSE2\n",
      "  - SSE3\n",
      "  found:\n",
      "  - SSSE3\n",
      "  - SSE41\n",
      "  - POPCNT\n",
      "  - SSE42\n",
      "  - AVX\n",
      "  - F16C\n",
      "  - FMA3\n",
      "  - AVX2\n",
      "  - AVX512F\n",
      "  - AVX512CD\n",
      "  - AVX512_SKX\n",
      "  - AVX512_CLX\n",
      "  not found:\n",
      "  - AVX512_CNL\n",
      "  - AVX512_ICL\n",
      "\n",
      "None\n"
     ]
    }
   ],
   "source": [
    "import numpy as np\n",
    "\n",
    "print(\"numpy version: \",np.__version__)\n",
    "print(np.show_config())\n"
   ]
  },
  {
   "cell_type": "markdown",
   "id": "df996147-6a46-45b8-b543-086d6ebb8587",
   "metadata": {},
   "source": [
    "#### 2.Write a NumPy program to get help on the add function.\n"
   ]
  },
  {
   "cell_type": "code",
   "execution_count": 87,
   "id": "046c414a-f7bd-4acc-9177-944188f300d3",
   "metadata": {},
   "outputs": [
    {
     "name": "stdout",
     "output_type": "stream",
     "text": [
      "add(x1, x2, /, out=None, *, where=True, casting='same_kind', order='K', dtype=None, subok=True[, signature, extobj])\n",
      "\n",
      "Add arguments element-wise.\n",
      "\n",
      "Parameters\n",
      "----------\n",
      "x1, x2 : array_like\n",
      "    The arrays to be added.\n",
      "    If ``x1.shape != x2.shape``, they must be broadcastable to a common\n",
      "    shape (which becomes the shape of the output).\n",
      "out : ndarray, None, or tuple of ndarray and None, optional\n",
      "    A location into which the result is stored. If provided, it must have\n",
      "    a shape that the inputs broadcast to. If not provided or None,\n",
      "    a freshly-allocated array is returned. A tuple (possible only as a\n",
      "    keyword argument) must have length equal to the number of outputs.\n",
      "where : array_like, optional\n",
      "    This condition is broadcast over the input. At locations where the\n",
      "    condition is True, the `out` array will be set to the ufunc result.\n",
      "    Elsewhere, the `out` array will retain its original value.\n",
      "    Note that if an uninitialized `out` array is created via the default\n",
      "    ``out=None``, locations within it where the condition is False will\n",
      "    remain uninitialized.\n",
      "**kwargs\n",
      "    For other keyword-only arguments, see the\n",
      "    :ref:`ufunc docs <ufuncs.kwargs>`.\n",
      "\n",
      "Returns\n",
      "-------\n",
      "add : ndarray or scalar\n",
      "    The sum of `x1` and `x2`, element-wise.\n",
      "    This is a scalar if both `x1` and `x2` are scalars.\n",
      "\n",
      "Notes\n",
      "-----\n",
      "Equivalent to `x1` + `x2` in terms of array broadcasting.\n",
      "\n",
      "Examples\n",
      "--------\n",
      ">>> np.add(1.0, 4.0)\n",
      "5.0\n",
      ">>> x1 = np.arange(9.0).reshape((3, 3))\n",
      ">>> x2 = np.arange(3.0)\n",
      ">>> np.add(x1, x2)\n",
      "array([[  0.,   2.,   4.],\n",
      "       [  3.,   5.,   7.],\n",
      "       [  6.,   8.,  10.]])\n",
      "\n",
      "The ``+`` operator can be used as a shorthand for ``np.add`` on ndarrays.\n",
      "\n",
      ">>> x1 = np.arange(9.0).reshape((3, 3))\n",
      ">>> x2 = np.arange(3.0)\n",
      ">>> x1 + x2\n",
      "array([[ 0.,  2.,  4.],\n",
      "       [ 3.,  5.,  7.],\n",
      "       [ 6.,  8., 10.]])\n",
      "None\n"
     ]
    }
   ],
   "source": [
    "print(np.info(np.add))"
   ]
  },
  {
   "cell_type": "markdown",
   "id": "c5a12d63-ffb3-462c-a300-cd1d725de087",
   "metadata": {},
   "source": [
    "#### 3.Write a NumPy program to test whether none of the elements of a given array is zero.\n"
   ]
  },
  {
   "cell_type": "code",
   "execution_count": 88,
   "id": "8854e34c-e8b6-4320-a640-c8a26fefc2be",
   "metadata": {},
   "outputs": [
    {
     "name": "stdout",
     "output_type": "stream",
     "text": [
      "array1:  [[1, 2, 3], [4, 5, 6], [7, 8, 9]]\n",
      "True\n",
      "array2:  [[1, 2, 3], [4, 0, 6], [7, 8, 9]]\n",
      "False\n"
     ]
    }
   ],
   "source": [
    "arr1=[[1,2,3],[4,5,6],[7,8,9]]\n",
    "arr2=[[1,2,3],[4,0,6],[7,8,9]]\n",
    "print(\"array1: \",arr1)\n",
    "print(np.all(arr1))\n",
    "print(\"array2: \",arr2)\n",
    "print(np.all(arr2))"
   ]
  },
  {
   "cell_type": "markdown",
   "id": "fde14c23-7264-43de-9b51-57a37107afbc",
   "metadata": {},
   "source": [
    "#### 4.Write a NumPy program to test whether any of the elements of a given array is non-zero.\n"
   ]
  },
  {
   "cell_type": "code",
   "execution_count": 89,
   "id": "c0387cbd-cd6e-422c-a6c6-60aac2805620",
   "metadata": {},
   "outputs": [
    {
     "name": "stdout",
     "output_type": "stream",
     "text": [
      "array1:  [[0, 0, 0], [0, 0, 0], [0, 0, 0]]\n",
      "False\n",
      "array2:  [[0, 0, 0], [0, 1, 0], [0, 0, 0]]\n",
      "True\n"
     ]
    }
   ],
   "source": [
    "arr1=[[0,0,0],[0,0,0],[0,0,0]]\n",
    "arr2=[[0,0,0],[0,1,0],[0,0,0]]\n",
    "print(\"array1: \",arr1)\n",
    "print(np.any(arr1)) \n",
    "print(\"array2: \",arr2)\n",
    "print(np.any(arr2)) "
   ]
  },
  {
   "cell_type": "markdown",
   "id": "845cad5e-7196-4d3c-9fb2-11c3f64f5652",
   "metadata": {},
   "source": [
    "#### 5. Write a NumPy program to test a given array element-wise for finiteness (not infinity or not a Number).\n"
   ]
  },
  {
   "cell_type": "code",
   "execution_count": 90,
   "id": "ef2d4776-88b7-40df-914b-eb43e36c4576",
   "metadata": {},
   "outputs": [
    {
     "name": "stdout",
     "output_type": "stream",
     "text": [
      "Original array\n",
      "[ 1.  0. nan inf  4.  1.]\n",
      "Test a given array element-wise for finiteness :\n",
      "[ True  True False False  True  True]\n"
     ]
    }
   ],
   "source": [
    "a = np.array([1, 0, np.nan, np.inf , 4 , True])\n",
    "print(\"Original array\")\n",
    "print(a)\n",
    "print(\"Element-wise for finiteness :\")\n",
    "print(np.isfinite(a)) "
   ]
  },
  {
   "cell_type": "markdown",
   "id": "18b05e9f-7b65-41ac-a23f-9c6417fc2fd2",
   "metadata": {},
   "source": [
    "#### 6.Write a NumPy program to test element-wise for positive or negative infinity."
   ]
  },
  {
   "cell_type": "code",
   "execution_count": 91,
   "id": "65498feb-f627-40fa-8e9d-0293791ad14b",
   "metadata": {},
   "outputs": [
    {
     "name": "stdout",
     "output_type": "stream",
     "text": [
      "[[1, -2, inf], [4, nan, 6], [7, -inf, 9]]\n",
      "[[False False  True]\n",
      " [False False False]\n",
      " [False  True False]]\n"
     ]
    }
   ],
   "source": [
    "arr=[[1,-2,np.inf],[4,np.nan,6],[7,-np.inf,9]]\n",
    "print(arr)\n",
    "print(np.isinf(arr))"
   ]
  },
  {
   "cell_type": "markdown",
   "id": "6ff0a60d-f908-419e-b6c3-94b6195b695e",
   "metadata": {},
   "source": [
    "#### 7.Write a NumPy program to test element-wise for NaN of a given array.\n"
   ]
  },
  {
   "cell_type": "code",
   "execution_count": 92,
   "id": "151798d7-a1fd-46b3-bcc6-bc7bb7c169b8",
   "metadata": {},
   "outputs": [
    {
     "name": "stdout",
     "output_type": "stream",
     "text": [
      "Original array\n",
      "[ 1.  0. nan inf]\n",
      "Test element-wise for NaN:\n",
      "[False False  True False]\n"
     ]
    }
   ],
   "source": [
    "a = np.array([1, 0, np.nan, np.inf])\n",
    "print(\"Original array\")\n",
    "print(a)\n",
    "print(\"Element-wise for NaN:\")\n",
    "print(np.isnan(a)) "
   ]
  },
  {
   "cell_type": "markdown",
   "id": "7c8975d9-c0cc-45b8-9051-f9d60fe06354",
   "metadata": {},
   "source": [
    "#### 8.Write a NumPy program to test element-wise for complex number, real number of a given array.Also test whether a given number is a scalar type or not.\n"
   ]
  },
  {
   "cell_type": "code",
   "execution_count": null,
   "id": "6d4837b7-697c-4e3b-a184-1b64f2bb2048",
   "metadata": {},
   "outputs": [
    {
     "name": "stdout",
     "output_type": "stream",
     "text": [
      "Original array\n",
      "[1. +1.j 1. +0.j 4.5+0.j 3. +0.j 2. +0.j 0. +2.j]\n",
      "Checking for complex number:\n",
      "[ True False False False False  True]\n",
      "Checking for real number:\n",
      "[False  True  True  True  True False]\n",
      "Checking for scalar type:\n",
      "True\n",
      "False\n"
     ]
    }
   ],
   "source": [
    "a = np.array([1+1j, 1+0j, 5.5, 4, 2, 3j,5])\n",
    "print(\"Original array\")\n",
    "print(a)\n",
    "print(\"Checking for complex number:\")\n",
    "print(np.iscomplex(a))\n",
    "print(\"Checking for real number:\")\n",
    "print(np.isreal(a))\n",
    "print(\"Checking for scalar type:\")\n",
    "print(np.isscalar(3.1))\n",
    "print(np.isscalar([3.1])) "
   ]
  },
  {
   "cell_type": "markdown",
   "id": "c46fc6e6-61cd-47b6-9de3-a66538813668",
   "metadata": {},
   "source": [
    "#### 9.Write a NumPy program to create an element-wise comparison (greater, greater_equal, less and less_equal) of two given arrays."
   ]
  },
  {
   "cell_type": "code",
   "execution_count": 128,
   "id": "ad0c4eb3-77eb-4b4a-92b5-ecf4ceeb99ce",
   "metadata": {},
   "outputs": [
    {
     "name": "stdout",
     "output_type": "stream",
     "text": [
      "Original numbers:\n",
      "[3 5]\n",
      "[2 5]\n",
      "Comparison - greater\n",
      "[ True False]\n",
      "Comparison - greater_equal\n",
      "[ True  True]\n",
      "[ True  True]\n",
      "Comparison - less\n",
      "[False False]\n",
      "Comparison - less_equal\n",
      "[False  True]\n"
     ]
    }
   ],
   "source": [
    "x = np.array([3, 5])\n",
    "y = np.array([2, 5])\n",
    "print(\"Original numbers:\")\n",
    "print(x)\n",
    "print(y)\n",
    "print(\"Comparison - greater\")\n",
    "print(np.greater(x, y))\n",
    "#print(x>y)\n",
    "print(\"Comparison - greater_equal\")\n",
    "print(np.greater_equal(x, y))\n",
    "#print(x>=y)\n",
    "print(\"Comparison - less\")\n",
    "print(np.less(x, y))\n",
    "print(\"Comparison - less_equal\")\n",
    "print(np.less_equal(x, y)) "
   ]
  },
  {
   "cell_type": "markdown",
   "id": "758b2f3f-1f15-4723-9751-0494e86abe5f",
   "metadata": {},
   "source": [
    "#### 10.Write a NumPy program to create an array with the values 1, 7, 13, 105 and determine the size of the memory occupied by the array."
   ]
  },
  {
   "cell_type": "code",
   "execution_count": 95,
   "id": "66de837b-6a20-4838-a6e2-fb9393a5edd5",
   "metadata": {},
   "outputs": [
    {
     "name": "stdout",
     "output_type": "stream",
     "text": [
      "Original array:\n",
      "[  1   7  13 105]\n",
      "Size of the array:  4\n",
      "Memory size of one array element in bytes:  4\n",
      "Memory size of numpy array in bytes: 16\n"
     ]
    }
   ],
   "source": [
    "x = np.array([1, 7, 13, 105])\n",
    "print(\"Original array:\")\n",
    "print(x)\n",
    "print(\"Size of the array: \",x.size)\n",
    "print(\"Memory Size of one array element in bytes: \",x.itemsize)\n",
    "print(\"Memory Size of numpy array in bytes:\",\n",
    "      x.size * x.itemsize)"
   ]
  },
  {
   "cell_type": "markdown",
   "id": "97baba20-f949-4ca8-9097-d6c254727a2f",
   "metadata": {},
   "source": [
    "#### 11.Write a NumPy program to create an array of 10 zeros,10 ones, 10 fives.\n"
   ]
  },
  {
   "cell_type": "code",
   "execution_count": 96,
   "id": "f54359e0-a259-4b39-a15f-0de9b5beced5",
   "metadata": {},
   "outputs": [
    {
     "name": "stdout",
     "output_type": "stream",
     "text": [
      "An array of 10 zeros:\n",
      "[0. 0. 0. 0. 0. 0. 0. 0. 0. 0.]\n",
      "An array of 10 ones:\n",
      "[1. 1. 1. 1. 1. 1. 1. 1. 1. 1.]\n",
      "An array of 10 fives:\n",
      "[5. 5. 5. 5. 5. 5. 5. 5. 5. 5.]\n"
     ]
    }
   ],
   "source": [
    "array = np.zeros(10)\n",
    "print(\"An array of 10 zeros:\")\n",
    "print(array)\n",
    "array = np.ones(10)\n",
    "print(\"An array of 10 ones:\")\n",
    "print(array)\n",
    "array = np.ones(10) * 5\n",
    "print(\"An array of 10 fives:\")\n",
    "print(array) "
   ]
  },
  {
   "cell_type": "markdown",
   "id": "eaa9dd8c-2545-4f8d-99c0-c0171f58283d",
   "metadata": {},
   "source": [
    "#### 12.Write a NumPy program to create an array of the integers from 30 to70.\n"
   ]
  },
  {
   "cell_type": "code",
   "execution_count": 97,
   "id": "2ee63a2b-b4ce-48ac-aafb-5aa56289a64e",
   "metadata": {},
   "outputs": [
    {
     "name": "stdout",
     "output_type": "stream",
     "text": [
      "Array of the integers from 30 to 70\n",
      "[30 31 32 33 34 35 36 37 38 39 40 41 42 43 44 45 46 47 48 49 50 51 52 53\n",
      " 54 55 56 57 58 59 60 61 62 63 64 65 66 67 68 69 70]\n"
     ]
    }
   ],
   "source": [
    "array = np.arange(30, 71)\n",
    "print(\"Array of the integers from 30 to 70\")\n",
    "print(array) "
   ]
  },
  {
   "cell_type": "markdown",
   "id": "808f7f94-a6ab-4060-965f-741e3b5b9047",
   "metadata": {},
   "source": [
    "#### 13.Write a NumPy program to create an array of all the even integers from 30 to 70.\n"
   ]
  },
  {
   "cell_type": "code",
   "execution_count": 98,
   "id": "43746703-af9d-4a45-9737-b171b3a74a3e",
   "metadata": {},
   "outputs": [
    {
     "name": "stdout",
     "output_type": "stream",
     "text": [
      "Array of all the even integers from 30 to 70\n",
      "[30 32 34 36 38 40 42 44 46 48 50 52 54 56 58 60 62 64 66 68 70]\n"
     ]
    }
   ],
   "source": [
    "array = np.arange(30, 71, 2)\n",
    "print(\"Array of all the even integers from 30 to 70\")\n",
    "print(array) "
   ]
  },
  {
   "cell_type": "markdown",
   "id": "53f195cc-6224-4924-84d3-8eb59ffdfc42",
   "metadata": {},
   "source": [
    "#### 14.Write a NumPy program to create a 3x3 identity matrix.\n"
   ]
  },
  {
   "cell_type": "code",
   "execution_count": 99,
   "id": "47fc0f22-0a40-4c0b-b3de-4a456ff48570",
   "metadata": {},
   "outputs": [
    {
     "name": "stdout",
     "output_type": "stream",
     "text": [
      "3x3 matrix:\n",
      "[[1. 0. 0.]\n",
      " [0. 1. 0.]\n",
      " [0. 0. 1.]]\n"
     ]
    }
   ],
   "source": [
    "array_2D = np.identity(3)\n",
    "print('3x3 matrix:')\n",
    "print(array_2D) "
   ]
  },
  {
   "cell_type": "markdown",
   "id": "b48574b3-255d-4fe4-b067-b0458f112a00",
   "metadata": {},
   "source": [
    "#### 15.Write a NumPy program to generate a random number between 0 and 1.\n"
   ]
  },
  {
   "cell_type": "code",
   "execution_count": 3,
   "id": "0151f9cf-7d1d-4c76-a866-e82e71fbaa52",
   "metadata": {},
   "outputs": [
    {
     "name": "stdout",
     "output_type": "stream",
     "text": [
      "Random number between 0 and 1:\n",
      "[-0.09061339  0.06000817]\n"
     ]
    }
   ],
   "source": [
    "rand_num = np.random.normal(0, 1, 2)\n",
    "print(\"Random number between 0 and 1:\")\n",
    "print(rand_num)"
   ]
  },
  {
   "cell_type": "markdown",
   "id": "b1502d67-6028-4e00-be7e-184bf3d09f6e",
   "metadata": {},
   "source": [
    "### 16.Write a NumPy program to generate an array of 15 random numbers from a standard normal distribution."
   ]
  },
  {
   "cell_type": "code",
   "execution_count": 101,
   "id": "884f7898-0c51-4871-827b-74ecfa601f95",
   "metadata": {},
   "outputs": [
    {
     "name": "stdout",
     "output_type": "stream",
     "text": [
      "15 random numbers from a standard normal distribution:\n",
      "[-1.25428923 -0.1935393   0.87873648 -0.6599707   0.35912717 -1.37233317\n",
      "  0.0668335  -0.59485922  1.40062067 -0.38433621  0.01924512 -0.52729245\n",
      " -0.90220837 -0.64563418 -0.25193036]\n"
     ]
    }
   ],
   "source": [
    "rand_num = np.random.normal(0, 1, 15)\n",
    "print(\"15 random numbers from a standard normal distribution:\")\n",
    "print(rand_num) "
   ]
  },
  {
   "cell_type": "markdown",
   "id": "2b1022a9-c33a-447e-aa54-0c7b941bb553",
   "metadata": {},
   "source": [
    "#### 17.Write a NumPy program to create a vector with values ranging from 15 to 55 and print all values except the first and last."
   ]
  },
  {
   "cell_type": "code",
   "execution_count": 102,
   "id": "a4beb9d2-ea37-4fe3-b210-830e562307f4",
   "metadata": {},
   "outputs": [
    {
     "name": "stdout",
     "output_type": "stream",
     "text": [
      "Original vector:\n",
      "[15 16 17 18 19 20 21 22 23 24 25 26 27 28 29 30 31 32 33 34 35 36 37 38\n",
      " 39 40 41 42 43 44 45 46 47 48 49 50 51 52 53 54]\n",
      "All values except the first and last of the said vector:\n",
      "[16 17 18 19 20 21 22 23 24 25 26 27 28 29 30 31 32 33 34 35 36 37 38 39\n",
      " 40 41 42 43 44 45 46 47 48 49 50 51 52 53]\n"
     ]
    }
   ],
   "source": [
    "v = np.arange(15, 55)\n",
    "print(\"Original vector:\")\n",
    "print(v)\n",
    "print(\"All values except the first and last of the said vector:\")\n",
    "print(v[1:-1]) "
   ]
  },
  {
   "cell_type": "markdown",
   "id": "df0fd055-c447-4f9e-84ae-50d595faf968",
   "metadata": {},
   "source": [
    "#### 18. Write a NumPy program to create a 3X4 array using and iterate over it.\n"
   ]
  },
  {
   "cell_type": "code",
   "execution_count": 5,
   "id": "9644d461-192e-49a9-b67b-f2cda1f1d4c2",
   "metadata": {},
   "outputs": [
    {
     "name": "stdout",
     "output_type": "stream",
     "text": [
      "Original array:\n",
      "[[10 11 12 13]\n",
      " [14 15 16 17]\n",
      " [18 19 20 21]]\n",
      "Each element of the array is:\n",
      "10 11 12 13 14 15 16 17 18 19 20 21 "
     ]
    }
   ],
   "source": [
    "a = np.arange(10, 22).reshape((3, 4))\n",
    "print(\"Original array:\")\n",
    "print(a)\n",
    "print(\"Each element of the array is:\")\n",
    "for x in np.nditer(a):\n",
    "    print(x, end=\" \") "
   ]
  },
  {
   "cell_type": "markdown",
   "id": "bc264bd7-dec7-4dab-89e9-0dce673351c5",
   "metadata": {},
   "source": [
    "#### 19. Write a NumPy program to create a vector of length 10 with values evenly distributed between 5 and 50."
   ]
  },
  {
   "cell_type": "code",
   "execution_count": 104,
   "id": "81621673-784e-47f1-a9b1-8456bfc653fc",
   "metadata": {},
   "outputs": [
    {
     "name": "stdout",
     "output_type": "stream",
     "text": [
      "Length 10 with values evenly distributed between 5 and 50:\n",
      "[ 5. 10. 15. 20. 25. 30. 35. 40. 45. 50.]\n"
     ]
    }
   ],
   "source": [
    "v = np.linspace(5, 50, 10)\n",
    "print(\"Length 10 with values evenly distributed between 5 and 50:\")\n",
    "print(v)"
   ]
  },
  {
   "cell_type": "markdown",
   "id": "1d65af75-3c76-4d25-8473-0e786530a67a",
   "metadata": {},
   "source": [
    "#### 20.Write a NumPy program to create a vector with values from 0 to 20 and change the sign of the numbers in the range from 9 to 15."
   ]
  },
  {
   "cell_type": "code",
   "execution_count": 105,
   "id": "179987bc-5747-4289-bf24-90c1f1499f4a",
   "metadata": {},
   "outputs": [
    {
     "name": "stdout",
     "output_type": "stream",
     "text": [
      "Original vector:\n",
      "[ 0  1  2  3  4  5  6  7  8  9 10 11 12 13 14 15 16 17 18 19 20]\n",
      "After changing the sign of the numbers in the range from 9 to 15:\n",
      "[  0   1   2   3   4   5   6   7   8  -9 -10 -11 -12 -13 -14 -15  16  17\n",
      "  18  19  20]\n"
     ]
    }
   ],
   "source": [
    "x = np.arange(21)\n",
    "print(\"Original vector:\")\n",
    "print(x)\n",
    "x[(x >= 9) & (x <= 15)] *= -1\n",
    "print(\"After changing the sign of the numbers in the range from 9 to 15:\")\n",
    "print(x) "
   ]
  },
  {
   "cell_type": "markdown",
   "id": "5b36961a-fec2-4997-bcaf-facc38909116",
   "metadata": {},
   "source": [
    "#### 21.Write a NumPy program to create a vector of length 5 filled with arbitrary integers from 0 to 10."
   ]
  },
  {
   "cell_type": "code",
   "execution_count": 8,
   "id": "f8ab8ee6-77e5-427a-9664-469b8cbaa932",
   "metadata": {},
   "outputs": [
    {
     "name": "stdout",
     "output_type": "stream",
     "text": [
      "Vector of length 5 filled with arbitrary integers from 0 to 10:\n",
      "[8 3 2 2 8]\n"
     ]
    }
   ],
   "source": [
    "x = np.random.randint(0, 11, 5)\n",
    "print(\"Vector of length 5 filled with arbitrary integers from 0 to 10:\")\n",
    "print(x)"
   ]
  },
  {
   "cell_type": "markdown",
   "id": "efadd3a0-c865-4ce6-bfc7-6fa73632899e",
   "metadata": {},
   "source": [
    "#### 22.Write a NumPy program to multiply the values of two given vectors."
   ]
  },
  {
   "cell_type": "code",
   "execution_count": 107,
   "id": "4458809f-a3ef-4df3-99ec-52999e855bc4",
   "metadata": {},
   "outputs": [
    {
     "name": "stdout",
     "output_type": "stream",
     "text": [
      "Vector-1\n",
      "[1 8 3 5]\n",
      "Vector-2\n",
      "[6 8 3 7]\n",
      "Multiply the values of two said vectors:\n",
      "[ 6 64  9 35]\n"
     ]
    }
   ],
   "source": [
    "x = np.array([1, 8, 3, 5])\n",
    "print(\"Vector-1\")\n",
    "print(x)\n",
    "y = np.random.randint(0, 11, 4)\n",
    "print(\"Vector-2\")\n",
    "print(y)\n",
    "result = x * y\n",
    "print(\"Multiply the values of two said vectors:\")\n",
    "print(result) "
   ]
  },
  {
   "cell_type": "markdown",
   "id": "d6bb2e87-b5a0-41f1-9a22-2112d387ee16",
   "metadata": {},
   "source": [
    "#### 23.Write a NumPy program to create a 3x4 matrix filled with values from 10 to 21.\n"
   ]
  },
  {
   "cell_type": "code",
   "execution_count": 108,
   "id": "ab07b5c2-0b73-42c3-a83f-5d5505528789",
   "metadata": {},
   "outputs": [
    {
     "name": "stdout",
     "output_type": "stream",
     "text": [
      "[[10 11 12 13]\n",
      " [14 15 16 17]\n",
      " [18 19 20 21]]\n"
     ]
    }
   ],
   "source": [
    "m = np.arange(10, 22).reshape((3, 4))\n",
    "print(m) "
   ]
  },
  {
   "cell_type": "markdown",
   "id": "871bf09f-c95f-465c-ace3-46f5ec9e1496",
   "metadata": {},
   "source": [
    "#### 24.Write a NumPy program to find the number of rows and columns of a given matrix."
   ]
  },
  {
   "cell_type": "code",
   "execution_count": 134,
   "id": "11ce6426-7fae-4367-a393-8cd9e9acdd53",
   "metadata": {},
   "outputs": [
    {
     "name": "stdout",
     "output_type": "stream",
     "text": [
      "Rows: 2\n",
      "Columns: 3\n"
     ]
    }
   ],
   "source": [
    "matrix = np.array([[9, 9, 9], [8, 8, 8]])\n",
    "rows, columns = matrix.shape\n",
    "print(\"Rows:\", rows)\n",
    "print(\"Columns:\", columns)"
   ]
  },
  {
   "cell_type": "markdown",
   "id": "023df92a-4567-4947-9f6d-414ba8cde672",
   "metadata": {},
   "source": [
    "#### 25.Write a NumPy program to create a 3x3 identity matrix, i.e. diagonal elements are 1, the rest are 0.\n"
   ]
  },
  {
   "cell_type": "code",
   "execution_count": 110,
   "id": "360f48dd-23f2-4da0-bfa8-73a85d5ab861",
   "metadata": {},
   "outputs": [
    {
     "name": "stdout",
     "output_type": "stream",
     "text": [
      "[[1. 0. 0.]\n",
      " [0. 1. 0.]\n",
      " [0. 0. 1.]]\n"
     ]
    }
   ],
   "source": [
    "x = np.eye(3)\n",
    "print(x)"
   ]
  },
  {
   "cell_type": "markdown",
   "id": "f1317945-cae2-444f-a03f-1a49be7bd23b",
   "metadata": {},
   "source": [
    "#### 26 Write a NumPy program to create a 10x10 matrix, in which the elements on the borders will be equal to 1, and inside 0.\n"
   ]
  },
  {
   "cell_type": "code",
   "execution_count": 137,
   "id": "d9b71f68-5b46-4039-8a4f-4b6a9df2070c",
   "metadata": {},
   "outputs": [
    {
     "name": "stdout",
     "output_type": "stream",
     "text": [
      "[[1. 1. 1. 1. 1. 1. 1. 1. 1. 1.]\n",
      " [1. 0. 0. 0. 0. 0. 0. 0. 0. 1.]\n",
      " [1. 0. 0. 0. 0. 0. 0. 0. 0. 1.]\n",
      " [1. 0. 0. 0. 0. 0. 0. 0. 0. 1.]\n",
      " [1. 0. 0. 0. 0. 0. 0. 0. 0. 1.]\n",
      " [1. 0. 0. 0. 0. 0. 0. 0. 0. 1.]\n",
      " [1. 0. 0. 0. 0. 0. 0. 0. 0. 1.]\n",
      " [1. 0. 0. 0. 0. 0. 0. 0. 0. 1.]\n",
      " [1. 0. 0. 0. 0. 0. 0. 0. 0. 1.]\n",
      " [1. 1. 1. 1. 1. 1. 1. 1. 1. 1.]]\n"
     ]
    }
   ],
   "source": [
    "x = np.ones((10, 10))\n",
    "x[1:-1, 1:-1] = 0\n",
    "#x[2:-2, 2:-2] = 5\n",
    "print(x) "
   ]
  },
  {
   "cell_type": "markdown",
   "id": "fca63536-95e8-4c87-8e3e-f436bb0b4daf",
   "metadata": {},
   "source": [
    "#### 27 Write a NumPy program to create a 5x5 zero matrix with elements on the main diagonal equal to 1,2, 3, 4, 5.\n"
   ]
  },
  {
   "cell_type": "code",
   "execution_count": 112,
   "id": "ed3fda45-3cd0-44d3-bb78-da26bf290186",
   "metadata": {},
   "outputs": [
    {
     "name": "stdout",
     "output_type": "stream",
     "text": [
      "[[1 0 0 0 0]\n",
      " [0 2 0 0 0]\n",
      " [0 0 3 0 0]\n",
      " [0 0 0 4 0]\n",
      " [0 0 0 0 5]]\n"
     ]
    }
   ],
   "source": [
    "x = np.diag([1, 2, 3, 4, 5])\n",
    "print(x) "
   ]
  },
  {
   "cell_type": "markdown",
   "id": "609e2782-4cb9-4ccb-b88d-c91ca6a4ebe4",
   "metadata": {},
   "source": [
    "#### 28.Write a NumPy program to create a 4x4 matrix in which 0 and 1 are staggered, with zeros on the main diagonal.\n"
   ]
  },
  {
   "cell_type": "code",
   "execution_count": 10,
   "id": "218b0b97-ee9c-4a99-bd67-9245fe1e233b",
   "metadata": {},
   "outputs": [
    {
     "name": "stdout",
     "output_type": "stream",
     "text": [
      "[[0. 1. 0. 1.]\n",
      " [1. 0. 1. 0.]\n",
      " [0. 1. 0. 1.]\n",
      " [1. 0. 1. 0.]]\n"
     ]
    }
   ],
   "source": [
    "x = np.zeros((4, 4))\n",
    "x[::2, 1::2] = 1\n",
    "x[1::2, ::2] = 1\n",
    "print(x)"
   ]
  },
  {
   "cell_type": "markdown",
   "id": "3faf2f4f-4d1a-4638-ad5f-ba3b5cec08f3",
   "metadata": {},
   "source": [
    "#### 29.Write a NumPy program to create a 3x3x3 array filled with arbitrary values.\n"
   ]
  },
  {
   "cell_type": "code",
   "execution_count": 114,
   "id": "aff3b846-2195-4ced-88f1-eec444d919c8",
   "metadata": {},
   "outputs": [
    {
     "name": "stdout",
     "output_type": "stream",
     "text": [
      "[[[0.46513466 0.90999217 0.59387017]\n",
      "  [0.83622906 0.35512373 0.65976348]\n",
      "  [0.62077045 0.91209541 0.41214899]]\n",
      "\n",
      " [[0.45160745 0.01837788 0.19456745]\n",
      "  [0.71160615 0.04552825 0.22050415]\n",
      "  [0.96702038 0.87341601 0.28206528]]\n",
      "\n",
      " [[0.28621045 0.92863916 0.99089647]\n",
      "  [0.09696877 0.6916281  0.51644147]\n",
      "  [0.93211152 0.94637289 0.07210794]]]\n"
     ]
    }
   ],
   "source": [
    "x = np.random.random((3, 3, 3))\n",
    "print(x) "
   ]
  },
  {
   "cell_type": "markdown",
   "id": "79dfb10d-f886-44a9-8102-fac447066c68",
   "metadata": {},
   "source": [
    "#### 30. Write a NumPy program to compute sum of all elements, sum of each column and sum of each row of a given array."
   ]
  },
  {
   "cell_type": "code",
   "execution_count": 115,
   "id": "a5581a1e-bac6-407e-93f4-709b2436b25c",
   "metadata": {},
   "outputs": [
    {
     "name": "stdout",
     "output_type": "stream",
     "text": [
      "Original array:\n",
      "[[0 1]\n",
      " [2 3]]\n",
      "Sum of all elements:\n",
      "6\n"
     ]
    }
   ],
   "source": [
    "x = np.array([[0, 1], [2, 3]])\n",
    "print(\"Original array:\")\n",
    "print(x)\n",
    "print(\"Sum of all elements:\")\n",
    "print(np.sum(x))"
   ]
  },
  {
   "cell_type": "markdown",
   "id": "f4c80a30-1c96-48b7-8f2d-3438e7fd208e",
   "metadata": {},
   "source": [
    "#### 31. Write a NumPy program to compute the inner product of two given vectors.\n"
   ]
  },
  {
   "cell_type": "code",
   "execution_count": 116,
   "id": "957de593-5f68-4dc2-9268-700ef4ca7146",
   "metadata": {},
   "outputs": [
    {
     "name": "stdout",
     "output_type": "stream",
     "text": [
      "Original vectors:\n",
      "[4 5]\n",
      "[ 7 10]\n",
      "Inner product of said vectors:\n",
      "78\n"
     ]
    }
   ],
   "source": [
    "x = np.array([4, 5])\n",
    "y = np.array([7, 10])\n",
    "print(\"Original vectors:\")\n",
    "print(x)\n",
    "print(y)\n",
    "print(\"Inner product of said vectors:\")\n",
    "print(np.dot(x, y))"
   ]
  },
  {
   "cell_type": "markdown",
   "id": "78f0f0cf-1298-4a12-a940-0aeb9168c608",
   "metadata": {},
   "source": [
    "#### 32.Write a NumPy program to add a vector to each row of a given matrix.\n"
   ]
  },
  {
   "cell_type": "code",
   "execution_count": 117,
   "id": "e14df7b3-cf6e-4fac-bc6f-5f878c4e2b76",
   "metadata": {},
   "outputs": [
    {
     "name": "stdout",
     "output_type": "stream",
     "text": [
      "Original vector:\n",
      "[1 1 0]\n",
      "Original matrix:\n",
      "[[ 1  2  3]\n",
      " [ 4  5  6]\n",
      " [ 7  8  9]\n",
      " [10 11 12]]\n",
      "\n",
      "After adding the vector v to each row of the matrix m:\n",
      "[[ 2  3  3]\n",
      " [ 5  6  6]\n",
      " [ 8  9  9]\n",
      " [11 12 12]]\n"
     ]
    }
   ],
   "source": [
    "m = np.array([[1, 2, 3], [4, 5, 6], [7, 8, 9], [10, 11, 12]])\n",
    "v = np.array([1, 1, 0])\n",
    "print(\"Original vector:\")\n",
    "print(v)\n",
    "print(\"Original matrix:\")\n",
    "print(m)\n",
    "result = np.empty_like(m)\n",
    "for i in range(4):\n",
    "    result[i, :] = m[i, :] + v\n",
    "print(\"\\nAfter adding the vector v to each row of the matrix m:\")\n",
    "print(result)"
   ]
  },
  {
   "cell_type": "markdown",
   "id": "11300e49-56b1-45b7-8d93-a2324abc035f",
   "metadata": {},
   "source": [
    "#### 33. Write a NumPy program to compute the x and y coordinates for points on a sine curve and plot the points using matplotlib."
   ]
  },
  {
   "cell_type": "code",
   "execution_count": 118,
   "id": "0109ad0a-0016-47fb-bbc6-4ad409f3b114",
   "metadata": {},
   "outputs": [
    {
     "name": "stdout",
     "output_type": "stream",
     "text": [
      "Plot the points using matplotlib:\n"
     ]
    },
    {
     "data": {
      "image/png": "[encoded data removed]",
      "text/plain": [
       "<Figure size 640x480 with 1 Axes>"
      ]
     },
     "metadata": {},
     "output_type": "display_data"
    }
   ],
   "source": [
    "import matplotlib.pyplot as plt\n",
    "x = np.arange(0, 3 * np.pi, 0.2)\n",
    "y = np.sin(x)\n",
    "print(\"Plot the points using matplotlib:\")\n",
    "plt.plot(x, y)\n",
    "plt.show() "
   ]
  },
  {
   "cell_type": "markdown",
   "id": "3071d4ca-06b1-42d6-a352-502892b24ccd",
   "metadata": {},
   "source": [
    "#### 34. Write a NumPy program to convert numpy dtypes to native python types.\n"
   ]
  },
  {
   "cell_type": "code",
   "execution_count": 119,
   "id": "10a09b6d-28f6-4a66-ab14-b6864774f085",
   "metadata": {},
   "outputs": [
    {
     "name": "stdout",
     "output_type": "stream",
     "text": [
      "numpy.float32 to python float\n",
      "<class 'numpy.float32'>\n",
      "<class 'float'>\n"
     ]
    }
   ],
   "source": [
    "print(\"numpy.float32 to python float\")\n",
    "x = np.float32(0)\n",
    "print(type(x))\n",
    "pyval = x.item()\n",
    "print(type(pyval)) "
   ]
  },
  {
   "cell_type": "markdown",
   "id": "ee2b1c18-8986-4c1c-9c35-bce8d30111f7",
   "metadata": {},
   "source": [
    "#### 35. Write a NumPy program to find the missing data in a given array.\n"
   ]
  },
  {
   "cell_type": "code",
   "execution_count": 120,
   "id": "30fcd177-2bba-49e1-b17a-3f4c20385457",
   "metadata": {},
   "outputs": [
    {
     "name": "stdout",
     "output_type": "stream",
     "text": [
      "Original array:\n",
      "[[ 3.  2. nan  1.]\n",
      " [10. 12. 10.  9.]\n",
      " [ 5. nan  1. nan]]\n",
      "\n",
      "Find the missing data of the said array:\n",
      "[[False False  True False]\n",
      " [False False False False]\n",
      " [False  True False  True]]\n"
     ]
    }
   ],
   "source": [
    "nums = np.array([[3, 2, np.nan, 1],\n",
    "                 [10, 12, 10, 9],\n",
    "                 [5, np.nan, 1, np.nan]])\n",
    "\n",
    "print(\"Original array:\")\n",
    "print(nums)\n",
    "\n",
    "print(\"\\nFind the missing data of the said array:\")\n",
    "print(np.isnan(nums)) "
   ]
  },
  {
   "cell_type": "markdown",
   "id": "f5898c1c-ea11-4ccd-b1c0-6d3c7a26c5e3",
   "metadata": {},
   "source": [
    "#### 36. Write a NumPy program to sort a given array by row and column in ascending order."
   ]
  },
  {
   "cell_type": "code",
   "execution_count": 121,
   "id": "f7fae425-c6ed-419c-9b5d-137e3d451c53",
   "metadata": {},
   "outputs": [
    {
     "name": "stdout",
     "output_type": "stream",
     "text": [
      "Original array:\n",
      "[[5.54 3.38 7.99]\n",
      " [3.54 4.38 6.99]\n",
      " [1.54 2.39 9.29]]\n",
      "\n",
      "Sort the said array by row in ascending order:\n",
      "[[3.38 5.54 7.99]\n",
      " [3.54 4.38 6.99]\n",
      " [1.54 2.39 9.29]]\n",
      "\n",
      "Sort the said array by column in ascending order:\n",
      "[[1.54 2.39 6.99]\n",
      " [3.54 3.38 7.99]\n",
      " [5.54 4.38 9.29]]\n"
     ]
    }
   ],
   "source": [
    "nums = np.array([[5.54, 3.38, 7.99],\n",
    "              [3.54, 4.38, 6.99],\n",
    "              [1.54, 2.39, 9.29]])\n",
    "\n",
    "print(\"Original array:\")\n",
    "print(nums)\n",
    "\n",
    "print(\"\\nSort the said array by row in ascending order:\")\n",
    "print(np.sort(nums))\n",
    "\n",
    "print(\"\\nSort the said array by column in ascending order:\")\n",
    "print(np.sort(nums, axis=0)) "
   ]
  },
  {
   "cell_type": "markdown",
   "id": "1e927779-c5fa-4e49-a83a-61eee96f98ac",
   "metadata": {},
   "source": [
    "#### 37. Write a NumPy program to extract all numbers from a given array which are less and greater than a specified number."
   ]
  },
  {
   "cell_type": "code",
   "execution_count": 122,
   "id": "2d82bf58-2a71-4294-9dec-3168d9a36a05",
   "metadata": {},
   "outputs": [
    {
     "name": "stdout",
     "output_type": "stream",
     "text": [
      "Original array:\n",
      "[[5.54 3.38 7.99]\n",
      " [3.54 4.38 6.99]\n",
      " [1.54 2.39 9.29]]\n",
      "\n",
      "Elements of the said array greater than 5\n",
      "[5.54 7.99 6.99 9.29]\n",
      "\n",
      "Elements of the said array less than 6\n",
      "[5.54 3.38 3.54 4.38 1.54 2.39]\n"
     ]
    }
   ],
   "source": [
    "nums = np.array([[5.54, 3.38, 7.99],\n",
    "              [3.54, 4.38, 6.99],\n",
    "              [1.54, 2.39, 9.29]])\n",
    "\n",
    "print(\"Original array:\")\n",
    "print(nums)\n",
    "\n",
    "n = 5\n",
    "print(\"\\nElements of the said array greater than\", n)\n",
    "print(nums[nums > n])\n",
    "\n",
    "n = 6\n",
    "print(\"\\nElements of the said array less than\", n)\n",
    "print(nums[nums < n]) "
   ]
  },
  {
   "cell_type": "markdown",
   "id": "25149b54-261d-4b73-94fe-232e220d4f94",
   "metadata": {},
   "source": [
    "#### 38. Write a NumPy program to replace all numbers in a given array which is equal, less and greater to a given number."
   ]
  },
  {
   "cell_type": "code",
   "execution_count": 123,
   "id": "61eee717-9fe9-46dd-b11a-f85706b39767",
   "metadata": {},
   "outputs": [
    {
     "name": "stdout",
     "output_type": "stream",
     "text": [
      "Original array:\n",
      "[[5.54 3.38 7.99]\n",
      " [3.54 8.32 6.99]\n",
      " [1.54 2.39 9.29]]\n",
      "\n",
      "Replace elements of the said array which are equal to 8.32 with 18.32\n",
      "[[ 5.54  3.38  7.99]\n",
      " [ 3.54 18.32  6.99]\n",
      " [ 1.54  2.39  9.29]]\n",
      "\n",
      "Replace elements of the said array which are less than 8.32 with 18.32\n",
      "[[18.32 18.32 18.32]\n",
      " [18.32  8.32 18.32]\n",
      " [18.32 18.32  9.29]]\n",
      "\n",
      "Replace elements of the said array which are greater than 8.32 with 18.32\n",
      "[[ 5.54  3.38  7.99]\n",
      " [ 3.54  8.32  6.99]\n",
      " [ 1.54  2.39 18.32]]\n"
     ]
    }
   ],
   "source": [
    "nums = np.array([[5.54, 3.38, 7.99],\n",
    "              [3.54, 8.32, 6.99],\n",
    "              [1.54, 2.39, 9.29]])\n",
    "\n",
    "print(\"Original array:\")\n",
    "print(nums)\n",
    "\n",
    "# Assigning values to variables 'n' and 'r'\n",
    "n = 8.32\n",
    "r = 18.32\n",
    "print(\"\\nReplace elements of the said array which are equal to\", n, \"with\", r)\n",
    "print(np.where(nums == n, r, nums))\n",
    "\n",
    "print(\"\\nReplace elements of the said array which are less than\", n, \"with\", r)\n",
    "print(np.where(nums < n, r, nums))\n",
    "\n",
    "print(\"\\nReplace elements of the said array which are greater than\", n, \"with\", r)\n",
    "print(np.where(nums > n, r, nums)) "
   ]
  },
  {
   "cell_type": "markdown",
   "id": "618f4129-f058-465f-8133-625af17b5323",
   "metadata": {},
   "source": [
    "#### 39. Write a NumPy program to create an array of equal shape and data type of a given array.\n"
   ]
  },
  {
   "cell_type": "code",
   "execution_count": 124,
   "id": "8ed13c1b-f942-45ae-9de1-f52e163a3617",
   "metadata": {},
   "outputs": [
    {
     "name": "stdout",
     "output_type": "stream",
     "text": [
      "Original array:\n",
      "[[5.54 3.38 7.99]\n",
      " [3.54 8.32 6.99]\n",
      " [1.54 2.39 9.29]]\n",
      "\n",
      "New array of equal shape and data type of the said array filled by 0:\n",
      "[[0. 0. 0.]\n",
      " [0. 0. 0.]\n",
      " [0. 0. 0.]]\n"
     ]
    }
   ],
   "source": [
    "nums = np.array([[5.54, 3.38, 7.99],\n",
    "              [3.54, 8.32, 6.99],\n",
    "              [1.54, 2.39, 9.29]])\n",
    "print(\"Original array:\")\n",
    "print(nums)\n",
    "print(\"\\nNew array of equal shape and data type of the said array filled by 0:\")\n",
    "print(np.zeros_like(nums))"
   ]
  },
  {
   "cell_type": "markdown",
   "id": "9c2eee9b-bb22-48ce-99eb-674ae9dfa332",
   "metadata": {},
   "source": [
    "#### 40. Write a NumPy program to create a three-dimension array with shape (3,5,4) and set to a variable.\n"
   ]
  },
  {
   "cell_type": "code",
   "execution_count": 125,
   "id": "31e1fa93-f715-4214-b8a2-5b9392c4f1a4",
   "metadata": {},
   "outputs": [
    {
     "name": "stdout",
     "output_type": "stream",
     "text": [
      "Array:\n",
      "[[[1 5 2 1]\n",
      "  [4 3 5 6]\n",
      "  [6 3 0 6]\n",
      "  [7 3 5 0]\n",
      "  [2 3 3 5]]\n",
      "\n",
      " [[2 2 3 1]\n",
      "  [4 0 0 5]\n",
      "  [6 3 2 1]\n",
      "  [5 1 0 0]\n",
      "  [0 1 9 1]]\n",
      "\n",
      " [[3 1 4 2]\n",
      "  [4 1 6 0]\n",
      "  [1 2 0 6]\n",
      "  [8 3 4 0]\n",
      "  [2 0 2 8]]]\n"
     ]
    }
   ],
   "source": [
    "nums = np.array([[[1, 5, 2, 1],\n",
    "               [4, 3, 5, 6],\n",
    "               [6, 3, 0, 6],\n",
    "               [7, 3, 5, 0],\n",
    "               [2, 3, 3, 5]],\n",
    "              \n",
    "              [[2, 2, 3, 1],\n",
    "               [4, 0, 0, 5],\n",
    "               [6, 3, 2, 1],\n",
    "               [5, 1, 0, 0],               \n",
    "               [0, 1, 9, 1]],\n",
    "              \n",
    "              [[3, 1, 4, 2],\n",
    "               [4, 1, 6, 0],\n",
    "               [1, 2, 0, 6],\n",
    "               [8, 3, 4, 0],               \n",
    "               [2, 0, 2, 8]]]) \n",
    "\n",
    "print(\"Array:\")\n",
    "print(nums) "
   ]
  },
  {
   "cell_type": "markdown",
   "id": "b68df345-a3fe-4e18-bb7d-1b3bcaac7e36",
   "metadata": {},
   "source": [
    "#### 41. Write a NumPy program to multiply two given arrays of same size element-by-element."
   ]
  },
  {
   "cell_type": "code",
   "execution_count": 143,
   "id": "125e5f10-3a9c-4fee-8142-34388e6de867",
   "metadata": {},
   "outputs": [
    {
     "name": "stdout",
     "output_type": "stream",
     "text": [
      "[[2 5 2]\n",
      " [1 5 5]]\n",
      "[[5 3 4]\n",
      " [3 2 5]]\n",
      "Multiplication of arrays\n",
      "[[10 15  8]\n",
      " [ 3 10 25]]\n"
     ]
    }
   ],
   "source": [
    "nums1 = np.array([[2, 5, 2],\n",
    "              [1, 5, 5]])\n",
    "print(nums1)\n",
    "nums2 = np.array([[5, 3, 4],\n",
    "              [3, 2, 5]])\n",
    "print(nums2)\n",
    "print(\"Multiplication of arrays\")\n",
    "print(nums1*nums2)"
   ]
  }
 ],
 "metadata": {
  "kernelspec": {
   "display_name": "Python 3 (ipykernel)",
   "language": "python",
   "name": "python3"
  },
  "language_info": {
   "codemirror_mode": {
    "name": "ipython",
    "version": 3
   },
   "file_extension": ".py",
   "mimetype": "text/x-python",
   "name": "python",
   "nbconvert_exporter": "python",
   "pygments_lexer": "ipython3",
   "version": "3.11.7"
  }
 },
 "nbformat": 4,
 "nbformat_minor": 5
}
