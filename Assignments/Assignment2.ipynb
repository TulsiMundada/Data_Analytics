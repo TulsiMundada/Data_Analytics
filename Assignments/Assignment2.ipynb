{
 "cells": [
  {
   "cell_type": "markdown",
   "id": "12589328-f4f0-4186-89e6-827758cd43d7",
   "metadata": {},
   "source": [
    "# Pands Series"
   ]
  },
  {
   "cell_type": "code",
   "execution_count": 1,
   "id": "dffd238d-a178-4007-a086-7beb7fb5453b",
   "metadata": {},
   "outputs": [],
   "source": [
    "import pandas as pd\n",
    "import numpy as np"
   ]
  },
  {
   "cell_type": "code",
   "execution_count": 9,
   "id": "39bff5bd-21f7-4fce-845f-c08044b4d8ae",
   "metadata": {},
   "outputs": [
    {
     "name": "stdout",
     "output_type": "stream",
     "text": [
      "0    1\n",
      "1    2\n",
      "2    3\n",
      "3    4\n",
      "4    5\n",
      "dtype: int64\n"
     ]
    }
   ],
   "source": [
    "#1. Write a Pandas program to create and display a one-dimensional array-like object containing an array of data using Pandas module.\n",
    "n=pd.Series([1,2,3,4,5])\n",
    "print(n)"
   ]
  },
  {
   "cell_type": "code",
   "execution_count": 13,
   "id": "0d730af0-88d9-41ce-87b8-59206ee31874",
   "metadata": {},
   "outputs": [
    {
     "name": "stdout",
     "output_type": "stream",
     "text": [
      "[1, 2, 3, 4, 5]\n",
      "<class 'list'>\n"
     ]
    }
   ],
   "source": [
    "#2. Write a Pandas program to convert a Panda module Series to Python list and it's type.\n",
    "n=list(pd.Series([1,2,3,4,5]))\n",
    "print(n)\n",
    "print(type(n))"
   ]
  },
  {
   "cell_type": "code",
   "execution_count": 21,
   "id": "91e198b7-e135-4601-910c-774ae9860f38",
   "metadata": {},
   "outputs": [
    {
     "name": "stdout",
     "output_type": "stream",
     "text": [
      "Add\n",
      " 0     3\n",
      "1     7\n",
      "2    11\n",
      "3    15\n",
      "dtype: int64 \n",
      "Subtract\n",
      " 0    1\n",
      "1    1\n",
      "2    1\n",
      "3    1\n",
      "dtype: int64 \n",
      "Multiply\n",
      " 0     2\n",
      "1    12\n",
      "2    30\n",
      "3    56\n",
      "dtype: int64 \n",
      "Divide\n",
      " 0    2\n",
      "1    1\n",
      "2    1\n",
      "3    1\n",
      "dtype: int64\n"
     ]
    }
   ],
   "source": [
    "#3. Write a Pandas program to add, subtract, multiple and divide two PandasSeries.\n",
    "p1=pd.Series([2,4,6,8])\n",
    "p2=pd.Series([1,3,5,7])\n",
    "print(\"Add\\n\",p1+p2,\"\\nSubtract\\n\",p1-p2,\"\\nMultiply\\n\",p1*p2,\"\\nDivide\\n\",p1//p2)"
   ]
  },
  {
   "cell_type": "code",
   "execution_count": 24,
   "id": "0a4dae45-8189-460a-bfcb-76906fc0f36e",
   "metadata": {},
   "outputs": [
    {
     "name": "stdout",
     "output_type": "stream",
     "text": [
      "Two Series equal or not:\n",
      " 0    False\n",
      "1    False\n",
      "2    False\n",
      "3    False\n",
      "4     True\n",
      "dtype: bool\n",
      "2nd Series greater or not:\n",
      " 0    False\n",
      "1    False\n",
      "2    False\n",
      "3    False\n",
      "4    False\n",
      "dtype: bool\n",
      "2nd Series lower or not:\n",
      " 0     True\n",
      "1     True\n",
      "2     True\n",
      "3     True\n",
      "4    False\n",
      "dtype: bool\n"
     ]
    }
   ],
   "source": [
    "#4. Write a Pandas program to compare the elements of the two Pandas Series.\n",
    "p1=pd.Series([2, 4, 6, 8, 10])\n",
    "p2=pd.Series([1, 3, 5, 7, 10])\n",
    "print(\"Two Series equal or not:\\n\" , p1==p2)\n",
    "print(\"2nd Series greater or not:\\n\" , p1<p2)\n",
    "print(\"2nd Series lower or not:\\n\" , p1>p2)"
   ]
  },
  {
   "cell_type": "code",
   "execution_count": 32,
   "id": "66368661-db95-441b-aa84-06aafa753962",
   "metadata": {},
   "outputs": [
    {
     "name": "stdout",
     "output_type": "stream",
     "text": [
      "Original Dictionary is\n",
      " {'a': 100, 'b': 200, 'c': 300, 'd': 400, 'e': 800}\n",
      "Converted Series:\n",
      "a    100\n",
      "b    200\n",
      "c    300\n",
      "d    400\n",
      "e    800\n",
      "dtype: int64\n"
     ]
    }
   ],
   "source": [
    "#5. Write a Pandas program to convert a dictionary to a Pandas series.\n",
    "d={'a':100,'b':200,'c':300,'d':400,'e':800}\n",
    "print(\"Original Dictionary is\\n\",d)\n",
    "p=pd.Series(d)\n",
    "print(\"Converted Series:\")\n",
    "print(p)"
   ]
  },
  {
   "cell_type": "code",
   "execution_count": 36,
   "id": "d13cc2c6-d2d6-4fa9-a279-26e4d5940a35",
   "metadata": {},
   "outputs": [
    {
     "name": "stdout",
     "output_type": "stream",
     "text": [
      "Numpy Array is:    [10 20 30 40 50]\n",
      "Converted Series:\n",
      "0    10\n",
      "1    20\n",
      "2    30\n",
      "3    40\n",
      "4    50\n",
      "dtype: int32\n"
     ]
    }
   ],
   "source": [
    "#6. Write a Pandas program to convert a NumPy array to a Pandas series.\n",
    "arr=np.array([10,20,30,40,50])\n",
    "print(\"Numpy Array is:   \",arr)\n",
    "p=pd.Series(arr)\n",
    "print(\"Converted Series:\")\n",
    "print(p)"
   ]
  },
  {
   "cell_type": "code",
   "execution_count": 40,
   "id": "7435c9fe-36ff-42e0-9a00-4d799cb521c5",
   "metadata": {},
   "outputs": [
    {
     "name": "stdout",
     "output_type": "stream",
     "text": [
      "0       100\n",
      "1       200\n",
      "2    Python\n",
      "3    300.12\n",
      "4       400\n",
      "dtype: object\n",
      "0    100.00\n",
      "1    200.00\n",
      "2       NaN\n",
      "3    300.12\n",
      "4    400.00\n",
      "dtype: float64\n"
     ]
    }
   ],
   "source": [
    "#7. Write a Pandas program to change the data type of given a column or a Series.\n",
    "p=pd.Series([100, 200, \"Python\", 300.12, 400])\n",
    "print(p)\n",
    "p1=pd.to_numeric(p,errors='coerce')\n",
    "print(p1)"
   ]
  },
  {
   "cell_type": "code",
   "execution_count": 47,
   "id": "320090d2-d29b-4ae7-b2a4-c952e552ac01",
   "metadata": {},
   "outputs": [
    {
     "name": "stdout",
     "output_type": "stream",
     "text": [
      "   col1  col2  col3\n",
      "0     1     4     7\n",
      "1     2     5     5\n",
      "2     3     6     8\n",
      "3     4     9    12\n",
      "4     7     5     1\n",
      "5    11     0    11\n",
      "First column as a series :\n",
      "0     1\n",
      "1     2\n",
      "2     3\n",
      "3     4\n",
      "4     7\n",
      "5    11\n",
      "Name: col1, dtype: int64\n",
      "<class 'pandas.core.series.Series'>\n"
     ]
    }
   ],
   "source": [
    "#8. Write a Pandas program to convert the first column of a DataFrame as a Series.\n",
    "d={'col1': [1, 2, 3, 4, 7, 11], 'col2': [4, 5, 6, 9, 5, 0], 'col3': [7, 5, 8, 12, 1, 11]}\n",
    "df = pd.DataFrame(d)\n",
    "print(df)\n",
    "s=df['col1']\n",
    "print(\"First column as a series :\")\n",
    "print(s)\n",
    "print(type(s))"
   ]
  },
  {
   "cell_type": "code",
   "execution_count": 50,
   "id": "1951e6fd-f117-41c5-a7bb-abf595cba3ac",
   "metadata": {},
   "outputs": [
    {
     "name": "stdout",
     "output_type": "stream",
     "text": [
      "0       100\n",
      "1       200\n",
      "2    Python\n",
      "3    300.12\n",
      "4       400\n",
      "dtype: object\n",
      "[100 200 'Python' 300.12 400]\n",
      "<class 'numpy.ndarray'>\n"
     ]
    }
   ],
   "source": [
    "# 9. Write a Pandas program to convert a given Series to an array.\n",
    "p=pd.Series([100, 200, \"Python\", 300.12, 400])\n",
    "print(p)\n",
    "a=np.array(p)\n",
    "print(a)\n",
    "print(type(a))"
   ]
  },
  {
   "cell_type": "code",
   "execution_count": 61,
   "id": "a94e96cc-870c-4468-ac12-3307503dd4bf",
   "metadata": {},
   "outputs": [
    {
     "name": "stdout",
     "output_type": "stream",
     "text": [
      "Original Series of lists\n",
      "0    [Red, Green, White]\n",
      "1           [Red, Black]\n",
      "2               [Yellow]\n",
      "dtype: object\n",
      "New Series : \n",
      "0       Red\n",
      "1     Green\n",
      "2     White\n",
      "3       Red\n",
      "4     Black\n",
      "5    Yellow\n",
      "dtype: object\n"
     ]
    }
   ],
   "source": [
    "# 10. Write a Pandas program to convert Series of lists to one Series.\n",
    "l1=pd.Series([['Red','Green','White'],\n",
    "             ['Red','Black'],\n",
    "             ['Yellow']])\n",
    "print(\"Original Series of lists\")\n",
    "print(l1)\n",
    "l=l1.apply(pd.Series).stack().reset_index(drop=True)\n",
    "print(\"New Series : \")\n",
    "print(l)"
   ]
  },
  {
   "cell_type": "code",
   "execution_count": 73,
   "id": "583c55ca-d87d-4fd3-b214-9a6b0e2254c6",
   "metadata": {},
   "outputs": [
    {
     "name": "stdout",
     "output_type": "stream",
     "text": [
      "Original Series :\n",
      "0       100\n",
      "1       200\n",
      "2    Python\n",
      "3    300.12\n",
      "4       400\n",
      "dtype: object\n",
      "Sorted Series :\n",
      "0       100\n",
      "1       200\n",
      "3    300.12\n",
      "4       400\n",
      "2    Python\n",
      "dtype: object\n"
     ]
    }
   ],
   "source": [
    "# 11. Write a Pandas program to sort a given Series.\n",
    "p=pd.Series(['100', '200', 'Python', '300.12', '400'])\n",
    "print(\"Original Series :\")\n",
    "print(p)\n",
    "p1=pd.Series(p).sort_values()\n",
    "print(\"Sorted Series :\")\n",
    "print(p1)"
   ]
  },
  {
   "cell_type": "code",
   "execution_count": 76,
   "id": "9955ff45-bee7-40ea-a03d-451ab5f7091a",
   "metadata": {},
   "outputs": [
    {
     "name": "stdout",
     "output_type": "stream",
     "text": [
      "Original Series :\n",
      "0       100\n",
      "1       200\n",
      "2    Python\n",
      "3    300.12\n",
      "4       400\n",
      "dtype: object\n",
      "New Series :\n",
      "0       100\n",
      "1       200\n",
      "2    Python\n",
      "3    300.12\n",
      "4       400\n",
      "5       500\n",
      "6       php\n",
      "dtype: object\n"
     ]
    }
   ],
   "source": [
    "# 12. Write a Pandas program to add some data to an existing Series.\n",
    "p=pd.Series(['100', '200', 'Python', '300.12', '400'])\n",
    "print(\"Original Series :\")\n",
    "print(p)\n",
    "p1= pd.concat([p, pd.Series([500, \"php\"])], ignore_index=True)\n",
    "print(\"New Series :\")\n",
    "print(p1)"
   ]
  },
  {
   "cell_type": "code",
   "execution_count": 77,
   "id": "d1cc5b29-10a6-4982-8795-26f53f9733a5",
   "metadata": {},
   "outputs": [
    {
     "name": "stdout",
     "output_type": "stream",
     "text": [
      "Original Series:\n",
      "0      0\n",
      "1      1\n",
      "2      2\n",
      "3      3\n",
      "4      4\n",
      "5      5\n",
      "6      6\n",
      "7      7\n",
      "8      8\n",
      "9      9\n",
      "10    10\n",
      "dtype: int64\n",
      "Subset of the above Data Series:\n",
      "0    0\n",
      "1    1\n",
      "2    2\n",
      "3    3\n",
      "4    4\n",
      "5    5\n",
      "dtype: int64\n"
     ]
    }
   ],
   "source": [
    "# 13. Write a Pandas program to create a subset of a given series based on value and condition.\n",
    "s = pd.Series([0,1,2,3,4,5,6,7,8,9,10])\n",
    "print(\"Original Series:\")\n",
    "print(s)\n",
    "print(\"Subset of the above Data Series:\")\n",
    "s1= s[s < 6]\n",
    "print(s1)"
   ]
  },
  {
   "cell_type": "code",
   "execution_count": 78,
   "id": "03ca7146-2160-4a57-a1b6-fac64a9c0a82",
   "metadata": {},
   "outputs": [
    {
     "name": "stdout",
     "output_type": "stream",
     "text": [
      "Original Data Series:\n",
      "A    1\n",
      "B    2\n",
      "C    3\n",
      "D    4\n",
      "E    5\n",
      "dtype: int64\n",
      "Data Series after changing the order of index:\n",
      "B    2\n",
      "A    1\n",
      "C    3\n",
      "D    4\n",
      "E    5\n",
      "dtype: int64\n"
     ]
    }
   ],
   "source": [
    "# 14. Write a Pandas program to change the order of index of a given series.\n",
    "s = pd.Series(data = [1,2,3,4,5], index = ['A', 'B', 'C','D','E'])\n",
    "print(\"Original Data Series:\")\n",
    "print(s)\n",
    "s = s.reindex(index = ['B','A','C','D','E'])\n",
    "print(\"Data Series after changing the order of index:\")\n",
    "print(s)"
   ]
  },
  {
   "cell_type": "code",
   "execution_count": 79,
   "id": "6df55957-b80e-4737-abb5-3802a84b107d",
   "metadata": {},
   "outputs": [
    {
     "name": "stdout",
     "output_type": "stream",
     "text": [
      "Original Series:\n",
      "0     1\n",
      "1     2\n",
      "2     3\n",
      "3     4\n",
      "4     5\n",
      "5     6\n",
      "6     7\n",
      "7     8\n",
      "8     9\n",
      "9     5\n",
      "10    3\n",
      "dtype: int64\n",
      "Mean of Series:\n",
      "4.818181818181818\n",
      "Standard deviation of Series:\n",
      "2.522624895547565\n"
     ]
    }
   ],
   "source": [
    "#15. Write a Pandas program to create the mean and standard deviation of the data of a given Series.\n",
    "s = pd.Series([1,2,3,4,5,6,7,8,9,5,3])\n",
    "print(\"Original Series:\")\n",
    "print(s)\n",
    "print(\"Mean of Series:\")\n",
    "print(s.mean())\n",
    "print(\"Standard deviation of Series:\")\n",
    "print(s.std())"
   ]
  },
  {
   "cell_type": "code",
   "execution_count": 80,
   "id": "a65668ca-bbc5-45ca-83e0-fd6a4de9bc4f",
   "metadata": {},
   "outputs": [
    {
     "name": "stdout",
     "output_type": "stream",
     "text": [
      "Original Series:\n",
      "s1:\n",
      "0    1\n",
      "1    2\n",
      "2    3\n",
      "3    4\n",
      "4    5\n",
      "dtype: int64\n",
      "s2:\n",
      "0     2\n",
      "1     4\n",
      "2     6\n",
      "3     8\n",
      "4    10\n",
      "dtype: int64\n",
      "\n",
      "Items of s1 not present in s2:\n",
      "0    1\n",
      "2    3\n",
      "4    5\n",
      "dtype: int64\n"
     ]
    }
   ],
   "source": [
    "#16. Write a Pandas program to get the items of a given series not present in another given series.\n",
    "s1 = pd.Series([1, 2, 3, 4, 5])\n",
    "s2 = pd.Series([2, 4, 6, 8, 10])\n",
    "print(\"Original Series:\")\n",
    "print(\"s1:\")\n",
    "print(s1)\n",
    "print(\"s2:\")\n",
    "print(s2)\n",
    "print(\"\\nItems of s1 not present in s2:\")\n",
    "res = s1[~s1.isin(s2)]\n",
    "print(res)"
   ]
  },
  {
   "cell_type": "code",
   "execution_count": 85,
   "id": "095d6293-19b5-4437-bed1-c8f0b9761ce3",
   "metadata": {},
   "outputs": [
    {
     "name": "stdout",
     "output_type": "stream",
     "text": [
      "Original Series:\n",
      "s1:\n",
      "0    1\n",
      "1    2\n",
      "2    3\n",
      "3    4\n",
      "4    5\n",
      "dtype: int64\n",
      "s2:\n",
      "0     2\n",
      "1     4\n",
      "2     6\n",
      "3     8\n",
      "4    10\n",
      "dtype: int64\n",
      "\n",
      "Items which are not common:\n",
      "0     1\n",
      "2     3\n",
      "4     5\n",
      "5     6\n",
      "6     8\n",
      "7    10\n",
      "dtype: int64\n"
     ]
    }
   ],
   "source": [
    "# 17. Write a Pandas program to get the items which are not common of two given series.\n",
    "s1 = pd.Series([1, 2, 3, 4, 5])\n",
    "s2 = pd.Series([2, 4, 6, 8, 10])\n",
    "print(\"Original Series:\")\n",
    "print(\"s1:\")\n",
    "print(s1)\n",
    "print(\"s2:\")\n",
    "print(s2)\n",
    "print(\"\\nItems which are not common:\")\n",
    "union = pd.Series(np.union1d(s1, s2)) \n",
    "intersect = pd.Series(np.intersect1d(s1, s2)) \n",
    "notcommon = union[~union.isin(intersect)] \n",
    "print(notcommon)"
   ]
  },
  {
   "cell_type": "code",
   "execution_count": 88,
   "id": "6b6106ea-2722-47d1-8303-60badb0a9018",
   "metadata": {},
   "outputs": [
    {
     "name": "stdout",
     "output_type": "stream",
     "text": [
      "Original Series:\n",
      "0      3.000938\n",
      "1     11.370722\n",
      "2     14.612143\n",
      "3      8.990256\n",
      "4     13.925283\n",
      "5     12.056875\n",
      "6     10.884719\n",
      "7      5.719827\n",
      "8      9.242017\n",
      "9     11.020006\n",
      "10     8.167892\n",
      "11    11.740654\n",
      "12     7.665620\n",
      "13    13.267388\n",
      "14    12.690883\n",
      "15     9.582355\n",
      "16     7.874878\n",
      "17    14.118931\n",
      "18     8.247458\n",
      "19     5.526727\n",
      "dtype: float64\n",
      "\n",
      "Minimum, 25th percentile, median, 75th, and maximum of a given series:\n",
      "[ 3.00093811  8.09463867 10.23353705 12.21537733 14.61214321]\n"
     ]
    }
   ],
   "source": [
    "# 18. Write a Pandas program to compute the minimum, 25th percentile, median, 75th, and maximum of a given series.\n",
    "num_state = np.random.RandomState(100)\n",
    "num_series = pd.Series(num_state.normal(10, 4, 20))\n",
    "print(\"Original Series:\")\n",
    "print(num_series)\n",
    "result = np.percentile(num_series, q=[0, 25, 50, 75, 100])\n",
    "print(\"\\nMinimum, 25th percentile, median, 75th, and maximum of a given series:\")\n",
    "print(result)"
   ]
  },
  {
   "cell_type": "code",
   "execution_count": 92,
   "id": "0b7988cc-3111-4b39-bb9c-287834309018",
   "metadata": {},
   "outputs": [
    {
     "name": "stdout",
     "output_type": "stream",
     "text": [
      "Original Series:\n",
      "0     8\n",
      "1     4\n",
      "2     9\n",
      "3     5\n",
      "4     4\n",
      "5     3\n",
      "6     2\n",
      "7     1\n",
      "8     5\n",
      "9     5\n",
      "10    9\n",
      "11    0\n",
      "12    6\n",
      "13    2\n",
      "14    8\n",
      "15    2\n",
      "16    9\n",
      "17    8\n",
      "18    4\n",
      "19    6\n",
      "20    6\n",
      "21    4\n",
      "22    4\n",
      "23    0\n",
      "24    2\n",
      "25    3\n",
      "26    6\n",
      "27    8\n",
      "28    5\n",
      "29    4\n",
      "30    8\n",
      "31    9\n",
      "32    0\n",
      "33    2\n",
      "34    8\n",
      "35    1\n",
      "36    7\n",
      "37    1\n",
      "38    9\n",
      "39    3\n",
      "dtype: int32\n",
      "Frequency of each unique value of the said series.\n",
      "8    6\n",
      "4    6\n",
      "9    5\n",
      "2    5\n",
      "5    4\n",
      "6    4\n",
      "3    3\n",
      "1    3\n",
      "0    3\n",
      "7    1\n",
      "Name: count, dtype: int64\n"
     ]
    }
   ],
   "source": [
    "# 19. Write a Pandas program to calculate the frequency counts of each unique value of a given series.\n",
    "num_series = pd.Series(np.random.randint(10, size=40))\n",
    "print(\"Original Series:\")\n",
    "print(num_series)\n",
    "print(\"Frequency of each unique value of the said series.\")\n",
    "result = num_series.value_counts()\n",
    "print(result)"
   ]
  },
  {
   "cell_type": "code",
   "execution_count": 99,
   "id": "7addb487-3373-4732-840e-14ac78260fac",
   "metadata": {},
   "outputs": [
    {
     "name": "stdout",
     "output_type": "stream",
     "text": [
      "Original Series:\n",
      "0     2\n",
      "1     4\n",
      "2     3\n",
      "3     1\n",
      "4     2\n",
      "5     3\n",
      "6     3\n",
      "7     4\n",
      "8     4\n",
      "9     4\n",
      "10    3\n",
      "11    3\n",
      "12    2\n",
      "13    3\n",
      "14    3\n",
      "15    1\n",
      "16    3\n",
      "17    4\n",
      "18    1\n",
      "19    4\n",
      "dtype: int32\n",
      "Top Frequency:\n",
      "3    8\n",
      "4    6\n",
      "2    3\n",
      "1    3\n",
      "Name: count, dtype: int64\n",
      "0     Other\n",
      "1     Other\n",
      "2         3\n",
      "3     Other\n",
      "4     Other\n",
      "5         3\n",
      "6         3\n",
      "7     Other\n",
      "8     Other\n",
      "9     Other\n",
      "10        3\n",
      "11        3\n",
      "12    Other\n",
      "13        3\n",
      "14        3\n",
      "15    Other\n",
      "16        3\n",
      "17    Other\n",
      "18    Other\n",
      "19    Other\n",
      "dtype: object\n"
     ]
    },
    {
     "name": "stderr",
     "output_type": "stream",
     "text": [
      "C:\\Users\\dai\\AppData\\Local\\Temp\\ipykernel_20852\\4097442570.py:7: FutureWarning: Setting an item of incompatible dtype is deprecated and will raise in a future error of pandas. Value 'Other' has dtype incompatible with int32, please explicitly cast to a compatible dtype first.\n",
      "  result = num_series[~num_series.isin(num_series.value_counts().index[:1])] = 'Other'\n"
     ]
    }
   ],
   "source": [
    "# 20. Write a Pandas program to display most frequent value in a given series and replace everything else as 'Other' in the series.\n",
    "num_series = pd.Series(np.random.randint(1, 5, [20]))\n",
    "print(\"Original Series:\")\n",
    "print(num_series)\n",
    "print(\"Top Frequency:\")\n",
    "print(num_series.value_counts())\n",
    "result = num_series[~num_series.isin(num_series.value_counts().index[:1])] = 'Other'\n",
    "print(num_series)"
   ]
  },
  {
   "cell_type": "code",
   "execution_count": 114,
   "id": "9646a46b-eda9-4a91-a1bc-f329e19b97b0",
   "metadata": {},
   "outputs": [
    {
     "name": "stdout",
     "output_type": "stream",
     "text": [
      "Original Series:\n",
      "0     1\n",
      "1     2\n",
      "2     4\n",
      "3     5\n",
      "4     7\n",
      "5     9\n",
      "6    10\n",
      "7    20\n",
      "8     4\n",
      "9    45\n",
      "dtype: int64\n",
      "Position of numbers that are multiple of 5 : \n",
      " (array([3, 6, 7, 9], dtype=int64),)\n"
     ]
    }
   ],
   "source": [
    "# 21. Write a Pandas program to find the positions of numbers that are multiples of 5 of a given series.\n",
    "s = pd.Series([1,2,4,5,7,9,10,20,4,45])\n",
    "print(\"Original Series:\")\n",
    "print(s)\n",
    "s=np.where(s % 5 == 0 )\n",
    "print(\"Position of numbers that are multiple of 5 : \\n\", s)"
   ]
  },
  {
   "cell_type": "code",
   "execution_count": 127,
   "id": "91b37768-09a3-4044-839f-2b7c85c5c9fb",
   "metadata": {},
   "outputs": [
    {
     "name": "stdout",
     "output_type": "stream",
     "text": [
      "Original Series:\n",
      "0     3\n",
      "1     4\n",
      "2     1\n",
      "3     2\n",
      "4     1\n",
      "5     1\n",
      "6     1\n",
      "7     2\n",
      "8     4\n",
      "9     1\n",
      "10    3\n",
      "11    2\n",
      "12    3\n",
      "13    2\n",
      "14    3\n",
      "dtype: int32\n",
      "Items at a given position:\n",
      "0     3\n",
      "2     1\n",
      "5     1\n",
      "14    3\n",
      "12    3\n",
      "dtype: int32\n"
     ]
    }
   ],
   "source": [
    "# 22. Write a Pandas program to extract items at given positions of a given series.\n",
    "s = pd.Series(np.random.randint(1, 5, [15]))\n",
    "print(\"Original Series:\")\n",
    "print(s)\n",
    "print(\"Items at a given position:\")\n",
    "s = s.take([0, 2, 5, 14, 12])\n",
    "print(s)"
   ]
  },
  {
   "cell_type": "code",
   "execution_count": 146,
   "id": "fd2fd45b-3d7b-4ed3-8b33-e8b8553b727c",
   "metadata": {},
   "outputs": [
    {
     "name": "stdout",
     "output_type": "stream",
     "text": [
      "Series 1: \n",
      "0     12\n",
      "1     10\n",
      "2      1\n",
      "3      2\n",
      "4      3\n",
      "5      4\n",
      "6      6\n",
      "7      5\n",
      "8      7\n",
      "9      8\n",
      "10    31\n",
      "11    23\n",
      "12    56\n",
      "dtype: int64\n",
      "Series 2: \n",
      "0    10\n",
      "1     5\n",
      "2     8\n",
      "3    23\n",
      "4    56\n",
      "dtype: int64\n",
      "[1, 7, 9, 11, 12]\n"
     ]
    }
   ],
   "source": [
    "# 23. Write a Pandas program to get the positions of items of a given series in another given series.\n",
    "s1 = pd.Series([12,10,1,2,3,4,6,5,7,8,31,23,56])\n",
    "s2 = pd.Series([10,5,8,23,56])\n",
    "print(\"Series 1: \")\n",
    "print(s1)\n",
    "print(\"Series 2: \")\n",
    "print(s2)\n",
    "s= [pd.Index(s1).get_loc(i) for i in s2]\n",
    "print(s)"
   ]
  },
  {
   "cell_type": "code",
   "execution_count": 156,
   "id": "d9cd0995-214f-4777-ba07-bc4fe6691521",
   "metadata": {},
   "outputs": [
    {
     "name": "stdout",
     "output_type": "stream",
     "text": [
      "Original Series\n",
      "0       php\n",
      "1    python\n",
      "2      java\n",
      "3        c#\n",
      "dtype: object\n",
      "First and last character of each word to upper case:\n",
      "0       PhP\n",
      "1    PythoN\n",
      "2      JavA\n",
      "3        C#\n",
      "dtype: object\n"
     ]
    }
   ],
   "source": [
    "# 24. Write a Pandas program convert the first and last character of each word to uppercase in each word of a given series.\n",
    "p=pd.Series(['php','python','java','c#'])\n",
    "print(\"Original Series\")\n",
    "print(p)\n",
    "print(\"First and last character of each word to upper case:\")\n",
    "p = p.map(lambda x: x[0].upper() + x[1:-1] + x[-1].upper())\n",
    "print(p)"
   ]
  },
  {
   "cell_type": "code",
   "execution_count": 159,
   "id": "4e0ad47b-4dcc-4998-87c0-3a4a5516049c",
   "metadata": {},
   "outputs": [
    {
     "name": "stdout",
     "output_type": "stream",
     "text": [
      "Original Series\n",
      "0       php\n",
      "1    python\n",
      "2      java\n",
      "3        c#\n",
      "dtype: object\n",
      "Number of characters in each word in the said series :\n",
      "0    3\n",
      "1    6\n",
      "2    4\n",
      "3    2\n",
      "dtype: int64\n"
     ]
    }
   ],
   "source": [
    "# 25. Write a Pandas program to calculate the number of characters in each word in a given series.\n",
    "p=pd.Series(['php','python','java','c#'])\n",
    "print(\"Original Series\")\n",
    "print(p)\n",
    "print(\"Number of characters in each word in the said series :\")\n",
    "p = p.map(lambda x: len(x))\n",
    "print(p)"
   ]
  },
  {
   "cell_type": "code",
   "execution_count": 173,
   "id": "cda18f78-b4fb-4708-987e-468883a8c219",
   "metadata": {},
   "outputs": [
    {
     "name": "stdout",
     "output_type": "stream",
     "text": [
      "Original Series\n",
      "0     12\n",
      "1     10\n",
      "2      1\n",
      "3      2\n",
      "4      3\n",
      "5      4\n",
      "6      6\n",
      "7      5\n",
      "8      7\n",
      "9     23\n",
      "10    56\n",
      "dtype: int64\n",
      "Difference of differences between consecutive numbers of the said series:\n",
      "[nan, -2.0, -9.0, 1.0, 1.0, 1.0, 2.0, -1.0, 2.0, 16.0, 33.0]\n",
      "[nan, nan, -7.0, 10.0, 0.0, 0.0, 1.0, -3.0, 3.0, 14.0, 17.0]\n"
     ]
    }
   ],
   "source": [
    "# 26. Write a Pandas program to compute difference of differences between consecutive numbers of a given series.\n",
    "p = pd.Series([12,10,1,2,3,4,6,5,7,23,56])\n",
    "print(\"Original Series\")\n",
    "print(p)\n",
    "print(\"Difference of differences between consecutive numbers of the said series:\")\n",
    "print(p.diff().tolist())\n",
    "print(p.diff().diff().tolist())"
   ]
  },
  {
   "cell_type": "code",
   "execution_count": 189,
   "id": "742017f4-0a94-483e-bffd-47eca236c4ee",
   "metadata": {},
   "outputs": [
    {
     "name": "stdout",
     "output_type": "stream",
     "text": [
      "Original Series:\n",
      "0         01 Jan 2015\n",
      "1          10-02-2016\n",
      "2            20180307\n",
      "3          2014/05/06\n",
      "4          2016-04-12\n",
      "5    2019-04-06T11:20\n",
      "dtype: object\n",
      "\n",
      "Series of date strings to a timeseries:\n",
      "0   2015-01-01 00:00:00\n",
      "1   2016-10-02 00:00:00\n",
      "2   2018-03-07 00:00:00\n",
      "3   2014-05-06 00:00:00\n",
      "4   2016-04-12 00:00:00\n",
      "5   2019-04-06 11:20:00\n",
      "dtype: datetime64[ns]\n"
     ]
    }
   ],
   "source": [
    "# 27. Write a Pandas program to convert a series of date strings to a timeseries.\n",
    "from dateutil.parser import parse as pr\n",
    "d = pd.Series(['01 Jan 2015', '10-02-2016', '20180307', '2014/05/06', '2016-04-12', '2019-04-06T11:20'])\n",
    "print(\"Original Series:\")\n",
    "print(d)\n",
    "print(\"\\nSeries of date strings to a timeseries:\")\n",
    "print(d.map(lambda x: pr(x)))"
   ]
  },
  {
   "cell_type": "code",
   "execution_count": 203,
   "id": "2285b72d-fe99-44ba-b49b-63825c91c2a8",
   "metadata": {},
   "outputs": [
    {
     "name": "stdout",
     "output_type": "stream",
     "text": [
      "Original Series:\n",
      "0         01 Jan 2015\n",
      "1          10-02-2016\n",
      "2            20180307\n",
      "3          2014/05/06\n",
      "4          2016-04-12\n",
      "5    2019-04-06T11:20\n",
      "dtype: object\n",
      "\n",
      "Series of date strings to a timeseries:\n",
      "Day of month:\n",
      "[1, 2, 7, 6, 12, 6]\n",
      "Day of year:\n",
      "[1, 276, 66, 126, 103, 96]\n"
     ]
    }
   ],
   "source": [
    "# 28. Write a Pandas program to get the day of month, day of year, week number and day of week from a given series of date strings.\n",
    "from dateutil.parser import parse as pr\n",
    "d = pd.Series(['01 Jan 2015', '10-02-2016', '20180307', '2014/05/06', '2016-04-12', '2019-04-06T11:20'])\n",
    "print(\"Original Series:\")\n",
    "print(d)\n",
    "print(\"\\nSeries of date strings to a timeseries:\")\n",
    "d=d.map(lambda x: pr(x))\n",
    "print(\"Day of month:\")\n",
    "print(d.dt.day.tolist())\n",
    "print(\"Day of year:\")\n",
    "print(d.dt.dayofyear.tolist())\n",
    "#print(\"Week number:\")\n",
    "#print(d.dt.weekyear.tolist())\n",
    "#print(\"Day of week:\")\n",
    "#print(d.dt.day_name.tolist())"
   ]
  },
  {
   "cell_type": "code",
   "execution_count": 204,
   "id": "df3db9e3-0b2c-460b-b208-bdfd02e908e3",
   "metadata": {},
   "outputs": [
    {
     "name": "stdout",
     "output_type": "stream",
     "text": [
      "Original Series:\n",
      "0    Jan 2015\n",
      "1    Feb 2016\n",
      "2    Mar 2017\n",
      "3    Apr 2018\n",
      "4    May 2019\n",
      "dtype: object\n",
      "\n",
      "New dates:\n",
      "0   2015-01-11\n",
      "1   2016-02-11\n",
      "2   2017-03-11\n",
      "3   2018-04-11\n",
      "4   2019-05-11\n",
      "dtype: datetime64[ns]\n"
     ]
    }
   ],
   "source": [
    "# 29. Write a Pandas program to convert year-month string to dates adding a specified day of the month.\n",
    "from dateutil.parser import parse\n",
    "d = pd.Series(['Jan 2015', 'Feb 2016', 'Mar 2017', 'Apr 2018', 'May 2019'])\n",
    "print(\"Original Series:\")\n",
    "print(d)\n",
    "print(\"\\nNew dates:\")\n",
    "s = d.map(lambda d: parse('11 ' + d))\n",
    "print(s)"
   ]
  },
  {
   "cell_type": "code",
   "execution_count": 206,
   "id": "1185f5af-c40e-4270-a8bc-fbf313bdb175",
   "metadata": {},
   "outputs": [
    {
     "name": "stdout",
     "output_type": "stream",
     "text": [
      "Original Series:\n",
      "0       Red\n",
      "1     Green\n",
      "2    Orange\n",
      "3      Pink\n",
      "4    Yellow\n",
      "5     White\n",
      "dtype: object\n",
      "\n",
      "Filtered words:\n",
      "1     Green\n",
      "2    Orange\n",
      "4    Yellow\n",
      "5     White\n",
      "dtype: object\n"
     ]
    }
   ],
   "source": [
    "# 30. Write a Pandas program to filter words from a given series that contain atleast two vowels.\n",
    "from collections import Counter\n",
    "c = pd.Series(['Red', 'Green', 'Orange', 'Pink', 'Yellow', 'White'])\n",
    "print(\"Original Series:\")\n",
    "print(c)\n",
    "print(\"\\nFiltered words:\")\n",
    "result =c.map(lambda x: sum([Counter(x.lower()).get(i, 0) for i in list('aeiou')]) >= 2)\n",
    "print(c[result])"
   ]
  },
  {
   "cell_type": "code",
   "execution_count": 207,
   "id": "c061057b-6c10-44e0-b174-cce37e46ed05",
   "metadata": {},
   "outputs": [
    {
     "name": "stdout",
     "output_type": "stream",
     "text": [
      "Original series:\n",
      "0     1\n",
      "1     2\n",
      "2     3\n",
      "3     4\n",
      "4     5\n",
      "5     6\n",
      "6     7\n",
      "7     8\n",
      "8     9\n",
      "9    10\n",
      "dtype: int64\n",
      "0    11\n",
      "1    12\n",
      "2     7\n",
      "3     5\n",
      "4     6\n",
      "5     5\n",
      "6     4\n",
      "7    15\n",
      "8     7\n",
      "9     1\n",
      "dtype: int64\n",
      "\n",
      "Euclidean distance between two said series:\n",
      "19.026297590440446\n"
     ]
    }
   ],
   "source": [
    "# 31. Write a Pandas program to compute the Euclidean distance between two given series.\n",
    "x = pd.Series([1, 2, 3, 4, 5, 6, 7, 8, 9, 10])\n",
    "y = pd.Series([11, 12, 7, 5, 6, 5, 4, 15, 7, 1])\n",
    "print(\"Original series:\")\n",
    "print(x)\n",
    "print(y)\n",
    "print(\"\\nEuclidean distance between two said series:\")\n",
    "print(np.linalg.norm(x-y))"
   ]
  },
  {
   "cell_type": "code",
   "execution_count": 208,
   "id": "1ce4c4e3-bd43-4aa6-a647-12fbef7d7bfc",
   "metadata": {},
   "outputs": [
    {
     "name": "stdout",
     "output_type": "stream",
     "text": [
      "Original series:\n",
      "0    1\n",
      "1    8\n",
      "2    7\n",
      "3    5\n",
      "4    6\n",
      "5    5\n",
      "6    3\n",
      "7    4\n",
      "8    7\n",
      "9    1\n",
      "dtype: int64\n",
      "\n",
      "Positions of the values surrounded by smaller values on both sides:\n",
      "[1 4 8]\n"
     ]
    }
   ],
   "source": [
    "# 32. Write a Pandas program to find the positions of the values neighboured by smaller values on both sides in a given series.\n",
    "num = pd.Series([1, 8, 7, 5, 6, 5, 3, 4, 7, 1])\n",
    "print(\"Original series:\")\n",
    "print(num )\n",
    "print(\"\\nPositions of the values surrounded by smaller values on both sides:\")\n",
    "temp = np.diff(np.sign(np.diff(num)))\n",
    "res = np.where(temp == -2)[0] + 1\n",
    "print(res)"
   ]
  },
  {
   "cell_type": "code",
   "execution_count": 209,
   "id": "d38c6f7c-94a2-4f5e-b937-963f641809e7",
   "metadata": {},
   "outputs": [
    {
     "name": "stdout",
     "output_type": "stream",
     "text": [
      "Original series:\n",
      "abc def abcdef icd\n",
      "c    3\n",
      "     3\n",
      "d    3\n",
      "a    2\n",
      "b    2\n",
      "e    2\n",
      "f    2\n",
      "i    1\n",
      "Name: count, dtype: int64\n",
      "abcidefiabcdefiicd\n"
     ]
    }
   ],
   "source": [
    "# 33. Write a Pandas program to replace missing white spaces in a given string with the least frequent character.\n",
    "s1= 'abc def abcdef icd'\n",
    "print(\"Original series:\")\n",
    "print(s1)\n",
    "ser = pd.Series(list(s1))\n",
    "element_freq = ser.value_counts()\n",
    "print(element_freq)\n",
    "current_freq = element_freq.dropna().index[-1]\n",
    "result = \"\".join(ser.replace(' ', current_freq))\n",
    "print(result)"
   ]
  },
  {
   "cell_type": "code",
   "execution_count": 210,
   "id": "c608e747-0638-4034-b555-48c3360ebe07",
   "metadata": {},
   "outputs": [
    {
     "name": "stdout",
     "output_type": "stream",
     "text": [
      "Original series:\n",
      "0      0.858036\n",
      "1    -10.416736\n",
      "2     12.202072\n",
      "3      6.717705\n",
      "4     14.992434\n",
      "5      8.705366\n",
      "6      2.109368\n",
      "7     -4.014202\n",
      "8      5.556018\n",
      "9     12.340099\n",
      "10    -5.075045\n",
      "11    20.938278\n",
      "12    19.225437\n",
      "13    10.969591\n",
      "14    15.052994\n",
      "dtype: float64\n",
      "\n",
      "Autocorrelations of the said series:\n",
      "[0.09, 0.02, 0.04, -0.31, -0.14, 0.11, 0.35, -0.06, 0.79, 0.03]\n"
     ]
    }
   ],
   "source": [
    "# 34. Write a Pandas program to compute the autocorrelations of a given numeric series.\n",
    "n = pd.Series(np.arange(15) + np.random.normal(1, 10, 15))\n",
    "print(\"Original series:\")\n",
    "print(n)\n",
    "autocorrelations = [n.autocorr(i).round(2) for i in range(11)]\n",
    "print(\"\\nAutocorrelations of the said series:\")\n",
    "print(autocorrelations[1:])"
   ]
  },
  {
   "cell_type": "code",
   "execution_count": 218,
   "id": "341e5537-107b-4104-a262-19289566eeb2",
   "metadata": {},
   "outputs": [
    {
     "name": "stdout",
     "output_type": "stream",
     "text": [
      "All Sundays of 2021:\n",
      "0    2022-01-02\n",
      "1    2022-01-09\n",
      "2    2022-01-16\n",
      "3    2022-01-23\n",
      "4    2022-01-30\n",
      "5    2022-02-06\n",
      "6    2022-02-13\n",
      "7    2022-02-20\n",
      "8    2022-02-27\n",
      "9    2022-03-06\n",
      "10   2022-03-13\n",
      "11   2022-03-20\n",
      "12   2022-03-27\n",
      "13   2022-04-03\n",
      "14   2022-04-10\n",
      "15   2022-04-17\n",
      "16   2022-04-24\n",
      "17   2022-05-01\n",
      "18   2022-05-08\n",
      "19   2022-05-15\n",
      "20   2022-05-22\n",
      "21   2022-05-29\n",
      "22   2022-06-05\n",
      "23   2022-06-12\n",
      "24   2022-06-19\n",
      "25   2022-06-26\n",
      "26   2022-07-03\n",
      "27   2022-07-10\n",
      "28   2022-07-17\n",
      "29   2022-07-24\n",
      "30   2022-07-31\n",
      "31   2022-08-07\n",
      "32   2022-08-14\n",
      "33   2022-08-21\n",
      "34   2022-08-28\n",
      "35   2022-09-04\n",
      "36   2022-09-11\n",
      "37   2022-09-18\n",
      "38   2022-09-25\n",
      "39   2022-10-02\n",
      "40   2022-10-09\n",
      "41   2022-10-16\n",
      "42   2022-10-23\n",
      "43   2022-10-30\n",
      "44   2022-11-06\n",
      "45   2022-11-13\n",
      "46   2022-11-20\n",
      "47   2022-11-27\n",
      "48   2022-12-04\n",
      "49   2022-12-11\n",
      "50   2022-12-18\n",
      "51   2022-12-25\n",
      "dtype: datetime64[ns]\n"
     ]
    }
   ],
   "source": [
    "# 35. Write a Pandas program to create a TimeSeries to display all the Sundays of given year.\n",
    "result = pd.Series(pd.date_range('2022-01-01', periods=52, freq='W-SUN'))\n",
    "print(\"All Sundays of 2021:\")\n",
    "print(result)"
   ]
  },
  {
   "cell_type": "code",
   "execution_count": 219,
   "id": "fea506db-0289-417f-a171-1dde601ba743",
   "metadata": {},
   "outputs": [
    {
     "name": "stdout",
     "output_type": "stream",
     "text": [
      "  index  0\n",
      "0     A  0\n",
      "1     B  1\n",
      "2     C  2\n",
      "3     D  3\n",
      "4     E  4\n"
     ]
    }
   ],
   "source": [
    "# 36. Write a Pandas program to convert given series into a dataframe with its index as another column on the dataframe.\n",
    "char = list('ABCDEFGHIJKLMNOP')\n",
    "a= np.arange(8)\n",
    "d = dict(zip(char, a))\n",
    "s = pd.Series(d)\n",
    "df = s.to_frame().reset_index()\n",
    "print(df.head())"
   ]
  },
  {
   "cell_type": "code",
   "execution_count": 222,
   "id": "07ee353a-c321-465e-a773-10f0de914f5d",
   "metadata": {},
   "outputs": [
    {
     "name": "stdout",
     "output_type": "stream",
     "text": [
      "Original Series:\n",
      "0    0\n",
      "1    1\n",
      "2    2\n",
      "3    3\n",
      "4    4\n",
      "5    5\n",
      "6    6\n",
      "7    7\n",
      "8    8\n",
      "9    9\n",
      "dtype: int64\n",
      "0    p\n",
      "1    q\n",
      "2    r\n",
      "3    s\n",
      "4    t\n",
      "5    u\n",
      "6    v\n",
      "7    w\n",
      "8    x\n",
      "9    y\n",
      "dtype: object\n",
      "\n",
      "Stack two given series vertically and horizontally:\n",
      "   0  1\n",
      "0  0  p\n",
      "1  1  q\n",
      "2  2  r\n",
      "3  3  s\n",
      "4  4  t\n",
      "5  5  u\n",
      "6  6  v\n",
      "7  7  w\n",
      "8  8  x\n",
      "9  9  y\n"
     ]
    }
   ],
   "source": [
    "# 37. Write a Pandas program to stack two given series vertically and horizontally.\n",
    "s1 = pd.Series(range(10))\n",
    "s2 = pd.Series(list('pqrstuvwxy'))\n",
    "print(\"Original Series:\")\n",
    "print(s1)\n",
    "print(s2)\n",
    "df = pd.concat([s1, s2], axis=1)\n",
    "print(\"\\nStack two given series vertically and horizontally:\")\n",
    "print(df)"
   ]
  },
  {
   "cell_type": "code",
   "execution_count": 224,
   "id": "e2ba67cb-14d7-40b5-bb0c-c813bd560ba4",
   "metadata": {},
   "outputs": [
    {
     "name": "stdout",
     "output_type": "stream",
     "text": [
      "Original Series:\n",
      "0    1\n",
      "1    8\n",
      "2    7\n",
      "3    5\n",
      "4    6\n",
      "5    5\n",
      "6    3\n",
      "7    4\n",
      "8    7\n",
      "9    1\n",
      "dtype: int64\n",
      "0    1\n",
      "1    8\n",
      "2    7\n",
      "3    5\n",
      "4    6\n",
      "5    5\n",
      "6    3\n",
      "7    5\n",
      "8    7\n",
      "9    1\n",
      "dtype: int64\n",
      "Check 2 series are equal or not?\n",
      "0     True\n",
      "1     True\n",
      "2     True\n",
      "3     True\n",
      "4     True\n",
      "5     True\n",
      "6     True\n",
      "7    False\n",
      "8     True\n",
      "9     True\n",
      "dtype: bool\n"
     ]
    }
   ],
   "source": [
    "# 38. Write a Pandas program to check the equality of two given series.\n",
    "n1 = pd.Series([1, 8, 7, 5, 6, 5, 3, 4, 7, 1])\n",
    "n2 = pd.Series([1, 8, 7, 5, 6, 5, 3, 5, 7, 1])\n",
    "print(\"Original Series:\")\n",
    "print(n1)\n",
    "print(n2)\n",
    "print(\"Check 2 series are equal or not?\")\n",
    "print(n1 == n2)"
   ]
  },
  {
   "cell_type": "code",
   "execution_count": 226,
   "id": "d2b93453-610e-4e87-a160-e0fa3156fbd9",
   "metadata": {},
   "outputs": [
    {
     "name": "stdout",
     "output_type": "stream",
     "text": [
      "Original Series:\n",
      "0     1\n",
      "1     3\n",
      "2     7\n",
      "3    12\n",
      "4    88\n",
      "5    23\n",
      "6     3\n",
      "7     1\n",
      "8     9\n",
      "9     0\n",
      "dtype: int64\n",
      "Index of the first occurrence of the smallest and largest value of the said series:\n",
      "9\n",
      "4\n"
     ]
    }
   ],
   "source": [
    "#39. Write a Pandas program to find the index of the first occurrence of the smallest and largest value of a given series.\n",
    "nums = pd.Series([1, 3, 7, 12, 88, 23, 3, 1, 9, 0])\n",
    "print(\"Original Series:\")\n",
    "print(nums)\n",
    "print(\"Index of the first occurrence of the smallest and largest value of the said series:\")\n",
    "print(nums.idxmin())\n",
    "print(nums.idxmax())"
   ]
  },
  {
   "cell_type": "code",
   "execution_count": 217,
   "id": "b28f3236-b74f-4fd8-90f2-1d693ce50a21",
   "metadata": {},
   "outputs": [
    {
     "name": "stdout",
     "output_type": "stream",
     "text": [
      "Original DataFrame:\n",
      "      W     X   Y   Z\n",
      "0  68.0  78.0  84  86\n",
      "1  75.0  75.0  94  97\n",
      "2  86.0   NaN  89  96\n",
      "3  80.0  80.0  86  72\n",
      "4   NaN  86.0  86  83\n",
      "\n",
      "Original Series:\n",
      "0    68.0\n",
      "1    75.0\n",
      "2    86.0\n",
      "3    80.0\n",
      "4     NaN\n",
      "dtype: float64\n",
      "\n",
      "Check for inequality of the said series & dataframe:\n",
      "       W      X     Y     Z\n",
      "0  False   True  True  True\n",
      "1  False  False  True  True\n",
      "2  False   True  True  True\n",
      "3  False  False  True  True\n",
      "4   True   True  True  True\n"
     ]
    }
   ],
   "source": [
    "# 40. Write a Pandas program to check inequality over the index axis of a given dataframe and a given series.\n",
    "df_data = pd.DataFrame({'W':[68,75,86,80,None],'X':[78,75,None,80,86], 'Y':[84,94,89,86,86],'Z':[86,97,96,72,83]});\n",
    "sr_data = pd.Series([68, 75, 86, 80, None]) \n",
    "print(\"Original DataFrame:\")\n",
    "print(df_data)\n",
    "print(\"\\nOriginal Series:\")\n",
    "print(sr_data)\n",
    "print(\"\\nCheck for inequality of the said series & dataframe:\")\n",
    "print(df_data.ne(sr_data, axis = 0))"
   ]
  },
  {
   "cell_type": "code",
   "execution_count": null,
   "id": "0864d203-3f6a-4754-bc8e-491c3ff205cd",
   "metadata": {},
   "outputs": [],
   "source": []
  }
 ],
 "metadata": {
  "kernelspec": {
   "display_name": "Python 3 (ipykernel)",
   "language": "python",
   "name": "python3"
  },
  "language_info": {
   "codemirror_mode": {
    "name": "ipython",
    "version": 3
   },
   "file_extension": ".py",
   "mimetype": "text/x-python",
   "name": "python",
   "nbconvert_exporter": "python",
   "pygments_lexer": "ipython3",
   "version": "3.11.7"
  }
 },
 "nbformat": 4,
 "nbformat_minor": 5
}
