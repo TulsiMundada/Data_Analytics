{
 "cells": [
  {
   "cell_type": "markdown",
   "id": "a0589852-2284-43a0-8bdc-ac3bc61a809b",
   "metadata": {},
   "source": [
    "# Pandas Time Series"
   ]
  },
  {
   "cell_type": "code",
   "execution_count": 53,
   "id": "81611395-c7a7-465b-b289-eb75405ea7ed",
   "metadata": {},
   "outputs": [],
   "source": [
    "import datetime\n",
    "from datetime import datetime, date\n",
    "import pandas as pd\n",
    "import numpy as np\n",
    "from pandas.tseries.offsets import *\n",
    "from pandas.tseries.holiday import *"
   ]
  },
  {
   "cell_type": "markdown",
   "id": "1d771b90-4fa2-436a-b34a-b695ec92c517",
   "metadata": {},
   "source": [
    "#### 1. Write a Pandas program to create\n",
    "a) Datetime object for Jan 15 2012.\n",
    "\n",
    "b) Specific date and time of 9:20 pm.\n",
    "\n",
    "c) Local date and time.\n",
    "\n",
    "d) A date without time.\n",
    "    \n",
    "e) Current date.\n",
    "    \n",
    "f) Time from a datetime.\n",
    "\n",
    "g) Current local time."
   ]
  },
  {
   "cell_type": "code",
   "execution_count": 3,
   "id": "b5f8ec1b-61dd-4032-b705-17f10b10e1a5",
   "metadata": {},
   "outputs": [
    {
     "name": "stdout",
     "output_type": "stream",
     "text": [
      "Datetime object for Jan 11 2012:\n",
      "2012-01-11 00:00:00\n",
      "\n",
      "Specific date and time of 9:20 pm\n",
      "2011-01-11 21:20:00\n",
      "\n",
      "Local date and time:\n",
      "2024-04-22 14:44:22.738197\n",
      "\n",
      "A date without time: \n",
      "2012-05-22\n",
      "\n",
      "Current date:\n",
      "2024-04-22\n",
      "\n",
      "Time from a datetime:\n",
      "18:12:00\n",
      "\n",
      "Current local time:\n",
      "14:44:22.738197\n"
     ]
    }
   ],
   "source": [
    "print(\"Datetime object for Jan 11 2012:\")\n",
    "print(datetime(2012, 1, 11))\n",
    "print(\"\\nSpecific date and time of 9:20 pm\") \n",
    "print(datetime(2011, 1, 11, 21, 20))\n",
    "print(\"\\nLocal date and time:\")\n",
    "print(datetime.now())\n",
    "print(\"\\nA date without time: \")\n",
    "print(datetime.date(datetime(2012, 5, 22)))\n",
    "print(\"\\nCurrent date:\")\n",
    "print(datetime.now().date())\n",
    "print(\"\\nTime from a datetime:\")\n",
    "print(datetime.time(datetime(2012, 12, 15, 18, 12)))\n",
    "print(\"\\nCurrent local time:\") \n",
    "print(datetime.now().time())\n"
   ]
  },
  {
   "cell_type": "markdown",
   "id": "530f12d5-abbd-43dc-b9f7-0e555060c523",
   "metadata": {},
   "source": [
    "#### 2. Write a Pandas program to create\n",
    "a) a specific date using timestamp.\n",
    "    \n",
    "b) date and time using timestamp.\n",
    "\n",
    "c) a time adds in the current local date using timestamp.\n",
    "    \n",
    "d) current date and time using timestamp."
   ]
  },
  {
   "cell_type": "code",
   "execution_count": 5,
   "id": "49fd3c5f-f6d8-423f-8bdc-f7a6a5ac7a2d",
   "metadata": {},
   "outputs": [
    {
     "name": "stdout",
     "output_type": "stream",
     "text": [
      "\n",
      "A specific date using timestamp:\n",
      "2016-11-10 00:00:00\n",
      "\n",
      "Date and time using timestamp:\n",
      "2012-05-03 11:30:00\n",
      "\n",
      "A time adds in the current local date using timestamp:\n",
      "2024-04-22 11:30:00\n",
      "\n",
      "Current date and time using timestamp:\n",
      "2024-04-22 14:45:25.376256\n"
     ]
    }
   ],
   "source": [
    "print(\"\\nA specific date using timestamp:\")\n",
    "print(pd.Timestamp('2016-11-10'))\n",
    "print(\"\\nDate and time using timestamp:\")\n",
    "print(pd.Timestamp('2012-05-03 11:30'))\n",
    "print(\"\\nA time adds in the current local date using timestamp:\")\n",
    "print(pd.Timestamp('11:30'))\n",
    "print(\"\\nCurrent date and time using timestamp:\")\n",
    "print(pd.Timestamp(\"now\"))\n"
   ]
  },
  {
   "cell_type": "markdown",
   "id": "13e6c510-f3c0-48bd-b7fb-5cb86c1788b7",
   "metadata": {},
   "source": [
    "#### 3. Write a Pandas program to create a date from a given year, month, day and another date from a given string formats.\n"
   ]
  },
  {
   "cell_type": "code",
   "execution_count": 6,
   "id": "50ede5f9-e0eb-4c99-9bbb-58110aac86b6",
   "metadata": {},
   "outputs": [
    {
     "name": "stdout",
     "output_type": "stream",
     "text": [
      "Date from a given year, month, day:\n",
      "2020-12-25 00:00:00\n",
      "\n",
      "Date from a given string formats:\n",
      "2021-01-01 00:00:00\n"
     ]
    }
   ],
   "source": [
    "date1 = datetime(year=2020, month=12, day=25)\n",
    "print(\"Date from a given year, month, day:\")\n",
    "print(date1)\n",
    "from dateutil import parser\n",
    "date2 = parser.parse(\"1st of January, 2021\")\n",
    "print(\"\\nDate from a given string formats:\")\n",
    "print(date2)"
   ]
  },
  {
   "cell_type": "markdown",
   "id": "07910881-e724-44e9-8812-25a37f6ec057",
   "metadata": {},
   "source": [
    "#### 4. Write a Pandas program to print the day after and before a specified date. Also print the days between two given dates.\n"
   ]
  },
  {
   "cell_type": "code",
   "execution_count": 7,
   "id": "f82d5e60-2cbe-44ad-9d64-844dac474716",
   "metadata": {},
   "outputs": [
    {
     "name": "stdout",
     "output_type": "stream",
     "text": [
      "Current date: 2012-10-30 00:00:00\n",
      "Tomorrow: 2012-10-31 00:00:00\n",
      "Yesterday: 2012-10-29 00:00:00\n",
      "\n",
      "Difference between two dates:  14 days, 0:00:00\n"
     ]
    }
   ],
   "source": [
    "today = datetime(2012, 10, 30)\n",
    "print(\"Current date:\", today)\n",
    "tomorrow = today + pd.Timedelta(days=1)\n",
    "print(\"Tomorrow:\", tomorrow)\n",
    "yesterday = today - pd.Timedelta(days=1)\n",
    "print(\"Yesterday:\", yesterday)\n",
    "date1 = datetime(2016, 8, 2)\n",
    "date2 = datetime(2016, 7, 19)\n",
    "print(\"\\nDifference between two dates: \",(date1 - date2))\n"
   ]
  },
  {
   "cell_type": "markdown",
   "id": "6a008462-1506-4b2b-8acb-9c187f72a735",
   "metadata": {},
   "source": [
    "#### 5. Write a Pandas program to create a time-series with two index labels and random values. Also print the type of the index.\n"
   ]
  },
  {
   "cell_type": "code",
   "execution_count": 10,
   "id": "41789c25-475a-43a6-bbac-91531234513a",
   "metadata": {},
   "outputs": [
    {
     "name": "stdout",
     "output_type": "stream",
     "text": [
      "Time-series with two index labels:\n",
      "2011-09-01    0.098092\n",
      "2011-09-02    0.308700\n",
      "dtype: float64\n",
      "\n",
      "Type of the index:\n",
      "<class 'pandas.core.indexes.datetimes.DatetimeIndex'>\n"
     ]
    }
   ],
   "source": [
    "dates = [datetime(2011, 9, 1), datetime(2011, 9, 2)]\n",
    "print(\"Time-series with two index labels:\")\n",
    "time_series = pd.Series(np.random.randn(2), dates)\n",
    "print(time_series)\n",
    "print(\"\\nType of the index:\")\n",
    "print(type(time_series.index))\n"
   ]
  },
  {
   "cell_type": "code",
   "execution_count": null,
   "id": "5db0e28a-fd92-42a4-bdca-7c4fff17e073",
   "metadata": {},
   "outputs": [],
   "source": [
    "6. Write a Pandas program to create a time-series from a given list of dates as strings."
   ]
  },
  {
   "cell_type": "code",
   "execution_count": 11,
   "id": "bb10644a-58ae-4bfd-8a61-9305cc019291",
   "metadata": {},
   "outputs": [
    {
     "name": "stdout",
     "output_type": "stream",
     "text": [
      "2014-08-01   -1.404831\n",
      "2014-08-02    0.103431\n",
      "2014-08-03   -0.757730\n",
      "2014-08-04   -0.699125\n",
      "dtype: float64\n"
     ]
    }
   ],
   "source": [
    "dates = ['2014-08-01','2014-08-02','2014-08-03','2014-08-04']\n",
    "time_series = pd.Series(np.random.randn(4), dates)\n",
    "print(time_series)\n"
   ]
  },
  {
   "cell_type": "markdown",
   "id": "32463db1-efa9-47c3-9dc9-d3346d2297be",
   "metadata": {},
   "source": [
    "#### 7. Write a Pandas program to create a time series object that has time indexed data. Also select the dates of same year and select the dates between certain dates.\n"
   ]
  },
  {
   "cell_type": "code",
   "execution_count": 49,
   "id": "86dbac53-d714-41c7-85a7-d5030b1d7d2b",
   "metadata": {},
   "outputs": [
    {
     "name": "stdout",
     "output_type": "stream",
     "text": [
      "Time series object with indexed data:\n",
      "2011-09-02    0\n",
      "2012-08-04    1\n",
      "2015-09-03    2\n",
      "2010-08-04    3\n",
      "2015-03-03    4\n",
      "2011-08-04    5\n",
      "2015-04-03    6\n",
      "2012-08-04    7\n",
      "dtype: int64\n",
      "\n",
      "Dates of same year:\n",
      "2015-09-03    2\n",
      "2015-03-03    4\n",
      "2015-04-03    6\n",
      "dtype: int64\n",
      "\n",
      "Dates between 2012-01-13 and 2012-01-12\n",
      "['2012-01-01', '2012-01-02', '2012-01-03', '2012-01-04', '2012-01-05', '2012-01-06', '2012-01-07', '2012-01-08', '2012-01-09', '2012-01-10', '2012-01-11', '2012-01-12']\n"
     ]
    }
   ],
   "source": [
    "index = pd.DatetimeIndex(['2011-09-02', '2012-08-04',\n",
    "                          '2015-09-03', '2010-08-04',\n",
    "                          '2015-03-03', '2011-08-04',\n",
    "                          '2015-04-03', '2012-08-04'])\n",
    "\n",
    "s_dates = pd.Series([0, 1, 2, 3, 4, 5, 6, 7], index=index)\n",
    "\n",
    "print(\"Time series object with indexed data:\")\n",
    "print(s_dates)\n",
    "print(\"\\nDates of same year:\")\n",
    "print(s_dates['2015'])\n",
    "from datetime import date, timedelta\n",
    "\n",
    "start_dt = date(2012, 1, 1)\n",
    "end_dt = date(2012, 1, 12)\n",
    "delta = timedelta(days=1)\n",
    "dates = []\n",
    "while start_dt <= end_dt:\n",
    "    dates.append(start_dt.isoformat())\n",
    "    start_dt += delta\n",
    "print('\\nDates between', start_dt, 'and', end_dt)\n",
    "print(dates)"
   ]
  },
  {
   "cell_type": "markdown",
   "id": "5a926abe-29cf-4f51-8855-d6541d270d5f",
   "metadata": {},
   "source": [
    "#### 8. Write a Pandas program to create a date range using a startpoint date and a number of periods."
   ]
  },
  {
   "cell_type": "code",
   "execution_count": 13,
   "id": "a957705e-12ec-4f43-bf7c-df1827a669a2",
   "metadata": {},
   "outputs": [
    {
     "name": "stdout",
     "output_type": "stream",
     "text": [
      "Date range of perods 45:\n",
      "DatetimeIndex(['2020-01-01', '2020-01-02', '2020-01-03', '2020-01-04',\n",
      "               '2020-01-05', '2020-01-06', '2020-01-07', '2020-01-08',\n",
      "               '2020-01-09', '2020-01-10', '2020-01-11', '2020-01-12',\n",
      "               '2020-01-13', '2020-01-14', '2020-01-15', '2020-01-16',\n",
      "               '2020-01-17', '2020-01-18', '2020-01-19', '2020-01-20',\n",
      "               '2020-01-21', '2020-01-22', '2020-01-23', '2020-01-24',\n",
      "               '2020-01-25', '2020-01-26', '2020-01-27', '2020-01-28',\n",
      "               '2020-01-29', '2020-01-30', '2020-01-31', '2020-02-01',\n",
      "               '2020-02-02', '2020-02-03', '2020-02-04', '2020-02-05',\n",
      "               '2020-02-06', '2020-02-07', '2020-02-08', '2020-02-09',\n",
      "               '2020-02-10', '2020-02-11', '2020-02-12', '2020-02-13',\n",
      "               '2020-02-14'],\n",
      "              dtype='datetime64[ns]', freq='D')\n"
     ]
    }
   ],
   "source": [
    "date_range = pd.date_range('2020-01-01', periods=45)\n",
    "print(\"Date range of perods 45:\")\n",
    "print(date_range)\n"
   ]
  },
  {
   "cell_type": "markdown",
   "id": "3ead1b00-93d7-4772-a0c8-150212d2bee4",
   "metadata": {},
   "source": [
    "#### 9. Write a Pandas program to create a whole month of dates in daily frequencies. Also find the maximum, minimum timestamp and indexs."
   ]
  },
  {
   "cell_type": "code",
   "execution_count": 14,
   "id": "39d3a686-77dc-4754-8686-7bc8ac5b8014",
   "metadata": {},
   "outputs": [
    {
     "name": "stdout",
     "output_type": "stream",
     "text": [
      "Month of December 2020:\n",
      "0    2020-12-01\n",
      "1    2020-12-02\n",
      "2    2020-12-03\n",
      "3    2020-12-04\n",
      "4    2020-12-05\n",
      "5    2020-12-06\n",
      "6    2020-12-07\n",
      "7    2020-12-08\n",
      "8    2020-12-09\n",
      "9    2020-12-10\n",
      "10   2020-12-11\n",
      "11   2020-12-12\n",
      "12   2020-12-13\n",
      "13   2020-12-14\n",
      "14   2020-12-15\n",
      "15   2020-12-16\n",
      "16   2020-12-17\n",
      "17   2020-12-18\n",
      "18   2020-12-19\n",
      "19   2020-12-20\n",
      "20   2020-12-21\n",
      "21   2020-12-22\n",
      "22   2020-12-23\n",
      "23   2020-12-24\n",
      "24   2020-12-25\n",
      "25   2020-12-26\n",
      "26   2020-12-27\n",
      "27   2020-12-28\n",
      "28   2020-12-29\n",
      "29   2020-12-30\n",
      "30   2020-12-31\n",
      "dtype: datetime64[ns]\n",
      "\n",
      "Maximum date:  2020-12-31 00:00:00\n",
      "Minimum date:  2020-12-01 00:00:00\n",
      "Maximum index:  30\n",
      "Minimum index:  0\n"
     ]
    }
   ],
   "source": [
    "dates = pd.Series(pd.date_range('2020-12-01',periods=31, freq='D'))\n",
    "print(\"Month of December 2020:\")\n",
    "print(dates)\n",
    "dates = pd.Series(pd.date_range('2020-12-01',periods=31, freq='D'))\n",
    "print(\"\\nMaximum date: \", dates.max())\n",
    "print(\"Minimum date: \", dates.min())\n",
    "print(\"Maximum index: \", dates.idxmax())\n",
    "print(\"Minimum index: \", dates.idxmin())\n"
   ]
  },
  {
   "cell_type": "markdown",
   "id": "6b818ee8-0e99-43de-a5c1-aed97eb46874",
   "metadata": {},
   "source": [
    "#### 10. Write a Pandas program to create a time series using three months frequency."
   ]
  },
  {
   "cell_type": "code",
   "execution_count": 15,
   "id": "bb3a443f-ef24-431d-92a0-5030ccd6f066",
   "metadata": {},
   "outputs": [
    {
     "name": "stdout",
     "output_type": "stream",
     "text": [
      "Time series using three months frequency:\n",
      "DatetimeIndex(['2021-01-31', '2021-04-30', '2021-07-31', '2021-10-31',\n",
      "               '2022-01-31', '2022-04-30', '2022-07-31', '2022-10-31',\n",
      "               '2023-01-31', '2023-04-30', '2023-07-31', '2023-10-31',\n",
      "               '2024-01-31', '2024-04-30', '2024-07-31', '2024-10-31',\n",
      "               '2025-01-31', '2025-04-30', '2025-07-31', '2025-10-31',\n",
      "               '2026-01-31', '2026-04-30', '2026-07-31', '2026-10-31',\n",
      "               '2027-01-31', '2027-04-30', '2027-07-31', '2027-10-31',\n",
      "               '2028-01-31', '2028-04-30', '2028-07-31', '2028-10-31',\n",
      "               '2029-01-31', '2029-04-30', '2029-07-31', '2029-10-31'],\n",
      "              dtype='datetime64[ns]', freq='3M')\n"
     ]
    }
   ],
   "source": [
    "time_series = pd.date_range('1/1/2021', periods = 36, freq='3M')\n",
    "print(\"Time series using three months frequency:\")\n",
    "print(time_series) \n"
   ]
  },
  {
   "cell_type": "markdown",
   "id": "762ce081-b9c3-4520-9cfa-a8710869cd84",
   "metadata": {},
   "source": [
    "#### 11. Write a Pandas program to create a sequence of durations increasing by an hour.\n"
   ]
  },
  {
   "cell_type": "code",
   "execution_count": 16,
   "id": "72475cd0-cd54-4b90-baf5-2161ef9144f9",
   "metadata": {},
   "outputs": [
    {
     "name": "stdout",
     "output_type": "stream",
     "text": [
      "Hourly range of perods 49:\n",
      "TimedeltaIndex(['0 days 00:00:00', '0 days 01:00:00', '0 days 02:00:00',\n",
      "                '0 days 03:00:00', '0 days 04:00:00', '0 days 05:00:00',\n",
      "                '0 days 06:00:00', '0 days 07:00:00', '0 days 08:00:00',\n",
      "                '0 days 09:00:00', '0 days 10:00:00', '0 days 11:00:00',\n",
      "                '0 days 12:00:00', '0 days 13:00:00', '0 days 14:00:00',\n",
      "                '0 days 15:00:00', '0 days 16:00:00', '0 days 17:00:00',\n",
      "                '0 days 18:00:00', '0 days 19:00:00', '0 days 20:00:00',\n",
      "                '0 days 21:00:00', '0 days 22:00:00', '0 days 23:00:00',\n",
      "                '1 days 00:00:00', '1 days 01:00:00', '1 days 02:00:00',\n",
      "                '1 days 03:00:00', '1 days 04:00:00', '1 days 05:00:00',\n",
      "                '1 days 06:00:00', '1 days 07:00:00', '1 days 08:00:00',\n",
      "                '1 days 09:00:00', '1 days 10:00:00', '1 days 11:00:00',\n",
      "                '1 days 12:00:00', '1 days 13:00:00', '1 days 14:00:00',\n",
      "                '1 days 15:00:00', '1 days 16:00:00', '1 days 17:00:00',\n",
      "                '1 days 18:00:00', '1 days 19:00:00', '1 days 20:00:00',\n",
      "                '1 days 21:00:00', '1 days 22:00:00', '1 days 23:00:00',\n",
      "                '2 days 00:00:00'],\n",
      "               dtype='timedelta64[ns]', freq='H')\n"
     ]
    }
   ],
   "source": [
    "date_range = pd.timedelta_range(0, periods=49, freq='H')\n",
    "print(\"Hourly range of perods 49:\")\n",
    "print(date_range)\n"
   ]
  },
  {
   "cell_type": "markdown",
   "id": "1f4c17d4-388b-469f-b556-96fcc7fda50a",
   "metadata": {},
   "source": [
    "#### 12. Write a Pandas program to convert year and day of year into a single datetime column of a dataframe."
   ]
  },
  {
   "cell_type": "code",
   "execution_count": 17,
   "id": "a37d971c-1cf5-4a7c-9e83-d6c7297e05de",
   "metadata": {},
   "outputs": [
    {
     "name": "stdout",
     "output_type": "stream",
     "text": [
      "Original DataFrame:\n",
      "   year  day_of_the_year\n",
      "0  2002              250\n",
      "1  2003              365\n",
      "2  2015                1\n",
      "3  2018              140\n",
      "\n",
      "New DataFrame:\n",
      "   year  day_of_the_year  combined       date\n",
      "0  2002              250   2002250 2002-09-07\n",
      "1  2003              365   2003365 2003-12-31\n",
      "2  2015                1   2015001 2015-01-01\n",
      "3  2018              140   2018140 2018-05-20\n"
     ]
    }
   ],
   "source": [
    "data = {\\\n",
    "\"year\": [2002, 2003, 2015, 2018],\n",
    "\"day_of_the_year\": [250, 365, 1, 140]\n",
    "}\n",
    "df = pd.DataFrame(data)\n",
    "print(\"Original DataFrame:\")\n",
    "print(df)\n",
    "df[\"combined\"] = df[\"year\"]*1000 + df[\"day_of_the_year\"]\n",
    "df[\"date\"] = pd.to_datetime(df[\"combined\"], format = \"%Y%j\")\n",
    "print(\"\\nNew DataFrame:\")\n",
    "print(df)\n"
   ]
  },
  {
   "cell_type": "markdown",
   "id": "8a12861a-7827-4ad0-b323-440dded730b5",
   "metadata": {},
   "source": [
    "#### 13. Write a Pandas program to create a series of Timestamps from a DataFrame of integer or string columns. Also create a series of Timestamps using specified columns."
   ]
  },
  {
   "cell_type": "code",
   "execution_count": 18,
   "id": "f3831023-9ea4-4364-84e0-7435b3074919",
   "metadata": {},
   "outputs": [
    {
     "name": "stdout",
     "output_type": "stream",
     "text": [
      "Original dataframe:\n",
      "   year  month  day  hour\n",
      "0  2018      2    4     2\n",
      "1  2019      3    5     3\n",
      "2  2020      4    6     4\n",
      "\n",
      "Series of Timestamps from the said dataframe:\n",
      "0   2018-02-04 02:00:00\n",
      "1   2019-03-05 03:00:00\n",
      "2   2020-04-06 04:00:00\n",
      "dtype: datetime64[ns]\n",
      "\n",
      "Series of Timestamps using specified columns:\n",
      "0   2018-02-04\n",
      "1   2019-03-05\n",
      "2   2020-04-06\n",
      "dtype: datetime64[ns]\n"
     ]
    }
   ],
   "source": [
    "df = pd.DataFrame({'year': [2018, 2019, 2020],\n",
    "                   'month': [2, 3, 4],\n",
    "                   'day': [4, 5, 6],\n",
    "                   'hour': [2, 3, 4]})\n",
    "print(\"Original dataframe:\")\n",
    "print(df)\n",
    "result = pd.to_datetime(df)\n",
    "print(\"\\nSeries of Timestamps from the said dataframe:\")\n",
    "print(result)\n",
    "print(\"\\nSeries of Timestamps using specified columns:\")\n",
    "print(pd.to_datetime(df[['year', 'month', 'day']]))\n"
   ]
  },
  {
   "cell_type": "markdown",
   "id": "a5cdd508-3587-4cba-986c-fd043c9c87fd",
   "metadata": {},
   "source": [
    "#### 14. Write a Pandas program to check if a day is a business day (weekday) or not."
   ]
  },
  {
   "cell_type": "code",
   "execution_count": 19,
   "id": "108c6da1-0506-4a04-bb40-afc9fb4b124f",
   "metadata": {},
   "outputs": [
    {
     "name": "stdout",
     "output_type": "stream",
     "text": [
      "Check busines day or not?\n",
      "2020-12-01:  True\n",
      "2020-12-06:  False\n",
      "2020-12-07:  True\n",
      "2020-12-08:  True\n"
     ]
    }
   ],
   "source": [
    "def is_business_day(date):\n",
    "    return bool(len(pd.bdate_range(date, date)))\n",
    "print(\"Check busines day or not?\")\n",
    "print('2020-12-01: ',is_business_day('2020-12-01'))\n",
    "print('2020-12-06: ',is_business_day('2020-12-06'))\n",
    "print('2020-12-07: ',is_business_day('2020-12-07'))\n",
    "print('2020-12-08: ',is_business_day('2020-12-08'))\n"
   ]
  },
  {
   "cell_type": "markdown",
   "id": "b7e50aa2-165b-4aa6-be79-4ed3741dfc44",
   "metadata": {},
   "source": [
    "#### 15. Write a Pandas program to get a time series with the last working days of each month of a specific year.\n"
   ]
  },
  {
   "cell_type": "code",
   "execution_count": 20,
   "id": "a1fbc181-c161-478a-804c-1a2513f4d706",
   "metadata": {},
   "outputs": [
    {
     "name": "stdout",
     "output_type": "stream",
     "text": [
      "last working days of each month of a specific year:\n",
      "         Date\n",
      "0  2021-01-29\n",
      "1  2021-02-26\n",
      "2  2021-03-31\n",
      "3  2021-04-30\n",
      "4  2021-05-31\n",
      "5  2021-06-30\n",
      "6  2021-07-30\n",
      "7  2021-08-31\n",
      "8  2021-09-30\n",
      "9  2021-10-29\n",
      "10 2021-11-30\n",
      "11 2021-12-31\n"
     ]
    }
   ],
   "source": [
    "s = pd.date_range('2021-01-01', periods=12, freq='BM')\n",
    "df = pd.DataFrame(s, columns=['Date'])\n",
    "print('last working days of each month of a specific year:')\n",
    "print(df)\n"
   ]
  },
  {
   "cell_type": "markdown",
   "id": "b665279a-f18a-4640-b4aa-5824c4e81508",
   "metadata": {},
   "source": [
    "#### 16. Write a Pandas program to create a time series combining hour and minute."
   ]
  },
  {
   "cell_type": "code",
   "execution_count": 21,
   "id": "45f1f447-9bf0-4a2c-af14-1cef5b3278b7",
   "metadata": {},
   "outputs": [
    {
     "name": "stdout",
     "output_type": "stream",
     "text": [
      "For a frequency of 1 hours 20 minutes, here we have combined the hour (H) and minute (T):\n",
      "\n",
      "TimedeltaIndex(['0 days 00:00:00', '0 days 01:20:00', '0 days 02:40:00',\n",
      "                '0 days 04:00:00', '0 days 05:20:00', '0 days 06:40:00',\n",
      "                '0 days 08:00:00', '0 days 09:20:00', '0 days 10:40:00',\n",
      "                '0 days 12:00:00', '0 days 13:20:00', '0 days 14:40:00',\n",
      "                '0 days 16:00:00', '0 days 17:20:00', '0 days 18:40:00',\n",
      "                '0 days 20:00:00', '0 days 21:20:00', '0 days 22:40:00',\n",
      "                '1 days 00:00:00', '1 days 01:20:00', '1 days 02:40:00',\n",
      "                '1 days 04:00:00', '1 days 05:20:00', '1 days 06:40:00',\n",
      "                '1 days 08:00:00', '1 days 09:20:00', '1 days 10:40:00',\n",
      "                '1 days 12:00:00', '1 days 13:20:00', '1 days 14:40:00'],\n",
      "               dtype='timedelta64[ns]', freq='80T')\n"
     ]
    }
   ],
   "source": [
    "result = pd.timedelta_range(0, periods=30, freq=\"1H20T\")\n",
    "print(\"For a frequency of 1 hours 20 minutes, here we have combined the hour (H) and minute (T):\\n\")\n",
    "print(result)\n"
   ]
  },
  {
   "cell_type": "markdown",
   "id": "c6b385b3-8879-4657-908a-5f90ce4c1c3b",
   "metadata": {},
   "source": [
    "#### 17. Write a Pandas program to convert unix/epoch time to a regular time stamp in UTC. Also convert the said timestamp in to a given time zone."
   ]
  },
  {
   "cell_type": "code",
   "execution_count": 22,
   "id": "541db54b-577f-4337-b0a5-59358209e869",
   "metadata": {},
   "outputs": [
    {
     "name": "stdout",
     "output_type": "stream",
     "text": [
      "Regular time stamp in UTC:\n",
      "2021-05-16 02:32:35\n",
      "\n",
      "Convert the said timestamp in to US/Pacific:\n",
      "2021-05-15 19:32:35-07:00\n",
      "\n",
      "Convert the said timestamp in to Europe/Berlin:\n",
      "2021-05-16 04:32:35+02:00\n"
     ]
    }
   ],
   "source": [
    "epoch_t = 1621132355\n",
    "time_stamp = pd.to_datetime(epoch_t, unit='s')\n",
    "# UTC (Coordinated Universal Time) is one of the well-known names of UTC+0 time zone which is 0h.\n",
    "# By default, time series objects of pandas do not have an assigned time zone.\n",
    "print(\"Regular time stamp in UTC:\")\n",
    "print(time_stamp)\n",
    "print(\"\\nConvert the said timestamp in to US/Pacific:\")\n",
    "print(time_stamp.tz_localize('UTC').tz_convert('US/Pacific'))\n",
    "print(\"\\nConvert the said timestamp in to Europe/Berlin:\")\n",
    "print(time_stamp.tz_localize('UTC').tz_convert('Europe/Berlin'))\n"
   ]
  },
  {
   "cell_type": "markdown",
   "id": "166c9b36-ff94-4891-8b8e-9f3551e49323",
   "metadata": {},
   "source": [
    "#### 18. Write a Pandas program to create a time series object with a time zone."
   ]
  },
  {
   "cell_type": "code",
   "execution_count": 23,
   "id": "8f1db0e2-cc96-4cd3-b4a5-eee1df3daeb0",
   "metadata": {},
   "outputs": [
    {
     "name": "stdout",
     "output_type": "stream",
     "text": [
      "Timezone: Europe/Berlin:\n",
      "Using pytz:\n",
      "Europe/Berlin\n",
      "Using dateutil:\n",
      "tzfile('Europe/Berlin')\n",
      "\n",
      "US/Pacific:\n",
      "Using pytz:\n",
      "US/Pacific\n",
      "Using dateutil:\n",
      "tzfile('US/Pacific')\n"
     ]
    }
   ],
   "source": [
    "print(\"Timezone: Europe/Berlin:\")\n",
    "print(\"Using pytz:\")\n",
    "date_pytz = pd.Timestamp('2019-01-01', tz = 'Europe/Berlin')\n",
    "print(date_pytz.tz)  \n",
    "print(\"Using dateutil:\")\n",
    "date_util = pd.Timestamp('2019-01-01', tz = 'dateutil/Europe/Berlin')\n",
    "print(date_util.tz)\n",
    "print(\"\\nUS/Pacific:\")\n",
    "print(\"Using pytz:\")\n",
    "date_pytz = pd.Timestamp('2019-01-01', tz = 'US/Pacific')\n",
    "print(date_pytz.tz)  \n",
    "print(\"Using dateutil:\")\n",
    "date_util = pd.Timestamp('2019-01-01', tz = 'dateutil/US/Pacific')\n",
    "print(date_util.tz)\n"
   ]
  },
  {
   "cell_type": "markdown",
   "id": "e0595872-da5c-40fe-b8c5-d2c7bd507ff3",
   "metadata": {},
   "source": [
    "#### 19. Write a Pandas program to remove the time zone information from a Time series data."
   ]
  },
  {
   "cell_type": "code",
   "execution_count": 24,
   "id": "cc34731d-fb48-4548-91cc-6bc9ef543a48",
   "metadata": {},
   "outputs": [
    {
     "name": "stdout",
     "output_type": "stream",
     "text": [
      "Time series data with time zone:\n",
      "2019-01-01 00:00:00+01:00\n",
      "2019-01-01 00:00:00-08:00\n",
      "2019-01-01 00:00:00-05:00\n",
      "\n",
      "Time series data without time zone:\n",
      "2019-01-01 00:00:00\n",
      "2019-01-01 00:00:00\n",
      "2019-01-01 00:00:00\n"
     ]
    }
   ],
   "source": [
    "date1 = pd.Timestamp('2019-01-01', tz='Europe/Berlin')\n",
    "date2 = pd.Timestamp('2019-01-01', tz='US/Pacific')\n",
    "date3 = pd.Timestamp('2019-01-01', tz='US/Eastern')\n",
    "print(\"Time series data with time zone:\")\n",
    "print(date1)\n",
    "print(date2)\n",
    "print(date3)\n",
    "print(\"\\nTime series data without time zone:\")\n",
    "print(date1.tz_localize(None))\n",
    "print(date2.tz_localize(None))\n",
    "print(date3.tz_localize(None))\n"
   ]
  },
  {
   "cell_type": "markdown",
   "id": "efca37be-f802-4c7c-adb5-029471f345b9",
   "metadata": {},
   "source": [
    "#### 20. Write a Pandas program to subtract two timestamps of same time zone or different time zone."
   ]
  },
  {
   "cell_type": "code",
   "execution_count": 25,
   "id": "a47650f8-9701-4498-9839-47634619943b",
   "metadata": {},
   "outputs": [
    {
     "name": "stdout",
     "output_type": "stream",
     "text": [
      "Subtract two timestamps of same time zone:\n",
      "Difference:  30 days 18:00:00\n",
      "\n",
      "Subtract two timestamps of different time zone:\n",
      "Difference:  0 days 05:00:00\n"
     ]
    }
   ],
   "source": [
    "print(\"Subtract two timestamps of same time zone:\")\n",
    "date1 = pd.Timestamp('2019-03-01 12:00', tz='US/Eastern')\n",
    "date2 = pd.Timestamp('2019-04-01 07:00', tz='US/Eastern')\n",
    "print(\"Difference: \", (date2-date1))\n",
    "print(\"\\nSubtract two timestamps of different time zone:\")\n",
    "date1 = pd.Timestamp('2019-03-01 12:00', tz='US/Eastern')\n",
    "date2 = pd.Timestamp('2019-03-01 07:00', tz='US/Pacific')\n",
    "# Remove the time zone and do the subtraction\n",
    "print(\"Difference: \", (date1.tz_localize(None) - date2.tz_localize(None)))\n"
   ]
  },
  {
   "cell_type": "markdown",
   "id": "45e9f0b1-3ca1-4bc9-b523-775055c08362",
   "metadata": {},
   "source": [
    "#### 21. Write a Pandas program to calculate all Thursdays between two given days."
   ]
  },
  {
   "cell_type": "code",
   "execution_count": 26,
   "id": "69f4a5bb-98a8-422e-a8c5-cf7290cebe94",
   "metadata": {},
   "outputs": [
    {
     "name": "stdout",
     "output_type": "stream",
     "text": [
      "All Thursdays between 2020-01-01 and 2020-12-31:\n",
      "\n",
      "['2020-01-02T00:00:00.000000000' '2020-01-09T00:00:00.000000000'\n",
      " '2020-01-16T00:00:00.000000000' '2020-01-23T00:00:00.000000000'\n",
      " '2020-01-30T00:00:00.000000000' '2020-02-06T00:00:00.000000000'\n",
      " '2020-02-13T00:00:00.000000000' '2020-02-20T00:00:00.000000000'\n",
      " '2020-02-27T00:00:00.000000000' '2020-03-05T00:00:00.000000000'\n",
      " '2020-03-12T00:00:00.000000000' '2020-03-19T00:00:00.000000000'\n",
      " '2020-03-26T00:00:00.000000000' '2020-04-02T00:00:00.000000000'\n",
      " '2020-04-09T00:00:00.000000000' '2020-04-16T00:00:00.000000000'\n",
      " '2020-04-23T00:00:00.000000000' '2020-04-30T00:00:00.000000000'\n",
      " '2020-05-07T00:00:00.000000000' '2020-05-14T00:00:00.000000000'\n",
      " '2020-05-21T00:00:00.000000000' '2020-05-28T00:00:00.000000000'\n",
      " '2020-06-04T00:00:00.000000000' '2020-06-11T00:00:00.000000000'\n",
      " '2020-06-18T00:00:00.000000000' '2020-06-25T00:00:00.000000000'\n",
      " '2020-07-02T00:00:00.000000000' '2020-07-09T00:00:00.000000000'\n",
      " '2020-07-16T00:00:00.000000000' '2020-07-23T00:00:00.000000000'\n",
      " '2020-07-30T00:00:00.000000000' '2020-08-06T00:00:00.000000000'\n",
      " '2020-08-13T00:00:00.000000000' '2020-08-20T00:00:00.000000000'\n",
      " '2020-08-27T00:00:00.000000000' '2020-09-03T00:00:00.000000000'\n",
      " '2020-09-10T00:00:00.000000000' '2020-09-17T00:00:00.000000000'\n",
      " '2020-09-24T00:00:00.000000000' '2020-10-01T00:00:00.000000000'\n",
      " '2020-10-08T00:00:00.000000000' '2020-10-15T00:00:00.000000000'\n",
      " '2020-10-22T00:00:00.000000000' '2020-10-29T00:00:00.000000000'\n",
      " '2020-11-05T00:00:00.000000000' '2020-11-12T00:00:00.000000000'\n",
      " '2020-11-19T00:00:00.000000000' '2020-11-26T00:00:00.000000000'\n",
      " '2020-12-03T00:00:00.000000000' '2020-12-10T00:00:00.000000000'\n",
      " '2020-12-17T00:00:00.000000000' '2020-12-24T00:00:00.000000000'\n",
      " '2020-12-31T00:00:00.000000000']\n"
     ]
    }
   ],
   "source": [
    "thursdays  = pd.date_range('2020-01-01', \n",
    "                           '2020-12-31', freq=\"W-THU\")\n",
    "print(\"All Thursdays between 2020-01-01 and 2020-12-31:\\n\")\n",
    "print(thursdays.values)\n"
   ]
  },
  {
   "cell_type": "markdown",
   "id": "ad0b93bc-4ade-4123-84ac-5eac74c386ac",
   "metadata": {},
   "source": [
    "#### 22. Write a Pandas program to find the all the business quarterly begin and end dates of a specified year."
   ]
  },
  {
   "cell_type": "code",
   "execution_count": 27,
   "id": "cff22390-df8c-4e4f-8438-a09bc464098a",
   "metadata": {},
   "outputs": [
    {
     "name": "stdout",
     "output_type": "stream",
     "text": [
      "All the business quarterly begin dates of 2020:\n",
      "['2020-03-02T00:00:00.000000000' '2020-06-01T00:00:00.000000000'\n",
      " '2020-09-01T00:00:00.000000000' '2020-12-01T00:00:00.000000000']\n",
      "\n",
      "All the business quarterly end dates of 2020:\n",
      "['2020-03-31T00:00:00.000000000' '2020-06-30T00:00:00.000000000'\n",
      " '2020-09-30T00:00:00.000000000' '2020-12-31T00:00:00.000000000']\n"
     ]
    }
   ],
   "source": [
    "q_start_dates = pd.date_range('2020-01-01', '2020-12-31', freq='BQS-JUN')\n",
    "q_end_dates = pd.date_range('2020-01-01', '2020-12-31', freq='BQ-JUN')\n",
    "print(\"All the business quarterly begin dates of 2020:\")\n",
    "print(q_start_dates.values)\n",
    "print(\"\\nAll the business quarterly end dates of 2020:\")\n",
    "print(q_end_dates.values)\n"
   ]
  },
  {
   "cell_type": "markdown",
   "id": "0b21ca8f-d7c7-4e14-9ba5-e5ef992297f0",
   "metadata": {},
   "source": [
    "#### 23. Write a Pandas program to generate sequences of fixed-frequency dates and time spans intervals."
   ]
  },
  {
   "cell_type": "code",
   "execution_count": 28,
   "id": "e5bc024c-5144-47f2-b145-74100f5dbcd3",
   "metadata": {},
   "outputs": [
    {
     "name": "stdout",
     "output_type": "stream",
     "text": [
      "Sequences of fixed-frequency dates and time spans (1 H):\n",
      "\n",
      "DatetimeIndex(['2030-01-01 00:00:00', '2030-01-01 01:00:00',\n",
      "               '2030-01-01 02:00:00', '2030-01-01 03:00:00',\n",
      "               '2030-01-01 04:00:00', '2030-01-01 05:00:00',\n",
      "               '2030-01-01 06:00:00', '2030-01-01 07:00:00',\n",
      "               '2030-01-01 08:00:00', '2030-01-01 09:00:00'],\n",
      "              dtype='datetime64[ns]', freq='H')\n",
      "\n",
      "Sequences of fixed-frequency dates and time spans (3 H):\n",
      "\n",
      "DatetimeIndex(['2030-01-01 00:00:00', '2030-01-01 03:00:00',\n",
      "               '2030-01-01 06:00:00', '2030-01-01 09:00:00',\n",
      "               '2030-01-01 12:00:00', '2030-01-01 15:00:00',\n",
      "               '2030-01-01 18:00:00', '2030-01-01 21:00:00',\n",
      "               '2030-01-02 00:00:00', '2030-01-02 03:00:00'],\n",
      "              dtype='datetime64[ns]', freq='3H')\n"
     ]
    }
   ],
   "source": [
    "print(\"Sequences of fixed-frequency dates and time spans (1 H):\\n\")\n",
    "r1 = pd.date_range('2030-01-01', periods=10, freq='H')\n",
    "print(r1)\n",
    "print(\"\\nSequences of fixed-frequency dates and time spans (3 H):\\n\")\n",
    "r2 = pd.date_range('2030-01-01', periods=10, freq='3H')\n",
    "print(r2)\n"
   ]
  },
  {
   "cell_type": "markdown",
   "id": "298935e1-22cf-41b6-8d05-c28900023e3e",
   "metadata": {},
   "source": [
    "#### 24. Write a Pandas program to generate time series combining day and intraday offsets intervals."
   ]
  },
  {
   "cell_type": "code",
   "execution_count": 29,
   "id": "31a641d8-1930-4120-be16-850d49f849d7",
   "metadata": {},
   "outputs": [
    {
     "name": "stdout",
     "output_type": "stream",
     "text": [
      "Time series with frequency 3h10min:\n",
      "DatetimeIndex(['2029-01-01 00:00:00', '2029-01-01 03:10:00',\n",
      "               '2029-01-01 06:20:00', '2029-01-01 09:30:00',\n",
      "               '2029-01-01 12:40:00', '2029-01-01 15:50:00',\n",
      "               '2029-01-01 19:00:00', '2029-01-01 22:10:00',\n",
      "               '2029-01-02 01:20:00', '2029-01-02 04:30:00',\n",
      "               '2029-01-02 07:40:00', '2029-01-02 10:50:00',\n",
      "               '2029-01-02 14:00:00', '2029-01-02 17:10:00',\n",
      "               '2029-01-02 20:20:00', '2029-01-02 23:30:00',\n",
      "               '2029-01-03 02:40:00', '2029-01-03 05:50:00',\n",
      "               '2029-01-03 09:00:00', '2029-01-03 12:10:00'],\n",
      "              dtype='datetime64[ns]', freq='190T')\n",
      "\n",
      "Time series with frequency 1 day 10 minutes and 20 microseconds:\n",
      "DatetimeIndex([       '2029-01-01 00:00:00', '2029-01-02 00:10:00.000020',\n",
      "               '2029-01-03 00:20:00.000040', '2029-01-04 00:30:00.000060',\n",
      "               '2029-01-05 00:40:00.000080', '2029-01-06 00:50:00.000100',\n",
      "               '2029-01-07 01:00:00.000120', '2029-01-08 01:10:00.000140',\n",
      "               '2029-01-09 01:20:00.000160', '2029-01-10 01:30:00.000180',\n",
      "               '2029-01-11 01:40:00.000200', '2029-01-12 01:50:00.000220',\n",
      "               '2029-01-13 02:00:00.000240', '2029-01-14 02:10:00.000260',\n",
      "               '2029-01-15 02:20:00.000280', '2029-01-16 02:30:00.000300',\n",
      "               '2029-01-17 02:40:00.000320', '2029-01-18 02:50:00.000340',\n",
      "               '2029-01-19 03:00:00.000360', '2029-01-20 03:10:00.000380'],\n",
      "              dtype='datetime64[ns]', freq='87000000020U')\n"
     ]
    }
   ],
   "source": [
    "dateset1 = pd.date_range('2029-01-01 00:00:00', periods=20, freq='3h10min')\n",
    "print(\"Time series with frequency 3h10min:\")\n",
    "print(dateset1)\n",
    "dateset2 = pd.date_range('2029-01-01 00:00:00', periods=20, freq='1D10min20U')\n",
    "print(\"\\nTime series with frequency 1 day 10 minutes and 20 microseconds:\")\n",
    "print(dateset2)\n"
   ]
  },
  {
   "cell_type": "markdown",
   "id": "c84f25c8-6ef4-43b1-8bf4-4734c77acb66",
   "metadata": {},
   "source": [
    "#### 25. Write a Pandas program to extract the day name from a specified date. Add 2 days and 1 business day with the specified date."
   ]
  },
  {
   "cell_type": "code",
   "execution_count": 30,
   "id": "bd818037-2447-4538-bd4e-00a6d4f2fc46",
   "metadata": {},
   "outputs": [
    {
     "name": "stdout",
     "output_type": "stream",
     "text": [
      "First date:\n",
      "2020-02-07 00:00:00\n",
      "\n",
      "The day name of the said date:\n",
      "Friday\n",
      "\n",
      "Add 2 days with the said date:\n",
      "Sunday\n",
      "\n",
      "Next business day:\n",
      "Monday\n"
     ]
    }
   ],
   "source": [
    "newday = pd.Timestamp('2020-02-07')\n",
    "print(\"First date:\")\n",
    "print(newday)\n",
    "print(\"\\nThe day name of the said date:\")\n",
    "print(newday.day_name())\n",
    "print(\"\\nAdd 2 days with the said date:\")\n",
    "newday1 = newday + pd.Timedelta('2 day')\n",
    "print(newday1.day_name())\n",
    "print(\"\\nNext business day:\")\n",
    "nbday = newday + pd.offsets.BDay()\n",
    "print(nbday.day_name())\n"
   ]
  },
  {
   "cell_type": "markdown",
   "id": "47557e02-8dfb-4627-a03c-540a9c161035",
   "metadata": {},
   "source": [
    "#### 26. Write a Pandas program to convert integer or float epoch times to Timestamp and DatetimeIndex."
   ]
  },
  {
   "cell_type": "code",
   "execution_count": 31,
   "id": "8c687466-350f-4c6d-a974-11700e544778",
   "metadata": {},
   "outputs": [
    {
     "name": "stdout",
     "output_type": "stream",
     "text": [
      "Convert integer or float epoch times to Timestamp and DatetimeIndex upto second:\n",
      "DatetimeIndex(['2012-02-21 06:41:45', '1974-02-11 09:21:45',\n",
      "               '2009-08-10 08:28:25', '2009-08-11 08:28:25',\n",
      "               '2009-08-12 08:28:25'],\n",
      "              dtype='datetime64[ns]', freq=None)\n",
      "\n",
      "Convert integer or float epoch times to Timestamp and DatetimeIndex upto milisecond:\n",
      "DatetimeIndex(['2009-08-08 08:28:25.100000', '2009-08-08 08:28:25.200000',\n",
      "               '2009-08-08 08:28:25.300000', '2009-08-08 08:28:25.400000',\n",
      "               '2009-08-08 08:28:25.500000'],\n",
      "              dtype='datetime64[ns]', freq=None)\n"
     ]
    }
   ],
   "source": [
    "dates1 = pd.to_datetime([1329806505, 129806505, 1249892905,\n",
    "                1249979305, 1250065705], unit='s')\n",
    "print(\"Convert integer or float epoch times to Timestamp and DatetimeIndex upto second:\")\n",
    "print(dates1)\n",
    "print(\"\\nConvert integer or float epoch times to Timestamp and DatetimeIndex upto milisecond:\")\n",
    "dates2 = pd.to_datetime([1249720105100, 1249720105200, 1249720105300,\n",
    "                1249720105400, 1249720105500], unit='ms')\n",
    "print(dates2)\n"
   ]
  },
  {
   "cell_type": "markdown",
   "id": "a530b128-7adb-4ffd-8840-91ea7a6a0d78",
   "metadata": {},
   "source": [
    "#### 27. Write a Pandas program to calculate one, two, three business day(s) from a specified date. Also find the next business month end from a specific date."
   ]
  },
  {
   "cell_type": "code",
   "execution_count": 33,
   "id": "db29bddd-22c9-40f9-9a7a-121cabac7a3d",
   "metadata": {},
   "outputs": [
    {
     "name": "stdout",
     "output_type": "stream",
     "text": [
      "Specified date:\n",
      "2020-01-04 00:00:00\n",
      "\n",
      "One business day from the said date:\n",
      "2020-01-06 00:00:00\n",
      "\n",
      "Two business days from the said date:\n",
      "2020-01-07 00:00:00\n",
      "\n",
      "Three business days from the said date:\n",
      "2020-01-08 00:00:00\n",
      "\n",
      "Next business month end from the said date:\n",
      "2020-01-31 00:00:00\n"
     ]
    }
   ],
   "source": [
    "dt = datetime(2020, 1, 4)\n",
    "print(\"Specified date:\")\n",
    "print(dt)\n",
    "print(\"\\nOne business day from the said date:\")\n",
    "obday = dt + BusinessDay()\n",
    "print(obday)\n",
    "print(\"\\nTwo business days from the said date:\")\n",
    "tbday = dt + 2 * BusinessDay()\n",
    "print(tbday)\n",
    "print(\"\\nThree business days from the said date:\")\n",
    "thbday = dt + 3 * BusinessDay()\n",
    "print(thbday)\n",
    "print(\"\\nNext business month end from the said date:\")\n",
    "nbday = dt + BMonthEnd()\n",
    "print(nbday)\n"
   ]
  },
  {
   "cell_type": "markdown",
   "id": "325d29f7-eae2-4d1a-89e7-23f945365acc",
   "metadata": {},
   "source": [
    "#### 28. Write a Pandas program to create a period index represent all monthly boundaries of a given year. Also print start and end time for each period object in the said index.\n"
   ]
  },
  {
   "cell_type": "code",
   "execution_count": 34,
   "id": "dd7282b5-7ad2-4f08-8572-af6f7ac8691b",
   "metadata": {},
   "outputs": [
    {
     "name": "stdout",
     "output_type": "stream",
     "text": [
      "All monthly boundaries of a given year:\n",
      "PeriodIndex(['2020-01', '2020-02', '2020-03', '2020-04', '2020-05', '2020-06',\n",
      "             '2020-07', '2020-08', '2020-09', '2020-10', '2020-11', '2020-12'],\n",
      "            dtype='period[M]')\n",
      "\n",
      "Start and end time for each period object in the said index:\n",
      "2020-01-01 00:00:00 2020-01-31 23:59:59.999999999\n",
      "2020-02-01 00:00:00 2020-02-29 23:59:59.999999999\n",
      "2020-03-01 00:00:00 2020-03-31 23:59:59.999999999\n",
      "2020-04-01 00:00:00 2020-04-30 23:59:59.999999999\n",
      "2020-05-01 00:00:00 2020-05-31 23:59:59.999999999\n",
      "2020-06-01 00:00:00 2020-06-30 23:59:59.999999999\n",
      "2020-07-01 00:00:00 2020-07-31 23:59:59.999999999\n",
      "2020-08-01 00:00:00 2020-08-31 23:59:59.999999999\n",
      "2020-09-01 00:00:00 2020-09-30 23:59:59.999999999\n",
      "2020-10-01 00:00:00 2020-10-31 23:59:59.999999999\n",
      "2020-11-01 00:00:00 2020-11-30 23:59:59.999999999\n",
      "2020-12-01 00:00:00 2020-12-31 23:59:59.999999999\n"
     ]
    }
   ],
   "source": [
    "sdt = datetime(2020, 1, 1)\n",
    "edt = datetime(2020, 12, 31)\n",
    "dateset = pd.period_range(sdt, edt, freq='M')\n",
    "print(\"All monthly boundaries of a given year:\")\n",
    "print(dateset) \n",
    "print(\"\\nStart and end time for each period object in the said index:\")\n",
    "for d in dateset: \n",
    "    print (\"{0} {1}\".format(d.start_time, d.end_time)) \n"
   ]
  },
  {
   "cell_type": "markdown",
   "id": "b38866fb-b78a-467a-aa78-04d19a8858ea",
   "metadata": {},
   "source": [
    "#### 29. Write a Pandas program create a series with a PeriodIndex which represents all the calendar month periods in 2029 and 2031. Also print the values for all periods in 2030. Note: PeriodIndex is an immutable ndarray holding ordinal values indicating regular periods in time such as particular years, quarters, months, etc.\n",
    "\n"
   ]
  },
  {
   "cell_type": "code",
   "execution_count": 35,
   "id": "a6ed9ca3-ea7e-4311-a5df-a142ba28f494",
   "metadata": {},
   "outputs": [
    {
     "name": "stdout",
     "output_type": "stream",
     "text": [
      "PeriodIndex which represents all the calendar month periods in 2029 and 2030:\n",
      "2029-01    0.479913\n",
      "2029-02    0.515264\n",
      "2029-03   -0.366225\n",
      "2029-04    1.960421\n",
      "2029-05   -0.169271\n",
      "2029-06   -1.284978\n",
      "2029-07    1.844542\n",
      "2029-08   -0.298260\n",
      "2029-09   -0.819412\n",
      "2029-10   -0.536524\n",
      "2029-11   -1.823913\n",
      "2029-12   -0.040888\n",
      "2030-01    0.475109\n",
      "2030-02   -0.650115\n",
      "2030-03    0.300399\n",
      "2030-04    0.952395\n",
      "2030-05    0.068769\n",
      "2030-06    0.129490\n",
      "2030-07    0.764507\n",
      "2030-08   -1.151906\n",
      "2030-09    0.656800\n",
      "2030-10    1.207476\n",
      "2030-11   -0.680220\n",
      "2030-12   -1.960927\n",
      "2031-01   -0.394040\n",
      "2031-02    0.051691\n",
      "2031-03    0.887686\n",
      "2031-04   -0.922221\n",
      "2031-05   -0.750977\n",
      "2031-06    1.366961\n",
      "2031-07    0.917574\n",
      "2031-08    1.538194\n",
      "2031-09    1.367622\n",
      "2031-10   -0.673957\n",
      "2031-11    0.563768\n",
      "2031-12   -1.071569\n",
      "Freq: M, dtype: float64\n",
      "\n",
      "Values for all periods in 2030:\n",
      "2030-01    0.475109\n",
      "2030-02   -0.650115\n",
      "2030-03    0.300399\n",
      "2030-04    0.952395\n",
      "2030-05    0.068769\n",
      "2030-06    0.129490\n",
      "2030-07    0.764507\n",
      "2030-08   -1.151906\n",
      "2030-09    0.656800\n",
      "2030-10    1.207476\n",
      "2030-11   -0.680220\n",
      "2030-12   -1.960927\n",
      "Freq: M, dtype: float64\n"
     ]
    }
   ],
   "source": [
    "pi = pd.Series(np.random.randn(36), \n",
    "               pd.period_range('1/1/2029', \n",
    "                               '12/31/2031', freq='M'))\n",
    "print(\"PeriodIndex which represents all the calendar month periods in 2029 and 2030:\")\n",
    "print(pi)\n",
    "print(\"\\nValues for all periods in 2030:\")\n",
    "print(pi['2030'])\n"
   ]
  },
  {
   "cell_type": "markdown",
   "id": "4067ddc3-863c-426b-ba6e-f9dd36ec52bf",
   "metadata": {},
   "source": [
    "#### 30. Write a Pandas program to generate holidays between two dates using the US federal holiday calendar."
   ]
  },
  {
   "cell_type": "code",
   "execution_count": 52,
   "id": "bcc05530-533c-497d-b51f-1685aa043900",
   "metadata": {},
   "outputs": [
    {
     "name": "stdout",
     "output_type": "stream",
     "text": [
      "Holidays between 2021-01-01 and 2030-12-31 using the US federal holiday calendar.\n",
      "2021-01-01 00:00:00\n",
      "2021-01-18 00:00:00\n",
      "2021-02-15 00:00:00\n",
      "2021-05-31 00:00:00\n",
      "2021-06-18 00:00:00\n",
      "2021-07-05 00:00:00\n",
      "2021-09-06 00:00:00\n",
      "2021-10-11 00:00:00\n",
      "2021-11-11 00:00:00\n",
      "2021-11-25 00:00:00\n",
      "2021-12-24 00:00:00\n",
      "2021-12-31 00:00:00\n",
      "2022-01-17 00:00:00\n",
      "2022-02-21 00:00:00\n",
      "2022-05-30 00:00:00\n",
      "2022-06-20 00:00:00\n",
      "2022-07-04 00:00:00\n",
      "2022-09-05 00:00:00\n",
      "2022-10-10 00:00:00\n",
      "2022-11-11 00:00:00\n",
      "2022-11-24 00:00:00\n",
      "2022-12-26 00:00:00\n",
      "2023-01-02 00:00:00\n",
      "2023-01-16 00:00:00\n",
      "2023-02-20 00:00:00\n",
      "2023-05-29 00:00:00\n",
      "2023-06-19 00:00:00\n",
      "2023-07-04 00:00:00\n",
      "2023-09-04 00:00:00\n",
      "2023-10-09 00:00:00\n",
      "2023-11-10 00:00:00\n",
      "2023-11-23 00:00:00\n",
      "2023-12-25 00:00:00\n",
      "2024-01-01 00:00:00\n",
      "2024-01-15 00:00:00\n",
      "2024-02-19 00:00:00\n",
      "2024-05-27 00:00:00\n",
      "2024-06-19 00:00:00\n",
      "2024-07-04 00:00:00\n",
      "2024-09-02 00:00:00\n",
      "2024-10-14 00:00:00\n",
      "2024-11-11 00:00:00\n",
      "2024-11-28 00:00:00\n",
      "2024-12-25 00:00:00\n",
      "2025-01-01 00:00:00\n",
      "2025-01-20 00:00:00\n",
      "2025-02-17 00:00:00\n",
      "2025-05-26 00:00:00\n",
      "2025-06-19 00:00:00\n",
      "2025-07-04 00:00:00\n",
      "2025-09-01 00:00:00\n",
      "2025-10-13 00:00:00\n",
      "2025-11-11 00:00:00\n",
      "2025-11-27 00:00:00\n",
      "2025-12-25 00:00:00\n",
      "2026-01-01 00:00:00\n",
      "2026-01-19 00:00:00\n",
      "2026-02-16 00:00:00\n",
      "2026-05-25 00:00:00\n",
      "2026-06-19 00:00:00\n",
      "2026-07-03 00:00:00\n",
      "2026-09-07 00:00:00\n",
      "2026-10-12 00:00:00\n",
      "2026-11-11 00:00:00\n",
      "2026-11-26 00:00:00\n",
      "2026-12-25 00:00:00\n",
      "2027-01-01 00:00:00\n",
      "2027-01-18 00:00:00\n",
      "2027-02-15 00:00:00\n",
      "2027-05-31 00:00:00\n",
      "2027-06-18 00:00:00\n",
      "2027-07-05 00:00:00\n",
      "2027-09-06 00:00:00\n",
      "2027-10-11 00:00:00\n",
      "2027-11-11 00:00:00\n",
      "2027-11-25 00:00:00\n",
      "2027-12-24 00:00:00\n",
      "2027-12-31 00:00:00\n",
      "2028-01-17 00:00:00\n",
      "2028-02-21 00:00:00\n",
      "2028-05-29 00:00:00\n",
      "2028-06-19 00:00:00\n",
      "2028-07-04 00:00:00\n",
      "2028-09-04 00:00:00\n",
      "2028-10-09 00:00:00\n",
      "2028-11-10 00:00:00\n",
      "2028-11-23 00:00:00\n",
      "2028-12-25 00:00:00\n",
      "2029-01-01 00:00:00\n",
      "2029-01-15 00:00:00\n",
      "2029-02-19 00:00:00\n",
      "2029-05-28 00:00:00\n",
      "2029-06-19 00:00:00\n",
      "2029-07-04 00:00:00\n",
      "2029-09-03 00:00:00\n",
      "2029-10-08 00:00:00\n",
      "2029-11-12 00:00:00\n",
      "2029-11-22 00:00:00\n",
      "2029-12-25 00:00:00\n",
      "2030-01-01 00:00:00\n",
      "2030-01-21 00:00:00\n",
      "2030-02-18 00:00:00\n",
      "2030-05-27 00:00:00\n",
      "2030-06-19 00:00:00\n",
      "2030-07-04 00:00:00\n",
      "2030-09-02 00:00:00\n",
      "2030-10-14 00:00:00\n",
      "2030-11-11 00:00:00\n",
      "2030-11-28 00:00:00\n",
      "2030-12-25 00:00:00\n"
     ]
    }
   ],
   "source": [
    "from pandas.tseries.holiday import USFederalHolidayCalendar\n",
    "\n",
    "sdt = datetime(2021, 1, 1)\n",
    "edt = datetime(2030, 12, 31)\n",
    "print(\"Holidays between 2021-01-01 and 2030-12-31 using the US federal holiday calendar.\")\n",
    "cal = USFederalHolidayCalendar()\n",
    "for dt in cal.holidays(start=sdt, end=edt): \n",
    "    print (dt)\n"
   ]
  },
  {
   "cell_type": "markdown",
   "id": "eac94d72-8eac-424e-b512-e98a30bd1f76",
   "metadata": {},
   "source": [
    "#### 31. Write a Pandas program to create a monthly time period and display the list of names in the current local scope."
   ]
  },
  {
   "cell_type": "code",
   "execution_count": 41,
   "id": "76a31b8f-11f8-42f7-8a64-7327bc6a2e83",
   "metadata": {},
   "outputs": [
    {
     "name": "stdout",
     "output_type": "stream",
     "text": [
      "Monthly time perid:  2021-11\n",
      "\n",
      "List of names in the current local scope:\n",
      "['__add__', '__array_priority__', '__class__', '__delattr__', '__dict__', '__dir__', '__doc__', '__eq__', '__format__', '__ge__', '__getattribute__', '__getstate__', '__gt__', '__hash__', '__init__', '__init_subclass__', '__le__', '__lt__', '__module__', '__ne__', '__new__', '__radd__', '__reduce__', '__reduce_ex__', '__repr__', '__rsub__', '__setattr__', '__setstate__', '__sizeof__', '__str__', '__sub__', '__subclasshook__', '__weakref__', '_add_offset', '_add_timedeltalike_scalar', '_dtype', '_from_ordinal', '_maybe_convert_freq', '_require_matching_freq', 'asfreq', 'day', 'day_of_week', 'day_of_year', 'dayofweek', 'dayofyear', 'days_in_month', 'daysinmonth', 'end_time', 'freq', 'freqstr', 'hour', 'is_leap_year', 'minute', 'month', 'now', 'ordinal', 'quarter', 'qyear', 'second', 'start_time', 'strftime', 'to_timestamp', 'week', 'weekday', 'weekofyear', 'year']\n"
     ]
    }
   ],
   "source": [
    "mtp = pd.Period('2021-11','M')\n",
    "print(\"Monthly time perid: \",mtp)\n",
    "print(\"\\nList of names in the current local scope:\")\n",
    "print(dir(mtp)) \n"
   ]
  },
  {
   "cell_type": "markdown",
   "id": "ca8e19e4-51ab-413b-ac1b-5e5abd86d534",
   "metadata": {},
   "source": [
    "#### 32. Write a Pandas program to create a yearly time period from a specified year and display the properties of this period."
   ]
  },
  {
   "cell_type": "code",
   "execution_count": 42,
   "id": "8d10536c-6d67-490c-b924-0a13f96a567e",
   "metadata": {},
   "outputs": [
    {
     "name": "stdout",
     "output_type": "stream",
     "text": [
      "Yearly time perid: 2020\n",
      "\n",
      "All the properties of the said period:\n",
      "['__add__', '__array_priority__', '__class__', '__delattr__', '__dict__', '__dir__', '__doc__', '__eq__', '__format__', '__ge__', '__getattribute__', '__getstate__', '__gt__', '__hash__', '__init__', '__init_subclass__', '__le__', '__lt__', '__module__', '__ne__', '__new__', '__radd__', '__reduce__', '__reduce_ex__', '__repr__', '__rsub__', '__setattr__', '__setstate__', '__sizeof__', '__str__', '__sub__', '__subclasshook__', '__weakref__', '_add_offset', '_add_timedeltalike_scalar', '_dtype', '_from_ordinal', '_maybe_convert_freq', '_require_matching_freq', 'asfreq', 'day', 'day_of_week', 'day_of_year', 'dayofweek', 'dayofyear', 'days_in_month', 'daysinmonth', 'end_time', 'freq', 'freqstr', 'hour', 'is_leap_year', 'minute', 'month', 'now', 'ordinal', 'quarter', 'qyear', 'second', 'start_time', 'strftime', 'to_timestamp', 'week', 'weekday', 'weekofyear', 'year']\n"
     ]
    }
   ],
   "source": [
    "ytp = pd.Period('2020','A-DEC')\n",
    "print(\"Yearly time perid:\",ytp)\n",
    "print(\"\\nAll the properties of the said period:\")\n",
    "print(dir(ytp))\n"
   ]
  },
  {
   "cell_type": "code",
   "execution_count": null,
   "id": "939716aa-49b2-4927-9b2e-530b878114f4",
   "metadata": {},
   "outputs": [],
   "source": []
  }
 ],
 "metadata": {
  "kernelspec": {
   "display_name": "Python 3 (ipykernel)",
   "language": "python",
   "name": "python3"
  },
  "language_info": {
   "codemirror_mode": {
    "name": "ipython",
    "version": 3
   },
   "file_extension": ".py",
   "mimetype": "text/x-python",
   "name": "python",
   "nbconvert_exporter": "python",
   "pygments_lexer": "ipython3",
   "version": "3.11.7"
  }
 },
 "nbformat": 4,
 "nbformat_minor": 5
}
